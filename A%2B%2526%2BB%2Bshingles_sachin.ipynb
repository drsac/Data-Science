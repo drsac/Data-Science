{
 "cells": [
  {
   "cell_type": "code",
   "execution_count": 1,
   "id": "8ec902d6",
   "metadata": {},
   "outputs": [],
   "source": [
    "import numpy as np\n",
    "import pandas as pd\n",
    "import matplotlib.pyplot as plt\n",
    "import seaborn as sns\n",
    "from scipy import stats # Many functions for probability distributions in python are in scipy.stats\n",
    "from numpy import random\n",
    "import os"
   ]
  },
  {
   "cell_type": "code",
   "execution_count": 2,
   "id": "c0227dec",
   "metadata": {},
   "outputs": [],
   "source": [
    "data = pd.read_csv('A+%26+B+shingles.csv')"
   ]
  },
  {
   "cell_type": "code",
   "execution_count": 3,
   "id": "1ad1efb4",
   "metadata": {
    "scrolled": true
   },
   "outputs": [
    {
     "data": {
      "text/html": [
       "<div>\n",
       "<style scoped>\n",
       "    .dataframe tbody tr th:only-of-type {\n",
       "        vertical-align: middle;\n",
       "    }\n",
       "\n",
       "    .dataframe tbody tr th {\n",
       "        vertical-align: top;\n",
       "    }\n",
       "\n",
       "    .dataframe thead th {\n",
       "        text-align: right;\n",
       "    }\n",
       "</style>\n",
       "<table border=\"1\" class=\"dataframe\">\n",
       "  <thead>\n",
       "    <tr style=\"text-align: right;\">\n",
       "      <th></th>\n",
       "      <th>A</th>\n",
       "      <th>B</th>\n",
       "    </tr>\n",
       "  </thead>\n",
       "  <tbody>\n",
       "    <tr>\n",
       "      <th>0</th>\n",
       "      <td>0.44</td>\n",
       "      <td>0.14</td>\n",
       "    </tr>\n",
       "    <tr>\n",
       "      <th>1</th>\n",
       "      <td>0.61</td>\n",
       "      <td>0.15</td>\n",
       "    </tr>\n",
       "    <tr>\n",
       "      <th>2</th>\n",
       "      <td>0.47</td>\n",
       "      <td>0.31</td>\n",
       "    </tr>\n",
       "    <tr>\n",
       "      <th>3</th>\n",
       "      <td>0.30</td>\n",
       "      <td>0.16</td>\n",
       "    </tr>\n",
       "    <tr>\n",
       "      <th>4</th>\n",
       "      <td>0.15</td>\n",
       "      <td>0.37</td>\n",
       "    </tr>\n",
       "  </tbody>\n",
       "</table>\n",
       "</div>"
      ],
      "text/plain": [
       "      A     B\n",
       "0  0.44  0.14\n",
       "1  0.61  0.15\n",
       "2  0.47  0.31\n",
       "3  0.30  0.16\n",
       "4  0.15  0.37"
      ]
     },
     "execution_count": 3,
     "metadata": {},
     "output_type": "execute_result"
    }
   ],
   "source": [
    "data.head()"
   ]
  },
  {
   "cell_type": "code",
   "execution_count": 4,
   "id": "da72e7a1",
   "metadata": {},
   "outputs": [
    {
     "data": {
      "text/html": [
       "<div>\n",
       "<style scoped>\n",
       "    .dataframe tbody tr th:only-of-type {\n",
       "        vertical-align: middle;\n",
       "    }\n",
       "\n",
       "    .dataframe tbody tr th {\n",
       "        vertical-align: top;\n",
       "    }\n",
       "\n",
       "    .dataframe thead th {\n",
       "        text-align: right;\n",
       "    }\n",
       "</style>\n",
       "<table border=\"1\" class=\"dataframe\">\n",
       "  <thead>\n",
       "    <tr style=\"text-align: right;\">\n",
       "      <th></th>\n",
       "      <th>A</th>\n",
       "      <th>B</th>\n",
       "    </tr>\n",
       "  </thead>\n",
       "  <tbody>\n",
       "    <tr>\n",
       "      <th>31</th>\n",
       "      <td>0.40</td>\n",
       "      <td>NaN</td>\n",
       "    </tr>\n",
       "    <tr>\n",
       "      <th>32</th>\n",
       "      <td>0.29</td>\n",
       "      <td>NaN</td>\n",
       "    </tr>\n",
       "    <tr>\n",
       "      <th>33</th>\n",
       "      <td>0.43</td>\n",
       "      <td>NaN</td>\n",
       "    </tr>\n",
       "    <tr>\n",
       "      <th>34</th>\n",
       "      <td>0.34</td>\n",
       "      <td>NaN</td>\n",
       "    </tr>\n",
       "    <tr>\n",
       "      <th>35</th>\n",
       "      <td>0.37</td>\n",
       "      <td>NaN</td>\n",
       "    </tr>\n",
       "  </tbody>\n",
       "</table>\n",
       "</div>"
      ],
      "text/plain": [
       "       A   B\n",
       "31  0.40 NaN\n",
       "32  0.29 NaN\n",
       "33  0.43 NaN\n",
       "34  0.34 NaN\n",
       "35  0.37 NaN"
      ]
     },
     "execution_count": 4,
     "metadata": {},
     "output_type": "execute_result"
    }
   ],
   "source": [
    "data.tail()"
   ]
  },
  {
   "cell_type": "code",
   "execution_count": 5,
   "id": "c97c8def",
   "metadata": {},
   "outputs": [
    {
     "data": {
      "text/plain": [
       "Index(['A', 'B'], dtype='object')"
      ]
     },
     "execution_count": 5,
     "metadata": {},
     "output_type": "execute_result"
    }
   ],
   "source": [
    "data.columns"
   ]
  },
  {
   "cell_type": "code",
   "execution_count": 6,
   "id": "2e7d6426",
   "metadata": {},
   "outputs": [
    {
     "data": {
      "text/plain": [
       "A    0\n",
       "B    5\n",
       "dtype: int64"
      ]
     },
     "execution_count": 6,
     "metadata": {},
     "output_type": "execute_result"
    }
   ],
   "source": [
    "data.isnull().sum()"
   ]
  },
  {
   "cell_type": "code",
   "execution_count": 7,
   "id": "764d1274",
   "metadata": {},
   "outputs": [
    {
     "data": {
      "text/plain": [
       "A    11.40\n",
       "B     8.48\n",
       "dtype: float64"
      ]
     },
     "execution_count": 7,
     "metadata": {},
     "output_type": "execute_result"
    }
   ],
   "source": [
    "data.sum()"
   ]
  },
  {
   "cell_type": "code",
   "execution_count": 8,
   "id": "758a436f",
   "metadata": {},
   "outputs": [
    {
     "data": {
      "text/plain": [
       "36"
      ]
     },
     "execution_count": 8,
     "metadata": {},
     "output_type": "execute_result"
    }
   ],
   "source": [
    "data['A'].value_counts().sum()"
   ]
  },
  {
   "cell_type": "markdown",
   "id": "493b800f",
   "metadata": {},
   "source": [
    "### 3.1 Do you think there is evidence that mean moisture contents in both types of shingles are within the permissible limits? State your conclusions clearly showing all steps.\n",
    " "
   ]
  },
  {
   "cell_type": "markdown",
   "id": "ee461bbd",
   "metadata": {},
   "source": [
    "An important quality characteristic used by the manufacturers of ABC asphalt shingles is the amount of moisture the shingles contain when they are packaged. Customers may feel that they have purchased a product lacking in quality if they find moisture and wet shingles inside the packaging.   In some cases, excessive moisture can cause the granules attached to the shingles for texture and coloring purposes to fall off the shingles resulting in appearance problems. To monitor the amount of moisture present, the company conducts moisture tests. A shingle is weighed and then dried. The shingle is then reweighed, and based on the amount of moisture taken out of the product, the pounds of moisture per 100 square feet are calculated. The company would like to show that the mean moisture content is less than 0.35 pounds per 100 square feet.\n",
    "\n",
    "The file (A & B shingles.csv) includes 36 measurements (in pounds per 100 square feet) for A shingles and 31 for B shingles."
   ]
  },
  {
   "cell_type": "markdown",
   "id": "8ba39967",
   "metadata": {},
   "source": [
    "#### Step 1: Define NULL and Alternate Hypothesis.\n",
    "#### For the A shingles, the null and alternative hypothesis to test whether the population mean moisture content is less than 0.35 pound per 100 square feet is \n",
    "#### given:\n",
    "######  𝐻0≤0.35 \n",
    "######  𝐻1>0.35"
   ]
  },
  {
   "cell_type": "markdown",
   "id": "d1db739d",
   "metadata": {},
   "source": [
    "#### For the B shingles, the null and alternative hypothesis to test whether the population mean moisture content is less than 0.35 pound per 100 square feet is\n",
    "\n",
    "#### given: \n",
    "###### 𝐻0≤0.35\n",
    "###### 𝐻1>0.35"
   ]
  },
  {
   "cell_type": "markdown",
   "id": "12350e53",
   "metadata": {},
   "source": [
    "#### Step 2: Write the significance level for shingles A\n",
    "Here we are given α = 0.05 and it is given that n, sample size = 36."
   ]
  },
  {
   "cell_type": "markdown",
   "id": "b6179846",
   "metadata": {},
   "source": [
    "#### Step 3: Identify the test statistic\n",
    "t-test one sample shall be used as n=36 and single sample is available."
   ]
  },
  {
   "cell_type": "markdown",
   "id": "f7bd56e6",
   "metadata": {},
   "source": [
    "#### Step 4: Calculate the p - value and test statistic"
   ]
  },
  {
   "cell_type": "code",
   "execution_count": 9,
   "id": "a68517c5",
   "metadata": {
    "scrolled": true
   },
   "outputs": [
    {
     "name": "stdout",
     "output_type": "stream",
     "text": [
      "One sample t test \n",
      "t statistic: -1.4735046253382782 p value: 0.07477633144907513 \n"
     ]
    }
   ],
   "source": [
    "t_statistic, p_value = stats.ttest_1samp(data['A'], 0.35)\n",
    "print('One sample t test \\nt statistic: {0} p value: {1} '.format(t_statistic, p_value/2))"
   ]
  },
  {
   "cell_type": "markdown",
   "id": "3365f84a",
   "metadata": {},
   "source": [
    "#### Step 5 Decide to reject or accept null hypothesis\n",
    "\n",
    "p value is 0.074 and it is greater than 5% level of significance\n",
    "\n",
    "So statistically we fail to reject the null hypothesis at 5% level of significance.\n"
   ]
  },
  {
   "cell_type": "markdown",
   "id": "6738ffe6",
   "metadata": {},
   "source": [
    "#### Step 1: Define Null and alternate hypothesis for sample B\n",
    "\n",
    "#### For the B shingles, the null and alternative hypothesis to test whether the population mean moisture content is less than 0.35 pound per 100 square feet is\n",
    "\n",
    "#### given: \n",
    "###### 𝐻0≤0.35\n",
    "###### 𝐻1>0.35\n"
   ]
  },
  {
   "cell_type": "markdown",
   "id": "f70daa77",
   "metadata": {},
   "source": [
    "#### Step 2: Write the significance level for shingles B\n",
    "Here we are given α = 0.05 and it is given that n, sample size = 31."
   ]
  },
  {
   "cell_type": "markdown",
   "id": "b178f7f5",
   "metadata": {},
   "source": [
    "#### Step 3: Identify the test statistic\n",
    "t-test one sample shall be used as n=31 and single sample is available."
   ]
  },
  {
   "cell_type": "markdown",
   "id": "cc81d853",
   "metadata": {},
   "source": [
    "#### Step 4: Calculate the p - value and test statistic"
   ]
  },
  {
   "cell_type": "code",
   "execution_count": 10,
   "id": "a4df58f1",
   "metadata": {},
   "outputs": [
    {
     "name": "stdout",
     "output_type": "stream",
     "text": [
      "One sample t test \n",
      "t statistic: -3.1003313069986995 p value: 0.0020904774003191826 \n"
     ]
    }
   ],
   "source": [
    "t_statistic, p_value = stats.ttest_1samp(data['B'], 0.35, nan_policy='omit')\n",
    "print('One sample t test \\nt statistic: {0} p value: {1} '.format(t_statistic, p_value/2))"
   ]
  },
  {
   "cell_type": "markdown",
   "id": "5c9f9ac8",
   "metadata": {},
   "source": [
    "### Step 5 Decide to reject or accept null hypothesis\n",
    "\n",
    "p value is 0.002 and it is less than 5% level of significance\n",
    "\n",
    "So statistically we reject the null hypothesis at 5% level of significance.\n"
   ]
  },
  {
   "cell_type": "markdown",
   "id": "136e3ae6",
   "metadata": {},
   "source": [
    "### 3.2 Do you think that the population means for shingles A and B are equal? Form the hypothesis and conduct the test of the hypothesis. What assumption do you need to check before the test for equality of means is performed? "
   ]
  },
  {
   "cell_type": "markdown",
   "id": "52365f19",
   "metadata": {},
   "source": [
    "#### Step 1: In testing whether the mean for shingles A and Shingles B are the same, the null hypothesis states that the mean of shingle A to mean of shingle B are the same,  equals . The alternative hypothesis states that the mean are different,  is not equal to \n",
    "\n",
    "𝐻0: μA = μB\n",
    "\n",
    "𝐻1: μA ≠ μB\n",
    " "
   ]
  },
  {
   "cell_type": "markdown",
   "id": "187ae92b",
   "metadata": {},
   "source": [
    "#### Step 2: Write the significance level for shingles B\n",
    "Here we are given α = 0.05 and the population standard deviation is not known"
   ]
  },
  {
   "cell_type": "markdown",
   "id": "6f83ff63",
   "metadata": {},
   "source": [
    "#### Step 3: Identify the test statistic\n",
    "\n",
    "We have two samples and we do not know the population standard deviation. Sample sizes for both samples are not the same. The sample size is , n > 30. So we use the t distribution and the 𝑡𝑆𝑇𝐴𝑇 test statistic for two sample test.\n",
    "\n"
   ]
  },
  {
   "cell_type": "markdown",
   "id": "56c8112e",
   "metadata": {},
   "source": [
    "#### Step 4: Calculate the p - value and test statistic"
   ]
  },
  {
   "cell_type": "code",
   "execution_count": 11,
   "id": "e6a42762",
   "metadata": {},
   "outputs": [
    {
     "name": "stdout",
     "output_type": "stream",
     "text": [
      "One sample t test \n",
      "t statistic: 1.2896282719661123 p value: 0.1008748285917653 \n"
     ]
    }
   ],
   "source": [
    "t_statistic, p_value  = stats.ttest_ind(data['A'],data['B'], nan_policy='omit')\n",
    "print('One sample t test \\nt statistic: {0} p value: {1} '.format(t_statistic, p_value/2))"
   ]
  },
  {
   "cell_type": "code",
   "execution_count": 12,
   "id": "12f82763",
   "metadata": {
    "scrolled": true
   },
   "outputs": [
    {
     "name": "stdout",
     "output_type": "stream",
     "text": [
      "tstat 1.2896282719661123\n",
      "P Value 0.2017496571835306\n"
     ]
    }
   ],
   "source": [
    "t_statistic, p_value  =stats.ttest_ind(data['A'],data['B'],nan_policy='omit')\n",
    "print('tstat',t_statistic)    \n",
    "print('P Value',p_value)"
   ]
  },
  {
   "cell_type": "markdown",
   "id": "8073deb8",
   "metadata": {},
   "source": [
    "#### Step 5 Decide to reject or accept null hypothesis\n",
    "\n",
    "p value is 0.201 and it is greater than 5% level of significance\n",
    "\n",
    "So statistically we fail to reject the null hypothesis at 5% level of significance.\n",
    "\n",
    "Two-sample t-test p-value= 0.2017496571835306\n",
    "\n",
    "Population mean for shingles A and singles B are same\n"
   ]
  },
  {
   "cell_type": "markdown",
   "id": "dcff62b4",
   "metadata": {},
   "source": [
    "### Quality of Business Report\n"
   ]
  },
  {
   "cell_type": "markdown",
   "id": "8a7ad5ad",
   "metadata": {},
   "source": [
    "#### The mean moisture content is less than 0.35 pounds per 100 square feet is applicable only for sample A and not for sample B\n",
    "#### Population mean for shingles A and singles B are same as per two paired test.\n"
   ]
  }
 ],
 "metadata": {
  "kernelspec": {
   "display_name": "Python 3 (ipykernel)",
   "language": "python",
   "name": "python3"
  },
  "language_info": {
   "codemirror_mode": {
    "name": "ipython",
    "version": 3
   },
   "file_extension": ".py",
   "mimetype": "text/x-python",
   "name": "python",
   "nbconvert_exporter": "python",
   "pygments_lexer": "ipython3",
   "version": "3.9.12"
  }
 },
 "nbformat": 4,
 "nbformat_minor": 5
}
