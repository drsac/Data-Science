{
 "cells": [
  {
   "cell_type": "code",
   "execution_count": 1,
   "id": "28e4e771",
   "metadata": {},
   "outputs": [],
   "source": [
    "# Contraceptive_method_dataset\n",
    "# Importing Libraries\n",
    "\n",
    "import numpy as np\n",
    "import pandas as pd\n",
    "import matplotlib.pyplot as plt\n",
    "import seaborn as sns\n",
    "%matplotlib inline\n",
    "import warnings\n",
    "warnings.filterwarnings(\"ignore\")\n"
   ]
  },
  {
   "cell_type": "markdown",
   "id": "48940dc6",
   "metadata": {},
   "source": [
    "#### 2.1 Data Ingestion: Read the dataset. Do the descriptive statistics and do null value condition check, check for duplicates and outliers and write an inference on it. Perform Univariate and Bivariate Analysis and Multivariate Analysis.\n"
   ]
  },
  {
   "cell_type": "code",
   "execution_count": 2,
   "id": "15f975e2",
   "metadata": {},
   "outputs": [],
   "source": [
    "# load the dataset \n",
    "\n",
    "data = pd.read_excel('Contraceptive_method_dataset.xlsx')"
   ]
  },
  {
   "cell_type": "code",
   "execution_count": 3,
   "id": "f4d5562b",
   "metadata": {},
   "outputs": [
    {
     "data": {
      "text/html": [
       "<div>\n",
       "<style scoped>\n",
       "    .dataframe tbody tr th:only-of-type {\n",
       "        vertical-align: middle;\n",
       "    }\n",
       "\n",
       "    .dataframe tbody tr th {\n",
       "        vertical-align: top;\n",
       "    }\n",
       "\n",
       "    .dataframe thead th {\n",
       "        text-align: right;\n",
       "    }\n",
       "</style>\n",
       "<table border=\"1\" class=\"dataframe\">\n",
       "  <thead>\n",
       "    <tr style=\"text-align: right;\">\n",
       "      <th></th>\n",
       "      <th>Wife_age</th>\n",
       "      <th>Wife_ education</th>\n",
       "      <th>Husband_education</th>\n",
       "      <th>No_of_children_born</th>\n",
       "      <th>Wife_religion</th>\n",
       "      <th>Wife_Working</th>\n",
       "      <th>Husband_Occupation</th>\n",
       "      <th>Standard_of_living_index</th>\n",
       "      <th>Media_exposure</th>\n",
       "      <th>Contraceptive_method_used</th>\n",
       "    </tr>\n",
       "  </thead>\n",
       "  <tbody>\n",
       "    <tr>\n",
       "      <th>0</th>\n",
       "      <td>24.0</td>\n",
       "      <td>Primary</td>\n",
       "      <td>Secondary</td>\n",
       "      <td>3.0</td>\n",
       "      <td>Scientology</td>\n",
       "      <td>No</td>\n",
       "      <td>2</td>\n",
       "      <td>High</td>\n",
       "      <td>Exposed</td>\n",
       "      <td>No</td>\n",
       "    </tr>\n",
       "    <tr>\n",
       "      <th>1</th>\n",
       "      <td>45.0</td>\n",
       "      <td>Uneducated</td>\n",
       "      <td>Secondary</td>\n",
       "      <td>10.0</td>\n",
       "      <td>Scientology</td>\n",
       "      <td>No</td>\n",
       "      <td>3</td>\n",
       "      <td>Very High</td>\n",
       "      <td>Exposed</td>\n",
       "      <td>No</td>\n",
       "    </tr>\n",
       "    <tr>\n",
       "      <th>2</th>\n",
       "      <td>43.0</td>\n",
       "      <td>Primary</td>\n",
       "      <td>Secondary</td>\n",
       "      <td>7.0</td>\n",
       "      <td>Scientology</td>\n",
       "      <td>No</td>\n",
       "      <td>3</td>\n",
       "      <td>Very High</td>\n",
       "      <td>Exposed</td>\n",
       "      <td>No</td>\n",
       "    </tr>\n",
       "    <tr>\n",
       "      <th>3</th>\n",
       "      <td>42.0</td>\n",
       "      <td>Secondary</td>\n",
       "      <td>Primary</td>\n",
       "      <td>9.0</td>\n",
       "      <td>Scientology</td>\n",
       "      <td>No</td>\n",
       "      <td>3</td>\n",
       "      <td>High</td>\n",
       "      <td>Exposed</td>\n",
       "      <td>No</td>\n",
       "    </tr>\n",
       "    <tr>\n",
       "      <th>4</th>\n",
       "      <td>36.0</td>\n",
       "      <td>Secondary</td>\n",
       "      <td>Secondary</td>\n",
       "      <td>8.0</td>\n",
       "      <td>Scientology</td>\n",
       "      <td>No</td>\n",
       "      <td>3</td>\n",
       "      <td>Low</td>\n",
       "      <td>Exposed</td>\n",
       "      <td>No</td>\n",
       "    </tr>\n",
       "  </tbody>\n",
       "</table>\n",
       "</div>"
      ],
      "text/plain": [
       "   Wife_age Wife_ education Husband_education  No_of_children_born  \\\n",
       "0      24.0         Primary         Secondary                  3.0   \n",
       "1      45.0      Uneducated         Secondary                 10.0   \n",
       "2      43.0         Primary         Secondary                  7.0   \n",
       "3      42.0       Secondary           Primary                  9.0   \n",
       "4      36.0       Secondary         Secondary                  8.0   \n",
       "\n",
       "  Wife_religion Wife_Working  Husband_Occupation Standard_of_living_index  \\\n",
       "0   Scientology           No                   2                     High   \n",
       "1   Scientology           No                   3                Very High   \n",
       "2   Scientology           No                   3                Very High   \n",
       "3   Scientology           No                   3                     High   \n",
       "4   Scientology           No                   3                      Low   \n",
       "\n",
       "  Media_exposure  Contraceptive_method_used  \n",
       "0         Exposed                        No  \n",
       "1         Exposed                        No  \n",
       "2         Exposed                        No  \n",
       "3         Exposed                        No  \n",
       "4         Exposed                        No  "
      ]
     },
     "execution_count": 3,
     "metadata": {},
     "output_type": "execute_result"
    }
   ],
   "source": [
    "# First 5 rows of Data set \n",
    "\n",
    "data.head()"
   ]
  },
  {
   "cell_type": "code",
   "execution_count": 4,
   "id": "ee32594d",
   "metadata": {},
   "outputs": [
    {
     "data": {
      "text/html": [
       "<div>\n",
       "<style scoped>\n",
       "    .dataframe tbody tr th:only-of-type {\n",
       "        vertical-align: middle;\n",
       "    }\n",
       "\n",
       "    .dataframe tbody tr th {\n",
       "        vertical-align: top;\n",
       "    }\n",
       "\n",
       "    .dataframe thead th {\n",
       "        text-align: right;\n",
       "    }\n",
       "</style>\n",
       "<table border=\"1\" class=\"dataframe\">\n",
       "  <thead>\n",
       "    <tr style=\"text-align: right;\">\n",
       "      <th></th>\n",
       "      <th>Wife_age</th>\n",
       "      <th>Wife_ education</th>\n",
       "      <th>Husband_education</th>\n",
       "      <th>No_of_children_born</th>\n",
       "      <th>Wife_religion</th>\n",
       "      <th>Wife_Working</th>\n",
       "      <th>Husband_Occupation</th>\n",
       "      <th>Standard_of_living_index</th>\n",
       "      <th>Media_exposure</th>\n",
       "      <th>Contraceptive_method_used</th>\n",
       "    </tr>\n",
       "  </thead>\n",
       "  <tbody>\n",
       "    <tr>\n",
       "      <th>1468</th>\n",
       "      <td>33.0</td>\n",
       "      <td>Tertiary</td>\n",
       "      <td>Tertiary</td>\n",
       "      <td>NaN</td>\n",
       "      <td>Scientology</td>\n",
       "      <td>Yes</td>\n",
       "      <td>2</td>\n",
       "      <td>Very High</td>\n",
       "      <td>Exposed</td>\n",
       "      <td>Yes</td>\n",
       "    </tr>\n",
       "    <tr>\n",
       "      <th>1469</th>\n",
       "      <td>33.0</td>\n",
       "      <td>Tertiary</td>\n",
       "      <td>Tertiary</td>\n",
       "      <td>NaN</td>\n",
       "      <td>Scientology</td>\n",
       "      <td>No</td>\n",
       "      <td>1</td>\n",
       "      <td>Very High</td>\n",
       "      <td>Exposed</td>\n",
       "      <td>Yes</td>\n",
       "    </tr>\n",
       "    <tr>\n",
       "      <th>1470</th>\n",
       "      <td>39.0</td>\n",
       "      <td>Secondary</td>\n",
       "      <td>Secondary</td>\n",
       "      <td>NaN</td>\n",
       "      <td>Scientology</td>\n",
       "      <td>Yes</td>\n",
       "      <td>1</td>\n",
       "      <td>Very High</td>\n",
       "      <td>Exposed</td>\n",
       "      <td>Yes</td>\n",
       "    </tr>\n",
       "    <tr>\n",
       "      <th>1471</th>\n",
       "      <td>33.0</td>\n",
       "      <td>Secondary</td>\n",
       "      <td>Secondary</td>\n",
       "      <td>NaN</td>\n",
       "      <td>Scientology</td>\n",
       "      <td>Yes</td>\n",
       "      <td>2</td>\n",
       "      <td>Low</td>\n",
       "      <td>Exposed</td>\n",
       "      <td>Yes</td>\n",
       "    </tr>\n",
       "    <tr>\n",
       "      <th>1472</th>\n",
       "      <td>17.0</td>\n",
       "      <td>Secondary</td>\n",
       "      <td>Secondary</td>\n",
       "      <td>1.0</td>\n",
       "      <td>Scientology</td>\n",
       "      <td>No</td>\n",
       "      <td>2</td>\n",
       "      <td>Very High</td>\n",
       "      <td>Exposed</td>\n",
       "      <td>Yes</td>\n",
       "    </tr>\n",
       "  </tbody>\n",
       "</table>\n",
       "</div>"
      ],
      "text/plain": [
       "      Wife_age Wife_ education Husband_education  No_of_children_born  \\\n",
       "1468      33.0        Tertiary          Tertiary                  NaN   \n",
       "1469      33.0        Tertiary          Tertiary                  NaN   \n",
       "1470      39.0       Secondary         Secondary                  NaN   \n",
       "1471      33.0       Secondary         Secondary                  NaN   \n",
       "1472      17.0       Secondary         Secondary                  1.0   \n",
       "\n",
       "     Wife_religion Wife_Working  Husband_Occupation Standard_of_living_index  \\\n",
       "1468   Scientology          Yes                   2                Very High   \n",
       "1469   Scientology           No                   1                Very High   \n",
       "1470   Scientology          Yes                   1                Very High   \n",
       "1471   Scientology          Yes                   2                      Low   \n",
       "1472   Scientology           No                   2                Very High   \n",
       "\n",
       "     Media_exposure  Contraceptive_method_used  \n",
       "1468         Exposed                       Yes  \n",
       "1469         Exposed                       Yes  \n",
       "1470         Exposed                       Yes  \n",
       "1471         Exposed                       Yes  \n",
       "1472         Exposed                       Yes  "
      ]
     },
     "execution_count": 4,
     "metadata": {},
     "output_type": "execute_result"
    }
   ],
   "source": [
    "# last  rows of Dataset\n",
    "\n",
    "data.tail()"
   ]
  },
  {
   "cell_type": "code",
   "execution_count": 5,
   "id": "9f48da79",
   "metadata": {},
   "outputs": [
    {
     "data": {
      "text/plain": [
       "(1473, 10)"
      ]
     },
     "execution_count": 5,
     "metadata": {},
     "output_type": "execute_result"
    }
   ],
   "source": [
    "# Shape of the Dataset\n",
    "\n",
    "data.shape"
   ]
  },
  {
   "cell_type": "code",
   "execution_count": 6,
   "id": "a0316a78",
   "metadata": {},
   "outputs": [
    {
     "data": {
      "text/plain": [
       "pandas.core.frame.DataFrame"
      ]
     },
     "execution_count": 6,
     "metadata": {},
     "output_type": "execute_result"
    }
   ],
   "source": [
    "# Datatypes\n",
    "\n",
    "type(data)"
   ]
  },
  {
   "cell_type": "code",
   "execution_count": 7,
   "id": "c35f25c4",
   "metadata": {},
   "outputs": [
    {
     "data": {
      "text/plain": [
       "Index(['Wife_age', 'Wife_ education', 'Husband_education',\n",
       "       'No_of_children_born', 'Wife_religion', 'Wife_Working',\n",
       "       'Husband_Occupation', 'Standard_of_living_index', 'Media_exposure ',\n",
       "       'Contraceptive_method_used'],\n",
       "      dtype='object')"
      ]
     },
     "execution_count": 7,
     "metadata": {},
     "output_type": "execute_result"
    }
   ],
   "source": [
    "# Columns\n",
    "\n",
    "data.columns"
   ]
  },
  {
   "cell_type": "code",
   "execution_count": 8,
   "id": "183a40d9",
   "metadata": {
    "scrolled": true
   },
   "outputs": [
    {
     "data": {
      "text/plain": [
       "Wife_age                     71\n",
       "Wife_ education               0\n",
       "Husband_education             0\n",
       "No_of_children_born          21\n",
       "Wife_religion                 0\n",
       "Wife_Working                  0\n",
       "Husband_Occupation            0\n",
       "Standard_of_living_index      0\n",
       "Media_exposure                0\n",
       "Contraceptive_method_used     0\n",
       "dtype: int64"
      ]
     },
     "execution_count": 8,
     "metadata": {},
     "output_type": "execute_result"
    }
   ],
   "source": [
    "# To search for missing values\n",
    "\n",
    "data.isnull().sum() "
   ]
  },
  {
   "cell_type": "code",
   "execution_count": 9,
   "id": "b5906f3e",
   "metadata": {},
   "outputs": [
    {
     "data": {
      "text/plain": [
       "True"
      ]
     },
     "execution_count": 9,
     "metadata": {},
     "output_type": "execute_result"
    }
   ],
   "source": [
    "data[['Wife_age','No_of_children_born']].isnull().sum().any()"
   ]
  },
  {
   "cell_type": "code",
   "execution_count": 10,
   "id": "7c4bf97a",
   "metadata": {},
   "outputs": [],
   "source": [
    "from sklearn.impute import SimpleImputer\n"
   ]
  },
  {
   "cell_type": "code",
   "execution_count": 11,
   "id": "745cb11e",
   "metadata": {},
   "outputs": [],
   "source": [
    "#Impute Nans in Age column mby taking the median\n",
    "\n",
    "imp = SimpleImputer(missing_values=np.nan, strategy='median')\n",
    "data['No_of_children_born'] = imp.fit_transform(data['No_of_children_born'].values.reshape(-1,1))\n",
    "data['Wife_age'] = imp.fit_transform(data['Wife_age'].values.reshape(-1,1))\n"
   ]
  },
  {
   "cell_type": "code",
   "execution_count": 12,
   "id": "36c4c26c",
   "metadata": {},
   "outputs": [
    {
     "data": {
      "text/plain": [
       "False"
      ]
     },
     "execution_count": 12,
     "metadata": {},
     "output_type": "execute_result"
    }
   ],
   "source": [
    "data.isnull().sum().any()"
   ]
  },
  {
   "cell_type": "code",
   "execution_count": 13,
   "id": "c056c6d7",
   "metadata": {},
   "outputs": [
    {
     "name": "stdout",
     "output_type": "stream",
     "text": [
      "<class 'pandas.core.frame.DataFrame'>\n",
      "RangeIndex: 1473 entries, 0 to 1472\n",
      "Data columns (total 10 columns):\n",
      " #   Column                     Non-Null Count  Dtype  \n",
      "---  ------                     --------------  -----  \n",
      " 0   Wife_age                   1473 non-null   float64\n",
      " 1   Wife_ education            1473 non-null   object \n",
      " 2   Husband_education          1473 non-null   object \n",
      " 3   No_of_children_born        1473 non-null   float64\n",
      " 4   Wife_religion              1473 non-null   object \n",
      " 5   Wife_Working               1473 non-null   object \n",
      " 6   Husband_Occupation         1473 non-null   int64  \n",
      " 7   Standard_of_living_index   1473 non-null   object \n",
      " 8   Media_exposure             1473 non-null   object \n",
      " 9   Contraceptive_method_used  1473 non-null   object \n",
      "dtypes: float64(2), int64(1), object(7)\n",
      "memory usage: 115.2+ KB\n"
     ]
    }
   ],
   "source": [
    "# Info of Data\n",
    "\n",
    "data.info()"
   ]
  },
  {
   "cell_type": "raw",
   "id": "d67c36b3",
   "metadata": {},
   "source": [
    "float_cols =['Wife_age', 'No_of_children_born']\n",
    "for col in float_cols:\n",
    "    data[col] = data[col].astype('int64')\n"
   ]
  },
  {
   "cell_type": "code",
   "execution_count": 14,
   "id": "4b434b13",
   "metadata": {
    "scrolled": true
   },
   "outputs": [
    {
     "name": "stdout",
     "output_type": "stream",
     "text": [
      "<class 'pandas.core.frame.DataFrame'>\n",
      "RangeIndex: 1473 entries, 0 to 1472\n",
      "Data columns (total 10 columns):\n",
      " #   Column                     Non-Null Count  Dtype  \n",
      "---  ------                     --------------  -----  \n",
      " 0   Wife_age                   1473 non-null   float64\n",
      " 1   Wife_ education            1473 non-null   object \n",
      " 2   Husband_education          1473 non-null   object \n",
      " 3   No_of_children_born        1473 non-null   float64\n",
      " 4   Wife_religion              1473 non-null   object \n",
      " 5   Wife_Working               1473 non-null   object \n",
      " 6   Husband_Occupation         1473 non-null   int64  \n",
      " 7   Standard_of_living_index   1473 non-null   object \n",
      " 8   Media_exposure             1473 non-null   object \n",
      " 9   Contraceptive_method_used  1473 non-null   object \n",
      "dtypes: float64(2), int64(1), object(7)\n",
      "memory usage: 115.2+ KB\n"
     ]
    }
   ],
   "source": [
    "# Data info\n",
    "\n",
    "data.info()"
   ]
  },
  {
   "cell_type": "markdown",
   "id": "a6bedda2",
   "metadata": {},
   "source": [
    "#### Check the data types of all the variables and get the unique counts of all the 'Object' type variables.¶\n"
   ]
  },
  {
   "cell_type": "code",
   "execution_count": 15,
   "id": "a3ede031",
   "metadata": {},
   "outputs": [
    {
     "name": "stdout",
     "output_type": "stream",
     "text": [
      "Wife_ education\n",
      "Tertiary      577\n",
      "Secondary     410\n",
      "Primary       334\n",
      "Uneducated    152\n",
      "Name: Wife_ education, dtype: int64\n",
      "\n",
      "\n",
      "Husband_education\n",
      "Tertiary      899\n",
      "Secondary     352\n",
      "Primary       178\n",
      "Uneducated     44\n",
      "Name: Husband_education, dtype: int64\n",
      "\n",
      "\n",
      "Wife_religion\n",
      "Scientology        1253\n",
      "Non-Scientology     220\n",
      "Name: Wife_religion, dtype: int64\n",
      "\n",
      "\n",
      "Wife_Working\n",
      "No     1104\n",
      "Yes     369\n",
      "Name: Wife_Working, dtype: int64\n",
      "\n",
      "\n",
      "Standard_of_living_index\n",
      "Very High    684\n",
      "High         431\n",
      "Low          229\n",
      "Very Low     129\n",
      "Name: Standard_of_living_index, dtype: int64\n",
      "\n",
      "\n",
      "Media_exposure \n",
      "Exposed        1364\n",
      "Not-Exposed     109\n",
      "Name: Media_exposure , dtype: int64\n",
      "\n",
      "\n",
      "Contraceptive_method_used\n",
      "Yes    844\n",
      "No     629\n",
      "Name: Contraceptive_method_used, dtype: int64\n",
      "\n",
      "\n"
     ]
    }
   ],
   "source": [
    "for feature in data.columns: \n",
    "    if data[feature].dtype == 'object': \n",
    "        print(feature)\n",
    "        print(data[feature].value_counts())\n",
    "        print('\\n')\n"
   ]
  },
  {
   "cell_type": "code",
   "execution_count": 16,
   "id": "e6730776",
   "metadata": {},
   "outputs": [
    {
     "data": {
      "text/plain": [
       "Wife_age                     0\n",
       "Wife_ education              0\n",
       "Husband_education            0\n",
       "No_of_children_born          0\n",
       "Wife_religion                0\n",
       "Wife_Working                 0\n",
       "Husband_Occupation           0\n",
       "Standard_of_living_index     0\n",
       "Media_exposure               0\n",
       "Contraceptive_method_used    0\n",
       "dtype: int64"
      ]
     },
     "execution_count": 16,
     "metadata": {},
     "output_type": "execute_result"
    }
   ],
   "source": [
    "# To find missing values\n",
    "\n",
    "data.isnull().sum()"
   ]
  },
  {
   "cell_type": "code",
   "execution_count": 17,
   "id": "d6a8a4fc",
   "metadata": {},
   "outputs": [
    {
     "name": "stdout",
     "output_type": "stream",
     "text": [
      "Number of duplicate rows = 85\n",
      "(1473, 10)\n"
     ]
    }
   ],
   "source": [
    "# To find duplicated values\n",
    "\n",
    "dups = data.duplicated()\n",
    "print('Number of duplicate rows = %d' % (dups.sum()))\n",
    "print(data.shape)\n"
   ]
  },
  {
   "cell_type": "code",
   "execution_count": 18,
   "id": "7ea02e6f",
   "metadata": {},
   "outputs": [],
   "source": [
    "# To drop duplicated values\n",
    "\n",
    "data.drop_duplicates(inplace=True) \n"
   ]
  },
  {
   "cell_type": "code",
   "execution_count": 19,
   "id": "73cb9647",
   "metadata": {},
   "outputs": [
    {
     "name": "stdout",
     "output_type": "stream",
     "text": [
      "Number of duplicate rows = 0\n",
      "(1388, 10)\n"
     ]
    }
   ],
   "source": [
    "# To check and sum of duplicated values\n",
    "\n",
    "dups = data.duplicated()\n",
    "print('Number of duplicate rows = %d' % (dups.sum()))\n",
    "print(data.shape)\n"
   ]
  },
  {
   "cell_type": "code",
   "execution_count": 20,
   "id": "f0e0a491",
   "metadata": {
    "scrolled": false
   },
   "outputs": [
    {
     "data": {
      "text/html": [
       "<div>\n",
       "<style scoped>\n",
       "    .dataframe tbody tr th:only-of-type {\n",
       "        vertical-align: middle;\n",
       "    }\n",
       "\n",
       "    .dataframe tbody tr th {\n",
       "        vertical-align: top;\n",
       "    }\n",
       "\n",
       "    .dataframe thead th {\n",
       "        text-align: right;\n",
       "    }\n",
       "</style>\n",
       "<table border=\"1\" class=\"dataframe\">\n",
       "  <thead>\n",
       "    <tr style=\"text-align: right;\">\n",
       "      <th></th>\n",
       "      <th>Wife_age</th>\n",
       "      <th>No_of_children_born</th>\n",
       "      <th>Husband_Occupation</th>\n",
       "    </tr>\n",
       "  </thead>\n",
       "  <tbody>\n",
       "    <tr>\n",
       "      <th>count</th>\n",
       "      <td>1388.000000</td>\n",
       "      <td>1388.000000</td>\n",
       "      <td>1388.000000</td>\n",
       "    </tr>\n",
       "    <tr>\n",
       "      <th>mean</th>\n",
       "      <td>32.533862</td>\n",
       "      <td>3.287464</td>\n",
       "      <td>2.177954</td>\n",
       "    </tr>\n",
       "    <tr>\n",
       "      <th>std</th>\n",
       "      <td>8.102151</td>\n",
       "      <td>2.385715</td>\n",
       "      <td>0.853782</td>\n",
       "    </tr>\n",
       "    <tr>\n",
       "      <th>min</th>\n",
       "      <td>16.000000</td>\n",
       "      <td>0.000000</td>\n",
       "      <td>1.000000</td>\n",
       "    </tr>\n",
       "    <tr>\n",
       "      <th>25%</th>\n",
       "      <td>26.000000</td>\n",
       "      <td>1.000000</td>\n",
       "      <td>1.000000</td>\n",
       "    </tr>\n",
       "    <tr>\n",
       "      <th>50%</th>\n",
       "      <td>32.000000</td>\n",
       "      <td>3.000000</td>\n",
       "      <td>2.000000</td>\n",
       "    </tr>\n",
       "    <tr>\n",
       "      <th>75%</th>\n",
       "      <td>38.000000</td>\n",
       "      <td>5.000000</td>\n",
       "      <td>3.000000</td>\n",
       "    </tr>\n",
       "    <tr>\n",
       "      <th>max</th>\n",
       "      <td>49.000000</td>\n",
       "      <td>16.000000</td>\n",
       "      <td>4.000000</td>\n",
       "    </tr>\n",
       "  </tbody>\n",
       "</table>\n",
       "</div>"
      ],
      "text/plain": [
       "          Wife_age  No_of_children_born  Husband_Occupation\n",
       "count  1388.000000          1388.000000         1388.000000\n",
       "mean     32.533862             3.287464            2.177954\n",
       "std       8.102151             2.385715            0.853782\n",
       "min      16.000000             0.000000            1.000000\n",
       "25%      26.000000             1.000000            1.000000\n",
       "50%      32.000000             3.000000            2.000000\n",
       "75%      38.000000             5.000000            3.000000\n",
       "max      49.000000            16.000000            4.000000"
      ]
     },
     "execution_count": 20,
     "metadata": {},
     "output_type": "execute_result"
    }
   ],
   "source": [
    "# Check for the basic measures of descriptive statistics.\n",
    "\n",
    "data.describe()"
   ]
  },
  {
   "cell_type": "code",
   "execution_count": 21,
   "id": "a907cfa3",
   "metadata": {},
   "outputs": [
    {
     "name": "stdout",
     "output_type": "stream",
     "text": [
      "Min: 0.001\n",
      "Q1: 0.237\n",
      "Median: 0.474\n",
      "Q3: 0.747\n",
      "Max: 0.999\n"
     ]
    }
   ],
   "source": [
    "# calculate a 5-number summary\n",
    "\n",
    "from numpy import percentile\n",
    "from numpy.random import rand\n",
    "\n",
    "# generate data sample\n",
    "sample = rand(1000)\n",
    "\n",
    "# calculate quartiles\n",
    "quartiles = percentile(sample, [25, 50, 75])\n",
    "\n",
    "# calculate min/max\n",
    "sample_min, sample_max = sample.min(), sample.max()\n",
    "\n",
    "# print 5-number summary\n",
    "print('Min: %.3f' % sample_min)\n",
    "print('Q1: %.3f' % quartiles[0])\n",
    "print('Median: %.3f' % quartiles[1])\n",
    "print('Q3: %.3f' % quartiles[2])\n",
    "print('Max: %.3f' % sample_max)"
   ]
  },
  {
   "cell_type": "markdown",
   "id": "10e64027",
   "metadata": {},
   "source": [
    "#### Check the spread of the data using boxplot for the continuous variables.\n"
   ]
  },
  {
   "cell_type": "code",
   "execution_count": 22,
   "id": "bb22b0d7",
   "metadata": {},
   "outputs": [],
   "source": [
    "from pylab import rcParams\n",
    "rcParams['figure.figsize'] = 5,5\n"
   ]
  },
  {
   "cell_type": "code",
   "execution_count": 23,
   "id": "4118aa6a",
   "metadata": {},
   "outputs": [
    {
     "data": {
      "image/png": "[encoded data removed]",
      "text/plain": [
       "<Figure size 360x360 with 1 Axes>"
      ]
     },
     "metadata": {
      "needs_background": "light"
     },
     "output_type": "display_data"
    },
    {
     "data": {
      "image/png": "[encoded data removed]",
      "text/plain": [
       "<Figure size 360x360 with 1 Axes>"
      ]
     },
     "metadata": {
      "needs_background": "light"
     },
     "output_type": "display_data"
    },
    {
     "data": {
      "image/png": "[encoded data removed]",
      "text/plain": [
       "<Figure size 360x360 with 1 Axes>"
      ]
     },
     "metadata": {
      "needs_background": "light"
     },
     "output_type": "display_data"
    }
   ],
   "source": [
    "cols = ['Wife_age','No_of_children_born','Husband_Occupation']\n",
    "for i in cols:\n",
    "    sns.boxplot(data[i],whis=1.5)\n",
    "    plt.grid()\n",
    "    plt.show();\n"
   ]
  },
  {
   "cell_type": "markdown",
   "id": "c92f65d2",
   "metadata": {},
   "source": [
    "### Treating the outliers at 1.5 * IQR (Inter-Quartile Range).\n",
    "For this exercises, we are not treating the outliers. But please do play around with the data and try out such treatments."
   ]
  },
  {
   "cell_type": "code",
   "execution_count": 24,
   "id": "a0f93b54",
   "metadata": {},
   "outputs": [],
   "source": [
    "# # Defining a function for getting the Upper and Lower limt acceptance of the outliers at 1.5*IQR. \n",
    "# # We can choose to treat the outliers at 3*IQR as well\n",
    "\n",
    "def remove_outlier(col):\n",
    "     sorted(col)\n",
    "     Q1,Q3=np.percentile(col,[25,75])\n",
    "     IQR=Q3-Q1\n",
    "     lower_range= Q1-(1.5 * IQR)\n",
    "     upper_range= Q3+(1.5 * IQR)\n",
    "     return lower_range, upper_range\n"
   ]
  },
  {
   "cell_type": "code",
   "execution_count": 25,
   "id": "8d007dfc",
   "metadata": {},
   "outputs": [],
   "source": [
    "## This is a loop to treat outliers for all the non-'object' type varible\n",
    "\n",
    "for column in data.columns:\n",
    "     if data[column].dtype != 'object': \n",
    "         lr,ur=remove_outlier(data[column])\n",
    "         data[column]=np.where(data[column]>ur,ur,data[column])\n",
    "         data[column]=np.where(data[column]<lr,lr,data[column])\n"
   ]
  },
  {
   "cell_type": "code",
   "execution_count": 26,
   "id": "cd0636f8",
   "metadata": {},
   "outputs": [
    {
     "data": {
      "image/png": "[encoded data removed]",
      "text/plain": [
       "<Figure size 360x360 with 1 Axes>"
      ]
     },
     "metadata": {
      "needs_background": "light"
     },
     "output_type": "display_data"
    },
    {
     "data": {
      "image/png": "[encoded data removed]",
      "text/plain": [
       "<Figure size 360x360 with 1 Axes>"
      ]
     },
     "metadata": {
      "needs_background": "light"
     },
     "output_type": "display_data"
    },
    {
     "data": {
      "image/png": "[encoded data removed]",
      "text/plain": [
       "<Figure size 360x360 with 1 Axes>"
      ]
     },
     "metadata": {
      "needs_background": "light"
     },
     "output_type": "display_data"
    }
   ],
   "source": [
    "cols = ['Wife_age','No_of_children_born','Husband_Occupation']\n",
    "for i in cols:\n",
    "    sns.boxplot(data[i],whis=1.5)\n",
    "    plt.grid()\n",
    "    plt.show();"
   ]
  },
  {
   "cell_type": "code",
   "execution_count": 27,
   "id": "dad585e9",
   "metadata": {},
   "outputs": [
    {
     "data": {
      "text/html": [
       "<div>\n",
       "<style scoped>\n",
       "    .dataframe tbody tr th:only-of-type {\n",
       "        vertical-align: middle;\n",
       "    }\n",
       "\n",
       "    .dataframe tbody tr th {\n",
       "        vertical-align: top;\n",
       "    }\n",
       "\n",
       "    .dataframe thead th {\n",
       "        text-align: right;\n",
       "    }\n",
       "</style>\n",
       "<table border=\"1\" class=\"dataframe\">\n",
       "  <thead>\n",
       "    <tr style=\"text-align: right;\">\n",
       "      <th></th>\n",
       "      <th>Wife_age</th>\n",
       "      <th>Wife_ education</th>\n",
       "      <th>Husband_education</th>\n",
       "      <th>No_of_children_born</th>\n",
       "      <th>Wife_religion</th>\n",
       "      <th>Wife_Working</th>\n",
       "      <th>Husband_Occupation</th>\n",
       "      <th>Standard_of_living_index</th>\n",
       "      <th>Media_exposure</th>\n",
       "      <th>Contraceptive_method_used</th>\n",
       "    </tr>\n",
       "  </thead>\n",
       "  <tbody>\n",
       "    <tr>\n",
       "      <th>0</th>\n",
       "      <td>24.0</td>\n",
       "      <td>Primary</td>\n",
       "      <td>Secondary</td>\n",
       "      <td>3.0</td>\n",
       "      <td>Scientology</td>\n",
       "      <td>No</td>\n",
       "      <td>2.0</td>\n",
       "      <td>High</td>\n",
       "      <td>Exposed</td>\n",
       "      <td>No</td>\n",
       "    </tr>\n",
       "    <tr>\n",
       "      <th>1</th>\n",
       "      <td>45.0</td>\n",
       "      <td>Uneducated</td>\n",
       "      <td>Secondary</td>\n",
       "      <td>10.0</td>\n",
       "      <td>Scientology</td>\n",
       "      <td>No</td>\n",
       "      <td>3.0</td>\n",
       "      <td>Very High</td>\n",
       "      <td>Exposed</td>\n",
       "      <td>No</td>\n",
       "    </tr>\n",
       "    <tr>\n",
       "      <th>2</th>\n",
       "      <td>43.0</td>\n",
       "      <td>Primary</td>\n",
       "      <td>Secondary</td>\n",
       "      <td>7.0</td>\n",
       "      <td>Scientology</td>\n",
       "      <td>No</td>\n",
       "      <td>3.0</td>\n",
       "      <td>Very High</td>\n",
       "      <td>Exposed</td>\n",
       "      <td>No</td>\n",
       "    </tr>\n",
       "    <tr>\n",
       "      <th>3</th>\n",
       "      <td>42.0</td>\n",
       "      <td>Secondary</td>\n",
       "      <td>Primary</td>\n",
       "      <td>9.0</td>\n",
       "      <td>Scientology</td>\n",
       "      <td>No</td>\n",
       "      <td>3.0</td>\n",
       "      <td>High</td>\n",
       "      <td>Exposed</td>\n",
       "      <td>No</td>\n",
       "    </tr>\n",
       "    <tr>\n",
       "      <th>4</th>\n",
       "      <td>36.0</td>\n",
       "      <td>Secondary</td>\n",
       "      <td>Secondary</td>\n",
       "      <td>8.0</td>\n",
       "      <td>Scientology</td>\n",
       "      <td>No</td>\n",
       "      <td>3.0</td>\n",
       "      <td>Low</td>\n",
       "      <td>Exposed</td>\n",
       "      <td>No</td>\n",
       "    </tr>\n",
       "  </tbody>\n",
       "</table>\n",
       "</div>"
      ],
      "text/plain": [
       "   Wife_age Wife_ education Husband_education  No_of_children_born  \\\n",
       "0      24.0         Primary         Secondary                  3.0   \n",
       "1      45.0      Uneducated         Secondary                 10.0   \n",
       "2      43.0         Primary         Secondary                  7.0   \n",
       "3      42.0       Secondary           Primary                  9.0   \n",
       "4      36.0       Secondary         Secondary                  8.0   \n",
       "\n",
       "  Wife_religion Wife_Working  Husband_Occupation Standard_of_living_index  \\\n",
       "0   Scientology           No                 2.0                     High   \n",
       "1   Scientology           No                 3.0                Very High   \n",
       "2   Scientology           No                 3.0                Very High   \n",
       "3   Scientology           No                 3.0                     High   \n",
       "4   Scientology           No                 3.0                      Low   \n",
       "\n",
       "  Media_exposure  Contraceptive_method_used  \n",
       "0         Exposed                        No  \n",
       "1         Exposed                        No  \n",
       "2         Exposed                        No  \n",
       "3         Exposed                        No  \n",
       "4         Exposed                        No  "
      ]
     },
     "execution_count": 27,
     "metadata": {},
     "output_type": "execute_result"
    }
   ],
   "source": [
    "data.head()"
   ]
  },
  {
   "cell_type": "markdown",
   "id": "3418f87b",
   "metadata": {},
   "source": [
    "### Plot a series of scatterplots between the continuous independent variables keeping the target variable as a hue."
   ]
  },
  {
   "cell_type": "code",
   "execution_count": 28,
   "id": "86c649cd",
   "metadata": {
    "scrolled": true
   },
   "outputs": [
    {
     "data": {
      "image/png": "[encoded data removed]",
      "text/plain": [
       "<Figure size 690.5x540 with 12 Axes>"
      ]
     },
     "metadata": {
      "needs_background": "light"
     },
     "output_type": "display_data"
    }
   ],
   "source": [
    "# Pairplot using sns\n",
    "\n",
    "sns.pairplot(data, diag_kind='kde', hue= 'Contraceptive_method_used');\n"
   ]
  },
  {
   "cell_type": "code",
   "execution_count": 29,
   "id": "e53520f4",
   "metadata": {},
   "outputs": [
    {
     "data": {
      "text/html": [
       "<div>\n",
       "<style scoped>\n",
       "    .dataframe tbody tr th:only-of-type {\n",
       "        vertical-align: middle;\n",
       "    }\n",
       "\n",
       "    .dataframe tbody tr th {\n",
       "        vertical-align: top;\n",
       "    }\n",
       "\n",
       "    .dataframe thead th {\n",
       "        text-align: right;\n",
       "    }\n",
       "</style>\n",
       "<table border=\"1\" class=\"dataframe\">\n",
       "  <thead>\n",
       "    <tr style=\"text-align: right;\">\n",
       "      <th></th>\n",
       "      <th>Wife_age</th>\n",
       "      <th>No_of_children_born</th>\n",
       "      <th>Husband_Occupation</th>\n",
       "    </tr>\n",
       "  </thead>\n",
       "  <tbody>\n",
       "    <tr>\n",
       "      <th>Wife_age</th>\n",
       "      <td>1.000000</td>\n",
       "      <td>0.530196</td>\n",
       "      <td>-0.188114</td>\n",
       "    </tr>\n",
       "    <tr>\n",
       "      <th>No_of_children_born</th>\n",
       "      <td>0.530196</td>\n",
       "      <td>1.000000</td>\n",
       "      <td>-0.022172</td>\n",
       "    </tr>\n",
       "    <tr>\n",
       "      <th>Husband_Occupation</th>\n",
       "      <td>-0.188114</td>\n",
       "      <td>-0.022172</td>\n",
       "      <td>1.000000</td>\n",
       "    </tr>\n",
       "  </tbody>\n",
       "</table>\n",
       "</div>"
      ],
      "text/plain": [
       "                     Wife_age  No_of_children_born  Husband_Occupation\n",
       "Wife_age             1.000000             0.530196           -0.188114\n",
       "No_of_children_born  0.530196             1.000000           -0.022172\n",
       "Husband_Occupation  -0.188114            -0.022172            1.000000"
      ]
     },
     "execution_count": 29,
     "metadata": {},
     "output_type": "execute_result"
    }
   ],
   "source": [
    "# Checking for Correlations. Print the correlation matrix and the correlation heatmap.\n",
    "\n",
    "data.corr()"
   ]
  },
  {
   "cell_type": "code",
   "execution_count": 30,
   "id": "bfc69efc",
   "metadata": {},
   "outputs": [
    {
     "data": {
      "image/png": "[encoded data removed]",
      "text/plain": [
       "<Figure size 360x360 with 2 Axes>"
      ]
     },
     "metadata": {
      "needs_background": "light"
     },
     "output_type": "display_data"
    }
   ],
   "source": [
    "# To Plot Heatmap\n",
    "\n",
    "sns.heatmap(data.corr(), annot=True,mask=np.triu(data.corr(),+1));"
   ]
  },
  {
   "cell_type": "code",
   "execution_count": 31,
   "id": "a9f33858",
   "metadata": {},
   "outputs": [
    {
     "data": {
      "image/png": "[encoded data removed]",
      "text/plain": [
       "<Figure size 360x360 with 1 Axes>"
      ]
     },
     "metadata": {
      "needs_background": "light"
     },
     "output_type": "display_data"
    }
   ],
   "source": [
    "# To Plot displot for 'Wife_age'\n",
    "\n",
    "sns.displot(data['Wife_age']);\n"
   ]
  },
  {
   "cell_type": "code",
   "execution_count": 32,
   "id": "45dda7c3",
   "metadata": {
    "scrolled": true
   },
   "outputs": [
    {
     "data": {
      "image/png": "[encoded data removed]",
      "text/plain": [
       "<Figure size 360x360 with 1 Axes>"
      ]
     },
     "metadata": {
      "needs_background": "light"
     },
     "output_type": "display_data"
    }
   ],
   "source": [
    "# To Plot displot for 'No_of_children_born'\n",
    "\n",
    "sns.displot(data['No_of_children_born']);\n"
   ]
  },
  {
   "cell_type": "code",
   "execution_count": 33,
   "id": "48361ce9",
   "metadata": {},
   "outputs": [
    {
     "data": {
      "image/png": "[encoded data removed]",
      "text/plain": [
       "<Figure size 360x360 with 1 Axes>"
      ]
     },
     "metadata": {
      "needs_background": "light"
     },
     "output_type": "display_data"
    }
   ],
   "source": [
    "# To Plot displot for 'Husband_Occupation'\n",
    "\n",
    "sns.displot(data['Husband_Occupation']);\n"
   ]
  },
  {
   "cell_type": "markdown",
   "id": "7410c264",
   "metadata": {},
   "source": [
    "#### 2.2 Do not scale the data. Encode the data (having string values) for Modelling. Data Split: Split the data into train and test (70:30). Apply Logistic Regression and build multiple models with different predictors.\n"
   ]
  },
  {
   "cell_type": "markdown",
   "id": "7cfc0c66",
   "metadata": {},
   "source": [
    "#### Treat the object variables appropriately by either creating dummy variables (One-Hot Encoding) or coding it up in an ordinal manner."
   ]
  },
  {
   "cell_type": "code",
   "execution_count": 34,
   "id": "cd2ec545",
   "metadata": {},
   "outputs": [
    {
     "data": {
      "text/plain": [
       "Index(['Wife_age', 'Wife_ education', 'Husband_education',\n",
       "       'No_of_children_born', 'Wife_religion', 'Wife_Working',\n",
       "       'Husband_Occupation', 'Standard_of_living_index', 'Media_exposure ',\n",
       "       'Contraceptive_method_used'],\n",
       "      dtype='object')"
      ]
     },
     "execution_count": 34,
     "metadata": {},
     "output_type": "execute_result"
    }
   ],
   "source": [
    "data.columns"
   ]
  },
  {
   "cell_type": "code",
   "execution_count": 35,
   "id": "5c2cd387",
   "metadata": {
    "scrolled": true
   },
   "outputs": [
    {
     "data": {
      "text/html": [
       "<div>\n",
       "<style scoped>\n",
       "    .dataframe tbody tr th:only-of-type {\n",
       "        vertical-align: middle;\n",
       "    }\n",
       "\n",
       "    .dataframe tbody tr th {\n",
       "        vertical-align: top;\n",
       "    }\n",
       "\n",
       "    .dataframe thead th {\n",
       "        text-align: right;\n",
       "    }\n",
       "</style>\n",
       "<table border=\"1\" class=\"dataframe\">\n",
       "  <thead>\n",
       "    <tr style=\"text-align: right;\">\n",
       "      <th></th>\n",
       "      <th>Wife_age</th>\n",
       "      <th>Wife_ education</th>\n",
       "      <th>Husband_education</th>\n",
       "      <th>No_of_children_born</th>\n",
       "      <th>Wife_religion</th>\n",
       "      <th>Wife_Working</th>\n",
       "      <th>Husband_Occupation</th>\n",
       "      <th>Standard_of_living_index</th>\n",
       "      <th>Media_exposure</th>\n",
       "      <th>Contraceptive_method_used</th>\n",
       "    </tr>\n",
       "  </thead>\n",
       "  <tbody>\n",
       "    <tr>\n",
       "      <th>0</th>\n",
       "      <td>24.0</td>\n",
       "      <td>Primary</td>\n",
       "      <td>Secondary</td>\n",
       "      <td>3.0</td>\n",
       "      <td>Scientology</td>\n",
       "      <td>No</td>\n",
       "      <td>2.0</td>\n",
       "      <td>High</td>\n",
       "      <td>Exposed</td>\n",
       "      <td>No</td>\n",
       "    </tr>\n",
       "    <tr>\n",
       "      <th>1</th>\n",
       "      <td>45.0</td>\n",
       "      <td>Uneducated</td>\n",
       "      <td>Secondary</td>\n",
       "      <td>10.0</td>\n",
       "      <td>Scientology</td>\n",
       "      <td>No</td>\n",
       "      <td>3.0</td>\n",
       "      <td>Very High</td>\n",
       "      <td>Exposed</td>\n",
       "      <td>No</td>\n",
       "    </tr>\n",
       "    <tr>\n",
       "      <th>2</th>\n",
       "      <td>43.0</td>\n",
       "      <td>Primary</td>\n",
       "      <td>Secondary</td>\n",
       "      <td>7.0</td>\n",
       "      <td>Scientology</td>\n",
       "      <td>No</td>\n",
       "      <td>3.0</td>\n",
       "      <td>Very High</td>\n",
       "      <td>Exposed</td>\n",
       "      <td>No</td>\n",
       "    </tr>\n",
       "    <tr>\n",
       "      <th>3</th>\n",
       "      <td>42.0</td>\n",
       "      <td>Secondary</td>\n",
       "      <td>Primary</td>\n",
       "      <td>9.0</td>\n",
       "      <td>Scientology</td>\n",
       "      <td>No</td>\n",
       "      <td>3.0</td>\n",
       "      <td>High</td>\n",
       "      <td>Exposed</td>\n",
       "      <td>No</td>\n",
       "    </tr>\n",
       "    <tr>\n",
       "      <th>4</th>\n",
       "      <td>36.0</td>\n",
       "      <td>Secondary</td>\n",
       "      <td>Secondary</td>\n",
       "      <td>8.0</td>\n",
       "      <td>Scientology</td>\n",
       "      <td>No</td>\n",
       "      <td>3.0</td>\n",
       "      <td>Low</td>\n",
       "      <td>Exposed</td>\n",
       "      <td>No</td>\n",
       "    </tr>\n",
       "  </tbody>\n",
       "</table>\n",
       "</div>"
      ],
      "text/plain": [
       "   Wife_age Wife_ education Husband_education  No_of_children_born  \\\n",
       "0      24.0         Primary         Secondary                  3.0   \n",
       "1      45.0      Uneducated         Secondary                 10.0   \n",
       "2      43.0         Primary         Secondary                  7.0   \n",
       "3      42.0       Secondary           Primary                  9.0   \n",
       "4      36.0       Secondary         Secondary                  8.0   \n",
       "\n",
       "  Wife_religion Wife_Working  Husband_Occupation Standard_of_living_index  \\\n",
       "0   Scientology           No                 2.0                     High   \n",
       "1   Scientology           No                 3.0                Very High   \n",
       "2   Scientology           No                 3.0                Very High   \n",
       "3   Scientology           No                 3.0                     High   \n",
       "4   Scientology           No                 3.0                      Low   \n",
       "\n",
       "  Media_exposure  Contraceptive_method_used  \n",
       "0         Exposed                        No  \n",
       "1         Exposed                        No  \n",
       "2         Exposed                        No  \n",
       "3         Exposed                        No  \n",
       "4         Exposed                        No  "
      ]
     },
     "execution_count": 35,
     "metadata": {},
     "output_type": "execute_result"
    }
   ],
   "source": [
    "data.head()"
   ]
  },
  {
   "cell_type": "code",
   "execution_count": 36,
   "id": "ec25078d",
   "metadata": {
    "scrolled": true
   },
   "outputs": [
    {
     "name": "stdout",
     "output_type": "stream",
     "text": [
      "<class 'pandas.core.frame.DataFrame'>\n",
      "Int64Index: 1388 entries, 0 to 1472\n",
      "Data columns (total 10 columns):\n",
      " #   Column                     Non-Null Count  Dtype  \n",
      "---  ------                     --------------  -----  \n",
      " 0   Wife_age                   1388 non-null   float64\n",
      " 1   Wife_ education            1388 non-null   object \n",
      " 2   Husband_education          1388 non-null   object \n",
      " 3   No_of_children_born        1388 non-null   float64\n",
      " 4   Wife_religion              1388 non-null   object \n",
      " 5   Wife_Working               1388 non-null   object \n",
      " 6   Husband_Occupation         1388 non-null   float64\n",
      " 7   Standard_of_living_index   1388 non-null   object \n",
      " 8   Media_exposure             1388 non-null   object \n",
      " 9   Contraceptive_method_used  1388 non-null   object \n",
      "dtypes: float64(3), object(7)\n",
      "memory usage: 119.3+ KB\n"
     ]
    }
   ],
   "source": [
    "data.info()"
   ]
  },
  {
   "cell_type": "markdown",
   "id": "68de8a5d",
   "metadata": {},
   "source": [
    "#### Change the names of the variables in a suitable way for building the logistic regression model."
   ]
  },
  {
   "cell_type": "code",
   "execution_count": 37,
   "id": "13e1984e",
   "metadata": {},
   "outputs": [],
   "source": [
    "data.rename(columns = {'Wife_ education':'Wife_education', 'Media_exposure ':'Media_exposure'}, inplace = True)\n"
   ]
  },
  {
   "cell_type": "code",
   "execution_count": 38,
   "id": "c27affe9",
   "metadata": {},
   "outputs": [],
   "source": [
    "## We are coding up the 'Wife_education' variable in an ordinal manner\n",
    "\n",
    "data['Wife_education']=np.where(data['Wife_education'] =='Tertiary', '1',data['Wife_education'])\n",
    "data['Wife_education']=np.where(data['Wife_education'] =='Secondary', '2', data['Wife_education'])\n",
    "data['Wife_education']=np.where(data['Wife_education'] =='Primary', '3', data['Wife_education'])\n",
    "data['Wife_education']=np.where(data['Wife_education'] =='Uneducated', '4', data['Wife_education'])\n"
   ]
  },
  {
   "cell_type": "code",
   "execution_count": 39,
   "id": "2ff175ab",
   "metadata": {},
   "outputs": [],
   "source": [
    "## We are coding up the 'Husband_education' variable in an ordinal manner\n",
    "\n",
    "data['Husband_education']=np.where(data['Husband_education'] =='Tertiary', '1',data['Husband_education'])\n",
    "data['Husband_education']=np.where(data['Husband_education'] =='Secondary', '2', data['Husband_education'])\n",
    "data['Husband_education']=np.where(data['Husband_education'] =='Primary', '3', data['Husband_education'])\n",
    "data['Husband_education']=np.where(data['Husband_education'] =='Uneducated', '4', data['Husband_education'])\n"
   ]
  },
  {
   "cell_type": "code",
   "execution_count": 40,
   "id": "d1be5772",
   "metadata": {},
   "outputs": [],
   "source": [
    "## We are coding up the 'Wife_religion' variable in an ordinal manner\n",
    "\n",
    "data['Wife_religion']=np.where(data['Wife_religion'] =='Scientology', '1',data['Wife_religion'])\n",
    "data['Wife_religion']=np.where(data['Wife_religion'] =='Non-Scientology', '2', data['Wife_religion'])\n"
   ]
  },
  {
   "cell_type": "code",
   "execution_count": 41,
   "id": "c6fa5b83",
   "metadata": {},
   "outputs": [],
   "source": [
    "## We are coding up the 'Wife_Working' variable in an ordinal manner\n",
    "\n",
    "data['Wife_Working']=np.where(data['Wife_Working'] =='No', '1',data['Wife_Working'])\n",
    "data['Wife_Working']=np.where(data['Wife_Working'] =='Yes', '2', data['Wife_Working'])\n"
   ]
  },
  {
   "cell_type": "code",
   "execution_count": 42,
   "id": "61089d74",
   "metadata": {},
   "outputs": [],
   "source": [
    "## We are coding up the 'Standard_of_living_index' variable in an ordinal manner\n",
    "\n",
    "data['Standard_of_living_index']=np.where(data['Standard_of_living_index'] =='Very High', 1,data['Standard_of_living_index'])\n",
    "data['Standard_of_living_index']=np.where(data['Standard_of_living_index'] =='High', 2, data['Standard_of_living_index'])\n",
    "data['Standard_of_living_index']=np.where(data['Standard_of_living_index'] =='Low', 3, data['Standard_of_living_index'])\n",
    "data['Standard_of_living_index']=np.where(data['Standard_of_living_index'] =='Very Low', 4, data['Standard_of_living_index'])\n"
   ]
  },
  {
   "cell_type": "code",
   "execution_count": 43,
   "id": "e7d2db34",
   "metadata": {},
   "outputs": [],
   "source": [
    "## We are coding up the 'Media_exposure' variable in an ordinal manner\n",
    "\n",
    "data['Media_exposure']=np.where(data['Media_exposure'] =='Exposed','1',  data['Media_exposure'])\n",
    "data['Media_exposure']=np.where(data['Media_exposure'] =='Not-Exposed', '2', data['Media_exposure'])\n"
   ]
  },
  {
   "cell_type": "code",
   "execution_count": 44,
   "id": "e17f1dff",
   "metadata": {},
   "outputs": [],
   "source": [
    "## We are coding up the 'Contraceptive_method_used' variable in an ordinal manner\n",
    "\n",
    "#data['Contraceptive_method_used']=np.where(data['Contraceptive_method_used'] =='Yes', '1', data['Contraceptive_method_used'])\n",
    "#data['Contraceptive_method_used']=np.where(data['Contraceptive_method_used'] =='No', '2', data['Contraceptive_method_used'])\n"
   ]
  },
  {
   "cell_type": "code",
   "execution_count": 45,
   "id": "a475add0",
   "metadata": {},
   "outputs": [],
   "source": [
    "## Converting the 'salary' Variable into numeric by using the LabelEncoder functionality inside sklearn.\n",
    "from sklearn.preprocessing import LabelEncoder\n",
    "\n",
    "## Defining a Label Encoder object instance\n",
    "LE = LabelEncoder()\n"
   ]
  },
  {
   "cell_type": "code",
   "execution_count": 46,
   "id": "40722de4",
   "metadata": {},
   "outputs": [
    {
     "data": {
      "text/html": [
       "<div>\n",
       "<style scoped>\n",
       "    .dataframe tbody tr th:only-of-type {\n",
       "        vertical-align: middle;\n",
       "    }\n",
       "\n",
       "    .dataframe tbody tr th {\n",
       "        vertical-align: top;\n",
       "    }\n",
       "\n",
       "    .dataframe thead th {\n",
       "        text-align: right;\n",
       "    }\n",
       "</style>\n",
       "<table border=\"1\" class=\"dataframe\">\n",
       "  <thead>\n",
       "    <tr style=\"text-align: right;\">\n",
       "      <th></th>\n",
       "      <th>Wife_age</th>\n",
       "      <th>Wife_education</th>\n",
       "      <th>Husband_education</th>\n",
       "      <th>No_of_children_born</th>\n",
       "      <th>Wife_religion</th>\n",
       "      <th>Wife_Working</th>\n",
       "      <th>Husband_Occupation</th>\n",
       "      <th>Standard_of_living_index</th>\n",
       "      <th>Media_exposure</th>\n",
       "      <th>Contraceptive_method_used</th>\n",
       "    </tr>\n",
       "  </thead>\n",
       "  <tbody>\n",
       "    <tr>\n",
       "      <th>0</th>\n",
       "      <td>24.0</td>\n",
       "      <td>3</td>\n",
       "      <td>2</td>\n",
       "      <td>3.0</td>\n",
       "      <td>1</td>\n",
       "      <td>1</td>\n",
       "      <td>2.0</td>\n",
       "      <td>2</td>\n",
       "      <td>1</td>\n",
       "      <td>0</td>\n",
       "    </tr>\n",
       "    <tr>\n",
       "      <th>1</th>\n",
       "      <td>45.0</td>\n",
       "      <td>4</td>\n",
       "      <td>2</td>\n",
       "      <td>10.0</td>\n",
       "      <td>1</td>\n",
       "      <td>1</td>\n",
       "      <td>3.0</td>\n",
       "      <td>1</td>\n",
       "      <td>1</td>\n",
       "      <td>0</td>\n",
       "    </tr>\n",
       "    <tr>\n",
       "      <th>2</th>\n",
       "      <td>43.0</td>\n",
       "      <td>3</td>\n",
       "      <td>2</td>\n",
       "      <td>7.0</td>\n",
       "      <td>1</td>\n",
       "      <td>1</td>\n",
       "      <td>3.0</td>\n",
       "      <td>1</td>\n",
       "      <td>1</td>\n",
       "      <td>0</td>\n",
       "    </tr>\n",
       "    <tr>\n",
       "      <th>3</th>\n",
       "      <td>42.0</td>\n",
       "      <td>2</td>\n",
       "      <td>3</td>\n",
       "      <td>9.0</td>\n",
       "      <td>1</td>\n",
       "      <td>1</td>\n",
       "      <td>3.0</td>\n",
       "      <td>2</td>\n",
       "      <td>1</td>\n",
       "      <td>0</td>\n",
       "    </tr>\n",
       "    <tr>\n",
       "      <th>4</th>\n",
       "      <td>36.0</td>\n",
       "      <td>2</td>\n",
       "      <td>2</td>\n",
       "      <td>8.0</td>\n",
       "      <td>1</td>\n",
       "      <td>1</td>\n",
       "      <td>3.0</td>\n",
       "      <td>3</td>\n",
       "      <td>1</td>\n",
       "      <td>0</td>\n",
       "    </tr>\n",
       "  </tbody>\n",
       "</table>\n",
       "</div>"
      ],
      "text/plain": [
       "   Wife_age Wife_education Husband_education  No_of_children_born  \\\n",
       "0      24.0              3                 2                  3.0   \n",
       "1      45.0              4                 2                 10.0   \n",
       "2      43.0              3                 2                  7.0   \n",
       "3      42.0              2                 3                  9.0   \n",
       "4      36.0              2                 2                  8.0   \n",
       "\n",
       "  Wife_religion Wife_Working  Husband_Occupation Standard_of_living_index  \\\n",
       "0             1            1                 2.0                        2   \n",
       "1             1            1                 3.0                        1   \n",
       "2             1            1                 3.0                        1   \n",
       "3             1            1                 3.0                        2   \n",
       "4             1            1                 3.0                        3   \n",
       "\n",
       "  Media_exposure  Contraceptive_method_used  \n",
       "0              1                          0  \n",
       "1              1                          0  \n",
       "2              1                          0  \n",
       "3              1                          0  \n",
       "4              1                          0  "
      ]
     },
     "execution_count": 46,
     "metadata": {},
     "output_type": "execute_result"
    }
   ],
   "source": [
    "## Applying the created Label Encoder object for the target class\n",
    "\n",
    "data['Contraceptive_method_used'] = LE.fit_transform(data['Contraceptive_method_used'])\n",
    "data.head()\n"
   ]
  },
  {
   "cell_type": "code",
   "execution_count": 47,
   "id": "44f146ad",
   "metadata": {
    "scrolled": true
   },
   "outputs": [
    {
     "data": {
      "text/html": [
       "<div>\n",
       "<style scoped>\n",
       "    .dataframe tbody tr th:only-of-type {\n",
       "        vertical-align: middle;\n",
       "    }\n",
       "\n",
       "    .dataframe tbody tr th {\n",
       "        vertical-align: top;\n",
       "    }\n",
       "\n",
       "    .dataframe thead th {\n",
       "        text-align: right;\n",
       "    }\n",
       "</style>\n",
       "<table border=\"1\" class=\"dataframe\">\n",
       "  <thead>\n",
       "    <tr style=\"text-align: right;\">\n",
       "      <th></th>\n",
       "      <th>Wife_age</th>\n",
       "      <th>No_of_children_born</th>\n",
       "      <th>Husband_Occupation</th>\n",
       "      <th>Contraceptive_method_used</th>\n",
       "      <th>Wife_education_1</th>\n",
       "      <th>Wife_education_2</th>\n",
       "      <th>Wife_education_3</th>\n",
       "      <th>Wife_education_4</th>\n",
       "      <th>Husband_education_1</th>\n",
       "      <th>Husband_education_2</th>\n",
       "      <th>...</th>\n",
       "      <th>Wife_religion_1</th>\n",
       "      <th>Wife_religion_2</th>\n",
       "      <th>Wife_Working_1</th>\n",
       "      <th>Wife_Working_2</th>\n",
       "      <th>Standard_of_living_index_1</th>\n",
       "      <th>Standard_of_living_index_2</th>\n",
       "      <th>Standard_of_living_index_3</th>\n",
       "      <th>Standard_of_living_index_4</th>\n",
       "      <th>Media_exposure_1</th>\n",
       "      <th>Media_exposure_2</th>\n",
       "    </tr>\n",
       "  </thead>\n",
       "  <tbody>\n",
       "    <tr>\n",
       "      <th>0</th>\n",
       "      <td>24.0</td>\n",
       "      <td>3.0</td>\n",
       "      <td>2.0</td>\n",
       "      <td>0</td>\n",
       "      <td>0</td>\n",
       "      <td>0</td>\n",
       "      <td>1</td>\n",
       "      <td>0</td>\n",
       "      <td>0</td>\n",
       "      <td>1</td>\n",
       "      <td>...</td>\n",
       "      <td>1</td>\n",
       "      <td>0</td>\n",
       "      <td>1</td>\n",
       "      <td>0</td>\n",
       "      <td>0</td>\n",
       "      <td>1</td>\n",
       "      <td>0</td>\n",
       "      <td>0</td>\n",
       "      <td>1</td>\n",
       "      <td>0</td>\n",
       "    </tr>\n",
       "    <tr>\n",
       "      <th>1</th>\n",
       "      <td>45.0</td>\n",
       "      <td>10.0</td>\n",
       "      <td>3.0</td>\n",
       "      <td>0</td>\n",
       "      <td>0</td>\n",
       "      <td>0</td>\n",
       "      <td>0</td>\n",
       "      <td>1</td>\n",
       "      <td>0</td>\n",
       "      <td>1</td>\n",
       "      <td>...</td>\n",
       "      <td>1</td>\n",
       "      <td>0</td>\n",
       "      <td>1</td>\n",
       "      <td>0</td>\n",
       "      <td>1</td>\n",
       "      <td>0</td>\n",
       "      <td>0</td>\n",
       "      <td>0</td>\n",
       "      <td>1</td>\n",
       "      <td>0</td>\n",
       "    </tr>\n",
       "    <tr>\n",
       "      <th>2</th>\n",
       "      <td>43.0</td>\n",
       "      <td>7.0</td>\n",
       "      <td>3.0</td>\n",
       "      <td>0</td>\n",
       "      <td>0</td>\n",
       "      <td>0</td>\n",
       "      <td>1</td>\n",
       "      <td>0</td>\n",
       "      <td>0</td>\n",
       "      <td>1</td>\n",
       "      <td>...</td>\n",
       "      <td>1</td>\n",
       "      <td>0</td>\n",
       "      <td>1</td>\n",
       "      <td>0</td>\n",
       "      <td>1</td>\n",
       "      <td>0</td>\n",
       "      <td>0</td>\n",
       "      <td>0</td>\n",
       "      <td>1</td>\n",
       "      <td>0</td>\n",
       "    </tr>\n",
       "    <tr>\n",
       "      <th>3</th>\n",
       "      <td>42.0</td>\n",
       "      <td>9.0</td>\n",
       "      <td>3.0</td>\n",
       "      <td>0</td>\n",
       "      <td>0</td>\n",
       "      <td>1</td>\n",
       "      <td>0</td>\n",
       "      <td>0</td>\n",
       "      <td>0</td>\n",
       "      <td>0</td>\n",
       "      <td>...</td>\n",
       "      <td>1</td>\n",
       "      <td>0</td>\n",
       "      <td>1</td>\n",
       "      <td>0</td>\n",
       "      <td>0</td>\n",
       "      <td>1</td>\n",
       "      <td>0</td>\n",
       "      <td>0</td>\n",
       "      <td>1</td>\n",
       "      <td>0</td>\n",
       "    </tr>\n",
       "    <tr>\n",
       "      <th>4</th>\n",
       "      <td>36.0</td>\n",
       "      <td>8.0</td>\n",
       "      <td>3.0</td>\n",
       "      <td>0</td>\n",
       "      <td>0</td>\n",
       "      <td>1</td>\n",
       "      <td>0</td>\n",
       "      <td>0</td>\n",
       "      <td>0</td>\n",
       "      <td>1</td>\n",
       "      <td>...</td>\n",
       "      <td>1</td>\n",
       "      <td>0</td>\n",
       "      <td>1</td>\n",
       "      <td>0</td>\n",
       "      <td>0</td>\n",
       "      <td>0</td>\n",
       "      <td>1</td>\n",
       "      <td>0</td>\n",
       "      <td>1</td>\n",
       "      <td>0</td>\n",
       "    </tr>\n",
       "  </tbody>\n",
       "</table>\n",
       "<p>5 rows × 22 columns</p>\n",
       "</div>"
      ],
      "text/plain": [
       "   Wife_age  No_of_children_born  Husband_Occupation  \\\n",
       "0      24.0                  3.0                 2.0   \n",
       "1      45.0                 10.0                 3.0   \n",
       "2      43.0                  7.0                 3.0   \n",
       "3      42.0                  9.0                 3.0   \n",
       "4      36.0                  8.0                 3.0   \n",
       "\n",
       "   Contraceptive_method_used  Wife_education_1  Wife_education_2  \\\n",
       "0                          0                 0                 0   \n",
       "1                          0                 0                 0   \n",
       "2                          0                 0                 0   \n",
       "3                          0                 0                 1   \n",
       "4                          0                 0                 1   \n",
       "\n",
       "   Wife_education_3  Wife_education_4  Husband_education_1  \\\n",
       "0                 1                 0                    0   \n",
       "1                 0                 1                    0   \n",
       "2                 1                 0                    0   \n",
       "3                 0                 0                    0   \n",
       "4                 0                 0                    0   \n",
       "\n",
       "   Husband_education_2  ...  Wife_religion_1  Wife_religion_2  Wife_Working_1  \\\n",
       "0                    1  ...                1                0               1   \n",
       "1                    1  ...                1                0               1   \n",
       "2                    1  ...                1                0               1   \n",
       "3                    0  ...                1                0               1   \n",
       "4                    1  ...                1                0               1   \n",
       "\n",
       "   Wife_Working_2  Standard_of_living_index_1  Standard_of_living_index_2  \\\n",
       "0               0                           0                           1   \n",
       "1               0                           1                           0   \n",
       "2               0                           1                           0   \n",
       "3               0                           0                           1   \n",
       "4               0                           0                           0   \n",
       "\n",
       "   Standard_of_living_index_3  Standard_of_living_index_4  Media_exposure_1  \\\n",
       "0                           0                           0                 1   \n",
       "1                           0                           0                 1   \n",
       "2                           0                           0                 1   \n",
       "3                           0                           0                 1   \n",
       "4                           1                           0                 1   \n",
       "\n",
       "   Media_exposure_2  \n",
       "0                 0  \n",
       "1                 0  \n",
       "2                 0  \n",
       "3                 0  \n",
       "4                 0  \n",
       "\n",
       "[5 rows x 22 columns]"
      ]
     },
     "execution_count": 47,
     "metadata": {},
     "output_type": "execute_result"
    }
   ],
   "source": [
    "# To find dummies and drop Frist column\n",
    "\n",
    "data_dummy=pd.get_dummies(data)\n",
    "data_dummy.head()"
   ]
  },
  {
   "cell_type": "code",
   "execution_count": 48,
   "id": "6da98675",
   "metadata": {
    "scrolled": true
   },
   "outputs": [
    {
     "data": {
      "text/html": [
       "<div>\n",
       "<style scoped>\n",
       "    .dataframe tbody tr th:only-of-type {\n",
       "        vertical-align: middle;\n",
       "    }\n",
       "\n",
       "    .dataframe tbody tr th {\n",
       "        vertical-align: top;\n",
       "    }\n",
       "\n",
       "    .dataframe thead th {\n",
       "        text-align: right;\n",
       "    }\n",
       "</style>\n",
       "<table border=\"1\" class=\"dataframe\">\n",
       "  <thead>\n",
       "    <tr style=\"text-align: right;\">\n",
       "      <th></th>\n",
       "      <th>Wife_age</th>\n",
       "      <th>No_of_children_born</th>\n",
       "      <th>Husband_Occupation</th>\n",
       "      <th>Contraceptive_method_used</th>\n",
       "      <th>Wife_education_2</th>\n",
       "      <th>Wife_education_3</th>\n",
       "      <th>Wife_education_4</th>\n",
       "      <th>Husband_education_2</th>\n",
       "      <th>Husband_education_3</th>\n",
       "      <th>Husband_education_4</th>\n",
       "      <th>Wife_religion_2</th>\n",
       "      <th>Wife_Working_2</th>\n",
       "      <th>Standard_of_living_index_2</th>\n",
       "      <th>Standard_of_living_index_3</th>\n",
       "      <th>Standard_of_living_index_4</th>\n",
       "      <th>Media_exposure_2</th>\n",
       "    </tr>\n",
       "  </thead>\n",
       "  <tbody>\n",
       "    <tr>\n",
       "      <th>0</th>\n",
       "      <td>24.0</td>\n",
       "      <td>3.0</td>\n",
       "      <td>2.0</td>\n",
       "      <td>0</td>\n",
       "      <td>0</td>\n",
       "      <td>1</td>\n",
       "      <td>0</td>\n",
       "      <td>1</td>\n",
       "      <td>0</td>\n",
       "      <td>0</td>\n",
       "      <td>0</td>\n",
       "      <td>0</td>\n",
       "      <td>1</td>\n",
       "      <td>0</td>\n",
       "      <td>0</td>\n",
       "      <td>0</td>\n",
       "    </tr>\n",
       "    <tr>\n",
       "      <th>1</th>\n",
       "      <td>45.0</td>\n",
       "      <td>10.0</td>\n",
       "      <td>3.0</td>\n",
       "      <td>0</td>\n",
       "      <td>0</td>\n",
       "      <td>0</td>\n",
       "      <td>1</td>\n",
       "      <td>1</td>\n",
       "      <td>0</td>\n",
       "      <td>0</td>\n",
       "      <td>0</td>\n",
       "      <td>0</td>\n",
       "      <td>0</td>\n",
       "      <td>0</td>\n",
       "      <td>0</td>\n",
       "      <td>0</td>\n",
       "    </tr>\n",
       "    <tr>\n",
       "      <th>2</th>\n",
       "      <td>43.0</td>\n",
       "      <td>7.0</td>\n",
       "      <td>3.0</td>\n",
       "      <td>0</td>\n",
       "      <td>0</td>\n",
       "      <td>1</td>\n",
       "      <td>0</td>\n",
       "      <td>1</td>\n",
       "      <td>0</td>\n",
       "      <td>0</td>\n",
       "      <td>0</td>\n",
       "      <td>0</td>\n",
       "      <td>0</td>\n",
       "      <td>0</td>\n",
       "      <td>0</td>\n",
       "      <td>0</td>\n",
       "    </tr>\n",
       "    <tr>\n",
       "      <th>3</th>\n",
       "      <td>42.0</td>\n",
       "      <td>9.0</td>\n",
       "      <td>3.0</td>\n",
       "      <td>0</td>\n",
       "      <td>1</td>\n",
       "      <td>0</td>\n",
       "      <td>0</td>\n",
       "      <td>0</td>\n",
       "      <td>1</td>\n",
       "      <td>0</td>\n",
       "      <td>0</td>\n",
       "      <td>0</td>\n",
       "      <td>1</td>\n",
       "      <td>0</td>\n",
       "      <td>0</td>\n",
       "      <td>0</td>\n",
       "    </tr>\n",
       "    <tr>\n",
       "      <th>4</th>\n",
       "      <td>36.0</td>\n",
       "      <td>8.0</td>\n",
       "      <td>3.0</td>\n",
       "      <td>0</td>\n",
       "      <td>1</td>\n",
       "      <td>0</td>\n",
       "      <td>0</td>\n",
       "      <td>1</td>\n",
       "      <td>0</td>\n",
       "      <td>0</td>\n",
       "      <td>0</td>\n",
       "      <td>0</td>\n",
       "      <td>0</td>\n",
       "      <td>1</td>\n",
       "      <td>0</td>\n",
       "      <td>0</td>\n",
       "    </tr>\n",
       "  </tbody>\n",
       "</table>\n",
       "</div>"
      ],
      "text/plain": [
       "   Wife_age  No_of_children_born  Husband_Occupation  \\\n",
       "0      24.0                  3.0                 2.0   \n",
       "1      45.0                 10.0                 3.0   \n",
       "2      43.0                  7.0                 3.0   \n",
       "3      42.0                  9.0                 3.0   \n",
       "4      36.0                  8.0                 3.0   \n",
       "\n",
       "   Contraceptive_method_used  Wife_education_2  Wife_education_3  \\\n",
       "0                          0                 0                 1   \n",
       "1                          0                 0                 0   \n",
       "2                          0                 0                 1   \n",
       "3                          0                 1                 0   \n",
       "4                          0                 1                 0   \n",
       "\n",
       "   Wife_education_4  Husband_education_2  Husband_education_3  \\\n",
       "0                 0                    1                    0   \n",
       "1                 1                    1                    0   \n",
       "2                 0                    1                    0   \n",
       "3                 0                    0                    1   \n",
       "4                 0                    1                    0   \n",
       "\n",
       "   Husband_education_4  Wife_religion_2  Wife_Working_2  \\\n",
       "0                    0                0               0   \n",
       "1                    0                0               0   \n",
       "2                    0                0               0   \n",
       "3                    0                0               0   \n",
       "4                    0                0               0   \n",
       "\n",
       "   Standard_of_living_index_2  Standard_of_living_index_3  \\\n",
       "0                           1                           0   \n",
       "1                           0                           0   \n",
       "2                           0                           0   \n",
       "3                           1                           0   \n",
       "4                           0                           1   \n",
       "\n",
       "   Standard_of_living_index_4  Media_exposure_2  \n",
       "0                           0                 0  \n",
       "1                           0                 0  \n",
       "2                           0                 0  \n",
       "3                           0                 0  \n",
       "4                           0                 0  "
      ]
     },
     "execution_count": 48,
     "metadata": {},
     "output_type": "execute_result"
    }
   ],
   "source": [
    "# To find dummies and drop Frist column\n",
    "\n",
    "data_dummy=pd.get_dummies(data,drop_first=True)\n",
    "data_dummy.head()"
   ]
  },
  {
   "cell_type": "code",
   "execution_count": 49,
   "id": "be0853dc",
   "metadata": {
    "scrolled": true
   },
   "outputs": [
    {
     "data": {
      "text/html": [
       "<div>\n",
       "<style scoped>\n",
       "    .dataframe tbody tr th:only-of-type {\n",
       "        vertical-align: middle;\n",
       "    }\n",
       "\n",
       "    .dataframe tbody tr th {\n",
       "        vertical-align: top;\n",
       "    }\n",
       "\n",
       "    .dataframe thead th {\n",
       "        text-align: right;\n",
       "    }\n",
       "</style>\n",
       "<table border=\"1\" class=\"dataframe\">\n",
       "  <thead>\n",
       "    <tr style=\"text-align: right;\">\n",
       "      <th></th>\n",
       "      <th>Wife_age</th>\n",
       "      <th>No_of_children_born</th>\n",
       "      <th>Husband_Occupation</th>\n",
       "      <th>Contraceptive_method_used</th>\n",
       "      <th>Wife_education_2</th>\n",
       "      <th>Wife_education_3</th>\n",
       "      <th>Wife_education_4</th>\n",
       "      <th>Husband_education_2</th>\n",
       "      <th>Husband_education_3</th>\n",
       "      <th>Husband_education_4</th>\n",
       "      <th>Wife_religion_2</th>\n",
       "      <th>Wife_Working_2</th>\n",
       "      <th>Standard_of_living_index_2</th>\n",
       "      <th>Standard_of_living_index_3</th>\n",
       "      <th>Standard_of_living_index_4</th>\n",
       "      <th>Media_exposure_2</th>\n",
       "    </tr>\n",
       "  </thead>\n",
       "  <tbody>\n",
       "    <tr>\n",
       "      <th>0</th>\n",
       "      <td>24.0</td>\n",
       "      <td>3.0</td>\n",
       "      <td>2.0</td>\n",
       "      <td>0</td>\n",
       "      <td>0</td>\n",
       "      <td>1</td>\n",
       "      <td>0</td>\n",
       "      <td>1</td>\n",
       "      <td>0</td>\n",
       "      <td>0</td>\n",
       "      <td>0</td>\n",
       "      <td>0</td>\n",
       "      <td>1</td>\n",
       "      <td>0</td>\n",
       "      <td>0</td>\n",
       "      <td>0</td>\n",
       "    </tr>\n",
       "    <tr>\n",
       "      <th>1</th>\n",
       "      <td>45.0</td>\n",
       "      <td>10.0</td>\n",
       "      <td>3.0</td>\n",
       "      <td>0</td>\n",
       "      <td>0</td>\n",
       "      <td>0</td>\n",
       "      <td>1</td>\n",
       "      <td>1</td>\n",
       "      <td>0</td>\n",
       "      <td>0</td>\n",
       "      <td>0</td>\n",
       "      <td>0</td>\n",
       "      <td>0</td>\n",
       "      <td>0</td>\n",
       "      <td>0</td>\n",
       "      <td>0</td>\n",
       "    </tr>\n",
       "    <tr>\n",
       "      <th>2</th>\n",
       "      <td>43.0</td>\n",
       "      <td>7.0</td>\n",
       "      <td>3.0</td>\n",
       "      <td>0</td>\n",
       "      <td>0</td>\n",
       "      <td>1</td>\n",
       "      <td>0</td>\n",
       "      <td>1</td>\n",
       "      <td>0</td>\n",
       "      <td>0</td>\n",
       "      <td>0</td>\n",
       "      <td>0</td>\n",
       "      <td>0</td>\n",
       "      <td>0</td>\n",
       "      <td>0</td>\n",
       "      <td>0</td>\n",
       "    </tr>\n",
       "    <tr>\n",
       "      <th>3</th>\n",
       "      <td>42.0</td>\n",
       "      <td>9.0</td>\n",
       "      <td>3.0</td>\n",
       "      <td>0</td>\n",
       "      <td>1</td>\n",
       "      <td>0</td>\n",
       "      <td>0</td>\n",
       "      <td>0</td>\n",
       "      <td>1</td>\n",
       "      <td>0</td>\n",
       "      <td>0</td>\n",
       "      <td>0</td>\n",
       "      <td>1</td>\n",
       "      <td>0</td>\n",
       "      <td>0</td>\n",
       "      <td>0</td>\n",
       "    </tr>\n",
       "    <tr>\n",
       "      <th>4</th>\n",
       "      <td>36.0</td>\n",
       "      <td>8.0</td>\n",
       "      <td>3.0</td>\n",
       "      <td>0</td>\n",
       "      <td>1</td>\n",
       "      <td>0</td>\n",
       "      <td>0</td>\n",
       "      <td>1</td>\n",
       "      <td>0</td>\n",
       "      <td>0</td>\n",
       "      <td>0</td>\n",
       "      <td>0</td>\n",
       "      <td>0</td>\n",
       "      <td>1</td>\n",
       "      <td>0</td>\n",
       "      <td>0</td>\n",
       "    </tr>\n",
       "  </tbody>\n",
       "</table>\n",
       "</div>"
      ],
      "text/plain": [
       "   Wife_age  No_of_children_born  Husband_Occupation  \\\n",
       "0      24.0                  3.0                 2.0   \n",
       "1      45.0                 10.0                 3.0   \n",
       "2      43.0                  7.0                 3.0   \n",
       "3      42.0                  9.0                 3.0   \n",
       "4      36.0                  8.0                 3.0   \n",
       "\n",
       "   Contraceptive_method_used  Wife_education_2  Wife_education_3  \\\n",
       "0                          0                 0                 1   \n",
       "1                          0                 0                 0   \n",
       "2                          0                 0                 1   \n",
       "3                          0                 1                 0   \n",
       "4                          0                 1                 0   \n",
       "\n",
       "   Wife_education_4  Husband_education_2  Husband_education_3  \\\n",
       "0                 0                    1                    0   \n",
       "1                 1                    1                    0   \n",
       "2                 0                    1                    0   \n",
       "3                 0                    0                    1   \n",
       "4                 0                    1                    0   \n",
       "\n",
       "   Husband_education_4  Wife_religion_2  Wife_Working_2  \\\n",
       "0                    0                0               0   \n",
       "1                    0                0               0   \n",
       "2                    0                0               0   \n",
       "3                    0                0               0   \n",
       "4                    0                0               0   \n",
       "\n",
       "   Standard_of_living_index_2  Standard_of_living_index_3  \\\n",
       "0                           1                           0   \n",
       "1                           0                           0   \n",
       "2                           0                           0   \n",
       "3                           1                           0   \n",
       "4                           0                           1   \n",
       "\n",
       "   Standard_of_living_index_4  Media_exposure_2  \n",
       "0                           0                 0  \n",
       "1                           0                 0  \n",
       "2                           0                 0  \n",
       "3                           0                 0  \n",
       "4                           0                 0  "
      ]
     },
     "execution_count": 49,
     "metadata": {},
     "output_type": "execute_result"
    }
   ],
   "source": [
    "data_dummy.head()\n"
   ]
  },
  {
   "cell_type": "code",
   "execution_count": 50,
   "id": "578b683f",
   "metadata": {
    "scrolled": true
   },
   "outputs": [
    {
     "name": "stdout",
     "output_type": "stream",
     "text": [
      "<class 'pandas.core.frame.DataFrame'>\n",
      "Int64Index: 1388 entries, 0 to 1472\n",
      "Data columns (total 16 columns):\n",
      " #   Column                      Non-Null Count  Dtype  \n",
      "---  ------                      --------------  -----  \n",
      " 0   Wife_age                    1388 non-null   float64\n",
      " 1   No_of_children_born         1388 non-null   float64\n",
      " 2   Husband_Occupation          1388 non-null   float64\n",
      " 3   Contraceptive_method_used   1388 non-null   int32  \n",
      " 4   Wife_education_2            1388 non-null   uint8  \n",
      " 5   Wife_education_3            1388 non-null   uint8  \n",
      " 6   Wife_education_4            1388 non-null   uint8  \n",
      " 7   Husband_education_2         1388 non-null   uint8  \n",
      " 8   Husband_education_3         1388 non-null   uint8  \n",
      " 9   Husband_education_4         1388 non-null   uint8  \n",
      " 10  Wife_religion_2             1388 non-null   uint8  \n",
      " 11  Wife_Working_2              1388 non-null   uint8  \n",
      " 12  Standard_of_living_index_2  1388 non-null   uint8  \n",
      " 13  Standard_of_living_index_3  1388 non-null   uint8  \n",
      " 14  Standard_of_living_index_4  1388 non-null   uint8  \n",
      " 15  Media_exposure_2            1388 non-null   uint8  \n",
      "dtypes: float64(3), int32(1), uint8(12)\n",
      "memory usage: 65.1 KB\n"
     ]
    }
   ],
   "source": [
    "data_dummy.info()\n"
   ]
  },
  {
   "cell_type": "code",
   "execution_count": 51,
   "id": "09167c1b",
   "metadata": {
    "scrolled": true
   },
   "outputs": [
    {
     "name": "stdout",
     "output_type": "stream",
     "text": [
      "<class 'pandas.core.frame.DataFrame'>\n",
      "Int64Index: 1388 entries, 0 to 1472\n",
      "Data columns (total 16 columns):\n",
      " #   Column                      Non-Null Count  Dtype\n",
      "---  ------                      --------------  -----\n",
      " 0   Wife_age                    1388 non-null   int64\n",
      " 1   No_of_children_born         1388 non-null   int64\n",
      " 2   Husband_Occupation          1388 non-null   int64\n",
      " 3   Contraceptive_method_used   1388 non-null   int32\n",
      " 4   Wife_education_2            1388 non-null   uint8\n",
      " 5   Wife_education_3            1388 non-null   uint8\n",
      " 6   Wife_education_4            1388 non-null   uint8\n",
      " 7   Husband_education_2         1388 non-null   uint8\n",
      " 8   Husband_education_3         1388 non-null   uint8\n",
      " 9   Husband_education_4         1388 non-null   uint8\n",
      " 10  Wife_religion_2             1388 non-null   uint8\n",
      " 11  Wife_Working_2              1388 non-null   uint8\n",
      " 12  Standard_of_living_index_2  1388 non-null   uint8\n",
      " 13  Standard_of_living_index_3  1388 non-null   uint8\n",
      " 14  Standard_of_living_index_4  1388 non-null   uint8\n",
      " 15  Media_exposure_2            1388 non-null   uint8\n",
      "dtypes: int32(1), int64(3), uint8(12)\n",
      "memory usage: 65.1 KB\n"
     ]
    }
   ],
   "source": [
    "## Converting the education variable to numeric\n",
    "\n",
    "data_dummy['Wife_age'] = data_dummy['Wife_age'].astype('int64')\n",
    "data_dummy['No_of_children_born'] = data_dummy['No_of_children_born'].astype('int64')\n",
    "data_dummy['Husband_Occupation'] = data_dummy['Husband_Occupation'].astype('int64')\n",
    "\n",
    "data_dummy.info()\n"
   ]
  },
  {
   "cell_type": "code",
   "execution_count": 52,
   "id": "bce17634",
   "metadata": {
    "scrolled": true
   },
   "outputs": [
    {
     "name": "stdout",
     "output_type": "stream",
     "text": [
      "<class 'pandas.core.frame.DataFrame'>\n",
      "Int64Index: 1388 entries, 0 to 1472\n",
      "Data columns (total 16 columns):\n",
      " #   Column                      Non-Null Count  Dtype\n",
      "---  ------                      --------------  -----\n",
      " 0   Wife_age                    1388 non-null   int64\n",
      " 1   No_of_children_born         1388 non-null   int64\n",
      " 2   Husband_Occupation          1388 non-null   int64\n",
      " 3   Contraceptive_method_used   1388 non-null   int32\n",
      " 4   Wife_education_2            1388 non-null   uint8\n",
      " 5   Wife_education_3            1388 non-null   uint8\n",
      " 6   Wife_education_4            1388 non-null   uint8\n",
      " 7   Husband_education_2         1388 non-null   uint8\n",
      " 8   Husband_education_3         1388 non-null   uint8\n",
      " 9   Husband_education_4         1388 non-null   uint8\n",
      " 10  Wife_religion_2             1388 non-null   uint8\n",
      " 11  Wife_Working_2              1388 non-null   uint8\n",
      " 12  Standard_of_living_index_2  1388 non-null   uint8\n",
      " 13  Standard_of_living_index_3  1388 non-null   uint8\n",
      " 14  Standard_of_living_index_4  1388 non-null   uint8\n",
      " 15  Media_exposure_2            1388 non-null   uint8\n",
      "dtypes: int32(1), int64(3), uint8(12)\n",
      "memory usage: 65.1 KB\n"
     ]
    }
   ],
   "source": [
    "data_dummy.info()\n"
   ]
  },
  {
   "cell_type": "code",
   "execution_count": 53,
   "id": "aaf5730e",
   "metadata": {},
   "outputs": [],
   "source": [
    "from sklearn.linear_model import LogisticRegression\n",
    "#from sklearn.model_selection import train_test_split\n",
    "import statsmodels.api as sm\n",
    "import statsmodels.formula.api as sm\n"
   ]
  },
  {
   "cell_type": "code",
   "execution_count": 54,
   "id": "d2d736b2",
   "metadata": {
    "scrolled": true
   },
   "outputs": [
    {
     "data": {
      "text/plain": [
       "Index(['Wife_age', 'No_of_children_born', 'Husband_Occupation',\n",
       "       'Contraceptive_method_used', 'Wife_education_2', 'Wife_education_3',\n",
       "       'Wife_education_4', 'Husband_education_2', 'Husband_education_3',\n",
       "       'Husband_education_4', 'Wife_religion_2', 'Wife_Working_2',\n",
       "       'Standard_of_living_index_2', 'Standard_of_living_index_3',\n",
       "       'Standard_of_living_index_4', 'Media_exposure_2'],\n",
       "      dtype='object')"
      ]
     },
     "execution_count": 54,
     "metadata": {},
     "output_type": "execute_result"
    }
   ],
   "source": [
    "data_dummy.columns\n"
   ]
  },
  {
   "cell_type": "code",
   "execution_count": 55,
   "id": "0bd3c5d0",
   "metadata": {},
   "outputs": [],
   "source": [
    "formula_1='Contraceptive_method_used ~ Wife_age+No_of_children_born+Husband_Occupation+Wife_education_2+Wife_education_3+Wife_education_4+Husband_education_2+Husband_education_3+Husband_education_4+Wife_religion_2+Wife_Working_2+Standard_of_living_index_2+Standard_of_living_index_3+Standard_of_living_index_4+Media_exposure_2'"
   ]
  },
  {
   "cell_type": "raw",
   "id": "f6f242be",
   "metadata": {},
   "source": [
    "endog = data_dummy['Contraceptive_method_used']\n",
    "exog = data_dummy.drop(['Contraceptive_method_used'], axis=1)\n",
    "Logistic_1 = sm.Logit(endog, exog).fit()"
   ]
  },
  {
   "cell_type": "code",
   "execution_count": 56,
   "id": "9a81ef08",
   "metadata": {},
   "outputs": [
    {
     "name": "stdout",
     "output_type": "stream",
     "text": [
      "Optimization terminated successfully.\n",
      "         Current function value: 0.610268\n",
      "         Iterations 5\n"
     ]
    }
   ],
   "source": [
    "Logistic_1 = sm.logit(formula=formula_1,data=data_dummy).fit()\n"
   ]
  },
  {
   "cell_type": "code",
   "execution_count": 57,
   "id": "a82bc9e3",
   "metadata": {
    "scrolled": true
   },
   "outputs": [
    {
     "data": {
      "text/html": [
       "<table class=\"simpletable\">\n",
       "<caption>Logit Regression Results</caption>\n",
       "<tr>\n",
       "  <th>Dep. Variable:</th>   <td>Contraceptive_method_used</td> <th>  No. Observations:  </th>  <td>  1388</td>  \n",
       "</tr>\n",
       "<tr>\n",
       "  <th>Model:</th>                     <td>Logit</td>           <th>  Df Residuals:      </th>  <td>  1372</td>  \n",
       "</tr>\n",
       "<tr>\n",
       "  <th>Method:</th>                     <td>MLE</td>            <th>  Df Model:          </th>  <td>    15</td>  \n",
       "</tr>\n",
       "<tr>\n",
       "  <th>Date:</th>                <td>Sun, 12 Feb 2023</td>      <th>  Pseudo R-squ.:     </th>  <td>0.1110</td>  \n",
       "</tr>\n",
       "<tr>\n",
       "  <th>Time:</th>                    <td>14:49:59</td>          <th>  Log-Likelihood:    </th> <td> -847.05</td> \n",
       "</tr>\n",
       "<tr>\n",
       "  <th>converged:</th>                 <td>True</td>            <th>  LL-Null:           </th> <td> -952.85</td> \n",
       "</tr>\n",
       "<tr>\n",
       "  <th>Covariance Type:</th>         <td>nonrobust</td>         <th>  LLR p-value:       </th> <td>9.299e-37</td>\n",
       "</tr>\n",
       "</table>\n",
       "<table class=\"simpletable\">\n",
       "<tr>\n",
       "               <td></td>                 <th>coef</th>     <th>std err</th>      <th>z</th>      <th>P>|z|</th>  <th>[0.025</th>    <th>0.975]</th>  \n",
       "</tr>\n",
       "<tr>\n",
       "  <th>Intercept</th>                  <td>    2.2893</td> <td>    0.350</td> <td>    6.542</td> <td> 0.000</td> <td>    1.603</td> <td>    2.975</td>\n",
       "</tr>\n",
       "<tr>\n",
       "  <th>Wife_age</th>                   <td>   -0.0782</td> <td>    0.010</td> <td>   -7.969</td> <td> 0.000</td> <td>   -0.097</td> <td>   -0.059</td>\n",
       "</tr>\n",
       "<tr>\n",
       "  <th>No_of_children_born</th>        <td>    0.3214</td> <td>    0.034</td> <td>    9.393</td> <td> 0.000</td> <td>    0.254</td> <td>    0.388</td>\n",
       "</tr>\n",
       "<tr>\n",
       "  <th>Husband_Occupation</th>         <td>    0.1169</td> <td>    0.078</td> <td>    1.497</td> <td> 0.134</td> <td>   -0.036</td> <td>    0.270</td>\n",
       "</tr>\n",
       "<tr>\n",
       "  <th>Wife_education_2</th>           <td>   -0.6765</td> <td>    0.163</td> <td>   -4.142</td> <td> 0.000</td> <td>   -0.997</td> <td>   -0.356</td>\n",
       "</tr>\n",
       "<tr>\n",
       "  <th>Wife_education_3</th>           <td>   -1.1322</td> <td>    0.191</td> <td>   -5.914</td> <td> 0.000</td> <td>   -1.507</td> <td>   -0.757</td>\n",
       "</tr>\n",
       "<tr>\n",
       "  <th>Wife_education_4</th>           <td>   -1.4760</td> <td>    0.273</td> <td>   -5.411</td> <td> 0.000</td> <td>   -2.011</td> <td>   -0.941</td>\n",
       "</tr>\n",
       "<tr>\n",
       "  <th>Husband_education_2</th>        <td>    0.1577</td> <td>    0.161</td> <td>    0.977</td> <td> 0.329</td> <td>   -0.159</td> <td>    0.474</td>\n",
       "</tr>\n",
       "<tr>\n",
       "  <th>Husband_education_3</th>        <td>   -0.0069</td> <td>    0.219</td> <td>   -0.031</td> <td> 0.975</td> <td>   -0.436</td> <td>    0.423</td>\n",
       "</tr>\n",
       "<tr>\n",
       "  <th>Husband_education_4</th>        <td>   -0.3200</td> <td>    0.394</td> <td>   -0.812</td> <td> 0.417</td> <td>   -1.093</td> <td>    0.453</td>\n",
       "</tr>\n",
       "<tr>\n",
       "  <th>Wife_religion_2</th>            <td>    0.3923</td> <td>    0.176</td> <td>    2.234</td> <td> 0.026</td> <td>    0.048</td> <td>    0.737</td>\n",
       "</tr>\n",
       "<tr>\n",
       "  <th>Wife_Working_2</th>             <td>   -0.1484</td> <td>    0.136</td> <td>   -1.091</td> <td> 0.275</td> <td>   -0.415</td> <td>    0.118</td>\n",
       "</tr>\n",
       "<tr>\n",
       "  <th>Standard_of_living_index_2</th> <td>   -0.2009</td> <td>    0.143</td> <td>   -1.403</td> <td> 0.161</td> <td>   -0.482</td> <td>    0.080</td>\n",
       "</tr>\n",
       "<tr>\n",
       "  <th>Standard_of_living_index_3</th> <td>   -0.3997</td> <td>    0.181</td> <td>   -2.209</td> <td> 0.027</td> <td>   -0.754</td> <td>   -0.045</td>\n",
       "</tr>\n",
       "<tr>\n",
       "  <th>Standard_of_living_index_4</th> <td>   -0.7705</td> <td>    0.231</td> <td>   -3.331</td> <td> 0.001</td> <td>   -1.224</td> <td>   -0.317</td>\n",
       "</tr>\n",
       "<tr>\n",
       "  <th>Media_exposure_2</th>           <td>   -0.4840</td> <td>    0.253</td> <td>   -1.913</td> <td> 0.056</td> <td>   -0.980</td> <td>    0.012</td>\n",
       "</tr>\n",
       "</table>"
      ],
      "text/plain": [
       "<class 'statsmodels.iolib.summary.Summary'>\n",
       "\"\"\"\n",
       "                               Logit Regression Results                              \n",
       "=====================================================================================\n",
       "Dep. Variable:     Contraceptive_method_used   No. Observations:                 1388\n",
       "Model:                                 Logit   Df Residuals:                     1372\n",
       "Method:                                  MLE   Df Model:                           15\n",
       "Date:                       Sun, 12 Feb 2023   Pseudo R-squ.:                  0.1110\n",
       "Time:                               14:49:59   Log-Likelihood:                -847.05\n",
       "converged:                              True   LL-Null:                       -952.85\n",
       "Covariance Type:                   nonrobust   LLR p-value:                 9.299e-37\n",
       "==============================================================================================\n",
       "                                 coef    std err          z      P>|z|      [0.025      0.975]\n",
       "----------------------------------------------------------------------------------------------\n",
       "Intercept                      2.2893      0.350      6.542      0.000       1.603       2.975\n",
       "Wife_age                      -0.0782      0.010     -7.969      0.000      -0.097      -0.059\n",
       "No_of_children_born            0.3214      0.034      9.393      0.000       0.254       0.388\n",
       "Husband_Occupation             0.1169      0.078      1.497      0.134      -0.036       0.270\n",
       "Wife_education_2              -0.6765      0.163     -4.142      0.000      -0.997      -0.356\n",
       "Wife_education_3              -1.1322      0.191     -5.914      0.000      -1.507      -0.757\n",
       "Wife_education_4              -1.4760      0.273     -5.411      0.000      -2.011      -0.941\n",
       "Husband_education_2            0.1577      0.161      0.977      0.329      -0.159       0.474\n",
       "Husband_education_3           -0.0069      0.219     -0.031      0.975      -0.436       0.423\n",
       "Husband_education_4           -0.3200      0.394     -0.812      0.417      -1.093       0.453\n",
       "Wife_religion_2                0.3923      0.176      2.234      0.026       0.048       0.737\n",
       "Wife_Working_2                -0.1484      0.136     -1.091      0.275      -0.415       0.118\n",
       "Standard_of_living_index_2    -0.2009      0.143     -1.403      0.161      -0.482       0.080\n",
       "Standard_of_living_index_3    -0.3997      0.181     -2.209      0.027      -0.754      -0.045\n",
       "Standard_of_living_index_4    -0.7705      0.231     -3.331      0.001      -1.224      -0.317\n",
       "Media_exposure_2              -0.4840      0.253     -1.913      0.056      -0.980       0.012\n",
       "==============================================================================================\n",
       "\"\"\""
      ]
     },
     "execution_count": 57,
     "metadata": {},
     "output_type": "execute_result"
    }
   ],
   "source": [
    "Logistic_1.summary()\n"
   ]
  },
  {
   "cell_type": "markdown",
   "id": "741801dc",
   "metadata": {},
   "source": [
    "#### Check for multicollinearity in the predictor variables using Variance Inflation Factor (VIF)."
   ]
  },
  {
   "cell_type": "code",
   "execution_count": 58,
   "id": "187402cf",
   "metadata": {},
   "outputs": [],
   "source": [
    "def vif_cal(input_data):\n",
    "    x_vars=input_data\n",
    "    xvar_names=input_data.columns\n",
    "    for i in range(0,xvar_names.shape[0]):\n",
    "        y=x_vars[xvar_names[i]] \n",
    "        x=x_vars[xvar_names.drop(xvar_names[i])]\n",
    "        rsq=sm.ols(formula=\"y~x\", data=x_vars).fit().rsquared  \n",
    "        vif=round(1/(1-rsq),2)\n",
    "        print (xvar_names[i], \" VIF = \" , vif)\n"
   ]
  },
  {
   "cell_type": "code",
   "execution_count": 59,
   "id": "a539882d",
   "metadata": {
    "scrolled": true
   },
   "outputs": [
    {
     "name": "stdout",
     "output_type": "stream",
     "text": [
      "Wife_age  VIF =  1.64\n",
      "No_of_children_born  VIF =  1.53\n",
      "Husband_Occupation  VIF =  1.28\n",
      "Wife_education_2  VIF =  1.59\n",
      "Wife_education_3  VIF =  1.92\n",
      "Wife_education_4  VIF =  1.97\n",
      "Husband_education_2  VIF =  1.44\n",
      "Husband_education_3  VIF =  1.56\n",
      "Husband_education_4  VIF =  1.25\n",
      "Wife_religion_2  VIF =  1.13\n",
      "Wife_Working_2  VIF =  1.04\n",
      "Standard_of_living_index_2  VIF =  1.26\n",
      "Standard_of_living_index_3  VIF =  1.34\n",
      "Standard_of_living_index_4  VIF =  1.32\n",
      "Media_exposure_2  VIF =  1.27\n"
     ]
    }
   ],
   "source": [
    "vif_cal(input_data=data_dummy.drop('Contraceptive_method_used',axis=1))\n"
   ]
  },
  {
   "cell_type": "markdown",
   "id": "7e8edcbd",
   "metadata": {},
   "source": [
    "####  Model 2 - Drop the variable which has the highest VIF value. Build a second iteration of the model on the full data. Check the VIF values of the predictor variables.          Wife_education_4  "
   ]
  },
  {
   "cell_type": "markdown",
   "id": "1d09e6d3",
   "metadata": {},
   "source": [
    "### Note : Threshold value considered is VIF < 2"
   ]
  },
  {
   "cell_type": "code",
   "execution_count": 60,
   "id": "ad17e881",
   "metadata": {},
   "outputs": [],
   "source": [
    "formula_2='Contraceptive_method_used ~ Wife_age+No_of_children_born+Husband_Occupation+Wife_education_2+Wife_education_3+Husband_education_2+Husband_education_3+Husband_education_4+Wife_religion_2+Wife_Working_2+Standard_of_living_index_2+Standard_of_living_index_3+Standard_of_living_index_4+Media_exposure_2'"
   ]
  },
  {
   "cell_type": "code",
   "execution_count": 61,
   "id": "86f6dd59",
   "metadata": {},
   "outputs": [
    {
     "name": "stdout",
     "output_type": "stream",
     "text": [
      "Optimization terminated successfully.\n",
      "         Current function value: 0.621210\n",
      "         Iterations 5\n"
     ]
    }
   ],
   "source": [
    "Logistic_2 = sm.logit(formula=formula_2,data=data_dummy).fit()\n"
   ]
  },
  {
   "cell_type": "code",
   "execution_count": 62,
   "id": "cf9ec9a4",
   "metadata": {},
   "outputs": [
    {
     "data": {
      "text/html": [
       "<table class=\"simpletable\">\n",
       "<caption>Logit Regression Results</caption>\n",
       "<tr>\n",
       "  <th>Dep. Variable:</th>   <td>Contraceptive_method_used</td> <th>  No. Observations:  </th>  <td>  1388</td>  \n",
       "</tr>\n",
       "<tr>\n",
       "  <th>Model:</th>                     <td>Logit</td>           <th>  Df Residuals:      </th>  <td>  1373</td>  \n",
       "</tr>\n",
       "<tr>\n",
       "  <th>Method:</th>                     <td>MLE</td>            <th>  Df Model:          </th>  <td>    14</td>  \n",
       "</tr>\n",
       "<tr>\n",
       "  <th>Date:</th>                <td>Sun, 12 Feb 2023</td>      <th>  Pseudo R-squ.:     </th>  <td>0.09509</td> \n",
       "</tr>\n",
       "<tr>\n",
       "  <th>Time:</th>                    <td>14:50:02</td>          <th>  Log-Likelihood:    </th> <td> -862.24</td> \n",
       "</tr>\n",
       "<tr>\n",
       "  <th>converged:</th>                 <td>True</td>            <th>  LL-Null:           </th> <td> -952.85</td> \n",
       "</tr>\n",
       "<tr>\n",
       "  <th>Covariance Type:</th>         <td>nonrobust</td>         <th>  LLR p-value:       </th> <td>3.674e-31</td>\n",
       "</tr>\n",
       "</table>\n",
       "<table class=\"simpletable\">\n",
       "<tr>\n",
       "               <td></td>                 <th>coef</th>     <th>std err</th>      <th>z</th>      <th>P>|z|</th>  <th>[0.025</th>    <th>0.975]</th>  \n",
       "</tr>\n",
       "<tr>\n",
       "  <th>Intercept</th>                  <td>    2.3758</td> <td>    0.346</td> <td>    6.864</td> <td> 0.000</td> <td>    1.697</td> <td>    3.054</td>\n",
       "</tr>\n",
       "<tr>\n",
       "  <th>Wife_age</th>                   <td>   -0.0816</td> <td>    0.010</td> <td>   -8.435</td> <td> 0.000</td> <td>   -0.101</td> <td>   -0.063</td>\n",
       "</tr>\n",
       "<tr>\n",
       "  <th>No_of_children_born</th>        <td>    0.3067</td> <td>    0.033</td> <td>    9.159</td> <td> 0.000</td> <td>    0.241</td> <td>    0.372</td>\n",
       "</tr>\n",
       "<tr>\n",
       "  <th>Husband_Occupation</th>         <td>    0.0359</td> <td>    0.075</td> <td>    0.477</td> <td> 0.633</td> <td>   -0.112</td> <td>    0.184</td>\n",
       "</tr>\n",
       "<tr>\n",
       "  <th>Wife_education_2</th>           <td>   -0.3002</td> <td>    0.147</td> <td>   -2.048</td> <td> 0.041</td> <td>   -0.588</td> <td>   -0.013</td>\n",
       "</tr>\n",
       "<tr>\n",
       "  <th>Wife_education_3</th>           <td>   -0.6147</td> <td>    0.164</td> <td>   -3.751</td> <td> 0.000</td> <td>   -0.936</td> <td>   -0.294</td>\n",
       "</tr>\n",
       "<tr>\n",
       "  <th>Husband_education_2</th>        <td>   -0.0703</td> <td>    0.154</td> <td>   -0.456</td> <td> 0.648</td> <td>   -0.372</td> <td>    0.232</td>\n",
       "</tr>\n",
       "<tr>\n",
       "  <th>Husband_education_3</th>        <td>   -0.4103</td> <td>    0.204</td> <td>   -2.010</td> <td> 0.044</td> <td>   -0.810</td> <td>   -0.010</td>\n",
       "</tr>\n",
       "<tr>\n",
       "  <th>Husband_education_4</th>        <td>   -0.9112</td> <td>    0.379</td> <td>   -2.404</td> <td> 0.016</td> <td>   -1.654</td> <td>   -0.168</td>\n",
       "</tr>\n",
       "<tr>\n",
       "  <th>Wife_religion_2</th>            <td>    0.5150</td> <td>    0.174</td> <td>    2.965</td> <td> 0.003</td> <td>    0.175</td> <td>    0.855</td>\n",
       "</tr>\n",
       "<tr>\n",
       "  <th>Wife_Working_2</th>             <td>   -0.1086</td> <td>    0.134</td> <td>   -0.808</td> <td> 0.419</td> <td>   -0.372</td> <td>    0.155</td>\n",
       "</tr>\n",
       "<tr>\n",
       "  <th>Standard_of_living_index_2</th> <td>   -0.2320</td> <td>    0.141</td> <td>   -1.645</td> <td> 0.100</td> <td>   -0.508</td> <td>    0.044</td>\n",
       "</tr>\n",
       "<tr>\n",
       "  <th>Standard_of_living_index_3</th> <td>   -0.4278</td> <td>    0.179</td> <td>   -2.391</td> <td> 0.017</td> <td>   -0.778</td> <td>   -0.077</td>\n",
       "</tr>\n",
       "<tr>\n",
       "  <th>Standard_of_living_index_4</th> <td>   -0.8331</td> <td>    0.229</td> <td>   -3.637</td> <td> 0.000</td> <td>   -1.282</td> <td>   -0.384</td>\n",
       "</tr>\n",
       "<tr>\n",
       "  <th>Media_exposure_2</th>           <td>   -0.8244</td> <td>    0.245</td> <td>   -3.365</td> <td> 0.001</td> <td>   -1.305</td> <td>   -0.344</td>\n",
       "</tr>\n",
       "</table>"
      ],
      "text/plain": [
       "<class 'statsmodels.iolib.summary.Summary'>\n",
       "\"\"\"\n",
       "                               Logit Regression Results                              \n",
       "=====================================================================================\n",
       "Dep. Variable:     Contraceptive_method_used   No. Observations:                 1388\n",
       "Model:                                 Logit   Df Residuals:                     1373\n",
       "Method:                                  MLE   Df Model:                           14\n",
       "Date:                       Sun, 12 Feb 2023   Pseudo R-squ.:                 0.09509\n",
       "Time:                               14:50:02   Log-Likelihood:                -862.24\n",
       "converged:                              True   LL-Null:                       -952.85\n",
       "Covariance Type:                   nonrobust   LLR p-value:                 3.674e-31\n",
       "==============================================================================================\n",
       "                                 coef    std err          z      P>|z|      [0.025      0.975]\n",
       "----------------------------------------------------------------------------------------------\n",
       "Intercept                      2.3758      0.346      6.864      0.000       1.697       3.054\n",
       "Wife_age                      -0.0816      0.010     -8.435      0.000      -0.101      -0.063\n",
       "No_of_children_born            0.3067      0.033      9.159      0.000       0.241       0.372\n",
       "Husband_Occupation             0.0359      0.075      0.477      0.633      -0.112       0.184\n",
       "Wife_education_2              -0.3002      0.147     -2.048      0.041      -0.588      -0.013\n",
       "Wife_education_3              -0.6147      0.164     -3.751      0.000      -0.936      -0.294\n",
       "Husband_education_2           -0.0703      0.154     -0.456      0.648      -0.372       0.232\n",
       "Husband_education_3           -0.4103      0.204     -2.010      0.044      -0.810      -0.010\n",
       "Husband_education_4           -0.9112      0.379     -2.404      0.016      -1.654      -0.168\n",
       "Wife_religion_2                0.5150      0.174      2.965      0.003       0.175       0.855\n",
       "Wife_Working_2                -0.1086      0.134     -0.808      0.419      -0.372       0.155\n",
       "Standard_of_living_index_2    -0.2320      0.141     -1.645      0.100      -0.508       0.044\n",
       "Standard_of_living_index_3    -0.4278      0.179     -2.391      0.017      -0.778      -0.077\n",
       "Standard_of_living_index_4    -0.8331      0.229     -3.637      0.000      -1.282      -0.384\n",
       "Media_exposure_2              -0.8244      0.245     -3.365      0.001      -1.305      -0.344\n",
       "==============================================================================================\n",
       "\"\"\""
      ]
     },
     "execution_count": 62,
     "metadata": {},
     "output_type": "execute_result"
    }
   ],
   "source": [
    "Logistic_2.summary()\n"
   ]
  },
  {
   "cell_type": "code",
   "execution_count": 63,
   "id": "e4d0588c",
   "metadata": {},
   "outputs": [
    {
     "name": "stdout",
     "output_type": "stream",
     "text": [
      "Wife_age  VIF =  1.62\n",
      "No_of_children_born  VIF =  1.53\n",
      "Husband_Occupation  VIF =  1.24\n",
      "Wife_education_2  VIF =  1.31\n",
      "Wife_education_3  VIF =  1.43\n",
      "Husband_education_2  VIF =  1.34\n",
      "Husband_education_3  VIF =  1.37\n",
      "Husband_education_4  VIF =  1.14\n",
      "Wife_religion_2  VIF =  1.11\n",
      "Wife_Working_2  VIF =  1.03\n",
      "Standard_of_living_index_2  VIF =  1.25\n",
      "Standard_of_living_index_3  VIF =  1.34\n",
      "Standard_of_living_index_4  VIF =  1.32\n",
      "Media_exposure_2  VIF =  1.18\n"
     ]
    }
   ],
   "source": [
    "vif_cal(input_data=data_dummy.drop(['Contraceptive_method_used','Wife_education_4'],axis=1))\n"
   ]
  },
  {
   "cell_type": "markdown",
   "id": "bdfaed30",
   "metadata": {},
   "source": [
    "#### All the variables have a VIF value less than 5, indicating that there is no multicollinearity between the independent variables. This #### is good, as multicollinearity can affect the reliability of the coefficients estimated in the logistic regression model.\n",
    "\n",
    "\n",
    "#### It's difficult to determine which variable should be dropped based solely on the Variance Inflation Factor (VIF) values. A \n",
    "#### general rule of thumb is that a VIF value above 10 indicates a high level of multicollinearity and that the variable with \n",
    "#### the highest VIF should be removed. However, this is just a rough guideline and the decision to drop a variable ultimately \n",
    "#### depends on the research question and the goals of the analysis.\n",
    "\n",
    "#### In the given case, all the variables have VIF values less than or equal to 1.43, which suggests that there is no strong \n",
    "#### evidence of multicollinearity. Therefore, it may not be necessary to drop any of the variables based on VIF values alone.\n",
    "\n",
    "#### It's important to consider other factors such as the theoretical importance of the variables, the magnitude and \n",
    "#### significance of their coefficients, and the effect of removing them on the overall model fit. In some cases, it may be \n",
    "#### appropriate to keep all the variables in the model even if there is some degree of multicollinearity, as long as the \n",
    "#### multicollinearity does not have a major impact on the results.\n"
   ]
  },
  {
   "cell_type": "markdown",
   "id": "db8ec5c7",
   "metadata": {},
   "source": [
    "### Model 3 - Drop the variable which has the highest p-value>0.05 (least significant variable) in the second iteration of the model. Build a third iteration of the model. Check the VIF values of the predictor variables. -  Husband_education_2\t"
   ]
  },
  {
   "cell_type": "code",
   "execution_count": 64,
   "id": "ed8af5dc",
   "metadata": {},
   "outputs": [],
   "source": [
    "formula_3='Contraceptive_method_used ~ Wife_age+No_of_children_born+Husband_Occupation+Wife_education_2+Wife_education_3+Husband_education_3+Husband_education_4+Wife_religion_2+Wife_Working_2+Standard_of_living_index_2+Standard_of_living_index_3+Standard_of_living_index_4+Media_exposure_2'"
   ]
  },
  {
   "cell_type": "code",
   "execution_count": 65,
   "id": "6a754441",
   "metadata": {},
   "outputs": [
    {
     "name": "stdout",
     "output_type": "stream",
     "text": [
      "Optimization terminated successfully.\n",
      "         Current function value: 0.621285\n",
      "         Iterations 5\n"
     ]
    }
   ],
   "source": [
    "Logistic_3 = sm.logit(formula=formula_3,data=data_dummy).fit()\n"
   ]
  },
  {
   "cell_type": "code",
   "execution_count": 66,
   "id": "d5720f5e",
   "metadata": {},
   "outputs": [
    {
     "data": {
      "text/html": [
       "<table class=\"simpletable\">\n",
       "<caption>Logit Regression Results</caption>\n",
       "<tr>\n",
       "  <th>Dep. Variable:</th>   <td>Contraceptive_method_used</td> <th>  No. Observations:  </th>  <td>  1388</td>  \n",
       "</tr>\n",
       "<tr>\n",
       "  <th>Model:</th>                     <td>Logit</td>           <th>  Df Residuals:      </th>  <td>  1374</td>  \n",
       "</tr>\n",
       "<tr>\n",
       "  <th>Method:</th>                     <td>MLE</td>            <th>  Df Model:          </th>  <td>    13</td>  \n",
       "</tr>\n",
       "<tr>\n",
       "  <th>Date:</th>                <td>Sun, 12 Feb 2023</td>      <th>  Pseudo R-squ.:     </th>  <td>0.09498</td> \n",
       "</tr>\n",
       "<tr>\n",
       "  <th>Time:</th>                    <td>14:50:04</td>          <th>  Log-Likelihood:    </th> <td> -862.34</td> \n",
       "</tr>\n",
       "<tr>\n",
       "  <th>converged:</th>                 <td>True</td>            <th>  LL-Null:           </th> <td> -952.85</td> \n",
       "</tr>\n",
       "<tr>\n",
       "  <th>Covariance Type:</th>         <td>nonrobust</td>         <th>  LLR p-value:       </th> <td>1.058e-31</td>\n",
       "</tr>\n",
       "</table>\n",
       "<table class=\"simpletable\">\n",
       "<tr>\n",
       "               <td></td>                 <th>coef</th>     <th>std err</th>      <th>z</th>      <th>P>|z|</th>  <th>[0.025</th>    <th>0.975]</th>  \n",
       "</tr>\n",
       "<tr>\n",
       "  <th>Intercept</th>                  <td>    2.3889</td> <td>    0.345</td> <td>    6.925</td> <td> 0.000</td> <td>    1.713</td> <td>    3.065</td>\n",
       "</tr>\n",
       "<tr>\n",
       "  <th>Wife_age</th>                   <td>   -0.0817</td> <td>    0.010</td> <td>   -8.461</td> <td> 0.000</td> <td>   -0.101</td> <td>   -0.063</td>\n",
       "</tr>\n",
       "<tr>\n",
       "  <th>No_of_children_born</th>        <td>    0.3057</td> <td>    0.033</td> <td>    9.150</td> <td> 0.000</td> <td>    0.240</td> <td>    0.371</td>\n",
       "</tr>\n",
       "<tr>\n",
       "  <th>Husband_Occupation</th>         <td>    0.0295</td> <td>    0.074</td> <td>    0.399</td> <td> 0.690</td> <td>   -0.115</td> <td>    0.175</td>\n",
       "</tr>\n",
       "<tr>\n",
       "  <th>Wife_education_2</th>           <td>   -0.3145</td> <td>    0.143</td> <td>   -2.195</td> <td> 0.028</td> <td>   -0.595</td> <td>   -0.034</td>\n",
       "</tr>\n",
       "<tr>\n",
       "  <th>Wife_education_3</th>           <td>   -0.6343</td> <td>    0.158</td> <td>   -4.010</td> <td> 0.000</td> <td>   -0.944</td> <td>   -0.324</td>\n",
       "</tr>\n",
       "<tr>\n",
       "  <th>Husband_education_3</th>        <td>   -0.3775</td> <td>    0.191</td> <td>   -1.976</td> <td> 0.048</td> <td>   -0.752</td> <td>   -0.003</td>\n",
       "</tr>\n",
       "<tr>\n",
       "  <th>Husband_education_4</th>        <td>   -0.8812</td> <td>    0.373</td> <td>   -2.359</td> <td> 0.018</td> <td>   -1.613</td> <td>   -0.149</td>\n",
       "</tr>\n",
       "<tr>\n",
       "  <th>Wife_religion_2</th>            <td>    0.5214</td> <td>    0.173</td> <td>    3.013</td> <td> 0.003</td> <td>    0.182</td> <td>    0.861</td>\n",
       "</tr>\n",
       "<tr>\n",
       "  <th>Wife_Working_2</th>             <td>   -0.1117</td> <td>    0.134</td> <td>   -0.833</td> <td> 0.405</td> <td>   -0.375</td> <td>    0.151</td>\n",
       "</tr>\n",
       "<tr>\n",
       "  <th>Standard_of_living_index_2</th> <td>   -0.2346</td> <td>    0.141</td> <td>   -1.664</td> <td> 0.096</td> <td>   -0.511</td> <td>    0.042</td>\n",
       "</tr>\n",
       "<tr>\n",
       "  <th>Standard_of_living_index_3</th> <td>   -0.4382</td> <td>    0.177</td> <td>   -2.470</td> <td> 0.014</td> <td>   -0.786</td> <td>   -0.090</td>\n",
       "</tr>\n",
       "<tr>\n",
       "  <th>Standard_of_living_index_4</th> <td>   -0.8440</td> <td>    0.228</td> <td>   -3.704</td> <td> 0.000</td> <td>   -1.291</td> <td>   -0.397</td>\n",
       "</tr>\n",
       "<tr>\n",
       "  <th>Media_exposure_2</th>           <td>   -0.8290</td> <td>    0.245</td> <td>   -3.388</td> <td> 0.001</td> <td>   -1.309</td> <td>   -0.349</td>\n",
       "</tr>\n",
       "</table>"
      ],
      "text/plain": [
       "<class 'statsmodels.iolib.summary.Summary'>\n",
       "\"\"\"\n",
       "                               Logit Regression Results                              \n",
       "=====================================================================================\n",
       "Dep. Variable:     Contraceptive_method_used   No. Observations:                 1388\n",
       "Model:                                 Logit   Df Residuals:                     1374\n",
       "Method:                                  MLE   Df Model:                           13\n",
       "Date:                       Sun, 12 Feb 2023   Pseudo R-squ.:                 0.09498\n",
       "Time:                               14:50:04   Log-Likelihood:                -862.34\n",
       "converged:                              True   LL-Null:                       -952.85\n",
       "Covariance Type:                   nonrobust   LLR p-value:                 1.058e-31\n",
       "==============================================================================================\n",
       "                                 coef    std err          z      P>|z|      [0.025      0.975]\n",
       "----------------------------------------------------------------------------------------------\n",
       "Intercept                      2.3889      0.345      6.925      0.000       1.713       3.065\n",
       "Wife_age                      -0.0817      0.010     -8.461      0.000      -0.101      -0.063\n",
       "No_of_children_born            0.3057      0.033      9.150      0.000       0.240       0.371\n",
       "Husband_Occupation             0.0295      0.074      0.399      0.690      -0.115       0.175\n",
       "Wife_education_2              -0.3145      0.143     -2.195      0.028      -0.595      -0.034\n",
       "Wife_education_3              -0.6343      0.158     -4.010      0.000      -0.944      -0.324\n",
       "Husband_education_3           -0.3775      0.191     -1.976      0.048      -0.752      -0.003\n",
       "Husband_education_4           -0.8812      0.373     -2.359      0.018      -1.613      -0.149\n",
       "Wife_religion_2                0.5214      0.173      3.013      0.003       0.182       0.861\n",
       "Wife_Working_2                -0.1117      0.134     -0.833      0.405      -0.375       0.151\n",
       "Standard_of_living_index_2    -0.2346      0.141     -1.664      0.096      -0.511       0.042\n",
       "Standard_of_living_index_3    -0.4382      0.177     -2.470      0.014      -0.786      -0.090\n",
       "Standard_of_living_index_4    -0.8440      0.228     -3.704      0.000      -1.291      -0.397\n",
       "Media_exposure_2              -0.8290      0.245     -3.388      0.001      -1.309      -0.349\n",
       "==============================================================================================\n",
       "\"\"\""
      ]
     },
     "execution_count": 66,
     "metadata": {},
     "output_type": "execute_result"
    }
   ],
   "source": [
    "Logistic_3.summary()\n"
   ]
  },
  {
   "cell_type": "code",
   "execution_count": 67,
   "id": "cd803460",
   "metadata": {},
   "outputs": [
    {
     "name": "stdout",
     "output_type": "stream",
     "text": [
      "Wife_age  VIF =  1.62\n",
      "No_of_children_born  VIF =  1.52\n",
      "Husband_Occupation  VIF =  1.2\n",
      "Wife_education_2  VIF =  1.26\n",
      "Wife_education_3  VIF =  1.34\n",
      "Husband_education_3  VIF =  1.19\n",
      "Husband_education_4  VIF =  1.09\n",
      "Wife_religion_2  VIF =  1.1\n",
      "Wife_Working_2  VIF =  1.03\n",
      "Standard_of_living_index_2  VIF =  1.25\n",
      "Standard_of_living_index_3  VIF =  1.32\n",
      "Standard_of_living_index_4  VIF =  1.3\n",
      "Media_exposure_2  VIF =  1.18\n"
     ]
    }
   ],
   "source": [
    "vif_cal(input_data=data_dummy.drop(['Contraceptive_method_used','Wife_education_4','Husband_education_2'],axis=1))\n"
   ]
  },
  {
   "cell_type": "markdown",
   "id": "7c4b976e",
   "metadata": {},
   "source": [
    "### Model 4 - Drop a relevant variable which has a low VIF value and a (p-value<=0.05) in the third iteration of the model. Build a fourth iteration of the model. - 1 point   Husband_Occupation"
   ]
  },
  {
   "cell_type": "code",
   "execution_count": 68,
   "id": "3516b253",
   "metadata": {},
   "outputs": [],
   "source": [
    "formula_4='Contraceptive_method_used ~ Wife_age+No_of_children_born+Wife_education_2+Wife_education_3+Husband_education_3+Husband_education_4+Wife_religion_2+Wife_Working_2+Standard_of_living_index_2+Standard_of_living_index_3+Standard_of_living_index_4+Media_exposure_2'"
   ]
  },
  {
   "cell_type": "code",
   "execution_count": 69,
   "id": "873a1f65",
   "metadata": {},
   "outputs": [
    {
     "name": "stdout",
     "output_type": "stream",
     "text": [
      "Optimization terminated successfully.\n",
      "         Current function value: 0.621342\n",
      "         Iterations 5\n"
     ]
    }
   ],
   "source": [
    "Logistic_4 = sm.logit(formula=formula_4,data=data_dummy).fit()\n"
   ]
  },
  {
   "cell_type": "code",
   "execution_count": 70,
   "id": "1e51033b",
   "metadata": {},
   "outputs": [
    {
     "data": {
      "text/html": [
       "<table class=\"simpletable\">\n",
       "<caption>Logit Regression Results</caption>\n",
       "<tr>\n",
       "  <th>Dep. Variable:</th>   <td>Contraceptive_method_used</td> <th>  No. Observations:  </th>  <td>  1388</td>  \n",
       "</tr>\n",
       "<tr>\n",
       "  <th>Model:</th>                     <td>Logit</td>           <th>  Df Residuals:      </th>  <td>  1375</td>  \n",
       "</tr>\n",
       "<tr>\n",
       "  <th>Method:</th>                     <td>MLE</td>            <th>  Df Model:          </th>  <td>    12</td>  \n",
       "</tr>\n",
       "<tr>\n",
       "  <th>Date:</th>                <td>Sun, 12 Feb 2023</td>      <th>  Pseudo R-squ.:     </th>  <td>0.09490</td> \n",
       "</tr>\n",
       "<tr>\n",
       "  <th>Time:</th>                    <td>14:50:07</td>          <th>  Log-Likelihood:    </th> <td> -862.42</td> \n",
       "</tr>\n",
       "<tr>\n",
       "  <th>converged:</th>                 <td>True</td>            <th>  LL-Null:           </th> <td> -952.85</td> \n",
       "</tr>\n",
       "<tr>\n",
       "  <th>Covariance Type:</th>         <td>nonrobust</td>         <th>  LLR p-value:       </th> <td>2.861e-32</td>\n",
       "</tr>\n",
       "</table>\n",
       "<table class=\"simpletable\">\n",
       "<tr>\n",
       "               <td></td>                 <th>coef</th>     <th>std err</th>      <th>z</th>      <th>P>|z|</th>  <th>[0.025</th>    <th>0.975]</th>  \n",
       "</tr>\n",
       "<tr>\n",
       "  <th>Intercept</th>                  <td>    2.4565</td> <td>    0.301</td> <td>    8.161</td> <td> 0.000</td> <td>    1.866</td> <td>    3.046</td>\n",
       "</tr>\n",
       "<tr>\n",
       "  <th>Wife_age</th>                   <td>   -0.0822</td> <td>    0.010</td> <td>   -8.580</td> <td> 0.000</td> <td>   -0.101</td> <td>   -0.063</td>\n",
       "</tr>\n",
       "<tr>\n",
       "  <th>No_of_children_born</th>        <td>    0.3059</td> <td>    0.033</td> <td>    9.157</td> <td> 0.000</td> <td>    0.240</td> <td>    0.371</td>\n",
       "</tr>\n",
       "<tr>\n",
       "  <th>Wife_education_2</th>           <td>   -0.3054</td> <td>    0.141</td> <td>   -2.160</td> <td> 0.031</td> <td>   -0.583</td> <td>   -0.028</td>\n",
       "</tr>\n",
       "<tr>\n",
       "  <th>Wife_education_3</th>           <td>   -0.6215</td> <td>    0.155</td> <td>   -4.015</td> <td> 0.000</td> <td>   -0.925</td> <td>   -0.318</td>\n",
       "</tr>\n",
       "<tr>\n",
       "  <th>Husband_education_3</th>        <td>   -0.3683</td> <td>    0.190</td> <td>   -1.942</td> <td> 0.052</td> <td>   -0.740</td> <td>    0.003</td>\n",
       "</tr>\n",
       "<tr>\n",
       "  <th>Husband_education_4</th>        <td>   -0.8670</td> <td>    0.372</td> <td>   -2.333</td> <td> 0.020</td> <td>   -1.595</td> <td>   -0.139</td>\n",
       "</tr>\n",
       "<tr>\n",
       "  <th>Wife_religion_2</th>            <td>    0.5232</td> <td>    0.173</td> <td>    3.023</td> <td> 0.003</td> <td>    0.184</td> <td>    0.862</td>\n",
       "</tr>\n",
       "<tr>\n",
       "  <th>Wife_Working_2</th>             <td>   -0.1109</td> <td>    0.134</td> <td>   -0.827</td> <td> 0.408</td> <td>   -0.374</td> <td>    0.152</td>\n",
       "</tr>\n",
       "<tr>\n",
       "  <th>Standard_of_living_index_2</th> <td>   -0.2292</td> <td>    0.140</td> <td>   -1.634</td> <td> 0.102</td> <td>   -0.504</td> <td>    0.046</td>\n",
       "</tr>\n",
       "<tr>\n",
       "  <th>Standard_of_living_index_3</th> <td>   -0.4301</td> <td>    0.176</td> <td>   -2.441</td> <td> 0.015</td> <td>   -0.775</td> <td>   -0.085</td>\n",
       "</tr>\n",
       "<tr>\n",
       "  <th>Standard_of_living_index_4</th> <td>   -0.8334</td> <td>    0.226</td> <td>   -3.683</td> <td> 0.000</td> <td>   -1.277</td> <td>   -0.390</td>\n",
       "</tr>\n",
       "<tr>\n",
       "  <th>Media_exposure_2</th>           <td>   -0.8236</td> <td>    0.244</td> <td>   -3.370</td> <td> 0.001</td> <td>   -1.303</td> <td>   -0.345</td>\n",
       "</tr>\n",
       "</table>"
      ],
      "text/plain": [
       "<class 'statsmodels.iolib.summary.Summary'>\n",
       "\"\"\"\n",
       "                               Logit Regression Results                              \n",
       "=====================================================================================\n",
       "Dep. Variable:     Contraceptive_method_used   No. Observations:                 1388\n",
       "Model:                                 Logit   Df Residuals:                     1375\n",
       "Method:                                  MLE   Df Model:                           12\n",
       "Date:                       Sun, 12 Feb 2023   Pseudo R-squ.:                 0.09490\n",
       "Time:                               14:50:07   Log-Likelihood:                -862.42\n",
       "converged:                              True   LL-Null:                       -952.85\n",
       "Covariance Type:                   nonrobust   LLR p-value:                 2.861e-32\n",
       "==============================================================================================\n",
       "                                 coef    std err          z      P>|z|      [0.025      0.975]\n",
       "----------------------------------------------------------------------------------------------\n",
       "Intercept                      2.4565      0.301      8.161      0.000       1.866       3.046\n",
       "Wife_age                      -0.0822      0.010     -8.580      0.000      -0.101      -0.063\n",
       "No_of_children_born            0.3059      0.033      9.157      0.000       0.240       0.371\n",
       "Wife_education_2              -0.3054      0.141     -2.160      0.031      -0.583      -0.028\n",
       "Wife_education_3              -0.6215      0.155     -4.015      0.000      -0.925      -0.318\n",
       "Husband_education_3           -0.3683      0.190     -1.942      0.052      -0.740       0.003\n",
       "Husband_education_4           -0.8670      0.372     -2.333      0.020      -1.595      -0.139\n",
       "Wife_religion_2                0.5232      0.173      3.023      0.003       0.184       0.862\n",
       "Wife_Working_2                -0.1109      0.134     -0.827      0.408      -0.374       0.152\n",
       "Standard_of_living_index_2    -0.2292      0.140     -1.634      0.102      -0.504       0.046\n",
       "Standard_of_living_index_3    -0.4301      0.176     -2.441      0.015      -0.775      -0.085\n",
       "Standard_of_living_index_4    -0.8334      0.226     -3.683      0.000      -1.277      -0.390\n",
       "Media_exposure_2              -0.8236      0.244     -3.370      0.001      -1.303      -0.345\n",
       "==============================================================================================\n",
       "\"\"\""
      ]
     },
     "execution_count": 70,
     "metadata": {},
     "output_type": "execute_result"
    }
   ],
   "source": [
    "Logistic_4.summary()\n"
   ]
  },
  {
   "cell_type": "code",
   "execution_count": 71,
   "id": "439567e8",
   "metadata": {},
   "outputs": [
    {
     "name": "stdout",
     "output_type": "stream",
     "text": [
      "Wife_age  VIF =  1.59\n",
      "No_of_children_born  VIF =  1.52\n",
      "Wife_education_2  VIF =  1.23\n",
      "Wife_education_3  VIF =  1.29\n",
      "Husband_education_3  VIF =  1.18\n",
      "Husband_education_4  VIF =  1.08\n",
      "Wife_religion_2  VIF =  1.1\n",
      "Wife_Working_2  VIF =  1.03\n",
      "Standard_of_living_index_2  VIF =  1.24\n",
      "Standard_of_living_index_3  VIF =  1.3\n",
      "Standard_of_living_index_4  VIF =  1.29\n",
      "Media_exposure_2  VIF =  1.18\n"
     ]
    }
   ],
   "source": [
    "vif_cal(input_data=data_dummy.drop(['Contraceptive_method_used','Wife_education_4','Husband_education_2','Husband_Occupation'],axis=1))\n"
   ]
  },
  {
   "cell_type": "markdown",
   "id": "ecb656a8",
   "metadata": {},
   "source": [
    "### Model 5 - Drop a relevant variable which has a low VIF value and a (p-value<=0.05) in the third iteration of the model(say \"working_hours_per_week\"). Build a fourth iteration of the model. - 1 point   Wife_Working_2\t\n"
   ]
  },
  {
   "cell_type": "code",
   "execution_count": 72,
   "id": "0d5c1460",
   "metadata": {},
   "outputs": [],
   "source": [
    "formula_5='Contraceptive_method_used ~ Wife_age+No_of_children_born+Wife_education_2+Wife_education_3+Husband_education_3+Husband_education_4+Wife_religion_2+Standard_of_living_index_2+Standard_of_living_index_3+Standard_of_living_index_4+Media_exposure_2'"
   ]
  },
  {
   "cell_type": "code",
   "execution_count": 73,
   "id": "6fd6bc3b",
   "metadata": {},
   "outputs": [
    {
     "name": "stdout",
     "output_type": "stream",
     "text": [
      "Optimization terminated successfully.\n",
      "         Current function value: 0.621588\n",
      "         Iterations 5\n"
     ]
    }
   ],
   "source": [
    "Logistic_5 = sm.logit(formula=formula_5,data=data_dummy).fit()\n"
   ]
  },
  {
   "cell_type": "code",
   "execution_count": 74,
   "id": "fe51a382",
   "metadata": {},
   "outputs": [
    {
     "data": {
      "text/html": [
       "<table class=\"simpletable\">\n",
       "<caption>Logit Regression Results</caption>\n",
       "<tr>\n",
       "  <th>Dep. Variable:</th>   <td>Contraceptive_method_used</td> <th>  No. Observations:  </th>  <td>  1388</td>  \n",
       "</tr>\n",
       "<tr>\n",
       "  <th>Model:</th>                     <td>Logit</td>           <th>  Df Residuals:      </th>  <td>  1376</td>  \n",
       "</tr>\n",
       "<tr>\n",
       "  <th>Method:</th>                     <td>MLE</td>            <th>  Df Model:          </th>  <td>    11</td>  \n",
       "</tr>\n",
       "<tr>\n",
       "  <th>Date:</th>                <td>Sun, 12 Feb 2023</td>      <th>  Pseudo R-squ.:     </th>  <td>0.09454</td> \n",
       "</tr>\n",
       "<tr>\n",
       "  <th>Time:</th>                    <td>14:50:09</td>          <th>  Log-Likelihood:    </th> <td> -862.76</td> \n",
       "</tr>\n",
       "<tr>\n",
       "  <th>converged:</th>                 <td>True</td>            <th>  LL-Null:           </th> <td> -952.85</td> \n",
       "</tr>\n",
       "<tr>\n",
       "  <th>Covariance Type:</th>         <td>nonrobust</td>         <th>  LLR p-value:       </th> <td>9.490e-33</td>\n",
       "</tr>\n",
       "</table>\n",
       "<table class=\"simpletable\">\n",
       "<tr>\n",
       "               <td></td>                 <th>coef</th>     <th>std err</th>      <th>z</th>      <th>P>|z|</th>  <th>[0.025</th>    <th>0.975]</th>  \n",
       "</tr>\n",
       "<tr>\n",
       "  <th>Intercept</th>                  <td>    2.4304</td> <td>    0.299</td> <td>    8.127</td> <td> 0.000</td> <td>    1.844</td> <td>    3.016</td>\n",
       "</tr>\n",
       "<tr>\n",
       "  <th>Wife_age</th>                   <td>   -0.0828</td> <td>    0.010</td> <td>   -8.649</td> <td> 0.000</td> <td>   -0.102</td> <td>   -0.064</td>\n",
       "</tr>\n",
       "<tr>\n",
       "  <th>No_of_children_born</th>        <td>    0.3091</td> <td>    0.033</td> <td>    9.309</td> <td> 0.000</td> <td>    0.244</td> <td>    0.374</td>\n",
       "</tr>\n",
       "<tr>\n",
       "  <th>Wife_education_2</th>           <td>   -0.3024</td> <td>    0.141</td> <td>   -2.139</td> <td> 0.032</td> <td>   -0.579</td> <td>   -0.025</td>\n",
       "</tr>\n",
       "<tr>\n",
       "  <th>Wife_education_3</th>           <td>   -0.6190</td> <td>    0.155</td> <td>   -4.002</td> <td> 0.000</td> <td>   -0.922</td> <td>   -0.316</td>\n",
       "</tr>\n",
       "<tr>\n",
       "  <th>Husband_education_3</th>        <td>   -0.3700</td> <td>    0.190</td> <td>   -1.951</td> <td> 0.051</td> <td>   -0.742</td> <td>    0.002</td>\n",
       "</tr>\n",
       "<tr>\n",
       "  <th>Husband_education_4</th>        <td>   -0.8743</td> <td>    0.371</td> <td>   -2.356</td> <td> 0.018</td> <td>   -1.602</td> <td>   -0.147</td>\n",
       "</tr>\n",
       "<tr>\n",
       "  <th>Wife_religion_2</th>            <td>    0.5220</td> <td>    0.173</td> <td>    3.016</td> <td> 0.003</td> <td>    0.183</td> <td>    0.861</td>\n",
       "</tr>\n",
       "<tr>\n",
       "  <th>Standard_of_living_index_2</th> <td>   -0.2236</td> <td>    0.140</td> <td>   -1.597</td> <td> 0.110</td> <td>   -0.498</td> <td>    0.051</td>\n",
       "</tr>\n",
       "<tr>\n",
       "  <th>Standard_of_living_index_3</th> <td>   -0.4272</td> <td>    0.176</td> <td>   -2.425</td> <td> 0.015</td> <td>   -0.772</td> <td>   -0.082</td>\n",
       "</tr>\n",
       "<tr>\n",
       "  <th>Standard_of_living_index_4</th> <td>   -0.8197</td> <td>    0.226</td> <td>   -3.633</td> <td> 0.000</td> <td>   -1.262</td> <td>   -0.377</td>\n",
       "</tr>\n",
       "<tr>\n",
       "  <th>Media_exposure_2</th>           <td>   -0.8279</td> <td>    0.244</td> <td>   -3.387</td> <td> 0.001</td> <td>   -1.307</td> <td>   -0.349</td>\n",
       "</tr>\n",
       "</table>"
      ],
      "text/plain": [
       "<class 'statsmodels.iolib.summary.Summary'>\n",
       "\"\"\"\n",
       "                               Logit Regression Results                              \n",
       "=====================================================================================\n",
       "Dep. Variable:     Contraceptive_method_used   No. Observations:                 1388\n",
       "Model:                                 Logit   Df Residuals:                     1376\n",
       "Method:                                  MLE   Df Model:                           11\n",
       "Date:                       Sun, 12 Feb 2023   Pseudo R-squ.:                 0.09454\n",
       "Time:                               14:50:09   Log-Likelihood:                -862.76\n",
       "converged:                              True   LL-Null:                       -952.85\n",
       "Covariance Type:                   nonrobust   LLR p-value:                 9.490e-33\n",
       "==============================================================================================\n",
       "                                 coef    std err          z      P>|z|      [0.025      0.975]\n",
       "----------------------------------------------------------------------------------------------\n",
       "Intercept                      2.4304      0.299      8.127      0.000       1.844       3.016\n",
       "Wife_age                      -0.0828      0.010     -8.649      0.000      -0.102      -0.064\n",
       "No_of_children_born            0.3091      0.033      9.309      0.000       0.244       0.374\n",
       "Wife_education_2              -0.3024      0.141     -2.139      0.032      -0.579      -0.025\n",
       "Wife_education_3              -0.6190      0.155     -4.002      0.000      -0.922      -0.316\n",
       "Husband_education_3           -0.3700      0.190     -1.951      0.051      -0.742       0.002\n",
       "Husband_education_4           -0.8743      0.371     -2.356      0.018      -1.602      -0.147\n",
       "Wife_religion_2                0.5220      0.173      3.016      0.003       0.183       0.861\n",
       "Standard_of_living_index_2    -0.2236      0.140     -1.597      0.110      -0.498       0.051\n",
       "Standard_of_living_index_3    -0.4272      0.176     -2.425      0.015      -0.772      -0.082\n",
       "Standard_of_living_index_4    -0.8197      0.226     -3.633      0.000      -1.262      -0.377\n",
       "Media_exposure_2              -0.8279      0.244     -3.387      0.001      -1.307      -0.349\n",
       "==============================================================================================\n",
       "\"\"\""
      ]
     },
     "execution_count": 74,
     "metadata": {},
     "output_type": "execute_result"
    }
   ],
   "source": [
    "Logistic_5.summary()\n"
   ]
  },
  {
   "cell_type": "code",
   "execution_count": 75,
   "id": "bc8fa510",
   "metadata": {},
   "outputs": [
    {
     "name": "stdout",
     "output_type": "stream",
     "text": [
      "Wife_age  VIF =  1.58\n",
      "No_of_children_born  VIF =  1.49\n",
      "Wife_education_2  VIF =  1.23\n",
      "Wife_education_3  VIF =  1.29\n",
      "Husband_education_3  VIF =  1.18\n",
      "Husband_education_4  VIF =  1.08\n",
      "Wife_religion_2  VIF =  1.1\n",
      "Standard_of_living_index_2  VIF =  1.24\n",
      "Standard_of_living_index_3  VIF =  1.3\n",
      "Standard_of_living_index_4  VIF =  1.28\n",
      "Media_exposure_2  VIF =  1.17\n"
     ]
    }
   ],
   "source": [
    "vif_cal(input_data=data_dummy.drop(['Contraceptive_method_used','Wife_education_4','Husband_education_2','Husband_Occupation','Wife_Working_2'],axis=1))\n"
   ]
  },
  {
   "cell_type": "markdown",
   "id": "69bc3738",
   "metadata": {},
   "source": [
    "### Model 6 - Drop a relevant variable which has a low VIF value and a (p-value<=0.05) in the third iteration of the model. Build a fourth iteration of the model. - 1 point   Standard_of_living_index_2\n"
   ]
  },
  {
   "cell_type": "code",
   "execution_count": 76,
   "id": "8a16236e",
   "metadata": {},
   "outputs": [],
   "source": [
    "formula_6='Contraceptive_method_used ~ Wife_age+No_of_children_born+Wife_education_2+Wife_education_3+Husband_education_3+Husband_education_4+Wife_religion_2+Standard_of_living_index_3+Standard_of_living_index_4+Media_exposure_2'"
   ]
  },
  {
   "cell_type": "code",
   "execution_count": 77,
   "id": "d9c45d2c",
   "metadata": {},
   "outputs": [
    {
     "name": "stdout",
     "output_type": "stream",
     "text": [
      "Optimization terminated successfully.\n",
      "         Current function value: 0.622507\n",
      "         Iterations 5\n"
     ]
    }
   ],
   "source": [
    "Logistic_6 = sm.logit(formula=formula_6,data=data_dummy).fit()\n"
   ]
  },
  {
   "cell_type": "code",
   "execution_count": 78,
   "id": "1bdfff89",
   "metadata": {},
   "outputs": [
    {
     "data": {
      "text/html": [
       "<table class=\"simpletable\">\n",
       "<caption>Logit Regression Results</caption>\n",
       "<tr>\n",
       "  <th>Dep. Variable:</th>   <td>Contraceptive_method_used</td> <th>  No. Observations:  </th>  <td>  1388</td>  \n",
       "</tr>\n",
       "<tr>\n",
       "  <th>Model:</th>                     <td>Logit</td>           <th>  Df Residuals:      </th>  <td>  1377</td>  \n",
       "</tr>\n",
       "<tr>\n",
       "  <th>Method:</th>                     <td>MLE</td>            <th>  Df Model:          </th>  <td>    10</td>  \n",
       "</tr>\n",
       "<tr>\n",
       "  <th>Date:</th>                <td>Sun, 12 Feb 2023</td>      <th>  Pseudo R-squ.:     </th>  <td>0.09320</td> \n",
       "</tr>\n",
       "<tr>\n",
       "  <th>Time:</th>                    <td>14:50:10</td>          <th>  Log-Likelihood:    </th> <td> -864.04</td> \n",
       "</tr>\n",
       "<tr>\n",
       "  <th>converged:</th>                 <td>True</td>            <th>  LL-Null:           </th> <td> -952.85</td> \n",
       "</tr>\n",
       "<tr>\n",
       "  <th>Covariance Type:</th>         <td>nonrobust</td>         <th>  LLR p-value:       </th> <td>7.335e-33</td>\n",
       "</tr>\n",
       "</table>\n",
       "<table class=\"simpletable\">\n",
       "<tr>\n",
       "               <td></td>                 <th>coef</th>     <th>std err</th>      <th>z</th>      <th>P>|z|</th>  <th>[0.025</th>    <th>0.975]</th>  \n",
       "</tr>\n",
       "<tr>\n",
       "  <th>Intercept</th>                  <td>    2.2957</td> <td>    0.285</td> <td>    8.044</td> <td> 0.000</td> <td>    1.736</td> <td>    2.855</td>\n",
       "</tr>\n",
       "<tr>\n",
       "  <th>Wife_age</th>                   <td>   -0.0810</td> <td>    0.009</td> <td>   -8.561</td> <td> 0.000</td> <td>   -0.100</td> <td>   -0.062</td>\n",
       "</tr>\n",
       "<tr>\n",
       "  <th>No_of_children_born</th>        <td>    0.3062</td> <td>    0.033</td> <td>    9.260</td> <td> 0.000</td> <td>    0.241</td> <td>    0.371</td>\n",
       "</tr>\n",
       "<tr>\n",
       "  <th>Wife_education_2</th>           <td>   -0.3232</td> <td>    0.141</td> <td>   -2.298</td> <td> 0.022</td> <td>   -0.599</td> <td>   -0.047</td>\n",
       "</tr>\n",
       "<tr>\n",
       "  <th>Wife_education_3</th>           <td>   -0.6350</td> <td>    0.154</td> <td>   -4.117</td> <td> 0.000</td> <td>   -0.937</td> <td>   -0.333</td>\n",
       "</tr>\n",
       "<tr>\n",
       "  <th>Husband_education_3</th>        <td>   -0.3789</td> <td>    0.189</td> <td>   -1.999</td> <td> 0.046</td> <td>   -0.750</td> <td>   -0.007</td>\n",
       "</tr>\n",
       "<tr>\n",
       "  <th>Husband_education_4</th>        <td>   -0.8969</td> <td>    0.371</td> <td>   -2.416</td> <td> 0.016</td> <td>   -1.624</td> <td>   -0.169</td>\n",
       "</tr>\n",
       "<tr>\n",
       "  <th>Wife_religion_2</th>            <td>    0.5510</td> <td>    0.172</td> <td>    3.205</td> <td> 0.001</td> <td>    0.214</td> <td>    0.888</td>\n",
       "</tr>\n",
       "<tr>\n",
       "  <th>Standard_of_living_index_3</th> <td>   -0.3216</td> <td>    0.163</td> <td>   -1.973</td> <td> 0.048</td> <td>   -0.641</td> <td>   -0.002</td>\n",
       "</tr>\n",
       "<tr>\n",
       "  <th>Standard_of_living_index_4</th> <td>   -0.7078</td> <td>    0.214</td> <td>   -3.304</td> <td> 0.001</td> <td>   -1.128</td> <td>   -0.288</td>\n",
       "</tr>\n",
       "<tr>\n",
       "  <th>Media_exposure_2</th>           <td>   -0.8430</td> <td>    0.244</td> <td>   -3.452</td> <td> 0.001</td> <td>   -1.322</td> <td>   -0.364</td>\n",
       "</tr>\n",
       "</table>"
      ],
      "text/plain": [
       "<class 'statsmodels.iolib.summary.Summary'>\n",
       "\"\"\"\n",
       "                               Logit Regression Results                              \n",
       "=====================================================================================\n",
       "Dep. Variable:     Contraceptive_method_used   No. Observations:                 1388\n",
       "Model:                                 Logit   Df Residuals:                     1377\n",
       "Method:                                  MLE   Df Model:                           10\n",
       "Date:                       Sun, 12 Feb 2023   Pseudo R-squ.:                 0.09320\n",
       "Time:                               14:50:10   Log-Likelihood:                -864.04\n",
       "converged:                              True   LL-Null:                       -952.85\n",
       "Covariance Type:                   nonrobust   LLR p-value:                 7.335e-33\n",
       "==============================================================================================\n",
       "                                 coef    std err          z      P>|z|      [0.025      0.975]\n",
       "----------------------------------------------------------------------------------------------\n",
       "Intercept                      2.2957      0.285      8.044      0.000       1.736       2.855\n",
       "Wife_age                      -0.0810      0.009     -8.561      0.000      -0.100      -0.062\n",
       "No_of_children_born            0.3062      0.033      9.260      0.000       0.241       0.371\n",
       "Wife_education_2              -0.3232      0.141     -2.298      0.022      -0.599      -0.047\n",
       "Wife_education_3              -0.6350      0.154     -4.117      0.000      -0.937      -0.333\n",
       "Husband_education_3           -0.3789      0.189     -1.999      0.046      -0.750      -0.007\n",
       "Husband_education_4           -0.8969      0.371     -2.416      0.016      -1.624      -0.169\n",
       "Wife_religion_2                0.5510      0.172      3.205      0.001       0.214       0.888\n",
       "Standard_of_living_index_3    -0.3216      0.163     -1.973      0.048      -0.641      -0.002\n",
       "Standard_of_living_index_4    -0.7078      0.214     -3.304      0.001      -1.128      -0.288\n",
       "Media_exposure_2              -0.8430      0.244     -3.452      0.001      -1.322      -0.364\n",
       "==============================================================================================\n",
       "\"\"\""
      ]
     },
     "execution_count": 78,
     "metadata": {},
     "output_type": "execute_result"
    }
   ],
   "source": [
    "Logistic_6.summary()\n"
   ]
  },
  {
   "cell_type": "code",
   "execution_count": 79,
   "id": "9eaa0c61",
   "metadata": {},
   "outputs": [
    {
     "name": "stdout",
     "output_type": "stream",
     "text": [
      "Wife_age  VIF =  1.56\n",
      "No_of_children_born  VIF =  1.49\n",
      "Wife_education_2  VIF =  1.22\n",
      "Wife_education_3  VIF =  1.29\n",
      "Husband_education_3  VIF =  1.18\n",
      "Husband_education_4  VIF =  1.08\n",
      "Wife_religion_2  VIF =  1.08\n",
      "Standard_of_living_index_3  VIF =  1.12\n",
      "Standard_of_living_index_4  VIF =  1.16\n",
      "Media_exposure_2  VIF =  1.17\n"
     ]
    }
   ],
   "source": [
    "vif_cal(input_data=data_dummy.drop(['Contraceptive_method_used','Wife_education_4','Husband_education_2','Husband_Occupation','Wife_Working_2','Standard_of_living_index_2'],axis=1))\n"
   ]
  },
  {
   "cell_type": "markdown",
   "id": "9442f823",
   "metadata": {},
   "source": [
    "### Q5. Split the data into training (70%) and test (30%) in such a way that the uniformity in the training as well as test is maintained every time the code is run. Check the whether the proportion of the different classes within the target variable is same across train and test. - 0.5 point"
   ]
  },
  {
   "cell_type": "code",
   "execution_count": 80,
   "id": "4b526a96",
   "metadata": {},
   "outputs": [],
   "source": [
    "from sklearn.model_selection import train_test_split\n"
   ]
  },
  {
   "cell_type": "code",
   "execution_count": 81,
   "id": "4dbb2f30",
   "metadata": {},
   "outputs": [],
   "source": [
    "Train,Test = train_test_split(data_dummy,test_size=0.3,random_state=1,stratify=data_dummy['Contraceptive_method_used'])\n"
   ]
  },
  {
   "cell_type": "code",
   "execution_count": 82,
   "id": "23ec3835",
   "metadata": {},
   "outputs": [
    {
     "data": {
      "text/plain": [
       "(971, 16)"
      ]
     },
     "execution_count": 82,
     "metadata": {},
     "output_type": "execute_result"
    }
   ],
   "source": [
    "Train.shape\n"
   ]
  },
  {
   "cell_type": "code",
   "execution_count": 83,
   "id": "19385f4b",
   "metadata": {},
   "outputs": [
    {
     "data": {
      "text/plain": [
       "(417, 16)"
      ]
     },
     "execution_count": 83,
     "metadata": {},
     "output_type": "execute_result"
    }
   ],
   "source": [
    "Test.shape\n"
   ]
  },
  {
   "cell_type": "code",
   "execution_count": 84,
   "id": "630b6d0a",
   "metadata": {},
   "outputs": [
    {
     "data": {
      "text/plain": [
       "1    0.557158\n",
       "0    0.442842\n",
       "Name: Contraceptive_method_used, dtype: float64"
      ]
     },
     "execution_count": 84,
     "metadata": {},
     "output_type": "execute_result"
    }
   ],
   "source": [
    "Train['Contraceptive_method_used'].value_counts(1)\n"
   ]
  },
  {
   "cell_type": "code",
   "execution_count": 85,
   "id": "66573fcd",
   "metadata": {},
   "outputs": [
    {
     "data": {
      "text/plain": [
       "1    0.558753\n",
       "0    0.441247\n",
       "Name: Contraceptive_method_used, dtype: float64"
      ]
     },
     "execution_count": 85,
     "metadata": {},
     "output_type": "execute_result"
    }
   ],
   "source": [
    "Test['Contraceptive_method_used'].value_counts(1)\n"
   ]
  },
  {
   "cell_type": "markdown",
   "id": "89d433d8",
   "metadata": {},
   "source": [
    "#### 2.3 Performance Metrics: Check the performance of Predictions on Train and Test sets using Accuracy, Confusion Matrix, Plot ROC curve and get ROC_AUC score for each model Final Model: Compare Both the models and write inference which model is best/optimized.\n"
   ]
  },
  {
   "cell_type": "markdown",
   "id": "1f740e70",
   "metadata": {},
   "source": [
    "### Build the models 1,2,3,4,5 and 6 on the training data, check the accuracy score of each of the models on the training data and use those models to predict the classes and the corresponding probabilities on the test data. \n"
   ]
  },
  {
   "cell_type": "code",
   "execution_count": 86,
   "id": "271b18a2",
   "metadata": {},
   "outputs": [],
   "source": [
    "from sklearn.linear_model import LogisticRegression\n"
   ]
  },
  {
   "cell_type": "code",
   "execution_count": 87,
   "id": "ca6db379",
   "metadata": {},
   "outputs": [],
   "source": [
    "LR = LogisticRegression(solver='newton-cg',penalty='none')\n"
   ]
  },
  {
   "cell_type": "markdown",
   "id": "41458629",
   "metadata": {},
   "source": [
    "#### Model 1 - Building the model on the Training Data and checking the Accuracy score on the training data."
   ]
  },
  {
   "cell_type": "code",
   "execution_count": 88,
   "id": "b1926222",
   "metadata": {},
   "outputs": [],
   "source": [
    "model_1 = LR.fit(Train[['Wife_age', 'No_of_children_born', 'Husband_Occupation',\n",
    "       'Wife_education_2', 'Wife_education_3',\n",
    "       'Wife_education_4', 'Husband_education_2', 'Husband_education_3',\n",
    "       'Husband_education_4', 'Wife_religion_2', 'Wife_Working_2',\n",
    "       'Standard_of_living_index_2', 'Standard_of_living_index_3',\n",
    "       'Standard_of_living_index_4', 'Media_exposure_2']],Train['Contraceptive_method_used'])\n"
   ]
  },
  {
   "cell_type": "code",
   "execution_count": 89,
   "id": "6fa8e3cd",
   "metadata": {},
   "outputs": [
    {
     "name": "stdout",
     "output_type": "stream",
     "text": [
      "Accuracy Score of Model 1: 0.6776519052523172\n"
     ]
    }
   ],
   "source": [
    "print('Accuracy Score of Model 1:',model_1.score(Train[['Wife_age', 'No_of_children_born', 'Husband_Occupation',\n",
    "       'Wife_education_2', 'Wife_education_3',\n",
    "       'Wife_education_4', 'Husband_education_2', 'Husband_education_3',\n",
    "       'Husband_education_4', 'Wife_religion_2', 'Wife_Working_2',\n",
    "       'Standard_of_living_index_2', 'Standard_of_living_index_3',\n",
    "       'Standard_of_living_index_4', 'Media_exposure_2']],Train['Contraceptive_method_used']))\n"
   ]
  },
  {
   "cell_type": "markdown",
   "id": "9c526ef3",
   "metadata": {},
   "source": [
    "#### Model 1 - Predicting the classes and the probabilities on the Test Data"
   ]
  },
  {
   "cell_type": "code",
   "execution_count": 90,
   "id": "96ababd4",
   "metadata": {},
   "outputs": [],
   "source": [
    "model_1_test_class = model_1.predict(Test[['Wife_age', 'No_of_children_born', 'Husband_Occupation',\n",
    "       'Wife_education_2', 'Wife_education_3',\n",
    "       'Wife_education_4', 'Husband_education_2', 'Husband_education_3',\n",
    "       'Husband_education_4', 'Wife_religion_2', 'Wife_Working_2',\n",
    "       'Standard_of_living_index_2', 'Standard_of_living_index_3',\n",
    "       'Standard_of_living_index_4', 'Media_exposure_2']])\n",
    "model_1_test_probabilities = model_1.predict_proba(Test[['Wife_age', 'No_of_children_born', 'Husband_Occupation',\n",
    "       'Wife_education_2', 'Wife_education_3',\n",
    "       'Wife_education_4', 'Husband_education_2', 'Husband_education_3',\n",
    "       'Husband_education_4', 'Wife_religion_2', 'Wife_Working_2',\n",
    "       'Standard_of_living_index_2', 'Standard_of_living_index_3',\n",
    "       'Standard_of_living_index_4', 'Media_exposure_2']])\n"
   ]
  },
  {
   "cell_type": "markdown",
   "id": "24279723",
   "metadata": {},
   "source": [
    "#### Model 2 - Building the model on the Training Data and checking the Accuracy score on the training data."
   ]
  },
  {
   "cell_type": "code",
   "execution_count": 91,
   "id": "b2e09d5e",
   "metadata": {},
   "outputs": [],
   "source": [
    "model_2 = LR.fit(Train[['Wife_age', 'No_of_children_born', 'Husband_Occupation',\n",
    "       'Wife_education_2', 'Wife_education_3',\n",
    "       'Wife_education_4', 'Husband_education_2', 'Husband_education_3',\n",
    "       'Husband_education_4', 'Wife_religion_2', 'Wife_Working_2',\n",
    "       'Standard_of_living_index_2', 'Standard_of_living_index_3',\n",
    "       'Standard_of_living_index_4', 'Media_exposure_2']],Train['Contraceptive_method_used'])\n"
   ]
  },
  {
   "cell_type": "code",
   "execution_count": 92,
   "id": "ae858b5a",
   "metadata": {},
   "outputs": [
    {
     "name": "stdout",
     "output_type": "stream",
     "text": [
      "Accuracy Score of Model 2: 0.6776519052523172\n"
     ]
    }
   ],
   "source": [
    "print('Accuracy Score of Model 2:',model_2.score(Train[['Wife_age', 'No_of_children_born', 'Husband_Occupation',\n",
    "       'Wife_education_2', 'Wife_education_3',\n",
    "       'Wife_education_4', 'Husband_education_2', 'Husband_education_3',\n",
    "       'Husband_education_4', 'Wife_religion_2', 'Wife_Working_2',\n",
    "       'Standard_of_living_index_2', 'Standard_of_living_index_3',\n",
    "       'Standard_of_living_index_4', 'Media_exposure_2']],Train['Contraceptive_method_used']))\n"
   ]
  },
  {
   "cell_type": "markdown",
   "id": "ad648647",
   "metadata": {},
   "source": [
    "#### Model 2 - Predicting the classes and the probabilities on the Test Data\n"
   ]
  },
  {
   "cell_type": "code",
   "execution_count": 93,
   "id": "e20b2468",
   "metadata": {},
   "outputs": [],
   "source": [
    "model_2_test_class = model_2.predict(Test[['Wife_age', 'No_of_children_born', 'Husband_Occupation',\n",
    "       'Wife_education_2', 'Wife_education_3',\n",
    "       'Wife_education_4', 'Husband_education_2', 'Husband_education_3',\n",
    "       'Husband_education_4', 'Wife_religion_2', 'Wife_Working_2',\n",
    "       'Standard_of_living_index_2', 'Standard_of_living_index_3',\n",
    "       'Standard_of_living_index_4', 'Media_exposure_2']])\n",
    "model_2_test_probabilities = model_2.predict_proba(Test[['Wife_age', 'No_of_children_born', 'Husband_Occupation',\n",
    "       'Wife_education_2', 'Wife_education_3',\n",
    "       'Wife_education_4', 'Husband_education_2', 'Husband_education_3',\n",
    "       'Husband_education_4', 'Wife_religion_2', 'Wife_Working_2',\n",
    "       'Standard_of_living_index_2', 'Standard_of_living_index_3',\n",
    "       'Standard_of_living_index_4', 'Media_exposure_2']])\n"
   ]
  },
  {
   "cell_type": "markdown",
   "id": "eb94164c",
   "metadata": {},
   "source": [
    "#### Model 3 - Building the model on the Training Data and checking the Accuracy score on the training data."
   ]
  },
  {
   "cell_type": "code",
   "execution_count": 94,
   "id": "4ea331c2",
   "metadata": {},
   "outputs": [],
   "source": [
    "model_3 = LR.fit(Train[['Wife_age', 'No_of_children_born', 'Husband_Occupation',\n",
    "       'Wife_education_2', 'Wife_education_3',\n",
    "       'Wife_education_4', 'Husband_education_2', 'Husband_education_3',\n",
    "       'Husband_education_4', 'Wife_religion_2', 'Wife_Working_2',\n",
    "       'Standard_of_living_index_2', 'Standard_of_living_index_3',\n",
    "       'Standard_of_living_index_4', 'Media_exposure_2']],Train['Contraceptive_method_used'])\n"
   ]
  },
  {
   "cell_type": "code",
   "execution_count": 95,
   "id": "4a8d6e9f",
   "metadata": {},
   "outputs": [
    {
     "name": "stdout",
     "output_type": "stream",
     "text": [
      "Accuracy Score of Model 3: 0.6776519052523172\n"
     ]
    }
   ],
   "source": [
    "print('Accuracy Score of Model 3:',model_3.score(Train[['Wife_age', 'No_of_children_born', 'Husband_Occupation',\n",
    "       'Wife_education_2', 'Wife_education_3',\n",
    "       'Wife_education_4', 'Husband_education_2', 'Husband_education_3',\n",
    "       'Husband_education_4', 'Wife_religion_2', 'Wife_Working_2',\n",
    "       'Standard_of_living_index_2', 'Standard_of_living_index_3',\n",
    "       'Standard_of_living_index_4', 'Media_exposure_2']],Train['Contraceptive_method_used']))\n"
   ]
  },
  {
   "cell_type": "markdown",
   "id": "546328e0",
   "metadata": {},
   "source": [
    "#### Model 3 - Predicting the classes and the probabilities on the Test Data"
   ]
  },
  {
   "cell_type": "code",
   "execution_count": 96,
   "id": "5cfdc811",
   "metadata": {},
   "outputs": [],
   "source": [
    "model_3_test_class = model_3.predict(Test[['Wife_age', 'No_of_children_born', 'Husband_Occupation',\n",
    "       'Wife_education_2', 'Wife_education_3',\n",
    "       'Wife_education_4', 'Husband_education_2', 'Husband_education_3',\n",
    "       'Husband_education_4', 'Wife_religion_2', 'Wife_Working_2',\n",
    "       'Standard_of_living_index_2', 'Standard_of_living_index_3',\n",
    "       'Standard_of_living_index_4', 'Media_exposure_2']])\n",
    "model_3_test_probabilities = model_3.predict_proba(Test[['Wife_age', 'No_of_children_born', 'Husband_Occupation',\n",
    "       'Wife_education_2', 'Wife_education_3',\n",
    "       'Wife_education_4', 'Husband_education_2', 'Husband_education_3',\n",
    "       'Husband_education_4', 'Wife_religion_2', 'Wife_Working_2',\n",
    "       'Standard_of_living_index_2', 'Standard_of_living_index_3',\n",
    "       'Standard_of_living_index_4', 'Media_exposure_2']])\n"
   ]
  },
  {
   "cell_type": "markdown",
   "id": "23bf1481",
   "metadata": {},
   "source": [
    "#### Model 4 - Building the model on the Training Data and checking the Accuracy score on the training data."
   ]
  },
  {
   "cell_type": "code",
   "execution_count": 97,
   "id": "f0f61d10",
   "metadata": {},
   "outputs": [],
   "source": [
    "model_4 = LR.fit(Train[['Wife_age', 'No_of_children_born', 'Husband_Occupation',\n",
    "       'Wife_education_2', 'Wife_education_3',\n",
    "       'Wife_education_4', 'Husband_education_2', 'Husband_education_3',\n",
    "       'Husband_education_4', 'Wife_religion_2', 'Wife_Working_2',\n",
    "       'Standard_of_living_index_2', 'Standard_of_living_index_3',\n",
    "       'Standard_of_living_index_4', 'Media_exposure_2']],Train['Contraceptive_method_used'])\n"
   ]
  },
  {
   "cell_type": "code",
   "execution_count": 98,
   "id": "63d372c9",
   "metadata": {},
   "outputs": [
    {
     "name": "stdout",
     "output_type": "stream",
     "text": [
      "Accuracy Score of Model 4: 0.6776519052523172\n"
     ]
    }
   ],
   "source": [
    "print('Accuracy Score of Model 4:',model_4.score(Train[['Wife_age', 'No_of_children_born', 'Husband_Occupation',\n",
    "       'Wife_education_2', 'Wife_education_3',\n",
    "       'Wife_education_4', 'Husband_education_2', 'Husband_education_3',\n",
    "       'Husband_education_4', 'Wife_religion_2', 'Wife_Working_2',\n",
    "       'Standard_of_living_index_2', 'Standard_of_living_index_3',\n",
    "       'Standard_of_living_index_4', 'Media_exposure_2']],Train['Contraceptive_method_used']))\n"
   ]
  },
  {
   "cell_type": "markdown",
   "id": "1cae26dd",
   "metadata": {},
   "source": [
    "#### Model 4 - Predicting the classes and the probabilities on the Test Data"
   ]
  },
  {
   "cell_type": "code",
   "execution_count": 99,
   "id": "193a41dc",
   "metadata": {},
   "outputs": [],
   "source": [
    "model_4_test_class = model_4.predict(Test[['Wife_age', 'No_of_children_born', 'Husband_Occupation',\n",
    "       'Wife_education_2', 'Wife_education_3',\n",
    "       'Wife_education_4', 'Husband_education_2', 'Husband_education_3',\n",
    "       'Husband_education_4', 'Wife_religion_2', 'Wife_Working_2',\n",
    "       'Standard_of_living_index_2', 'Standard_of_living_index_3',\n",
    "       'Standard_of_living_index_4', 'Media_exposure_2']])\n",
    "model_4_test_probabilities = model_4.predict_proba(Test[['Wife_age', 'No_of_children_born', 'Husband_Occupation',\n",
    "       'Wife_education_2', 'Wife_education_3',\n",
    "       'Wife_education_4', 'Husband_education_2', 'Husband_education_3',\n",
    "       'Husband_education_4', 'Wife_religion_2', 'Wife_Working_2',\n",
    "       'Standard_of_living_index_2', 'Standard_of_living_index_3',\n",
    "       'Standard_of_living_index_4', 'Media_exposure_2']])\n"
   ]
  },
  {
   "cell_type": "markdown",
   "id": "ceec5e99",
   "metadata": {},
   "source": [
    "#### Q7. Evaluate the three models on the test data using the various statistics of the confusion matrix. - 1 point"
   ]
  },
  {
   "cell_type": "code",
   "execution_count": 100,
   "id": "03f38266",
   "metadata": {},
   "outputs": [],
   "source": [
    "from sklearn import metrics\n"
   ]
  },
  {
   "cell_type": "markdown",
   "id": "62da0011",
   "metadata": {},
   "source": [
    "#### Confusion Matrix summary statistics Evaluation on the Test Data"
   ]
  },
  {
   "cell_type": "code",
   "execution_count": 101,
   "id": "387c0782",
   "metadata": {},
   "outputs": [],
   "source": [
    "from pylab import rcParams\n",
    "rcParams['figure.figsize'] = 15,4\n"
   ]
  },
  {
   "cell_type": "code",
   "execution_count": 112,
   "id": "81c6c007",
   "metadata": {},
   "outputs": [
    {
     "data": {
      "image/png": "[encoded data removed]",
      "text/plain": [
       "<Figure size 1080x576 with 6 Axes>"
      ]
     },
     "metadata": {
      "needs_background": "light"
     },
     "output_type": "display_data"
    }
   ],
   "source": [
    "f,a =  plt.subplots(1,3,sharex=True,sharey=True,squeeze=False)\n",
    "\n",
    "#Plotting confusion matrix for the different models for the Training Data\n",
    "\n",
    "plot_0 = sns.heatmap((metrics.confusion_matrix(Test['Contraceptive_method_used'],model_1_test_class)),annot=True,fmt='.5g',cmap='Greys',ax=a[0][0]);\n",
    "a[0][0].set_title('Model_1')\n",
    "\n",
    "plot_1 = sns.heatmap((metrics.confusion_matrix(Test['Contraceptive_method_used'],model_3_test_class)),annot=True,fmt='.5g',cmap='Greys',ax=a[0][1]);\n",
    "a[0][1].set_title('Model 3');\n",
    "\n",
    "plot_1 = sns.heatmap((metrics.confusion_matrix(Test['Contraceptive_method_used'],model_4_test_class)),annot=True,fmt='.5g',cmap='Greys',ax=a[0][2]);\n",
    "a[0][2].set_title('Model 4');"
   ]
  },
  {
   "cell_type": "code",
   "execution_count": 108,
   "id": "70fe4039",
   "metadata": {},
   "outputs": [
    {
     "name": "stdout",
     "output_type": "stream",
     "text": [
      "Model 1\n",
      "True Negative: 83 \n",
      "False Positives: 101 \n",
      "False Negatives: 51 \n",
      "True Positives: 182 \n",
      "\n",
      "\n",
      "Model 3\n",
      "True Negative: 83 \n",
      "False Positives: 101 \n",
      "False Negatives: 51 \n",
      "True Positives: 182 \n",
      "\n",
      "\n",
      "Model 4\n",
      "True Negative: 83 \n",
      "False Positives: 101 \n",
      "False Negatives: 51 \n",
      "True Positives: 182\n"
     ]
    }
   ],
   "source": [
    "print('Model 1')\n",
    "tn, fp, fn, tp = metrics.confusion_matrix(Test['Contraceptive_method_used'],model_1_test_class).ravel()\n",
    "print('True Negative:',tn,'\\n''False Positives:' ,fp,'\\n''False Negatives:', fn,'\\n''True Positives:', tp,'\\n\\n')\n",
    "\n",
    "print('Model 3')\n",
    "tn, fp, fn, tp = metrics.confusion_matrix(Test['Contraceptive_method_used'],model_3_test_class).ravel()\n",
    "print('True Negative:',tn,'\\n''False Positives:' ,fp,'\\n''False Negatives:', fn,'\\n''True Positives:', tp,'\\n\\n')\n",
    "\n",
    "print('Model 4')\n",
    "tn, fp, fn, tp = metrics.confusion_matrix(Test['Contraceptive_method_used'],model_4_test_class).ravel()\n",
    "print('True Negative:',tn,'\\n''False Positives:' ,fp,'\\n''False Negatives:', fn,'\\n''True Positives:', tp)\n"
   ]
  },
  {
   "cell_type": "code",
   "execution_count": 104,
   "id": "2c4b89db",
   "metadata": {},
   "outputs": [
    {
     "name": "stdout",
     "output_type": "stream",
     "text": [
      "Model 1\n",
      "              precision    recall  f1-score   support\n",
      "\n",
      "           0       0.62      0.45      0.52       184\n",
      "           1       0.64      0.78      0.71       233\n",
      "\n",
      "    accuracy                           0.64       417\n",
      "   macro avg       0.63      0.62      0.61       417\n",
      "weighted avg       0.63      0.64      0.62       417\n",
      " \n",
      "\n",
      "Model 3\n",
      "              precision    recall  f1-score   support\n",
      "\n",
      "           0       0.62      0.45      0.52       184\n",
      "           1       0.64      0.78      0.71       233\n",
      "\n",
      "    accuracy                           0.64       417\n",
      "   macro avg       0.63      0.62      0.61       417\n",
      "weighted avg       0.63      0.64      0.62       417\n",
      " \n",
      "\n",
      "Model 4\n",
      "              precision    recall  f1-score   support\n",
      "\n",
      "           0       0.62      0.45      0.52       184\n",
      "           1       0.64      0.78      0.71       233\n",
      "\n",
      "    accuracy                           0.64       417\n",
      "   macro avg       0.63      0.62      0.61       417\n",
      "weighted avg       0.63      0.64      0.62       417\n",
      "\n"
     ]
    }
   ],
   "source": [
    "print('Model 1')\n",
    "print(metrics.classification_report(Test['Contraceptive_method_used'],model_1_test_class),'\\n')\n",
    "\n",
    "print('Model 3')\n",
    "print(metrics.classification_report(Test['Contraceptive_method_used'],model_3_test_class),'\\n')\n",
    "\n",
    "print('Model 4')\n",
    "print(metrics.classification_report(Test['Contraceptive_method_used'],model_4_test_class))\n"
   ]
  },
  {
   "cell_type": "markdown",
   "id": "870aae80",
   "metadata": {},
   "source": [
    "#### Q8. Check the summary statistics of the AUC-ROC curve for all the three Logistic Regression Models built. This is for the test data. - 1 point"
   ]
  },
  {
   "cell_type": "code",
   "execution_count": 105,
   "id": "44eefa55",
   "metadata": {},
   "outputs": [],
   "source": [
    "from pylab import rcParams\n",
    "rcParams['figure.figsize'] = 15,8\n"
   ]
  },
  {
   "cell_type": "code",
   "execution_count": 106,
   "id": "d3083550",
   "metadata": {},
   "outputs": [
    {
     "name": "stdout",
     "output_type": "stream",
     "text": [
      "Model 1 AUC: 0.65276\n"
     ]
    },
    {
     "data": {
      "image/png": "[encoded data removed]",
      "text/plain": [
       "<Figure size 1080x576 with 1 Axes>"
      ]
     },
     "metadata": {
      "needs_background": "light"
     },
     "output_type": "display_data"
    },
    {
     "name": "stdout",
     "output_type": "stream",
     "text": [
      "Model 3 AUC: 0.65276\n"
     ]
    },
    {
     "data": {
      "image/png": "[encoded data removed]",
      "text/plain": [
       "<Figure size 1080x576 with 1 Axes>"
      ]
     },
     "metadata": {
      "needs_background": "light"
     },
     "output_type": "display_data"
    },
    {
     "name": "stdout",
     "output_type": "stream",
     "text": [
      "Model 4 AUC: 0.65276\n"
     ]
    },
    {
     "data": {
      "image/png": "[encoded data removed]",
      "text/plain": [
       "<Figure size 1080x576 with 1 Axes>"
      ]
     },
     "metadata": {
      "needs_background": "light"
     },
     "output_type": "display_data"
    }
   ],
   "source": [
    "# AUC and ROC for the model 1\n",
    "\n",
    "\n",
    "# calculating on the basis of a person not defaulting\n",
    "# calculate AUC\n",
    "auc = metrics.roc_auc_score(Test['Contraceptive_method_used'],model_1_test_probabilities[:, 1])#keeping only the probabilities for the desired class outcome\n",
    "print('Model 1 AUC: %.5f' % auc)\n",
    "# # calculate roc curve\n",
    "# from sklearn.metrics import roc_curve\n",
    "fpr, tpr, thresholds = metrics.roc_curve(Test['Contraceptive_method_used'],model_1_test_probabilities[:, 1])#keeping only the probabilities for the desired \n",
    "#class outcome\n",
    "plt.plot([0, 1], [0, 1], linestyle='--')\n",
    "# plot the roc curve for the model\n",
    "plt.plot(fpr, tpr, marker='.')\n",
    "# show the plot\n",
    "plt.show()\n",
    "\n",
    "\n",
    "# AUC and ROC for the model 3\n",
    "\n",
    "\n",
    "# calculating on the basis of a person not defaulting\n",
    "# calculate AUC\n",
    "auc = metrics.roc_auc_score(Test['Contraceptive_method_used'],model_3_test_probabilities[:, 1])#keeping only the probabilities for the desired class outcome\n",
    "print('Model 3 AUC: %.5f' % auc)\n",
    "# # calculate roc curve\n",
    "# from sklearn.metrics import roc_curve\n",
    "fpr, tpr, thresholds = metrics.roc_curve(Test['Contraceptive_method_used'],model_3_test_probabilities[:, 1])#keeping only the probabilities for the desired \n",
    "#class outcome\n",
    "plt.plot([0, 1], [0, 1], linestyle='--')\n",
    "# plot the roc curve for the model\n",
    "plt.plot(fpr, tpr, marker='.')\n",
    "# show the plot\n",
    "plt.show()\n",
    "\n",
    "# AUC and ROC for the model 4\n",
    "\n",
    "\n",
    "# calculating on the basis of a person not defaulting\n",
    "# calculate AUC\n",
    "auc = metrics.roc_auc_score(Test['Contraceptive_method_used'],model_4_test_probabilities[:, 1])#keeping only the probabilities for the desired class outcome\n",
    "print('Model 4 AUC: %.5f' % auc)\n",
    "# # calculate roc curve\n",
    "# from sklearn.metrics import roc_curve\n",
    "fpr, tpr, thresholds = metrics.roc_curve(Test['Contraceptive_method_used'],model_4_test_probabilities[:, 1])#keeping only the probabilities for the desired \n",
    "#class outcome\n",
    "plt.plot([0, 1], [0, 1], linestyle='--')\n",
    "# plot the roc curve for the model\n",
    "plt.plot(fpr, tpr, marker='.')\n",
    "# show the plot\n",
    "plt.show()\n"
   ]
  },
  {
   "cell_type": "markdown",
   "id": "a061bfa4",
   "metadata": {},
   "source": [
    "#### Model 1 - Predicting the classes and the probabilities on the Test Data"
   ]
  },
  {
   "cell_type": "markdown",
   "id": "67a1807b",
   "metadata": {},
   "source": [
    "#### 2.4 Inference: Basis on these predictions, what are the insights and recommendations.\n",
    "Please explain and summarise the various steps performed in this project. There should be proper business interpretation and actionable insights present.\n"
   ]
  },
  {
   "cell_type": "code",
   "execution_count": null,
   "id": "cca7a5b3",
   "metadata": {},
   "outputs": [],
   "source": []
  }
 ],
 "metadata": {
  "kernelspec": {
   "display_name": "Python 3 (ipykernel)",
   "language": "python",
   "name": "python3"
  },
  "language_info": {
   "codemirror_mode": {
    "name": "ipython",
    "version": 3
   },
   "file_extension": ".py",
   "mimetype": "text/x-python",
   "name": "python",
   "nbconvert_exporter": "python",
   "pygments_lexer": "ipython3",
   "version": "3.9.12"
  }
 },
 "nbformat": 4,
 "nbformat_minor": 5
}
