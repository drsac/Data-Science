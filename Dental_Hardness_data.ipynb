{
 "cells": [
  {
   "cell_type": "code",
   "execution_count": 1,
   "id": "a071a61b",
   "metadata": {},
   "outputs": [],
   "source": [
    "import os\n",
    "import numpy as np\n",
    "import pandas as pd\n",
    "import seaborn as sns\n",
    "from statsmodels.formula.api import ols      # For n-way ANOVA\n",
    "from statsmodels.stats.anova import _get_covariance,anova_lm # For n-way ANOVA\n",
    "%matplotlib inline\n",
    "import matplotlib.pyplot as plt\n",
    "import statsmodels.api as sm\n",
    "from statsmodels.formula.api import ols"
   ]
  },
  {
   "cell_type": "code",
   "execution_count": 2,
   "id": "2c98ec4f",
   "metadata": {
    "scrolled": true
   },
   "outputs": [],
   "source": [
    "## Loading the dataset Excel file\n",
    "data=pd.read_excel('Dental_Hardness_data.xlsx')"
   ]
  },
  {
   "cell_type": "markdown",
   "id": "5a3a2aa6",
   "metadata": {},
   "source": [
    "### Dental implant data: The hardness of metal implant in dental cavities depends on multiple factors, such as the method of implant, the temperature at which the metal is treated, the alloy used as well as on the dentists who may favour one method above another and may work better in his/her favourite method. The response is the variable of interest.\n",
    "\n"
   ]
  },
  {
   "cell_type": "markdown",
   "id": "fc024150",
   "metadata": {},
   "source": [
    "### 𝐻0: 𝜇1 = 𝜇2 = 𝜇3 = 𝜇4 against 𝐻𝑎: At least for one dental implant response is different from the rest.\n"
   ]
  },
  {
   "cell_type": "code",
   "execution_count": 3,
   "id": "9713e7e5",
   "metadata": {},
   "outputs": [
    {
     "data": {
      "text/html": [
       "<div>\n",
       "<style scoped>\n",
       "    .dataframe tbody tr th:only-of-type {\n",
       "        vertical-align: middle;\n",
       "    }\n",
       "\n",
       "    .dataframe tbody tr th {\n",
       "        vertical-align: top;\n",
       "    }\n",
       "\n",
       "    .dataframe thead th {\n",
       "        text-align: right;\n",
       "    }\n",
       "</style>\n",
       "<table border=\"1\" class=\"dataframe\">\n",
       "  <thead>\n",
       "    <tr style=\"text-align: right;\">\n",
       "      <th></th>\n",
       "      <th>Dentist</th>\n",
       "      <th>Method</th>\n",
       "      <th>Alloy</th>\n",
       "      <th>Temp</th>\n",
       "      <th>Response</th>\n",
       "      <th>Unnamed: 5</th>\n",
       "      <th>Unnamed: 6</th>\n",
       "      <th>Unnamed: 7</th>\n",
       "      <th>Unnamed: 8</th>\n",
       "      <th>Unnamed: 9</th>\n",
       "      <th>Unnamed: 10</th>\n",
       "      <th>Unnamed: 11</th>\n",
       "      <th>Unnamed: 12</th>\n",
       "      <th>Unnamed: 13</th>\n",
       "    </tr>\n",
       "  </thead>\n",
       "  <tbody>\n",
       "    <tr>\n",
       "      <th>0</th>\n",
       "      <td>1.0</td>\n",
       "      <td>1.0</td>\n",
       "      <td>1.0</td>\n",
       "      <td>1500.0</td>\n",
       "      <td>813.0</td>\n",
       "      <td>NaN</td>\n",
       "      <td>NaN</td>\n",
       "      <td>Anova: Two-Factor Without Replication</td>\n",
       "      <td>NaN</td>\n",
       "      <td>NaN</td>\n",
       "      <td>NaN</td>\n",
       "      <td>NaN</td>\n",
       "      <td>NaN</td>\n",
       "      <td>NaN</td>\n",
       "    </tr>\n",
       "    <tr>\n",
       "      <th>1</th>\n",
       "      <td>1.0</td>\n",
       "      <td>1.0</td>\n",
       "      <td>1.0</td>\n",
       "      <td>1600.0</td>\n",
       "      <td>792.0</td>\n",
       "      <td>NaN</td>\n",
       "      <td>NaN</td>\n",
       "      <td>NaN</td>\n",
       "      <td>NaN</td>\n",
       "      <td>NaN</td>\n",
       "      <td>NaN</td>\n",
       "      <td>NaN</td>\n",
       "      <td>NaN</td>\n",
       "      <td>NaN</td>\n",
       "    </tr>\n",
       "    <tr>\n",
       "      <th>2</th>\n",
       "      <td>1.0</td>\n",
       "      <td>1.0</td>\n",
       "      <td>1.0</td>\n",
       "      <td>1700.0</td>\n",
       "      <td>792.0</td>\n",
       "      <td>NaN</td>\n",
       "      <td>NaN</td>\n",
       "      <td>SUMMARY</td>\n",
       "      <td>Count</td>\n",
       "      <td>Sum</td>\n",
       "      <td>Average</td>\n",
       "      <td>Variance</td>\n",
       "      <td>NaN</td>\n",
       "      <td>NaN</td>\n",
       "    </tr>\n",
       "    <tr>\n",
       "      <th>3</th>\n",
       "      <td>1.0</td>\n",
       "      <td>1.0</td>\n",
       "      <td>2.0</td>\n",
       "      <td>1500.0</td>\n",
       "      <td>907.0</td>\n",
       "      <td>NaN</td>\n",
       "      <td>NaN</td>\n",
       "      <td>1</td>\n",
       "      <td>4</td>\n",
       "      <td>2315</td>\n",
       "      <td>578.75</td>\n",
       "      <td>523721.583333</td>\n",
       "      <td>NaN</td>\n",
       "      <td>NaN</td>\n",
       "    </tr>\n",
       "    <tr>\n",
       "      <th>4</th>\n",
       "      <td>1.0</td>\n",
       "      <td>1.0</td>\n",
       "      <td>2.0</td>\n",
       "      <td>1600.0</td>\n",
       "      <td>792.0</td>\n",
       "      <td>NaN</td>\n",
       "      <td>NaN</td>\n",
       "      <td>1</td>\n",
       "      <td>4</td>\n",
       "      <td>2394</td>\n",
       "      <td>598.5</td>\n",
       "      <td>584819</td>\n",
       "      <td>NaN</td>\n",
       "      <td>NaN</td>\n",
       "    </tr>\n",
       "  </tbody>\n",
       "</table>\n",
       "</div>"
      ],
      "text/plain": [
       "   Dentist  Method  Alloy    Temp  Response  Unnamed: 5  Unnamed: 6  \\\n",
       "0      1.0     1.0    1.0  1500.0     813.0         NaN         NaN   \n",
       "1      1.0     1.0    1.0  1600.0     792.0         NaN         NaN   \n",
       "2      1.0     1.0    1.0  1700.0     792.0         NaN         NaN   \n",
       "3      1.0     1.0    2.0  1500.0     907.0         NaN         NaN   \n",
       "4      1.0     1.0    2.0  1600.0     792.0         NaN         NaN   \n",
       "\n",
       "                              Unnamed: 7 Unnamed: 8 Unnamed: 9 Unnamed: 10  \\\n",
       "0  Anova: Two-Factor Without Replication        NaN        NaN         NaN   \n",
       "1                                    NaN        NaN        NaN         NaN   \n",
       "2                                SUMMARY      Count        Sum     Average   \n",
       "3                                      1          4       2315      578.75   \n",
       "4                                      1          4       2394       598.5   \n",
       "\n",
       "     Unnamed: 11 Unnamed: 12 Unnamed: 13  \n",
       "0            NaN         NaN         NaN  \n",
       "1            NaN         NaN         NaN  \n",
       "2       Variance         NaN         NaN  \n",
       "3  523721.583333         NaN         NaN  \n",
       "4         584819         NaN         NaN  "
      ]
     },
     "execution_count": 3,
     "metadata": {},
     "output_type": "execute_result"
    }
   ],
   "source": [
    "data.head()"
   ]
  },
  {
   "cell_type": "code",
   "execution_count": 4,
   "id": "faa4fffb",
   "metadata": {},
   "outputs": [
    {
     "data": {
      "text/plain": [
       "(107, 14)"
      ]
     },
     "execution_count": 4,
     "metadata": {},
     "output_type": "execute_result"
    }
   ],
   "source": [
    "data.shape"
   ]
  },
  {
   "cell_type": "code",
   "execution_count": 5,
   "id": "1fd41a6e",
   "metadata": {
    "scrolled": true
   },
   "outputs": [
    {
     "data": {
      "text/html": [
       "<div>\n",
       "<style scoped>\n",
       "    .dataframe tbody tr th:only-of-type {\n",
       "        vertical-align: middle;\n",
       "    }\n",
       "\n",
       "    .dataframe tbody tr th {\n",
       "        vertical-align: top;\n",
       "    }\n",
       "\n",
       "    .dataframe thead th {\n",
       "        text-align: right;\n",
       "    }\n",
       "</style>\n",
       "<table border=\"1\" class=\"dataframe\">\n",
       "  <thead>\n",
       "    <tr style=\"text-align: right;\">\n",
       "      <th></th>\n",
       "      <th>Unnamed: 7</th>\n",
       "      <th>Unnamed: 8</th>\n",
       "      <th>Unnamed: 9</th>\n",
       "      <th>Unnamed: 10</th>\n",
       "      <th>Unnamed: 11</th>\n",
       "      <th>Unnamed: 12</th>\n",
       "      <th>Unnamed: 13</th>\n",
       "    </tr>\n",
       "  </thead>\n",
       "  <tbody>\n",
       "    <tr>\n",
       "      <th>count</th>\n",
       "      <td>102</td>\n",
       "      <td>100</td>\n",
       "      <td>100</td>\n",
       "      <td>99</td>\n",
       "      <td>98</td>\n",
       "      <td>3</td>\n",
       "      <td>3</td>\n",
       "    </tr>\n",
       "    <tr>\n",
       "      <th>unique</th>\n",
       "      <td>17</td>\n",
       "      <td>8</td>\n",
       "      <td>88</td>\n",
       "      <td>87</td>\n",
       "      <td>91</td>\n",
       "      <td>3</td>\n",
       "      <td>3</td>\n",
       "    </tr>\n",
       "    <tr>\n",
       "      <th>top</th>\n",
       "      <td>1</td>\n",
       "      <td>4</td>\n",
       "      <td>2220</td>\n",
       "      <td>582</td>\n",
       "      <td>524696</td>\n",
       "      <td>P-value</td>\n",
       "      <td>F crit</td>\n",
       "    </tr>\n",
       "    <tr>\n",
       "      <th>freq</th>\n",
       "      <td>18</td>\n",
       "      <td>90</td>\n",
       "      <td>2</td>\n",
       "      <td>2</td>\n",
       "      <td>2</td>\n",
       "      <td>1</td>\n",
       "      <td>1</td>\n",
       "    </tr>\n",
       "  </tbody>\n",
       "</table>\n",
       "</div>"
      ],
      "text/plain": [
       "        Unnamed: 7  Unnamed: 8  Unnamed: 9  Unnamed: 10  Unnamed: 11  \\\n",
       "count          102         100         100           99           98   \n",
       "unique          17           8          88           87           91   \n",
       "top              1           4        2220          582       524696   \n",
       "freq            18          90           2            2            2   \n",
       "\n",
       "       Unnamed: 12 Unnamed: 13  \n",
       "count            3           3  \n",
       "unique           3           3  \n",
       "top        P-value      F crit  \n",
       "freq             1           1  "
      ]
     },
     "execution_count": 5,
     "metadata": {},
     "output_type": "execute_result"
    }
   ],
   "source": [
    "data.describe(exclude=np.number)"
   ]
  },
  {
   "cell_type": "code",
   "execution_count": 6,
   "id": "8840705e",
   "metadata": {
    "scrolled": true
   },
   "outputs": [
    {
     "data": {
      "text/plain": [
       "Dentist         17\n",
       "Method          17\n",
       "Alloy           17\n",
       "Temp            17\n",
       "Response        17\n",
       "Unnamed: 5     107\n",
       "Unnamed: 6     107\n",
       "Unnamed: 7       5\n",
       "Unnamed: 8       7\n",
       "Unnamed: 9       7\n",
       "Unnamed: 10      8\n",
       "Unnamed: 11      9\n",
       "Unnamed: 12    104\n",
       "Unnamed: 13    104\n",
       "dtype: int64"
      ]
     },
     "execution_count": 6,
     "metadata": {},
     "output_type": "execute_result"
    }
   ],
   "source": [
    "data.isnull().sum()"
   ]
  },
  {
   "cell_type": "code",
   "execution_count": 7,
   "id": "5f1d0c21",
   "metadata": {
    "scrolled": false
   },
   "outputs": [
    {
     "data": {
      "text/html": [
       "<div>\n",
       "<style scoped>\n",
       "    .dataframe tbody tr th:only-of-type {\n",
       "        vertical-align: middle;\n",
       "    }\n",
       "\n",
       "    .dataframe tbody tr th {\n",
       "        vertical-align: top;\n",
       "    }\n",
       "\n",
       "    .dataframe thead th {\n",
       "        text-align: right;\n",
       "    }\n",
       "</style>\n",
       "<table border=\"1\" class=\"dataframe\">\n",
       "  <thead>\n",
       "    <tr style=\"text-align: right;\">\n",
       "      <th></th>\n",
       "      <th>Dentist</th>\n",
       "      <th>Method</th>\n",
       "      <th>Alloy</th>\n",
       "      <th>Temp</th>\n",
       "      <th>Response</th>\n",
       "      <th>Unnamed: 5</th>\n",
       "      <th>Unnamed: 6</th>\n",
       "    </tr>\n",
       "  </thead>\n",
       "  <tbody>\n",
       "    <tr>\n",
       "      <th>count</th>\n",
       "      <td>90.000000</td>\n",
       "      <td>90.000000</td>\n",
       "      <td>90.000000</td>\n",
       "      <td>90.000000</td>\n",
       "      <td>90.000000</td>\n",
       "      <td>0.0</td>\n",
       "      <td>0.0</td>\n",
       "    </tr>\n",
       "    <tr>\n",
       "      <th>mean</th>\n",
       "      <td>3.000000</td>\n",
       "      <td>2.000000</td>\n",
       "      <td>1.500000</td>\n",
       "      <td>1600.000000</td>\n",
       "      <td>741.777778</td>\n",
       "      <td>NaN</td>\n",
       "      <td>NaN</td>\n",
       "    </tr>\n",
       "    <tr>\n",
       "      <th>std</th>\n",
       "      <td>1.422136</td>\n",
       "      <td>0.821071</td>\n",
       "      <td>0.502801</td>\n",
       "      <td>82.107083</td>\n",
       "      <td>145.767845</td>\n",
       "      <td>NaN</td>\n",
       "      <td>NaN</td>\n",
       "    </tr>\n",
       "    <tr>\n",
       "      <th>min</th>\n",
       "      <td>1.000000</td>\n",
       "      <td>1.000000</td>\n",
       "      <td>1.000000</td>\n",
       "      <td>1500.000000</td>\n",
       "      <td>289.000000</td>\n",
       "      <td>NaN</td>\n",
       "      <td>NaN</td>\n",
       "    </tr>\n",
       "    <tr>\n",
       "      <th>25%</th>\n",
       "      <td>2.000000</td>\n",
       "      <td>1.000000</td>\n",
       "      <td>1.000000</td>\n",
       "      <td>1500.000000</td>\n",
       "      <td>698.000000</td>\n",
       "      <td>NaN</td>\n",
       "      <td>NaN</td>\n",
       "    </tr>\n",
       "    <tr>\n",
       "      <th>50%</th>\n",
       "      <td>3.000000</td>\n",
       "      <td>2.000000</td>\n",
       "      <td>1.500000</td>\n",
       "      <td>1600.000000</td>\n",
       "      <td>767.000000</td>\n",
       "      <td>NaN</td>\n",
       "      <td>NaN</td>\n",
       "    </tr>\n",
       "    <tr>\n",
       "      <th>75%</th>\n",
       "      <td>4.000000</td>\n",
       "      <td>3.000000</td>\n",
       "      <td>2.000000</td>\n",
       "      <td>1700.000000</td>\n",
       "      <td>824.000000</td>\n",
       "      <td>NaN</td>\n",
       "      <td>NaN</td>\n",
       "    </tr>\n",
       "    <tr>\n",
       "      <th>max</th>\n",
       "      <td>5.000000</td>\n",
       "      <td>3.000000</td>\n",
       "      <td>2.000000</td>\n",
       "      <td>1700.000000</td>\n",
       "      <td>1115.000000</td>\n",
       "      <td>NaN</td>\n",
       "      <td>NaN</td>\n",
       "    </tr>\n",
       "  </tbody>\n",
       "</table>\n",
       "</div>"
      ],
      "text/plain": [
       "         Dentist     Method      Alloy         Temp     Response  Unnamed: 5  \\\n",
       "count  90.000000  90.000000  90.000000    90.000000    90.000000         0.0   \n",
       "mean    3.000000   2.000000   1.500000  1600.000000   741.777778         NaN   \n",
       "std     1.422136   0.821071   0.502801    82.107083   145.767845         NaN   \n",
       "min     1.000000   1.000000   1.000000  1500.000000   289.000000         NaN   \n",
       "25%     2.000000   1.000000   1.000000  1500.000000   698.000000         NaN   \n",
       "50%     3.000000   2.000000   1.500000  1600.000000   767.000000         NaN   \n",
       "75%     4.000000   3.000000   2.000000  1700.000000   824.000000         NaN   \n",
       "max     5.000000   3.000000   2.000000  1700.000000  1115.000000         NaN   \n",
       "\n",
       "       Unnamed: 6  \n",
       "count         0.0  \n",
       "mean          NaN  \n",
       "std           NaN  \n",
       "min           NaN  \n",
       "25%           NaN  \n",
       "50%           NaN  \n",
       "75%           NaN  \n",
       "max           NaN  "
      ]
     },
     "execution_count": 7,
     "metadata": {},
     "output_type": "execute_result"
    }
   ],
   "source": [
    "data.describe()"
   ]
  },
  {
   "cell_type": "code",
   "execution_count": 8,
   "id": "0ef24abb",
   "metadata": {},
   "outputs": [],
   "source": [
    "# Drop columns \n",
    "data.drop(['Unnamed: 5', 'Unnamed: 6', 'Unnamed: 7', 'Unnamed: 8', 'Unnamed: 8', 'Unnamed: 9', 'Unnamed: 10', 'Unnamed: 11', 'Unnamed: 12', 'Unnamed: 13'], axis=1, inplace= True,)"
   ]
  },
  {
   "cell_type": "code",
   "execution_count": 9,
   "id": "5f9ed89b",
   "metadata": {},
   "outputs": [
    {
     "data": {
      "text/html": [
       "<div>\n",
       "<style scoped>\n",
       "    .dataframe tbody tr th:only-of-type {\n",
       "        vertical-align: middle;\n",
       "    }\n",
       "\n",
       "    .dataframe tbody tr th {\n",
       "        vertical-align: top;\n",
       "    }\n",
       "\n",
       "    .dataframe thead th {\n",
       "        text-align: right;\n",
       "    }\n",
       "</style>\n",
       "<table border=\"1\" class=\"dataframe\">\n",
       "  <thead>\n",
       "    <tr style=\"text-align: right;\">\n",
       "      <th></th>\n",
       "      <th>Dentist</th>\n",
       "      <th>Method</th>\n",
       "      <th>Alloy</th>\n",
       "      <th>Temp</th>\n",
       "      <th>Response</th>\n",
       "    </tr>\n",
       "  </thead>\n",
       "  <tbody>\n",
       "    <tr>\n",
       "      <th>0</th>\n",
       "      <td>1.0</td>\n",
       "      <td>1.0</td>\n",
       "      <td>1.0</td>\n",
       "      <td>1500.0</td>\n",
       "      <td>813.0</td>\n",
       "    </tr>\n",
       "    <tr>\n",
       "      <th>1</th>\n",
       "      <td>1.0</td>\n",
       "      <td>1.0</td>\n",
       "      <td>1.0</td>\n",
       "      <td>1600.0</td>\n",
       "      <td>792.0</td>\n",
       "    </tr>\n",
       "    <tr>\n",
       "      <th>2</th>\n",
       "      <td>1.0</td>\n",
       "      <td>1.0</td>\n",
       "      <td>1.0</td>\n",
       "      <td>1700.0</td>\n",
       "      <td>792.0</td>\n",
       "    </tr>\n",
       "    <tr>\n",
       "      <th>3</th>\n",
       "      <td>1.0</td>\n",
       "      <td>1.0</td>\n",
       "      <td>2.0</td>\n",
       "      <td>1500.0</td>\n",
       "      <td>907.0</td>\n",
       "    </tr>\n",
       "    <tr>\n",
       "      <th>4</th>\n",
       "      <td>1.0</td>\n",
       "      <td>1.0</td>\n",
       "      <td>2.0</td>\n",
       "      <td>1600.0</td>\n",
       "      <td>792.0</td>\n",
       "    </tr>\n",
       "  </tbody>\n",
       "</table>\n",
       "</div>"
      ],
      "text/plain": [
       "   Dentist  Method  Alloy    Temp  Response\n",
       "0      1.0     1.0    1.0  1500.0     813.0\n",
       "1      1.0     1.0    1.0  1600.0     792.0\n",
       "2      1.0     1.0    1.0  1700.0     792.0\n",
       "3      1.0     1.0    2.0  1500.0     907.0\n",
       "4      1.0     1.0    2.0  1600.0     792.0"
      ]
     },
     "execution_count": 9,
     "metadata": {},
     "output_type": "execute_result"
    }
   ],
   "source": [
    "data.head()"
   ]
  },
  {
   "cell_type": "code",
   "execution_count": 10,
   "id": "28e22b57",
   "metadata": {
    "scrolled": false
   },
   "outputs": [
    {
     "name": "stdout",
     "output_type": "stream",
     "text": [
      "<class 'pandas.core.frame.DataFrame'>\n",
      "RangeIndex: 107 entries, 0 to 106\n",
      "Data columns (total 5 columns):\n",
      " #   Column    Non-Null Count  Dtype  \n",
      "---  ------    --------------  -----  \n",
      " 0   Dentist   90 non-null     float64\n",
      " 1   Method    90 non-null     float64\n",
      " 2   Alloy     90 non-null     float64\n",
      " 3   Temp      90 non-null     float64\n",
      " 4   Response  90 non-null     float64\n",
      "dtypes: float64(5)\n",
      "memory usage: 4.3 KB\n"
     ]
    }
   ],
   "source": [
    "data.info()"
   ]
  },
  {
   "cell_type": "code",
   "execution_count": 11,
   "id": "0662e7a2",
   "metadata": {},
   "outputs": [
    {
     "data": {
      "text/plain": [
       "Dentist     float64\n",
       "Method      float64\n",
       "Alloy       float64\n",
       "Temp        float64\n",
       "Response    float64\n",
       "dtype: object"
      ]
     },
     "execution_count": 11,
     "metadata": {},
     "output_type": "execute_result"
    }
   ],
   "source": [
    "data.dtypes"
   ]
  },
  {
   "cell_type": "code",
   "execution_count": 12,
   "id": "383396fd",
   "metadata": {},
   "outputs": [
    {
     "data": {
      "text/plain": [
       "1.0    18\n",
       "2.0    18\n",
       "3.0    18\n",
       "4.0    18\n",
       "5.0    18\n",
       "Name: Dentist, dtype: int64"
      ]
     },
     "execution_count": 12,
     "metadata": {},
     "output_type": "execute_result"
    }
   ],
   "source": [
    "data['Dentist'].value_counts()"
   ]
  },
  {
   "cell_type": "code",
   "execution_count": 13,
   "id": "16c9d080",
   "metadata": {},
   "outputs": [
    {
     "data": {
      "text/plain": [
       "1.0    30\n",
       "2.0    30\n",
       "3.0    30\n",
       "Name: Method, dtype: int64"
      ]
     },
     "execution_count": 13,
     "metadata": {},
     "output_type": "execute_result"
    }
   ],
   "source": [
    "data['Method'].value_counts()"
   ]
  },
  {
   "cell_type": "code",
   "execution_count": 14,
   "id": "6bd196f9",
   "metadata": {},
   "outputs": [
    {
     "data": {
      "text/plain": [
       "1.0    45\n",
       "2.0    45\n",
       "Name: Alloy, dtype: int64"
      ]
     },
     "execution_count": 14,
     "metadata": {},
     "output_type": "execute_result"
    }
   ],
   "source": [
    "data['Alloy'].value_counts()"
   ]
  },
  {
   "cell_type": "code",
   "execution_count": 15,
   "id": "35d486fa",
   "metadata": {},
   "outputs": [],
   "source": [
    "#data['Alloy'].replace(to_replace=1.0, value='Alloy1', inplace=True)\n",
    "#data['Alloy'].replace(to_replace=2.0, value='Alloy2', inplace=True)"
   ]
  },
  {
   "cell_type": "code",
   "execution_count": 16,
   "id": "c3d4fdec",
   "metadata": {
    "scrolled": true
   },
   "outputs": [
    {
     "data": {
      "text/plain": [
       "1500.0    30\n",
       "1600.0    30\n",
       "1700.0    30\n",
       "Name: Temp, dtype: int64"
      ]
     },
     "execution_count": 16,
     "metadata": {},
     "output_type": "execute_result"
    }
   ],
   "source": [
    "data['Temp'].value_counts()"
   ]
  },
  {
   "cell_type": "code",
   "execution_count": 17,
   "id": "484412e2",
   "metadata": {},
   "outputs": [
    {
     "data": {
      "text/plain": [
       "743.0    6\n",
       "792.0    6\n",
       "813.0    5\n",
       "835.0    5\n",
       "715.0    5\n",
       "Name: Response, dtype: int64"
      ]
     },
     "execution_count": 17,
     "metadata": {},
     "output_type": "execute_result"
    }
   ],
   "source": [
    "data['Response'].value_counts().head()"
   ]
  },
  {
   "cell_type": "code",
   "execution_count": 18,
   "id": "4a8f700d",
   "metadata": {},
   "outputs": [
    {
     "data": {
      "text/html": [
       "<div>\n",
       "<style scoped>\n",
       "    .dataframe tbody tr th:only-of-type {\n",
       "        vertical-align: middle;\n",
       "    }\n",
       "\n",
       "    .dataframe tbody tr th {\n",
       "        vertical-align: top;\n",
       "    }\n",
       "\n",
       "    .dataframe thead th {\n",
       "        text-align: right;\n",
       "    }\n",
       "</style>\n",
       "<table border=\"1\" class=\"dataframe\">\n",
       "  <thead>\n",
       "    <tr style=\"text-align: right;\">\n",
       "      <th></th>\n",
       "      <th>df</th>\n",
       "      <th>sum_sq</th>\n",
       "      <th>mean_sq</th>\n",
       "      <th>F</th>\n",
       "      <th>PR(&gt;F)</th>\n",
       "    </tr>\n",
       "  </thead>\n",
       "  <tbody>\n",
       "    <tr>\n",
       "      <th>Method</th>\n",
       "      <td>1.0</td>\n",
       "      <td>3.081488e-33</td>\n",
       "      <td>3.081488e-33</td>\n",
       "      <td>1.506505e-33</td>\n",
       "      <td>1.0</td>\n",
       "    </tr>\n",
       "    <tr>\n",
       "      <th>Residual</th>\n",
       "      <td>88.0</td>\n",
       "      <td>1.800000e+02</td>\n",
       "      <td>2.045455e+00</td>\n",
       "      <td>NaN</td>\n",
       "      <td>NaN</td>\n",
       "    </tr>\n",
       "  </tbody>\n",
       "</table>\n",
       "</div>"
      ],
      "text/plain": [
       "            df        sum_sq       mean_sq             F  PR(>F)\n",
       "Method     1.0  3.081488e-33  3.081488e-33  1.506505e-33     1.0\n",
       "Residual  88.0  1.800000e+02  2.045455e+00           NaN     NaN"
      ]
     },
     "execution_count": 18,
     "metadata": {},
     "output_type": "execute_result"
    }
   ],
   "source": [
    "ano=ols('Dentist~Method',data=data).fit()\n",
    "one=sm.stats.anova_lm(ano, type=2)\n",
    "one"
   ]
  },
  {
   "cell_type": "code",
   "execution_count": 19,
   "id": "8fddfc13",
   "metadata": {
    "scrolled": true
   },
   "outputs": [
    {
     "data": {
      "text/html": [
       "<div>\n",
       "<style scoped>\n",
       "    .dataframe tbody tr th:only-of-type {\n",
       "        vertical-align: middle;\n",
       "    }\n",
       "\n",
       "    .dataframe tbody tr th {\n",
       "        vertical-align: top;\n",
       "    }\n",
       "\n",
       "    .dataframe thead th {\n",
       "        text-align: right;\n",
       "    }\n",
       "</style>\n",
       "<table border=\"1\" class=\"dataframe\">\n",
       "  <thead>\n",
       "    <tr style=\"text-align: right;\">\n",
       "      <th></th>\n",
       "      <th>df</th>\n",
       "      <th>sum_sq</th>\n",
       "      <th>mean_sq</th>\n",
       "      <th>F</th>\n",
       "      <th>PR(&gt;F)</th>\n",
       "    </tr>\n",
       "  </thead>\n",
       "  <tbody>\n",
       "    <tr>\n",
       "      <th>Method</th>\n",
       "      <td>1.0</td>\n",
       "      <td>3.081488e-33</td>\n",
       "      <td>3.081488e-33</td>\n",
       "      <td>1.489386e-33</td>\n",
       "      <td>1.0</td>\n",
       "    </tr>\n",
       "    <tr>\n",
       "      <th>Alloy</th>\n",
       "      <td>1.0</td>\n",
       "      <td>2.359264e-31</td>\n",
       "      <td>2.359264e-31</td>\n",
       "      <td>1.140311e-31</td>\n",
       "      <td>1.0</td>\n",
       "    </tr>\n",
       "    <tr>\n",
       "      <th>Residual</th>\n",
       "      <td>87.0</td>\n",
       "      <td>1.800000e+02</td>\n",
       "      <td>2.068966e+00</td>\n",
       "      <td>NaN</td>\n",
       "      <td>NaN</td>\n",
       "    </tr>\n",
       "  </tbody>\n",
       "</table>\n",
       "</div>"
      ],
      "text/plain": [
       "            df        sum_sq       mean_sq             F  PR(>F)\n",
       "Method     1.0  3.081488e-33  3.081488e-33  1.489386e-33     1.0\n",
       "Alloy      1.0  2.359264e-31  2.359264e-31  1.140311e-31     1.0\n",
       "Residual  87.0  1.800000e+02  2.068966e+00           NaN     NaN"
      ]
     },
     "execution_count": 19,
     "metadata": {},
     "output_type": "execute_result"
    }
   ],
   "source": [
    "ano2=ols('Dentist~Method+Alloy',data=data).fit()\n",
    "two=sm.stats.anova_lm(ano2, type=2)\n",
    "two"
   ]
  },
  {
   "cell_type": "code",
   "execution_count": 20,
   "id": "9b825fde",
   "metadata": {
    "scrolled": true
   },
   "outputs": [
    {
     "data": {
      "text/html": [
       "<div>\n",
       "<style scoped>\n",
       "    .dataframe tbody tr th:only-of-type {\n",
       "        vertical-align: middle;\n",
       "    }\n",
       "\n",
       "    .dataframe tbody tr th {\n",
       "        vertical-align: top;\n",
       "    }\n",
       "\n",
       "    .dataframe thead th {\n",
       "        text-align: right;\n",
       "    }\n",
       "</style>\n",
       "<table border=\"1\" class=\"dataframe\">\n",
       "  <thead>\n",
       "    <tr style=\"text-align: right;\">\n",
       "      <th></th>\n",
       "      <th>df</th>\n",
       "      <th>sum_sq</th>\n",
       "      <th>mean_sq</th>\n",
       "      <th>F</th>\n",
       "      <th>PR(&gt;F)</th>\n",
       "    </tr>\n",
       "  </thead>\n",
       "  <tbody>\n",
       "    <tr>\n",
       "      <th>Method</th>\n",
       "      <td>1.0</td>\n",
       "      <td>3.081488e-33</td>\n",
       "      <td>3.081488e-33</td>\n",
       "      <td>1.472266e-33</td>\n",
       "      <td>1.0</td>\n",
       "    </tr>\n",
       "    <tr>\n",
       "      <th>Alloy</th>\n",
       "      <td>1.0</td>\n",
       "      <td>2.359264e-31</td>\n",
       "      <td>2.359264e-31</td>\n",
       "      <td>1.127204e-31</td>\n",
       "      <td>1.0</td>\n",
       "    </tr>\n",
       "    <tr>\n",
       "      <th>Temp</th>\n",
       "      <td>1.0</td>\n",
       "      <td>1.701752e-30</td>\n",
       "      <td>1.701752e-30</td>\n",
       "      <td>8.130591e-31</td>\n",
       "      <td>1.0</td>\n",
       "    </tr>\n",
       "    <tr>\n",
       "      <th>Residual</th>\n",
       "      <td>86.0</td>\n",
       "      <td>1.800000e+02</td>\n",
       "      <td>2.093023e+00</td>\n",
       "      <td>NaN</td>\n",
       "      <td>NaN</td>\n",
       "    </tr>\n",
       "  </tbody>\n",
       "</table>\n",
       "</div>"
      ],
      "text/plain": [
       "            df        sum_sq       mean_sq             F  PR(>F)\n",
       "Method     1.0  3.081488e-33  3.081488e-33  1.472266e-33     1.0\n",
       "Alloy      1.0  2.359264e-31  2.359264e-31  1.127204e-31     1.0\n",
       "Temp       1.0  1.701752e-30  1.701752e-30  8.130591e-31     1.0\n",
       "Residual  86.0  1.800000e+02  2.093023e+00           NaN     NaN"
      ]
     },
     "execution_count": 20,
     "metadata": {},
     "output_type": "execute_result"
    }
   ],
   "source": [
    "ano3=ols('Dentist~Method+Alloy+Temp',data=data).fit()\n",
    "three=sm.stats.anova_lm(ano3, type=2)\n",
    "three"
   ]
  },
  {
   "cell_type": "code",
   "execution_count": 21,
   "id": "ad495004",
   "metadata": {},
   "outputs": [
    {
     "data": {
      "text/html": [
       "<div>\n",
       "<style scoped>\n",
       "    .dataframe tbody tr th:only-of-type {\n",
       "        vertical-align: middle;\n",
       "    }\n",
       "\n",
       "    .dataframe tbody tr th {\n",
       "        vertical-align: top;\n",
       "    }\n",
       "\n",
       "    .dataframe thead th {\n",
       "        text-align: right;\n",
       "    }\n",
       "</style>\n",
       "<table border=\"1\" class=\"dataframe\">\n",
       "  <thead>\n",
       "    <tr style=\"text-align: right;\">\n",
       "      <th></th>\n",
       "      <th>df</th>\n",
       "      <th>sum_sq</th>\n",
       "      <th>mean_sq</th>\n",
       "      <th>F</th>\n",
       "      <th>PR(&gt;F)</th>\n",
       "    </tr>\n",
       "  </thead>\n",
       "  <tbody>\n",
       "    <tr>\n",
       "      <th>Method</th>\n",
       "      <td>1.0</td>\n",
       "      <td>3.081488e-33</td>\n",
       "      <td>3.081488e-33</td>\n",
       "      <td>1.472266e-33</td>\n",
       "      <td>1.0</td>\n",
       "    </tr>\n",
       "    <tr>\n",
       "      <th>Alloy</th>\n",
       "      <td>1.0</td>\n",
       "      <td>2.359264e-31</td>\n",
       "      <td>2.359264e-31</td>\n",
       "      <td>1.127204e-31</td>\n",
       "      <td>1.0</td>\n",
       "    </tr>\n",
       "    <tr>\n",
       "      <th>Temp</th>\n",
       "      <td>1.0</td>\n",
       "      <td>1.701752e-30</td>\n",
       "      <td>1.701752e-30</td>\n",
       "      <td>8.130591e-31</td>\n",
       "      <td>1.0</td>\n",
       "    </tr>\n",
       "    <tr>\n",
       "      <th>Residual</th>\n",
       "      <td>86.0</td>\n",
       "      <td>1.800000e+02</td>\n",
       "      <td>2.093023e+00</td>\n",
       "      <td>NaN</td>\n",
       "      <td>NaN</td>\n",
       "    </tr>\n",
       "  </tbody>\n",
       "</table>\n",
       "</div>"
      ],
      "text/plain": [
       "            df        sum_sq       mean_sq             F  PR(>F)\n",
       "Method     1.0  3.081488e-33  3.081488e-33  1.472266e-33     1.0\n",
       "Alloy      1.0  2.359264e-31  2.359264e-31  1.127204e-31     1.0\n",
       "Temp       1.0  1.701752e-30  1.701752e-30  8.130591e-31     1.0\n",
       "Residual  86.0  1.800000e+02  2.093023e+00           NaN     NaN"
      ]
     },
     "execution_count": 21,
     "metadata": {},
     "output_type": "execute_result"
    }
   ],
   "source": [
    "ano4=ols('Dentist~Method+Alloy+Temp+Response',data=data).fit()\n",
    "three=sm.stats.anova_lm(ano3, type=2)\n",
    "three"
   ]
  },
  {
   "cell_type": "code",
   "execution_count": 22,
   "id": "e56b8644",
   "metadata": {
    "scrolled": true
   },
   "outputs": [
    {
     "name": "stdout",
     "output_type": "stream",
     "text": [
      "<class 'pandas.core.frame.DataFrame'>\n",
      "RangeIndex: 107 entries, 0 to 106\n",
      "Data columns (total 5 columns):\n",
      " #   Column    Non-Null Count  Dtype  \n",
      "---  ------    --------------  -----  \n",
      " 0   Dentist   90 non-null     float64\n",
      " 1   Method    90 non-null     float64\n",
      " 2   Alloy     90 non-null     float64\n",
      " 3   Temp      90 non-null     float64\n",
      " 4   Response  90 non-null     float64\n",
      "dtypes: float64(5)\n",
      "memory usage: 4.3 KB\n"
     ]
    }
   ],
   "source": [
    "data.info()"
   ]
  },
  {
   "cell_type": "markdown",
   "id": "18019bc2",
   "metadata": {},
   "source": [
    "### Dental implant data: \n",
    "### The hardness of metal implant in dental cavities depends on multiple factors, such as the method of implant, the temperature at which the metal is treated, the alloy used as well as on the dentists who may favour one method above another and may work better in his/her favourite method. The response is the variable of interest.\n"
   ]
  },
  {
   "cell_type": "markdown",
   "id": "0517c3b2",
   "metadata": {},
   "source": [
    "#### If p_value is less than alpha_value, We have evidence to reject the null hypothesis since p value < Level of significance¶\n",
    "#### If p_value is greater than alpha_value, We fail to reject the null hypothesis since p value > Level of significance\n",
    "#### Since p_value > alpha_value, here we fail to reject the null hypothesis.\n",
    "\n"
   ]
  },
  {
   "cell_type": "markdown",
   "id": "27ef7a04",
   "metadata": {},
   "source": [
    "### H0 : The means of 'Response' variable with respect to each Dentist is equal.\n",
    "\n",
    "### H1 : At least one of the means of 'Response' variable with respect to each Dentist is unequal.\n"
   ]
  },
  {
   "cell_type": "markdown",
   "id": "dc86951d",
   "metadata": {},
   "source": [
    "### 1. Test whether there is any difference among the dentists on the implant hardness. State the null and alternative hypotheses. Note that both types of alloys cannot be considered together. You must state the null and alternative hypotheses separately for the two types of alloys.?"
   ]
  },
  {
   "cell_type": "code",
   "execution_count": 23,
   "id": "359f77c3",
   "metadata": {
    "scrolled": true
   },
   "outputs": [
    {
     "data": {
      "text/plain": [
       "743.0    6\n",
       "792.0    6\n",
       "813.0    5\n",
       "835.0    5\n",
       "715.0    5\n",
       "Name: Response, dtype: int64"
      ]
     },
     "execution_count": 23,
     "metadata": {},
     "output_type": "execute_result"
    }
   ],
   "source": [
    "data['Response'].value_counts().head()"
   ]
  },
  {
   "cell_type": "code",
   "execution_count": 24,
   "id": "f399826c",
   "metadata": {
    "scrolled": true
   },
   "outputs": [
    {
     "data": {
      "text/plain": [
       "1.0    18\n",
       "2.0    18\n",
       "3.0    18\n",
       "4.0    18\n",
       "5.0    18\n",
       "Name: Dentist, dtype: int64"
      ]
     },
     "execution_count": 24,
     "metadata": {},
     "output_type": "execute_result"
    }
   ],
   "source": [
    "data['Dentist'].value_counts()"
   ]
  },
  {
   "cell_type": "code",
   "execution_count": 25,
   "id": "f3142242",
   "metadata": {},
   "outputs": [
    {
     "data": {
      "text/html": [
       "<div>\n",
       "<style scoped>\n",
       "    .dataframe tbody tr th:only-of-type {\n",
       "        vertical-align: middle;\n",
       "    }\n",
       "\n",
       "    .dataframe tbody tr th {\n",
       "        vertical-align: top;\n",
       "    }\n",
       "\n",
       "    .dataframe thead th {\n",
       "        text-align: right;\n",
       "    }\n",
       "</style>\n",
       "<table border=\"1\" class=\"dataframe\">\n",
       "  <thead>\n",
       "    <tr style=\"text-align: right;\">\n",
       "      <th>Alloy</th>\n",
       "      <th>1.0</th>\n",
       "      <th>2.0</th>\n",
       "    </tr>\n",
       "    <tr>\n",
       "      <th>Dentist</th>\n",
       "      <th></th>\n",
       "      <th></th>\n",
       "    </tr>\n",
       "  </thead>\n",
       "  <tbody>\n",
       "    <tr>\n",
       "      <th>1.0</th>\n",
       "      <td>9</td>\n",
       "      <td>9</td>\n",
       "    </tr>\n",
       "    <tr>\n",
       "      <th>2.0</th>\n",
       "      <td>9</td>\n",
       "      <td>9</td>\n",
       "    </tr>\n",
       "    <tr>\n",
       "      <th>3.0</th>\n",
       "      <td>9</td>\n",
       "      <td>9</td>\n",
       "    </tr>\n",
       "    <tr>\n",
       "      <th>4.0</th>\n",
       "      <td>9</td>\n",
       "      <td>9</td>\n",
       "    </tr>\n",
       "    <tr>\n",
       "      <th>5.0</th>\n",
       "      <td>9</td>\n",
       "      <td>9</td>\n",
       "    </tr>\n",
       "  </tbody>\n",
       "</table>\n",
       "</div>"
      ],
      "text/plain": [
       "Alloy    1.0  2.0\n",
       "Dentist          \n",
       "1.0        9    9\n",
       "2.0        9    9\n",
       "3.0        9    9\n",
       "4.0        9    9\n",
       "5.0        9    9"
      ]
     },
     "execution_count": 25,
     "metadata": {},
     "output_type": "execute_result"
    }
   ],
   "source": [
    "pd.crosstab(data['Dentist'],data['Alloy'])\n"
   ]
  },
  {
   "cell_type": "code",
   "execution_count": 26,
   "id": "34e090ba",
   "metadata": {
    "scrolled": false
   },
   "outputs": [
    {
     "data": {
      "text/html": [
       "<div>\n",
       "<style scoped>\n",
       "    .dataframe tbody tr th:only-of-type {\n",
       "        vertical-align: middle;\n",
       "    }\n",
       "\n",
       "    .dataframe tbody tr th {\n",
       "        vertical-align: top;\n",
       "    }\n",
       "\n",
       "    .dataframe thead th {\n",
       "        text-align: right;\n",
       "    }\n",
       "</style>\n",
       "<table border=\"1\" class=\"dataframe\">\n",
       "  <thead>\n",
       "    <tr style=\"text-align: right;\">\n",
       "      <th></th>\n",
       "      <th>Dentist</th>\n",
       "      <th>Method</th>\n",
       "      <th>Alloy</th>\n",
       "      <th>Temp</th>\n",
       "      <th>Response</th>\n",
       "    </tr>\n",
       "  </thead>\n",
       "  <tbody>\n",
       "    <tr>\n",
       "      <th>0</th>\n",
       "      <td>1.0</td>\n",
       "      <td>1.0</td>\n",
       "      <td>1.0</td>\n",
       "      <td>1500.0</td>\n",
       "      <td>813.0</td>\n",
       "    </tr>\n",
       "    <tr>\n",
       "      <th>1</th>\n",
       "      <td>1.0</td>\n",
       "      <td>1.0</td>\n",
       "      <td>1.0</td>\n",
       "      <td>1600.0</td>\n",
       "      <td>792.0</td>\n",
       "    </tr>\n",
       "    <tr>\n",
       "      <th>2</th>\n",
       "      <td>1.0</td>\n",
       "      <td>1.0</td>\n",
       "      <td>1.0</td>\n",
       "      <td>1700.0</td>\n",
       "      <td>792.0</td>\n",
       "    </tr>\n",
       "    <tr>\n",
       "      <th>6</th>\n",
       "      <td>1.0</td>\n",
       "      <td>2.0</td>\n",
       "      <td>1.0</td>\n",
       "      <td>1500.0</td>\n",
       "      <td>782.0</td>\n",
       "    </tr>\n",
       "    <tr>\n",
       "      <th>7</th>\n",
       "      <td>1.0</td>\n",
       "      <td>2.0</td>\n",
       "      <td>1.0</td>\n",
       "      <td>1600.0</td>\n",
       "      <td>698.0</td>\n",
       "    </tr>\n",
       "  </tbody>\n",
       "</table>\n",
       "</div>"
      ],
      "text/plain": [
       "   Dentist  Method  Alloy    Temp  Response\n",
       "0      1.0     1.0    1.0  1500.0     813.0\n",
       "1      1.0     1.0    1.0  1600.0     792.0\n",
       "2      1.0     1.0    1.0  1700.0     792.0\n",
       "6      1.0     2.0    1.0  1500.0     782.0\n",
       "7      1.0     2.0    1.0  1600.0     698.0"
      ]
     },
     "execution_count": 26,
     "metadata": {},
     "output_type": "execute_result"
    }
   ],
   "source": [
    "data1 = data[data['Alloy']== 1.0]\n",
    "data1.head()"
   ]
  },
  {
   "cell_type": "code",
   "execution_count": 27,
   "id": "8ceb2f9a",
   "metadata": {
    "scrolled": true
   },
   "outputs": [
    {
     "data": {
      "text/html": [
       "<div>\n",
       "<style scoped>\n",
       "    .dataframe tbody tr th:only-of-type {\n",
       "        vertical-align: middle;\n",
       "    }\n",
       "\n",
       "    .dataframe tbody tr th {\n",
       "        vertical-align: top;\n",
       "    }\n",
       "\n",
       "    .dataframe thead th {\n",
       "        text-align: right;\n",
       "    }\n",
       "</style>\n",
       "<table border=\"1\" class=\"dataframe\">\n",
       "  <thead>\n",
       "    <tr style=\"text-align: right;\">\n",
       "      <th></th>\n",
       "      <th>Dentist</th>\n",
       "      <th>Method</th>\n",
       "      <th>Alloy</th>\n",
       "      <th>Temp</th>\n",
       "      <th>Response</th>\n",
       "    </tr>\n",
       "  </thead>\n",
       "  <tbody>\n",
       "    <tr>\n",
       "      <th>3</th>\n",
       "      <td>1.0</td>\n",
       "      <td>1.0</td>\n",
       "      <td>2.0</td>\n",
       "      <td>1500.0</td>\n",
       "      <td>907.0</td>\n",
       "    </tr>\n",
       "    <tr>\n",
       "      <th>4</th>\n",
       "      <td>1.0</td>\n",
       "      <td>1.0</td>\n",
       "      <td>2.0</td>\n",
       "      <td>1600.0</td>\n",
       "      <td>792.0</td>\n",
       "    </tr>\n",
       "    <tr>\n",
       "      <th>5</th>\n",
       "      <td>1.0</td>\n",
       "      <td>1.0</td>\n",
       "      <td>2.0</td>\n",
       "      <td>1700.0</td>\n",
       "      <td>835.0</td>\n",
       "    </tr>\n",
       "    <tr>\n",
       "      <th>9</th>\n",
       "      <td>1.0</td>\n",
       "      <td>2.0</td>\n",
       "      <td>2.0</td>\n",
       "      <td>1500.0</td>\n",
       "      <td>1115.0</td>\n",
       "    </tr>\n",
       "    <tr>\n",
       "      <th>10</th>\n",
       "      <td>1.0</td>\n",
       "      <td>2.0</td>\n",
       "      <td>2.0</td>\n",
       "      <td>1600.0</td>\n",
       "      <td>835.0</td>\n",
       "    </tr>\n",
       "  </tbody>\n",
       "</table>\n",
       "</div>"
      ],
      "text/plain": [
       "    Dentist  Method  Alloy    Temp  Response\n",
       "3       1.0     1.0    2.0  1500.0     907.0\n",
       "4       1.0     1.0    2.0  1600.0     792.0\n",
       "5       1.0     1.0    2.0  1700.0     835.0\n",
       "9       1.0     2.0    2.0  1500.0    1115.0\n",
       "10      1.0     2.0    2.0  1600.0     835.0"
      ]
     },
     "execution_count": 27,
     "metadata": {},
     "output_type": "execute_result"
    }
   ],
   "source": [
    "data2 = data[data['Alloy']== 2.0]\n",
    "data2.head()"
   ]
  },
  {
   "cell_type": "markdown",
   "id": "bd9e4145",
   "metadata": {},
   "source": [
    "### Formulate the Null and Alternate Hypothesis\n",
    "\n",
    "#### Null Hypothesis $H_0$ : The means of 'Response' variable with respect to each Dentist is equal.\n",
    "\n",
    "#### Alternate Hypothesis $H_A$ : At least one of the means of 'Response' variable with respect to each Dentist is unequal.\n"
   ]
  },
  {
   "cell_type": "code",
   "execution_count": null,
   "id": "aeb45b39",
   "metadata": {
    "scrolled": true
   },
   "outputs": [
    {
     "name": "stdout",
     "output_type": "stream",
     "text": [
      "            df         sum_sq       mean_sq         F    PR(>F)\n",
      "Dentist    1.0   94802.677778  94802.677778  7.392027  0.009409\n",
      "Residual  43.0  551474.566667  12824.989922       NaN       NaN\n"
     ]
    }
   ],
   "source": [
    "formula = 'Response ~ Dentist'\n",
    "model = ols(formula, data1).fit()\n",
    "aov_table = anova_lm(model)\n",
    "print(aov_table)"
   ]
  },
  {
   "cell_type": "code",
   "execution_count": null,
   "id": "14e411a1",
   "metadata": {},
   "outputs": [],
   "source": [
    "formula = 'Response ~ Dentist'\n",
    "model = ols(formula, data2).fit()\n",
    "aov_table = anova_lm(model)\n",
    "print(aov_table)"
   ]
  },
  {
   "cell_type": "code",
   "execution_count": null,
   "id": "fae26a12",
   "metadata": {
    "scrolled": false
   },
   "outputs": [],
   "source": [
    "data1.groupby('Dentist')['Response'].mean().head()"
   ]
  },
  {
   "cell_type": "code",
   "execution_count": null,
   "id": "c185e553",
   "metadata": {
    "scrolled": true
   },
   "outputs": [],
   "source": [
    "data2.groupby('Dentist')['Response'].mean().head() "
   ]
  },
  {
   "cell_type": "markdown",
   "id": "5c32cb10",
   "metadata": {},
   "source": [
    "### 2.Before the hypotheses may be tested, state the required assumptions. Are the assumptions fulfilled? Comment separately on both alloy types.? \n"
   ]
  },
  {
   "cell_type": "markdown",
   "id": "8e4d3261",
   "metadata": {},
   "source": [
    "#### Null Hypothesis $H_0$ : The means of 'Response' variable with respect to each Dentist is equal.\n",
    "\n",
    "#### Alternate Hypothesis $H_A$ : At least one of the means of 'Response' variable with respect to each Dentist is unequal.\n",
    "\n",
    "#### If p_value is less than alpha_value, We have evidence to reject the null hypothesis since p value < Level of significance¶\n",
    "#### If p_value is greater than alpha_value, We fail to reject the null hypothesis since p value > Level of significance\n",
    "#### Since p_value > alpha_value, here we fail to reject the null hypothesis.\n",
    "\n",
    "#### Comment separately on both alloy types.? \n",
    "p-values for both type of Alloys"
   ]
  },
  {
   "cell_type": "markdown",
   "id": "77a40af1",
   "metadata": {},
   "source": [
    "#### p-value for Alloy 1.0(data1) = 0.009409\n",
    "(Alternate Hypothesis) $H_A$ : At least one of the means of 'Response' variable with respect to each Dentist is unequal.\n",
    "above assumption is fulfilled for alloy 1.0"
   ]
  },
  {
   "cell_type": "markdown",
   "id": "b762afe8",
   "metadata": {},
   "source": [
    "#### p-value for Alloy 2.0(data2) = 0.14879\n",
    "(Null Hypothesis) $H_0$ : The means of 'Response' variable with respect to each Dentist is equal.\n",
    "above assumption is fulfilled for alloy 2.0"
   ]
  },
  {
   "cell_type": "markdown",
   "id": "e62301c5",
   "metadata": {},
   "source": [
    "### 3. Irrespective of your conclusion in 2, we will continue with the testing procedure. What do you conclude regarding whether implant hardness depends on dentists? Clearly state your conclusion. If the null hypothesis is rejected, is it possible to identify which pairs of dentists differ?\n"
   ]
  },
  {
   "cell_type": "markdown",
   "id": "1b2c5d9e",
   "metadata": {},
   "source": [
    "Interpretation: p-value for data1(Alloy1) = 0.009409\n",
    "#### **Conclusion: Since the p value is less than the significance level (0.05), we can reject the null hypothesis and conclude that there is a difference in the means of 'Response' variable is different with at least one dentist is unequal**\n",
    "\n",
    "Interpretation: p-value for data2(Alloy2) = 0.14879\n",
    "#### **Conclusion: Since the p value is greater than the significance level (0.05), we fail to reject the null hypothesis and conclude that there is no difference in the mean of  'Response' variable is different with at least one dentist is unequal **\n",
    "\n",
    "#### **If the null hypothesis is rejected is it possible to identify which pairs of dentists differ?**\n",
    "Dentist 4 & 5. Since, mean Response of dentist 4 & 5 for Alloy 1.0 and Alloy 2.0 differ largely   \n"
   ]
  },
  {
   "cell_type": "markdown",
   "id": "4b179d11",
   "metadata": {},
   "source": [
    "### 4. Now test whether there is any difference among the methods on the hardness of dental implant, separately for the two types of alloys. What are your conclusions? If the null hypothesis is rejected, is it possible to identify which pairs of methods differ?\n"
   ]
  },
  {
   "cell_type": "code",
   "execution_count": null,
   "id": "9ef950f8",
   "metadata": {},
   "outputs": [],
   "source": [
    "data.Method.value_counts()"
   ]
  },
  {
   "cell_type": "code",
   "execution_count": null,
   "id": "f96d6991",
   "metadata": {},
   "outputs": [],
   "source": [
    "formula = 'Response ~ Method'\n",
    "model = ols(formula, data1).fit()\n",
    "aov_table = anova_lm(model)\n",
    "print(aov_table)"
   ]
  },
  {
   "cell_type": "code",
   "execution_count": null,
   "id": "f15e0563",
   "metadata": {},
   "outputs": [],
   "source": [
    "formula = 'Response ~ Method'\n",
    "model = ols(formula, data2).fit()\n",
    "aov_table = anova_lm(model)\n",
    "print(aov_table)"
   ]
  },
  {
   "cell_type": "code",
   "execution_count": null,
   "id": "2ae4c32b",
   "metadata": {},
   "outputs": [],
   "source": [
    "data1.groupby('Method')['Response'].mean().head()"
   ]
  },
  {
   "cell_type": "code",
   "execution_count": null,
   "id": "1f570c95",
   "metadata": {
    "scrolled": true
   },
   "outputs": [],
   "source": [
    "data2.groupby('Method')['Response'].mean().head()"
   ]
  },
  {
   "cell_type": "markdown",
   "id": "34b19328",
   "metadata": {},
   "source": [
    "#### Null Hypothesis $H_0$ : The means of 'Response' variable with respect to each method is equal.\n",
    "\n",
    "#### Alternate Hypothesis $H_A$ : At least one of the means of 'Response' variable with respect to each method is unequal.\n",
    "\n",
    "\n",
    "Interpretation: p-value for data1(Alloy1) = 0.0036\n",
    "#### **Conclusion: Since the p value is less than the significance level (0.05), we can reject the null hupothesis and conclude that there is a difference in the means of 'Response' variable is different among the with at least one methods on the hardness of dental implant**\n",
    "\n",
    "Interpretation: p-value for data2(Alloy2) = 0.000149\n",
    "#### **Conclusion: Since the p value is less than the significance level (0.05), we can reject the null hupothesis and conclude that there is a difference in the means of 'Response' variable is different among the with at least one methods on the hardness of dental implant**\n",
    "\n",
    "#### **If the null hypothesis is rejected is it possible to identify which pairs of methods differ?\n",
    "since, null hypothesis of both methods are rejected for Alloy 1.0 and Alloy 2.0 we cannot identify which pair of method differ\n"
   ]
  },
  {
   "cell_type": "markdown",
   "id": "420d256f",
   "metadata": {},
   "source": [
    "### 5. Now test whether there is any difference among the temperature levels on the hardness of dental implant, separately for the two types of alloys. What are your conclusions? If the null hypothesis is rejected, is it possible to identify which levels of temperatures differ?\n"
   ]
  },
  {
   "cell_type": "code",
   "execution_count": null,
   "id": "d62d6bfe",
   "metadata": {},
   "outputs": [],
   "source": [
    "formula = 'Response ~ Temp'\n",
    "model = ols(formula, data1).fit()\n",
    "aov_table = anova_lm(model)\n",
    "print(aov_table)"
   ]
  },
  {
   "cell_type": "code",
   "execution_count": null,
   "id": "c77c322b",
   "metadata": {
    "scrolled": true
   },
   "outputs": [],
   "source": [
    "formula = 'Response ~ Temp'\n",
    "model = ols(formula, data2).fit()\n",
    "aov_table = anova_lm(model)\n",
    "print(aov_table)"
   ]
  },
  {
   "cell_type": "code",
   "execution_count": null,
   "id": "4558ce39",
   "metadata": {},
   "outputs": [],
   "source": [
    "data1.groupby('Temp')['Response'].mean().head()"
   ]
  },
  {
   "cell_type": "code",
   "execution_count": null,
   "id": "b970cf05",
   "metadata": {},
   "outputs": [],
   "source": [
    "data2.groupby('Temp')['Response'].mean().head()"
   ]
  },
  {
   "cell_type": "markdown",
   "id": "69ab0c1a",
   "metadata": {},
   "source": [
    "#### Null Hypothesis $H_0$ : The means of 'Response' variable with respect to each temperature is equal. \n",
    "\n",
    "#### Alternate Hypothesis $H_A$ : At least one of the means of 'Response' variable with respect to each temperature is unequal.\n",
    "\n",
    "\n",
    "Interpretation: p-value for data1(Alloy1) = 0.413618\n",
    "#### **Conclusion: Since the p value is greater than the significance level (0.05), we fail to reject the null hypothesis and conclude that there is no difference in the means of 'Response' variable is different with at least one among the temperature levels is unequal**\n",
    "\n",
    "Interpretation: p-value for data2(Alloy2) = 0.067246\n",
    "#### **Conclusion: Since the p value is greater than the significance level (0.05), we fail to reject the null hypothesis and conclude that there is no difference in the means of 'Response' variable is different with at least one among the temperature levels is unequal**\n",
    "\n",
    "#### **If the null hypothesis is rejected is it possible to identify which pairs of temperature differ?\n",
    "since, null hypothesis of all given temperatures are accepted for Alloy 1.0 and Alloy 2.0 we cannot identify which pair of temperature differ\n"
   ]
  },
  {
   "cell_type": "markdown",
   "id": "05536c64",
   "metadata": {},
   "source": [
    "### 6. Consider the interaction effect of dentist and method and comment on the interaction plot, separately for the two types of alloys?\n"
   ]
  },
  {
   "cell_type": "code",
   "execution_count": null,
   "id": "b03b3cc7",
   "metadata": {
    "scrolled": true
   },
   "outputs": [],
   "source": [
    "sns.pointplot(x='Dentist', y='Response', data=data1,color='black', hue='Alloy',ci=None);\n",
    "sns.pointplot(x='Dentist', y='Response', data=data2,color=None, hue='Alloy',ci=None);"
   ]
  },
  {
   "cell_type": "markdown",
   "id": "6417d61e",
   "metadata": {},
   "source": [
    "#### From the above interaction plot, since the both lines are not crossing each other, that means there is no interaction effect of these 2 variables."
   ]
  },
  {
   "cell_type": "code",
   "execution_count": null,
   "id": "90319b40",
   "metadata": {
    "scrolled": true
   },
   "outputs": [],
   "source": [
    "sns.pointplot(x='Method', y='Response', data=data1, color='black', hue='Alloy',ci=None);\n",
    "sns.pointplot(x='Method', y='Response', data=data2, hue='Alloy',ci=None);"
   ]
  },
  {
   "cell_type": "markdown",
   "id": "45db7e9e",
   "metadata": {},
   "source": [
    "#### From the above interaction plot, since the both lines are crossing each other, that means there is an interaction effect of these 2 variables."
   ]
  },
  {
   "cell_type": "markdown",
   "id": "2674f5ac",
   "metadata": {},
   "source": [
    "### 7. Now consider the effect of both factors, dentist, and method, separately on each alloy. What do you conclude? Is it possible to identify which dentists are different, which methods are different, and which interaction levels are different?\n"
   ]
  },
  {
   "cell_type": "code",
   "execution_count": null,
   "id": "84322901",
   "metadata": {},
   "outputs": [],
   "source": [
    "formula = 'Response ~ C(Dentist) + C(Method)'\n",
    "model = ols(formula, data1).fit()\n",
    "aov_table = anova_lm(model)\n",
    "print(aov_table)\n"
   ]
  },
  {
   "cell_type": "code",
   "execution_count": null,
   "id": "25640ccb",
   "metadata": {
    "scrolled": false
   },
   "outputs": [],
   "source": [
    "formula = 'Response ~ C(Dentist) + C(Method)'\n",
    "model = ols(formula, data2).fit()\n",
    "aov_table = anova_lm(model)\n",
    "print(aov_table)\n"
   ]
  },
  {
   "cell_type": "code",
   "execution_count": null,
   "id": "f0837562",
   "metadata": {},
   "outputs": [],
   "source": [
    "data1.groupby(['Dentist','Method'])['Response'].mean()"
   ]
  },
  {
   "cell_type": "code",
   "execution_count": null,
   "id": "5d316584",
   "metadata": {
    "scrolled": true
   },
   "outputs": [],
   "source": [
    "data2.groupby(['Dentist','Method'])['Response'].mean()"
   ]
  },
  {
   "cell_type": "markdown",
   "id": "a934c8cc",
   "metadata": {},
   "source": [
    "####  1: Null Hypothesis $H_0$ : The means of 'Response' variable with respect to each dentist is equal. \n",
    "\n",
    "#### Alternate Hypothesis $H_A$ : At least one of the means of 'Response' variable with respect to each dentist is unequal.\n",
    "\n",
    "#### 2: Null Hypothesis $H_0$ : The means of 'Response' variable with respect to each method is equal. \n",
    "\n",
    "#### Alternate Hypothesis $H_A$ : At least one of the means of 'Response' variable with respect to each method is unequal.\n",
    "\n",
    "\n",
    "C(Dentist) Interpretation: p-value for data1(Alloy1) = C(Dentist)  0.051875\n",
    "#### **Conclusion: Since the p value is greater than the significance level (0.05), we fail to reject the null hypothesis and conclude that there is no difference in the means of 'Response' variable is different with at least one among the dentist is unequal**\n",
    "\n",
    "C(Method) Interpretation: p-value for data1(Alloy1) = C(Method)   0.002211\n",
    "#### **Conclusion: Since the p value is less than the significance level (0.05), we can reject the null hypothesis and conclude that there is a difference in the means of 'Response' variable is different with at least one method is unequal**\n",
    "\n",
    "\n",
    "\n",
    "C(Dentist) Interpretation: p-value for data2(Alloy2) = C(Dentist)   0.458933\n",
    "#### **Conclusion: Since the p value is less than the significance level (0.05), we can reject the null hypothesis and conclude that there is a difference in the means of 'Response' variable is different with at least one Dentist is unequal**\n",
    "\n",
    "C(Method) Interpretation: p-value for data2(Alloy2) = C(Method)   0.000008\n",
    "#### **Conclusion: Since the p value is less than the significance level (0.05), we can reject the null hypothesis and conclude that there is a difference in the means of 'Response' variable is different with at least one method is unequal**\n",
    "\n",
    "\n",
    "\n",
    "#### **If the null hypothesis is rejected is it possible to identify which pairs of Dentist and  method differ?\n",
    "\n",
    "since, null hypothesis of all given temperatures are accepted for Alloy 1.0 and Alloy 2.0 we cannot identify which pair of temperature differ"
   ]
  },
  {
   "cell_type": "code",
   "execution_count": null,
   "id": "81987ae4",
   "metadata": {
    "scrolled": true
   },
   "outputs": [],
   "source": [
    "import matplotlib.pyplot as plt\n",
    "plt.subplots(figsize=(10,5))\n",
    "sns.boxplot(x='Dentist', y='Response', hue='Alloy', data=data)"
   ]
  },
  {
   "cell_type": "code",
   "execution_count": null,
   "id": "488eb3cc",
   "metadata": {},
   "outputs": [],
   "source": [
    "import matplotlib.pyplot as plt\n",
    "plt.subplots(figsize=(10,5))\n",
    "sns.boxplot(x='Method', y='Response', hue='Alloy', data=data)"
   ]
  }
 ],
 "metadata": {
  "kernelspec": {
   "display_name": "Python 3 (ipykernel)",
   "language": "python",
   "name": "python3"
  },
  "language_info": {
   "codemirror_mode": {
    "name": "ipython",
    "version": 3
   },
   "file_extension": ".py",
   "mimetype": "text/x-python",
   "name": "python",
   "nbconvert_exporter": "python",
   "pygments_lexer": "ipython3",
   "version": "3.9.12"
  }
 },
 "nbformat": 4,
 "nbformat_minor": 5
}
