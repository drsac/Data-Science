{
 "cells": [
  {
   "cell_type": "markdown",
   "id": "220a383b",
   "metadata": {},
   "source": [
    "<font color='blue'>\n",
    "    <font size = 5>\n",
    "        You have been given the role of a business analyst for an E-Commerce company and have been asked to prepare a basic report on the data. Follow the steps below for preparation of the report. \n",
    "\n",
    "Before you start analysing the data, it is always a good practice to see the size of the data, its features and feature types. If the data set is big, it is not possible to print out all the records. \n",
    "    </font>\n",
    "####  Note: Use the markdown feature of Python to explain your answer.\n",
    "    "
   ]
  },
  {
   "cell_type": "markdown",
   "id": "491260d0",
   "metadata": {},
   "source": [
    "## Load the necessary libraries. Import and load the dataset with a name ECom_Data ."
   ]
  },
  {
   "cell_type": "code",
   "execution_count": 1,
   "id": "d20b6920",
   "metadata": {},
   "outputs": [],
   "source": [
    "#impot libraries\n",
    "import numpy as np\n",
    "import pandas as pd\n",
    "import matplotlib.pyplot as plt\n",
    "import seaborn as sns\n",
    "pd.options.display.max_rows = 20"
   ]
  },
  {
   "cell_type": "code",
   "execution_count": 2,
   "id": "a7373efc",
   "metadata": {
    "scrolled": true
   },
   "outputs": [],
   "source": [
    "# Get the Data and load the data set\n",
    "ECom_Data=pd.read_csv(\"E-Commerce_Flipkart.csv\")"
   ]
  },
  {
   "cell_type": "markdown",
   "id": "50829591",
   "metadata": {},
   "source": [
    "<font color='blue'>\n",
    "    <font size = 5>\n",
    "        We have read the data and stored the data in \"ECom_Data\" variable </font>"
   ]
  },
  {
   "cell_type": "markdown",
   "id": "452c03dc",
   "metadata": {},
   "source": [
    "## Q 1.\tTo get familiar with the data\n",
    "## a)\tPrint out the first 10 and the last 10 records of the data. (2 marks)\n",
    "## b)\tHow many rows and columns are present in the dataset? Use any two different methods to extract this information. (2 + 2 + 2 marks)\n",
    "## c)\tHow many object data types are there? (1 mark)\n",
    "## d)\tIs there any Boolean data type? (1 mark) \n",
    "#### Note: Use the markdown feature of Python to explain your answer.\n"
   ]
  },
  {
   "cell_type": "markdown",
   "id": "a798c021",
   "metadata": {},
   "source": [
    "#### Ans 1 a)"
   ]
  },
  {
   "cell_type": "code",
   "execution_count": 3,
   "id": "e5e188c6",
   "metadata": {},
   "outputs": [
    {
     "data": {
      "text/html": [
       "<div>\n",
       "<style scoped>\n",
       "    .dataframe tbody tr th:only-of-type {\n",
       "        vertical-align: middle;\n",
       "    }\n",
       "\n",
       "    .dataframe tbody tr th {\n",
       "        vertical-align: top;\n",
       "    }\n",
       "\n",
       "    .dataframe thead th {\n",
       "        text-align: right;\n",
       "    }\n",
       "</style>\n",
       "<table border=\"1\" class=\"dataframe\">\n",
       "  <thead>\n",
       "    <tr style=\"text-align: right;\">\n",
       "      <th></th>\n",
       "      <th>Customer_uniq_id</th>\n",
       "      <th>Region</th>\n",
       "      <th>Order_Date</th>\n",
       "      <th>Expected_Delivery_Date</th>\n",
       "      <th>Delivered_Date</th>\n",
       "      <th>product_name</th>\n",
       "      <th>product_main_category</th>\n",
       "      <th>product_subcategory</th>\n",
       "      <th>product_category_filter</th>\n",
       "      <th>product_category_subfilter</th>\n",
       "      <th>product_unique ID</th>\n",
       "      <th>retail_price</th>\n",
       "      <th>discounted_price</th>\n",
       "      <th>product_rating</th>\n",
       "      <th>Brand</th>\n",
       "      <th>product_specifications</th>\n",
       "      <th>description</th>\n",
       "    </tr>\n",
       "  </thead>\n",
       "  <tbody>\n",
       "    <tr>\n",
       "      <th>0</th>\n",
       "      <td>c2d766ca982eca8304150849735ffef9</td>\n",
       "      <td>North</td>\n",
       "      <td>31-12-2021</td>\n",
       "      <td>03-01-2022</td>\n",
       "      <td>02-01-2022</td>\n",
       "      <td>Alisha Solid Women's Cycling Shorts</td>\n",
       "      <td>Clothing</td>\n",
       "      <td>Women's Clothing</td>\n",
       "      <td>Lingerie, Sleep &amp; Swimwear</td>\n",
       "      <td>Shorts</td>\n",
       "      <td>SRTEH2FF9KEDEFGF</td>\n",
       "      <td>999</td>\n",
       "      <td>379</td>\n",
       "      <td>2.0</td>\n",
       "      <td>Alisha</td>\n",
       "      <td>{\"product_specification\"=&gt;[{\"key\"=&gt;\"Number of ...</td>\n",
       "      <td>Key Features of Alisha Solid Women's Cycling S...</td>\n",
       "    </tr>\n",
       "    <tr>\n",
       "      <th>1</th>\n",
       "      <td>7f7036a6d550aaa89d34c77bd39a5e48</td>\n",
       "      <td>East</td>\n",
       "      <td>31-12-2021</td>\n",
       "      <td>03-01-2022</td>\n",
       "      <td>02-01-2022</td>\n",
       "      <td>FabHomeDecor Fabric Double Sofa Bed</td>\n",
       "      <td>Furniture</td>\n",
       "      <td>Living Room Furniture</td>\n",
       "      <td>Sofa Beds &amp; Futons</td>\n",
       "      <td>FabHomeDecor Fabric Double Sofa Bed (Finish C...</td>\n",
       "      <td>SBEEH3QGU7MFYJFY</td>\n",
       "      <td>32157</td>\n",
       "      <td>22646</td>\n",
       "      <td>2.0</td>\n",
       "      <td>FabHomeDecor</td>\n",
       "      <td>{\"product_specification\"=&gt;[{\"key\"=&gt;\"Installati...</td>\n",
       "      <td>FabHomeDecor Fabric Double Sofa Bed (Finish Co...</td>\n",
       "    </tr>\n",
       "    <tr>\n",
       "      <th>2</th>\n",
       "      <td>f449ec65dcbc041b6ae5e6a32717d01b</td>\n",
       "      <td>East</td>\n",
       "      <td>31-12-2021</td>\n",
       "      <td>03-01-2022</td>\n",
       "      <td>02-01-2022</td>\n",
       "      <td>AW Bellies</td>\n",
       "      <td>Footwear</td>\n",
       "      <td>Women's Footwear</td>\n",
       "      <td>Ballerinas</td>\n",
       "      <td>AW Bellies</td>\n",
       "      <td>SHOEH4GRSUBJGZXE</td>\n",
       "      <td>999</td>\n",
       "      <td>499</td>\n",
       "      <td>1.0</td>\n",
       "      <td>AW</td>\n",
       "      <td>{\"product_specification\"=&gt;[{\"key\"=&gt;\"Ideal For\"...</td>\n",
       "      <td>Key Features of AW Bellies Sandals Wedges Heel...</td>\n",
       "    </tr>\n",
       "    <tr>\n",
       "      <th>3</th>\n",
       "      <td>0973b37acd0c664e3de26e97e5571454</td>\n",
       "      <td>West</td>\n",
       "      <td>31-12-2021</td>\n",
       "      <td>03-01-2022</td>\n",
       "      <td>02-01-2022</td>\n",
       "      <td>Alisha Solid Women's Cycling Shorts</td>\n",
       "      <td>Clothing</td>\n",
       "      <td>Women's Clothing</td>\n",
       "      <td>Lingerie, Sleep &amp; Swimwear</td>\n",
       "      <td>Shorts</td>\n",
       "      <td>SRTEH2F6HUZMQ6SJ</td>\n",
       "      <td>699</td>\n",
       "      <td>267</td>\n",
       "      <td>5.0</td>\n",
       "      <td>Alisha</td>\n",
       "      <td>{\"product_specification\"=&gt;[{\"key\"=&gt;\"Number of ...</td>\n",
       "      <td>Key Features of Alisha Solid Women's Cycling S...</td>\n",
       "    </tr>\n",
       "    <tr>\n",
       "      <th>4</th>\n",
       "      <td>bc940ea42ee6bef5ac7cea3fb5cfbee7</td>\n",
       "      <td>West</td>\n",
       "      <td>31-12-2021</td>\n",
       "      <td>03-01-2022</td>\n",
       "      <td>02-01-2022</td>\n",
       "      <td>Sicons All Purpose Arnica Dog Shampoo</td>\n",
       "      <td>Pet Supplies</td>\n",
       "      <td>Grooming</td>\n",
       "      <td>Skin &amp; Coat Care</td>\n",
       "      <td>Shampoo</td>\n",
       "      <td>PSOEH3ZYDMSYARJ5</td>\n",
       "      <td>220</td>\n",
       "      <td>210</td>\n",
       "      <td>5.0</td>\n",
       "      <td>Sicons</td>\n",
       "      <td>{\"product_specification\"=&gt;[{\"key\"=&gt;\"Pet Type\",...</td>\n",
       "      <td>Specifications of Sicons All Purpose Arnica Do...</td>\n",
       "    </tr>\n",
       "    <tr>\n",
       "      <th>5</th>\n",
       "      <td>ce5a6818f7707e2cb61fdcdbba61f5ad</td>\n",
       "      <td>East</td>\n",
       "      <td>25-12-2021</td>\n",
       "      <td>28-12-2021</td>\n",
       "      <td>27-12-2021</td>\n",
       "      <td>Alisha Solid Women's Cycling Shorts</td>\n",
       "      <td>Clothing</td>\n",
       "      <td>Women's Clothing</td>\n",
       "      <td>Lingerie, Sleep &amp; Swimwear</td>\n",
       "      <td>Shorts</td>\n",
       "      <td>SRTEH2FVVKRBAXHB</td>\n",
       "      <td>1199</td>\n",
       "      <td>479</td>\n",
       "      <td>4.0</td>\n",
       "      <td>Alisha</td>\n",
       "      <td>{\"product_specification\"=&gt;[{\"key\"=&gt;\"Number of ...</td>\n",
       "      <td>Key Features of Alisha Solid Women's Cycling S...</td>\n",
       "    </tr>\n",
       "    <tr>\n",
       "      <th>6</th>\n",
       "      <td>8542703ca9e6ebdf6d742638dfb1f2ca</td>\n",
       "      <td>East</td>\n",
       "      <td>25-12-2021</td>\n",
       "      <td>28-12-2021</td>\n",
       "      <td>27-12-2021</td>\n",
       "      <td>FabHomeDecor Fabric Double Sofa Bed</td>\n",
       "      <td>Furniture</td>\n",
       "      <td>Living Room Furniture</td>\n",
       "      <td>Sofa Beds &amp; Futons</td>\n",
       "      <td>FabHomeDecor Fabric Double Sofa Bed (Finish C...</td>\n",
       "      <td>SBEEH3QGYGHFUEXN</td>\n",
       "      <td>32157</td>\n",
       "      <td>22646</td>\n",
       "      <td>2.0</td>\n",
       "      <td>FabHomeDecor</td>\n",
       "      <td>{\"product_specification\"=&gt;[{\"key\"=&gt;\"Installati...</td>\n",
       "      <td>FabHomeDecor Fabric Double Sofa Bed (Finish Co...</td>\n",
       "    </tr>\n",
       "    <tr>\n",
       "      <th>7</th>\n",
       "      <td>29c8d290caa451f97b1c32df64477a2c</td>\n",
       "      <td>North</td>\n",
       "      <td>25-12-2021</td>\n",
       "      <td>28-12-2021</td>\n",
       "      <td>27-12-2021</td>\n",
       "      <td>dilli bazaaar Bellies, Corporate Casuals, Casuals</td>\n",
       "      <td>Footwear</td>\n",
       "      <td>Women's Footwear</td>\n",
       "      <td>Ballerinas</td>\n",
       "      <td>dilli bazaaar Bellies, Corporate Casuals, Cas...</td>\n",
       "      <td>SHOEH3DZBFR88SCK</td>\n",
       "      <td>699</td>\n",
       "      <td>349</td>\n",
       "      <td>5.0</td>\n",
       "      <td>dilli bazaaar</td>\n",
       "      <td>{\"product_specification\"=&gt;[{\"key\"=&gt;\"Occasion\",...</td>\n",
       "      <td>Key Features of dilli bazaaar Bellies, Corpora...</td>\n",
       "    </tr>\n",
       "    <tr>\n",
       "      <th>8</th>\n",
       "      <td>4044c0ac52c1ee4b28777417651faf42</td>\n",
       "      <td>East</td>\n",
       "      <td>25-12-2021</td>\n",
       "      <td>28-12-2021</td>\n",
       "      <td>27-12-2021</td>\n",
       "      <td>Alisha Solid Women's Cycling Shorts</td>\n",
       "      <td>Clothing</td>\n",
       "      <td>Women's Clothing</td>\n",
       "      <td>Lingerie, Sleep &amp; Swimwear</td>\n",
       "      <td>Shorts</td>\n",
       "      <td>SRTEH2FVUHAAVH9X</td>\n",
       "      <td>1199</td>\n",
       "      <td>479</td>\n",
       "      <td>1.0</td>\n",
       "      <td>Alisha</td>\n",
       "      <td>{\"product_specification\"=&gt;[{\"key\"=&gt;\"Number of ...</td>\n",
       "      <td>Key Features of Alisha Solid Women's Cycling S...</td>\n",
       "    </tr>\n",
       "    <tr>\n",
       "      <th>9</th>\n",
       "      <td>e54bc0a7c3429da2ebef0b30331fe3d2</td>\n",
       "      <td>East</td>\n",
       "      <td>25-12-2021</td>\n",
       "      <td>28-12-2021</td>\n",
       "      <td>27-12-2021</td>\n",
       "      <td>Ladela Bellies</td>\n",
       "      <td>Footwear</td>\n",
       "      <td>Women's Footwear</td>\n",
       "      <td>Ballerinas</td>\n",
       "      <td>Ladela Bellies</td>\n",
       "      <td>SHOEH4KM2W3Z6EH5</td>\n",
       "      <td>1724</td>\n",
       "      <td>950</td>\n",
       "      <td>5.0</td>\n",
       "      <td>Ladela</td>\n",
       "      <td>{\"product_specification\"=&gt;[{\"key\"=&gt;\"Occasion\",...</td>\n",
       "      <td>Key Features of Ladela Bellies Brand: LADELA C...</td>\n",
       "    </tr>\n",
       "  </tbody>\n",
       "</table>\n",
       "</div>"
      ],
      "text/plain": [
       "                   Customer_uniq_id Region  Order_Date Expected_Delivery_Date  \\\n",
       "0  c2d766ca982eca8304150849735ffef9  North  31-12-2021             03-01-2022   \n",
       "1  7f7036a6d550aaa89d34c77bd39a5e48  East   31-12-2021             03-01-2022   \n",
       "2  f449ec65dcbc041b6ae5e6a32717d01b  East   31-12-2021             03-01-2022   \n",
       "3  0973b37acd0c664e3de26e97e5571454   West  31-12-2021             03-01-2022   \n",
       "4  bc940ea42ee6bef5ac7cea3fb5cfbee7   West  31-12-2021             03-01-2022   \n",
       "5  ce5a6818f7707e2cb61fdcdbba61f5ad  East   25-12-2021             28-12-2021   \n",
       "6  8542703ca9e6ebdf6d742638dfb1f2ca  East   25-12-2021             28-12-2021   \n",
       "7  29c8d290caa451f97b1c32df64477a2c  North  25-12-2021             28-12-2021   \n",
       "8  4044c0ac52c1ee4b28777417651faf42  East   25-12-2021             28-12-2021   \n",
       "9  e54bc0a7c3429da2ebef0b30331fe3d2  East   25-12-2021             28-12-2021   \n",
       "\n",
       "  Delivered_Date                                       product_name  \\\n",
       "0     02-01-2022                Alisha Solid Women's Cycling Shorts   \n",
       "1     02-01-2022                FabHomeDecor Fabric Double Sofa Bed   \n",
       "2     02-01-2022                                         AW Bellies   \n",
       "3     02-01-2022                Alisha Solid Women's Cycling Shorts   \n",
       "4     02-01-2022              Sicons All Purpose Arnica Dog Shampoo   \n",
       "5     27-12-2021                Alisha Solid Women's Cycling Shorts   \n",
       "6     27-12-2021                FabHomeDecor Fabric Double Sofa Bed   \n",
       "7     27-12-2021  dilli bazaaar Bellies, Corporate Casuals, Casuals   \n",
       "8     27-12-2021                Alisha Solid Women's Cycling Shorts   \n",
       "9     27-12-2021                                     Ladela Bellies   \n",
       "\n",
       "  product_main_category      product_subcategory  \\\n",
       "0             Clothing         Women's Clothing    \n",
       "1            Furniture    Living Room Furniture    \n",
       "2             Footwear         Women's Footwear    \n",
       "3             Clothing         Women's Clothing    \n",
       "4         Pet Supplies                 Grooming    \n",
       "5             Clothing         Women's Clothing    \n",
       "6            Furniture    Living Room Furniture    \n",
       "7             Footwear         Women's Footwear    \n",
       "8             Clothing         Women's Clothing    \n",
       "9             Footwear         Women's Footwear    \n",
       "\n",
       "        product_category_filter  \\\n",
       "0   Lingerie, Sleep & Swimwear    \n",
       "1           Sofa Beds & Futons    \n",
       "2                   Ballerinas    \n",
       "3   Lingerie, Sleep & Swimwear    \n",
       "4             Skin & Coat Care    \n",
       "5   Lingerie, Sleep & Swimwear    \n",
       "6           Sofa Beds & Futons    \n",
       "7                   Ballerinas    \n",
       "8   Lingerie, Sleep & Swimwear    \n",
       "9                   Ballerinas    \n",
       "\n",
       "                          product_category_subfilter product_unique ID  \\\n",
       "0                                            Shorts   SRTEH2FF9KEDEFGF   \n",
       "1   FabHomeDecor Fabric Double Sofa Bed (Finish C...  SBEEH3QGU7MFYJFY   \n",
       "2                                         AW Bellies  SHOEH4GRSUBJGZXE   \n",
       "3                                            Shorts   SRTEH2F6HUZMQ6SJ   \n",
       "4                                           Shampoo   PSOEH3ZYDMSYARJ5   \n",
       "5                                            Shorts   SRTEH2FVVKRBAXHB   \n",
       "6   FabHomeDecor Fabric Double Sofa Bed (Finish C...  SBEEH3QGYGHFUEXN   \n",
       "7   dilli bazaaar Bellies, Corporate Casuals, Cas...  SHOEH3DZBFR88SCK   \n",
       "8                                            Shorts   SRTEH2FVUHAAVH9X   \n",
       "9                                     Ladela Bellies  SHOEH4KM2W3Z6EH5   \n",
       "\n",
       "   retail_price  discounted_price  product_rating          Brand  \\\n",
       "0           999               379             2.0         Alisha   \n",
       "1         32157             22646             2.0   FabHomeDecor   \n",
       "2           999               499             1.0             AW   \n",
       "3           699               267             5.0         Alisha   \n",
       "4           220               210             5.0         Sicons   \n",
       "5          1199               479             4.0         Alisha   \n",
       "6         32157             22646             2.0   FabHomeDecor   \n",
       "7           699               349             5.0  dilli bazaaar   \n",
       "8          1199               479             1.0         Alisha   \n",
       "9          1724               950             5.0         Ladela   \n",
       "\n",
       "                              product_specifications  \\\n",
       "0  {\"product_specification\"=>[{\"key\"=>\"Number of ...   \n",
       "1  {\"product_specification\"=>[{\"key\"=>\"Installati...   \n",
       "2  {\"product_specification\"=>[{\"key\"=>\"Ideal For\"...   \n",
       "3  {\"product_specification\"=>[{\"key\"=>\"Number of ...   \n",
       "4  {\"product_specification\"=>[{\"key\"=>\"Pet Type\",...   \n",
       "5  {\"product_specification\"=>[{\"key\"=>\"Number of ...   \n",
       "6  {\"product_specification\"=>[{\"key\"=>\"Installati...   \n",
       "7  {\"product_specification\"=>[{\"key\"=>\"Occasion\",...   \n",
       "8  {\"product_specification\"=>[{\"key\"=>\"Number of ...   \n",
       "9  {\"product_specification\"=>[{\"key\"=>\"Occasion\",...   \n",
       "\n",
       "                                         description  \n",
       "0  Key Features of Alisha Solid Women's Cycling S...  \n",
       "1  FabHomeDecor Fabric Double Sofa Bed (Finish Co...  \n",
       "2  Key Features of AW Bellies Sandals Wedges Heel...  \n",
       "3  Key Features of Alisha Solid Women's Cycling S...  \n",
       "4  Specifications of Sicons All Purpose Arnica Do...  \n",
       "5  Key Features of Alisha Solid Women's Cycling S...  \n",
       "6  FabHomeDecor Fabric Double Sofa Bed (Finish Co...  \n",
       "7  Key Features of dilli bazaaar Bellies, Corpora...  \n",
       "8  Key Features of Alisha Solid Women's Cycling S...  \n",
       "9  Key Features of Ladela Bellies Brand: LADELA C...  "
      ]
     },
     "execution_count": 3,
     "metadata": {},
     "output_type": "execute_result"
    }
   ],
   "source": [
    "# Head function to to the frist 10 records\n",
    "ECom_Data.head(10)"
   ]
  },
  {
   "cell_type": "code",
   "execution_count": 4,
   "id": "4b16b5ec",
   "metadata": {
    "scrolled": false
   },
   "outputs": [
    {
     "data": {
      "text/html": [
       "<div>\n",
       "<style scoped>\n",
       "    .dataframe tbody tr th:only-of-type {\n",
       "        vertical-align: middle;\n",
       "    }\n",
       "\n",
       "    .dataframe tbody tr th {\n",
       "        vertical-align: top;\n",
       "    }\n",
       "\n",
       "    .dataframe thead th {\n",
       "        text-align: right;\n",
       "    }\n",
       "</style>\n",
       "<table border=\"1\" class=\"dataframe\">\n",
       "  <thead>\n",
       "    <tr style=\"text-align: right;\">\n",
       "      <th></th>\n",
       "      <th>Customer_uniq_id</th>\n",
       "      <th>Region</th>\n",
       "      <th>Order_Date</th>\n",
       "      <th>Expected_Delivery_Date</th>\n",
       "      <th>Delivered_Date</th>\n",
       "      <th>product_name</th>\n",
       "      <th>product_main_category</th>\n",
       "      <th>product_subcategory</th>\n",
       "      <th>product_category_filter</th>\n",
       "      <th>product_category_subfilter</th>\n",
       "      <th>product_unique ID</th>\n",
       "      <th>retail_price</th>\n",
       "      <th>discounted_price</th>\n",
       "      <th>product_rating</th>\n",
       "      <th>Brand</th>\n",
       "      <th>product_specifications</th>\n",
       "      <th>description</th>\n",
       "    </tr>\n",
       "  </thead>\n",
       "  <tbody>\n",
       "    <tr>\n",
       "      <th>8917</th>\n",
       "      <td>4db03bc4ccbe216cf151b2f2b904ba3f</td>\n",
       "      <td>East</td>\n",
       "      <td>01-12-2020</td>\n",
       "      <td>04-12-2020</td>\n",
       "      <td>04-12-2020</td>\n",
       "      <td>Luca Fashion Girls Heels</td>\n",
       "      <td>Footwear</td>\n",
       "      <td>Kids' &amp; Infant Footwear</td>\n",
       "      <td>For Girls</td>\n",
       "      <td>Sandals</td>\n",
       "      <td>SNDEHG3DNVBFGAT5</td>\n",
       "      <td>999</td>\n",
       "      <td>499</td>\n",
       "      <td>4.0</td>\n",
       "      <td>Luca Fashion</td>\n",
       "      <td>{\"product_specification\"=&gt;[{\"key\"=&gt;\"Occasion\",...</td>\n",
       "      <td>Key Features of Luca Fashion Girls Heels Occas...</td>\n",
       "    </tr>\n",
       "    <tr>\n",
       "      <th>8918</th>\n",
       "      <td>4d4d6aeb13fa253499d0dd45a5abd87e</td>\n",
       "      <td>West</td>\n",
       "      <td>01-12-2020</td>\n",
       "      <td>04-12-2020</td>\n",
       "      <td>04-12-2020</td>\n",
       "      <td>Shoetopia Girls Sandals</td>\n",
       "      <td>Footwear</td>\n",
       "      <td>Kids' &amp; Infant Footwear</td>\n",
       "      <td>For Girls</td>\n",
       "      <td>Sandals</td>\n",
       "      <td>SNDEG7DRWSX8HFXZ</td>\n",
       "      <td>499</td>\n",
       "      <td>399</td>\n",
       "      <td>4.0</td>\n",
       "      <td>Shoetopia</td>\n",
       "      <td>{\"product_specification\"=&gt;[{\"key\"=&gt;\"Ideal For\"...</td>\n",
       "      <td>Key Features of Shoetopia Girls Sandals Flats ...</td>\n",
       "    </tr>\n",
       "    <tr>\n",
       "      <th>8919</th>\n",
       "      <td>ea19e7ef703293d3f6c799ca9db4642d</td>\n",
       "      <td>West</td>\n",
       "      <td>01-12-2020</td>\n",
       "      <td>04-12-2020</td>\n",
       "      <td>04-12-2020</td>\n",
       "      <td>SMART TRADERS Girls Sandals</td>\n",
       "      <td>Footwear</td>\n",
       "      <td>Kids' &amp; Infant Footwear</td>\n",
       "      <td>For Girls</td>\n",
       "      <td>Sandals</td>\n",
       "      <td>SNDEG7MZHHKZ58D2</td>\n",
       "      <td>999</td>\n",
       "      <td>499</td>\n",
       "      <td>5.0</td>\n",
       "      <td>SMART TRADERS</td>\n",
       "      <td>{\"product_specification\"=&gt;[{\"key\"=&gt;\"Ideal For\"...</td>\n",
       "      <td>Key Features of SMART TRADERS Girls Sandals Oc...</td>\n",
       "    </tr>\n",
       "    <tr>\n",
       "      <th>8920</th>\n",
       "      <td>19a53a958992fb575acffb5d41e7ef9e</td>\n",
       "      <td>East</td>\n",
       "      <td>01-12-2020</td>\n",
       "      <td>04-12-2020</td>\n",
       "      <td>04-12-2020</td>\n",
       "      <td>Beanz Girls Flats</td>\n",
       "      <td>Footwear</td>\n",
       "      <td>Kids' &amp; Infant Footwear</td>\n",
       "      <td>For Girls</td>\n",
       "      <td>Sandals</td>\n",
       "      <td>SNDEG7DYVFWHZBC4</td>\n",
       "      <td>1299</td>\n",
       "      <td>1299</td>\n",
       "      <td>3.0</td>\n",
       "      <td>Beanz</td>\n",
       "      <td>{\"product_specification\"=&gt;[{\"key\"=&gt;\"Occasion\",...</td>\n",
       "      <td>Key Features of Beanz Girls Flats Occasion: Ca...</td>\n",
       "    </tr>\n",
       "    <tr>\n",
       "      <th>8921</th>\n",
       "      <td>09abab80c8dfdc6f268e0a6f05a0be11</td>\n",
       "      <td>North</td>\n",
       "      <td>01-12-2020</td>\n",
       "      <td>04-12-2020</td>\n",
       "      <td>04-12-2020</td>\n",
       "      <td>Nova KT 728S Electric Kettle</td>\n",
       "      <td>Home &amp; Kitchen</td>\n",
       "      <td>Kitchen Appliances</td>\n",
       "      <td>Electric Jug(heater)/Travel Kettles</td>\n",
       "      <td>Nova Electric Jug(heater)/Travel Kettles</td>\n",
       "      <td>EKTDG5C5QSADZZ8J</td>\n",
       "      <td>3195</td>\n",
       "      <td>699</td>\n",
       "      <td>3.6</td>\n",
       "      <td>Nova</td>\n",
       "      <td>{\"product_specification\"=&gt;[{\"key\"=&gt;\"Brand\", \"v...</td>\n",
       "      <td>Specifications of Nova KT 728S Electric Kettle...</td>\n",
       "    </tr>\n",
       "    <tr>\n",
       "      <th>8922</th>\n",
       "      <td>90d30478255e23621e8929ed15c2f6e4</td>\n",
       "      <td>South</td>\n",
       "      <td>01-12-2020</td>\n",
       "      <td>04-12-2020</td>\n",
       "      <td>04-12-2020</td>\n",
       "      <td>Sinina Chanderi Embroidered Salwar Suit Dupatt...</td>\n",
       "      <td>Clothing</td>\n",
       "      <td>Women's Clothing</td>\n",
       "      <td>Ethnic Wear</td>\n",
       "      <td>Fabric</td>\n",
       "      <td>FABEGGHHDFMY8BZU</td>\n",
       "      <td>2980</td>\n",
       "      <td>1490</td>\n",
       "      <td>3.0</td>\n",
       "      <td>Sinina</td>\n",
       "      <td>{\"product_specification\"=&gt;[{\"key\"=&gt;\"Fabric\", \"...</td>\n",
       "      <td>Key Features of Sinina Chanderi Embroidered Sa...</td>\n",
       "    </tr>\n",
       "    <tr>\n",
       "      <th>8923</th>\n",
       "      <td>20a73e3f41490a73ceeba5f17658db8f</td>\n",
       "      <td>West</td>\n",
       "      <td>01-12-2020</td>\n",
       "      <td>04-12-2020</td>\n",
       "      <td>04-12-2020</td>\n",
       "      <td>Aarushi Fashion Chanderi Embroidered Salwar Su...</td>\n",
       "      <td>Clothing</td>\n",
       "      <td>Women's Clothing</td>\n",
       "      <td>Ethnic Wear</td>\n",
       "      <td>Fabric</td>\n",
       "      <td>FABEG8GFDUWRSNU3</td>\n",
       "      <td>2600</td>\n",
       "      <td>1300</td>\n",
       "      <td>1.0</td>\n",
       "      <td>Aarushi Fashion</td>\n",
       "      <td>{\"product_specification\"=&gt;[{\"key\"=&gt;\"Fabric\", \"...</td>\n",
       "      <td>Key Features of Aarushi Fashion Chanderi Embro...</td>\n",
       "    </tr>\n",
       "    <tr>\n",
       "      <th>8924</th>\n",
       "      <td>5c1554cd45f9d538c2c6947dbdd59c75</td>\n",
       "      <td>East</td>\n",
       "      <td>01-12-2020</td>\n",
       "      <td>04-12-2020</td>\n",
       "      <td>04-12-2020</td>\n",
       "      <td>Ambika Lahenga Embroidered Lehenga, Choli and ...</td>\n",
       "      <td>Clothing</td>\n",
       "      <td>Women's Clothing</td>\n",
       "      <td>Ethnic Wear</td>\n",
       "      <td>Lehenga Cholis</td>\n",
       "      <td>LEHEGGEHYN4G2RPW</td>\n",
       "      <td>39992</td>\n",
       "      <td>24995</td>\n",
       "      <td>1.0</td>\n",
       "      <td>Ambika Lahenga</td>\n",
       "      <td>{\"product_specification\"=&gt;[{\"key\"=&gt;\"Fabric\", \"...</td>\n",
       "      <td>Key Features of Ambika Lahenga Embroidered Leh...</td>\n",
       "    </tr>\n",
       "    <tr>\n",
       "      <th>8925</th>\n",
       "      <td>6b737a4deca1ed0e56c179e66036e994</td>\n",
       "      <td>West</td>\n",
       "      <td>01-12-2020</td>\n",
       "      <td>04-12-2020</td>\n",
       "      <td>04-12-2020</td>\n",
       "      <td>Sinina Chanderi Embroidered Salwar Suit Dupatt...</td>\n",
       "      <td>Clothing</td>\n",
       "      <td>Women's Clothing</td>\n",
       "      <td>Ethnic Wear</td>\n",
       "      <td>Fabric</td>\n",
       "      <td>FABEGGHHGSVCHGFV</td>\n",
       "      <td>2000</td>\n",
       "      <td>1000</td>\n",
       "      <td>3.0</td>\n",
       "      <td>Sinina</td>\n",
       "      <td>{\"product_specification\"=&gt;[{\"key\"=&gt;\"Fabric\", \"...</td>\n",
       "      <td>Key Features of Sinina Chanderi Embroidered Sa...</td>\n",
       "    </tr>\n",
       "    <tr>\n",
       "      <th>8926</th>\n",
       "      <td>a5235ac28d3d5487f54025f9d6b57433</td>\n",
       "      <td>North</td>\n",
       "      <td>01-12-2020</td>\n",
       "      <td>04-12-2020</td>\n",
       "      <td>04-12-2020</td>\n",
       "      <td>Aarushi Fashion Silk Striped Salwar Suit Dupat...</td>\n",
       "      <td>Clothing</td>\n",
       "      <td>Women's Clothing</td>\n",
       "      <td>Ethnic Wear</td>\n",
       "      <td>Fabric</td>\n",
       "      <td>FABEG8GYDAABECZH</td>\n",
       "      <td>2800</td>\n",
       "      <td>1350</td>\n",
       "      <td>4.0</td>\n",
       "      <td>Aarushi Fashion</td>\n",
       "      <td>{\"product_specification\"=&gt;[{\"key\"=&gt;\"Fabric\", \"...</td>\n",
       "      <td>Key Features of Aarushi Fashion Silk Striped S...</td>\n",
       "    </tr>\n",
       "  </tbody>\n",
       "</table>\n",
       "</div>"
      ],
      "text/plain": [
       "                      Customer_uniq_id Region  Order_Date  \\\n",
       "8917  4db03bc4ccbe216cf151b2f2b904ba3f  East   01-12-2020   \n",
       "8918  4d4d6aeb13fa253499d0dd45a5abd87e   West  01-12-2020   \n",
       "8919  ea19e7ef703293d3f6c799ca9db4642d   West  01-12-2020   \n",
       "8920  19a53a958992fb575acffb5d41e7ef9e  East   01-12-2020   \n",
       "8921  09abab80c8dfdc6f268e0a6f05a0be11  North  01-12-2020   \n",
       "8922  90d30478255e23621e8929ed15c2f6e4  South  01-12-2020   \n",
       "8923  20a73e3f41490a73ceeba5f17658db8f   West  01-12-2020   \n",
       "8924  5c1554cd45f9d538c2c6947dbdd59c75  East   01-12-2020   \n",
       "8925  6b737a4deca1ed0e56c179e66036e994   West  01-12-2020   \n",
       "8926  a5235ac28d3d5487f54025f9d6b57433  North  01-12-2020   \n",
       "\n",
       "     Expected_Delivery_Date Delivered_Date  \\\n",
       "8917             04-12-2020     04-12-2020   \n",
       "8918             04-12-2020     04-12-2020   \n",
       "8919             04-12-2020     04-12-2020   \n",
       "8920             04-12-2020     04-12-2020   \n",
       "8921             04-12-2020     04-12-2020   \n",
       "8922             04-12-2020     04-12-2020   \n",
       "8923             04-12-2020     04-12-2020   \n",
       "8924             04-12-2020     04-12-2020   \n",
       "8925             04-12-2020     04-12-2020   \n",
       "8926             04-12-2020     04-12-2020   \n",
       "\n",
       "                                           product_name product_main_category  \\\n",
       "8917                           Luca Fashion Girls Heels             Footwear    \n",
       "8918                            Shoetopia Girls Sandals             Footwear    \n",
       "8919                        SMART TRADERS Girls Sandals             Footwear    \n",
       "8920                                  Beanz Girls Flats             Footwear    \n",
       "8921                       Nova KT 728S Electric Kettle       Home & Kitchen    \n",
       "8922  Sinina Chanderi Embroidered Salwar Suit Dupatt...             Clothing    \n",
       "8923  Aarushi Fashion Chanderi Embroidered Salwar Su...             Clothing    \n",
       "8924  Ambika Lahenga Embroidered Lehenga, Choli and ...             Clothing    \n",
       "8925  Sinina Chanderi Embroidered Salwar Suit Dupatt...             Clothing    \n",
       "8926  Aarushi Fashion Silk Striped Salwar Suit Dupat...             Clothing    \n",
       "\n",
       "            product_subcategory                product_category_filter  \\\n",
       "8917   Kids' & Infant Footwear                              For Girls    \n",
       "8918   Kids' & Infant Footwear                              For Girls    \n",
       "8919   Kids' & Infant Footwear                              For Girls    \n",
       "8920   Kids' & Infant Footwear                              For Girls    \n",
       "8921        Kitchen Appliances    Electric Jug(heater)/Travel Kettles    \n",
       "8922          Women's Clothing                            Ethnic Wear    \n",
       "8923          Women's Clothing                            Ethnic Wear    \n",
       "8924          Women's Clothing                            Ethnic Wear    \n",
       "8925          Women's Clothing                            Ethnic Wear    \n",
       "8926          Women's Clothing                            Ethnic Wear    \n",
       "\n",
       "                      product_category_subfilter product_unique ID  \\\n",
       "8917                                    Sandals   SNDEHG3DNVBFGAT5   \n",
       "8918                                    Sandals   SNDEG7DRWSX8HFXZ   \n",
       "8919                                    Sandals   SNDEG7MZHHKZ58D2   \n",
       "8920                                    Sandals   SNDEG7DYVFWHZBC4   \n",
       "8921   Nova Electric Jug(heater)/Travel Kettles   EKTDG5C5QSADZZ8J   \n",
       "8922                                     Fabric   FABEGGHHDFMY8BZU   \n",
       "8923                                     Fabric   FABEG8GFDUWRSNU3   \n",
       "8924                             Lehenga Cholis   LEHEGGEHYN4G2RPW   \n",
       "8925                                     Fabric   FABEGGHHGSVCHGFV   \n",
       "8926                                     Fabric   FABEG8GYDAABECZH   \n",
       "\n",
       "      retail_price  discounted_price  product_rating            Brand  \\\n",
       "8917           999               499             4.0     Luca Fashion   \n",
       "8918           499               399             4.0        Shoetopia   \n",
       "8919           999               499             5.0    SMART TRADERS   \n",
       "8920          1299              1299             3.0            Beanz   \n",
       "8921          3195               699             3.6             Nova   \n",
       "8922          2980              1490             3.0           Sinina   \n",
       "8923          2600              1300             1.0  Aarushi Fashion   \n",
       "8924         39992             24995             1.0   Ambika Lahenga   \n",
       "8925          2000              1000             3.0           Sinina   \n",
       "8926          2800              1350             4.0  Aarushi Fashion   \n",
       "\n",
       "                                 product_specifications  \\\n",
       "8917  {\"product_specification\"=>[{\"key\"=>\"Occasion\",...   \n",
       "8918  {\"product_specification\"=>[{\"key\"=>\"Ideal For\"...   \n",
       "8919  {\"product_specification\"=>[{\"key\"=>\"Ideal For\"...   \n",
       "8920  {\"product_specification\"=>[{\"key\"=>\"Occasion\",...   \n",
       "8921  {\"product_specification\"=>[{\"key\"=>\"Brand\", \"v...   \n",
       "8922  {\"product_specification\"=>[{\"key\"=>\"Fabric\", \"...   \n",
       "8923  {\"product_specification\"=>[{\"key\"=>\"Fabric\", \"...   \n",
       "8924  {\"product_specification\"=>[{\"key\"=>\"Fabric\", \"...   \n",
       "8925  {\"product_specification\"=>[{\"key\"=>\"Fabric\", \"...   \n",
       "8926  {\"product_specification\"=>[{\"key\"=>\"Fabric\", \"...   \n",
       "\n",
       "                                            description  \n",
       "8917  Key Features of Luca Fashion Girls Heels Occas...  \n",
       "8918  Key Features of Shoetopia Girls Sandals Flats ...  \n",
       "8919  Key Features of SMART TRADERS Girls Sandals Oc...  \n",
       "8920  Key Features of Beanz Girls Flats Occasion: Ca...  \n",
       "8921  Specifications of Nova KT 728S Electric Kettle...  \n",
       "8922  Key Features of Sinina Chanderi Embroidered Sa...  \n",
       "8923  Key Features of Aarushi Fashion Chanderi Embro...  \n",
       "8924  Key Features of Ambika Lahenga Embroidered Leh...  \n",
       "8925  Key Features of Sinina Chanderi Embroidered Sa...  \n",
       "8926  Key Features of Aarushi Fashion Silk Striped S...  "
      ]
     },
     "execution_count": 4,
     "metadata": {},
     "output_type": "execute_result"
    }
   ],
   "source": [
    "# Head function to to the last 10 records\n",
    "ECom_Data.tail(10)"
   ]
  },
  {
   "cell_type": "markdown",
   "id": "ee9a2bd5",
   "metadata": {},
   "source": [
    "##### Here, we use head(10) to view the first ten records and tail(10) to view the last ten records of the  data"
   ]
  },
  {
   "cell_type": "markdown",
   "id": "0c035adf",
   "metadata": {},
   "source": [
    "#### Ans 1 b)"
   ]
  },
  {
   "cell_type": "code",
   "execution_count": 5,
   "id": "0884bd31",
   "metadata": {},
   "outputs": [
    {
     "data": {
      "text/plain": [
       "(8927, 17)"
      ]
     },
     "execution_count": 5,
     "metadata": {},
     "output_type": "execute_result"
    }
   ],
   "source": [
    "# Number of rows and columns present in dataset\n",
    "ECom_Data.shape"
   ]
  },
  {
   "cell_type": "markdown",
   "id": "735c7f30",
   "metadata": {},
   "source": [
    "##### Here, we use the shape attribute of the Dataframe to find the rows and columns of it. As seen wbove we have 8927 rows and 17 columns in the Dataframe"
   ]
  },
  {
   "cell_type": "code",
   "execution_count": 6,
   "id": "fe1823f8",
   "metadata": {},
   "outputs": [
    {
     "name": "stdout",
     "output_type": "stream",
     "text": [
      "Rows: 8927\n",
      "Columns: 17\n"
     ]
    }
   ],
   "source": [
    "# Number of rows and columns present in dataset\n",
    "rows = ECom_Data.shape[0]\n",
    "cols = ECom_Data.shape[1]\n",
    "print(\"Rows: \" + str(rows))\n",
    "print(\"Columns: \" + str(cols))"
   ]
  },
  {
   "cell_type": "code",
   "execution_count": 7,
   "id": "f06eaeba",
   "metadata": {},
   "outputs": [
    {
     "name": "stdout",
     "output_type": "stream",
     "text": [
      "Rows: 8927\n",
      "Columns: 17\n"
     ]
    }
   ],
   "source": [
    "df = pd.DataFrame(ECom_Data)\n",
    "rows = len(df.axes[0])\n",
    "cols = len(df.axes[1])\n",
    "\n",
    "print(\"Rows: \" + str(rows))\n",
    "print(\"Columns: \" + str(cols))"
   ]
  },
  {
   "cell_type": "code",
   "execution_count": 8,
   "id": "0d1ac4fc",
   "metadata": {
    "scrolled": false
   },
   "outputs": [
    {
     "name": "stdout",
     "output_type": "stream",
     "text": [
      "Columns: 17\n",
      "Rows: 8927\n"
     ]
    }
   ],
   "source": [
    "cols = len(ECom_Data.columns)\n",
    "rows = len(ECom_Data)\n",
    "print(\"Columns: \" + str(cols))\n",
    "print(\"Rows: \" + str(rows))"
   ]
  },
  {
   "cell_type": "markdown",
   "id": "35be4946",
   "metadata": {},
   "source": [
    "##### Above are few methods used to get to fetch the count of rows and columns in the Dataframe."
   ]
  },
  {
   "cell_type": "markdown",
   "id": "4f05a881",
   "metadata": {},
   "source": [
    "#### Ans  1 c)"
   ]
  },
  {
   "cell_type": "code",
   "execution_count": 9,
   "id": "ccb08ad6",
   "metadata": {
    "scrolled": true
   },
   "outputs": [
    {
     "data": {
      "text/plain": [
       "14"
      ]
     },
     "execution_count": 9,
     "metadata": {},
     "output_type": "execute_result"
    }
   ],
   "source": [
    "# object and datatype present in dataset\n",
    "len(ECom_Data.select_dtypes(include=['object']).columns)"
   ]
  },
  {
   "cell_type": "markdown",
   "id": "014f9c4f",
   "metadata": {},
   "source": [
    "##### Ans: We have 14 columns with the dtypes as object"
   ]
  },
  {
   "cell_type": "markdown",
   "id": "edbee194",
   "metadata": {},
   "source": [
    "### Ans 1 d)"
   ]
  },
  {
   "cell_type": "code",
   "execution_count": 10,
   "id": "8ddceefc",
   "metadata": {
    "scrolled": false
   },
   "outputs": [
    {
     "data": {
      "text/plain": [
       "Customer_uniq_id               object\n",
       "Region                         object\n",
       "Order_Date                     object\n",
       "Expected_Delivery_Date         object\n",
       "Delivered_Date                 object\n",
       "product_name                   object\n",
       "product_main_category          object\n",
       "product_subcategory            object\n",
       "product_category_filter        object\n",
       "product_category_subfilter     object\n",
       "product_unique ID              object\n",
       "retail_price                    int64\n",
       "discounted_price                int64\n",
       "product_rating                float64\n",
       "Brand                          object\n",
       "product_specifications         object\n",
       "description                    object\n",
       "dtype: object"
      ]
     },
     "execution_count": 10,
     "metadata": {},
     "output_type": "execute_result"
    }
   ],
   "source": [
    "ECom_Data.dtypes"
   ]
  },
  {
   "cell_type": "code",
   "execution_count": 11,
   "id": "dafd59fb",
   "metadata": {},
   "outputs": [
    {
     "data": {
      "text/plain": [
       "0"
      ]
     },
     "execution_count": 11,
     "metadata": {},
     "output_type": "execute_result"
    }
   ],
   "source": [
    "len(ECom_Data.select_dtypes(include=['bool']).columns)"
   ]
  },
  {
   "cell_type": "markdown",
   "id": "5fbc5673",
   "metadata": {},
   "source": [
    "#### As we see above the we have zero columns with boolean dtype"
   ]
  },
  {
   "cell_type": "markdown",
   "id": "acbc8d37",
   "metadata": {},
   "source": [
    "<font color='blue'>\n",
    "    <font size = 5>\n",
    " Once you are familiar with the data, you may decide that not all features are of use to you and you may want to delete the non-informative features (columns)</font>"
   ]
  },
  {
   "cell_type": "markdown",
   "id": "3e155379",
   "metadata": {},
   "source": [
    "## Q 2.\tEliminating the non-informative columns.\n",
    "## a)\tDrop the columns product_specifications and description. (2 marks) \n",
    "## b)\tWhich method or function is used to permanently delete the columns mentioned in part (a)? Write the code explicitly (2 marks)\n",
    "### Note: Use the markdown feature of Python to explain your answer.\n"
   ]
  },
  {
   "cell_type": "markdown",
   "id": "348e9688",
   "metadata": {},
   "source": [
    "### Ans 2 a)"
   ]
  },
  {
   "cell_type": "code",
   "execution_count": 12,
   "id": "f0201158",
   "metadata": {
    "scrolled": true
   },
   "outputs": [
    {
     "data": {
      "text/html": [
       "<div>\n",
       "<style scoped>\n",
       "    .dataframe tbody tr th:only-of-type {\n",
       "        vertical-align: middle;\n",
       "    }\n",
       "\n",
       "    .dataframe tbody tr th {\n",
       "        vertical-align: top;\n",
       "    }\n",
       "\n",
       "    .dataframe thead th {\n",
       "        text-align: right;\n",
       "    }\n",
       "</style>\n",
       "<table border=\"1\" class=\"dataframe\">\n",
       "  <thead>\n",
       "    <tr style=\"text-align: right;\">\n",
       "      <th></th>\n",
       "      <th>Customer_uniq_id</th>\n",
       "      <th>Region</th>\n",
       "      <th>Order_Date</th>\n",
       "      <th>Expected_Delivery_Date</th>\n",
       "      <th>Delivered_Date</th>\n",
       "      <th>product_name</th>\n",
       "      <th>product_main_category</th>\n",
       "      <th>product_subcategory</th>\n",
       "      <th>product_category_filter</th>\n",
       "      <th>product_category_subfilter</th>\n",
       "      <th>product_unique ID</th>\n",
       "      <th>retail_price</th>\n",
       "      <th>discounted_price</th>\n",
       "      <th>product_rating</th>\n",
       "      <th>Brand</th>\n",
       "    </tr>\n",
       "  </thead>\n",
       "  <tbody>\n",
       "    <tr>\n",
       "      <th>0</th>\n",
       "      <td>c2d766ca982eca8304150849735ffef9</td>\n",
       "      <td>North</td>\n",
       "      <td>31-12-2021</td>\n",
       "      <td>03-01-2022</td>\n",
       "      <td>02-01-2022</td>\n",
       "      <td>Alisha Solid Women's Cycling Shorts</td>\n",
       "      <td>Clothing</td>\n",
       "      <td>Women's Clothing</td>\n",
       "      <td>Lingerie, Sleep &amp; Swimwear</td>\n",
       "      <td>Shorts</td>\n",
       "      <td>SRTEH2FF9KEDEFGF</td>\n",
       "      <td>999</td>\n",
       "      <td>379</td>\n",
       "      <td>2.0</td>\n",
       "      <td>Alisha</td>\n",
       "    </tr>\n",
       "    <tr>\n",
       "      <th>1</th>\n",
       "      <td>7f7036a6d550aaa89d34c77bd39a5e48</td>\n",
       "      <td>East</td>\n",
       "      <td>31-12-2021</td>\n",
       "      <td>03-01-2022</td>\n",
       "      <td>02-01-2022</td>\n",
       "      <td>FabHomeDecor Fabric Double Sofa Bed</td>\n",
       "      <td>Furniture</td>\n",
       "      <td>Living Room Furniture</td>\n",
       "      <td>Sofa Beds &amp; Futons</td>\n",
       "      <td>FabHomeDecor Fabric Double Sofa Bed (Finish C...</td>\n",
       "      <td>SBEEH3QGU7MFYJFY</td>\n",
       "      <td>32157</td>\n",
       "      <td>22646</td>\n",
       "      <td>2.0</td>\n",
       "      <td>FabHomeDecor</td>\n",
       "    </tr>\n",
       "    <tr>\n",
       "      <th>2</th>\n",
       "      <td>f449ec65dcbc041b6ae5e6a32717d01b</td>\n",
       "      <td>East</td>\n",
       "      <td>31-12-2021</td>\n",
       "      <td>03-01-2022</td>\n",
       "      <td>02-01-2022</td>\n",
       "      <td>AW Bellies</td>\n",
       "      <td>Footwear</td>\n",
       "      <td>Women's Footwear</td>\n",
       "      <td>Ballerinas</td>\n",
       "      <td>AW Bellies</td>\n",
       "      <td>SHOEH4GRSUBJGZXE</td>\n",
       "      <td>999</td>\n",
       "      <td>499</td>\n",
       "      <td>1.0</td>\n",
       "      <td>AW</td>\n",
       "    </tr>\n",
       "    <tr>\n",
       "      <th>3</th>\n",
       "      <td>0973b37acd0c664e3de26e97e5571454</td>\n",
       "      <td>West</td>\n",
       "      <td>31-12-2021</td>\n",
       "      <td>03-01-2022</td>\n",
       "      <td>02-01-2022</td>\n",
       "      <td>Alisha Solid Women's Cycling Shorts</td>\n",
       "      <td>Clothing</td>\n",
       "      <td>Women's Clothing</td>\n",
       "      <td>Lingerie, Sleep &amp; Swimwear</td>\n",
       "      <td>Shorts</td>\n",
       "      <td>SRTEH2F6HUZMQ6SJ</td>\n",
       "      <td>699</td>\n",
       "      <td>267</td>\n",
       "      <td>5.0</td>\n",
       "      <td>Alisha</td>\n",
       "    </tr>\n",
       "    <tr>\n",
       "      <th>4</th>\n",
       "      <td>bc940ea42ee6bef5ac7cea3fb5cfbee7</td>\n",
       "      <td>West</td>\n",
       "      <td>31-12-2021</td>\n",
       "      <td>03-01-2022</td>\n",
       "      <td>02-01-2022</td>\n",
       "      <td>Sicons All Purpose Arnica Dog Shampoo</td>\n",
       "      <td>Pet Supplies</td>\n",
       "      <td>Grooming</td>\n",
       "      <td>Skin &amp; Coat Care</td>\n",
       "      <td>Shampoo</td>\n",
       "      <td>PSOEH3ZYDMSYARJ5</td>\n",
       "      <td>220</td>\n",
       "      <td>210</td>\n",
       "      <td>5.0</td>\n",
       "      <td>Sicons</td>\n",
       "    </tr>\n",
       "    <tr>\n",
       "      <th>...</th>\n",
       "      <td>...</td>\n",
       "      <td>...</td>\n",
       "      <td>...</td>\n",
       "      <td>...</td>\n",
       "      <td>...</td>\n",
       "      <td>...</td>\n",
       "      <td>...</td>\n",
       "      <td>...</td>\n",
       "      <td>...</td>\n",
       "      <td>...</td>\n",
       "      <td>...</td>\n",
       "      <td>...</td>\n",
       "      <td>...</td>\n",
       "      <td>...</td>\n",
       "      <td>...</td>\n",
       "    </tr>\n",
       "    <tr>\n",
       "      <th>8922</th>\n",
       "      <td>90d30478255e23621e8929ed15c2f6e4</td>\n",
       "      <td>South</td>\n",
       "      <td>01-12-2020</td>\n",
       "      <td>04-12-2020</td>\n",
       "      <td>04-12-2020</td>\n",
       "      <td>Sinina Chanderi Embroidered Salwar Suit Dupatt...</td>\n",
       "      <td>Clothing</td>\n",
       "      <td>Women's Clothing</td>\n",
       "      <td>Ethnic Wear</td>\n",
       "      <td>Fabric</td>\n",
       "      <td>FABEGGHHDFMY8BZU</td>\n",
       "      <td>2980</td>\n",
       "      <td>1490</td>\n",
       "      <td>3.0</td>\n",
       "      <td>Sinina</td>\n",
       "    </tr>\n",
       "    <tr>\n",
       "      <th>8923</th>\n",
       "      <td>20a73e3f41490a73ceeba5f17658db8f</td>\n",
       "      <td>West</td>\n",
       "      <td>01-12-2020</td>\n",
       "      <td>04-12-2020</td>\n",
       "      <td>04-12-2020</td>\n",
       "      <td>Aarushi Fashion Chanderi Embroidered Salwar Su...</td>\n",
       "      <td>Clothing</td>\n",
       "      <td>Women's Clothing</td>\n",
       "      <td>Ethnic Wear</td>\n",
       "      <td>Fabric</td>\n",
       "      <td>FABEG8GFDUWRSNU3</td>\n",
       "      <td>2600</td>\n",
       "      <td>1300</td>\n",
       "      <td>1.0</td>\n",
       "      <td>Aarushi Fashion</td>\n",
       "    </tr>\n",
       "    <tr>\n",
       "      <th>8924</th>\n",
       "      <td>5c1554cd45f9d538c2c6947dbdd59c75</td>\n",
       "      <td>East</td>\n",
       "      <td>01-12-2020</td>\n",
       "      <td>04-12-2020</td>\n",
       "      <td>04-12-2020</td>\n",
       "      <td>Ambika Lahenga Embroidered Lehenga, Choli and ...</td>\n",
       "      <td>Clothing</td>\n",
       "      <td>Women's Clothing</td>\n",
       "      <td>Ethnic Wear</td>\n",
       "      <td>Lehenga Cholis</td>\n",
       "      <td>LEHEGGEHYN4G2RPW</td>\n",
       "      <td>39992</td>\n",
       "      <td>24995</td>\n",
       "      <td>1.0</td>\n",
       "      <td>Ambika Lahenga</td>\n",
       "    </tr>\n",
       "    <tr>\n",
       "      <th>8925</th>\n",
       "      <td>6b737a4deca1ed0e56c179e66036e994</td>\n",
       "      <td>West</td>\n",
       "      <td>01-12-2020</td>\n",
       "      <td>04-12-2020</td>\n",
       "      <td>04-12-2020</td>\n",
       "      <td>Sinina Chanderi Embroidered Salwar Suit Dupatt...</td>\n",
       "      <td>Clothing</td>\n",
       "      <td>Women's Clothing</td>\n",
       "      <td>Ethnic Wear</td>\n",
       "      <td>Fabric</td>\n",
       "      <td>FABEGGHHGSVCHGFV</td>\n",
       "      <td>2000</td>\n",
       "      <td>1000</td>\n",
       "      <td>3.0</td>\n",
       "      <td>Sinina</td>\n",
       "    </tr>\n",
       "    <tr>\n",
       "      <th>8926</th>\n",
       "      <td>a5235ac28d3d5487f54025f9d6b57433</td>\n",
       "      <td>North</td>\n",
       "      <td>01-12-2020</td>\n",
       "      <td>04-12-2020</td>\n",
       "      <td>04-12-2020</td>\n",
       "      <td>Aarushi Fashion Silk Striped Salwar Suit Dupat...</td>\n",
       "      <td>Clothing</td>\n",
       "      <td>Women's Clothing</td>\n",
       "      <td>Ethnic Wear</td>\n",
       "      <td>Fabric</td>\n",
       "      <td>FABEG8GYDAABECZH</td>\n",
       "      <td>2800</td>\n",
       "      <td>1350</td>\n",
       "      <td>4.0</td>\n",
       "      <td>Aarushi Fashion</td>\n",
       "    </tr>\n",
       "  </tbody>\n",
       "</table>\n",
       "<p>8927 rows × 15 columns</p>\n",
       "</div>"
      ],
      "text/plain": [
       "                      Customer_uniq_id Region  Order_Date  \\\n",
       "0     c2d766ca982eca8304150849735ffef9  North  31-12-2021   \n",
       "1     7f7036a6d550aaa89d34c77bd39a5e48  East   31-12-2021   \n",
       "2     f449ec65dcbc041b6ae5e6a32717d01b  East   31-12-2021   \n",
       "3     0973b37acd0c664e3de26e97e5571454   West  31-12-2021   \n",
       "4     bc940ea42ee6bef5ac7cea3fb5cfbee7   West  31-12-2021   \n",
       "...                                ...    ...         ...   \n",
       "8922  90d30478255e23621e8929ed15c2f6e4  South  01-12-2020   \n",
       "8923  20a73e3f41490a73ceeba5f17658db8f   West  01-12-2020   \n",
       "8924  5c1554cd45f9d538c2c6947dbdd59c75  East   01-12-2020   \n",
       "8925  6b737a4deca1ed0e56c179e66036e994   West  01-12-2020   \n",
       "8926  a5235ac28d3d5487f54025f9d6b57433  North  01-12-2020   \n",
       "\n",
       "     Expected_Delivery_Date Delivered_Date  \\\n",
       "0                03-01-2022     02-01-2022   \n",
       "1                03-01-2022     02-01-2022   \n",
       "2                03-01-2022     02-01-2022   \n",
       "3                03-01-2022     02-01-2022   \n",
       "4                03-01-2022     02-01-2022   \n",
       "...                     ...            ...   \n",
       "8922             04-12-2020     04-12-2020   \n",
       "8923             04-12-2020     04-12-2020   \n",
       "8924             04-12-2020     04-12-2020   \n",
       "8925             04-12-2020     04-12-2020   \n",
       "8926             04-12-2020     04-12-2020   \n",
       "\n",
       "                                           product_name product_main_category  \\\n",
       "0                   Alisha Solid Women's Cycling Shorts             Clothing    \n",
       "1                   FabHomeDecor Fabric Double Sofa Bed            Furniture    \n",
       "2                                            AW Bellies             Footwear    \n",
       "3                   Alisha Solid Women's Cycling Shorts             Clothing    \n",
       "4                 Sicons All Purpose Arnica Dog Shampoo         Pet Supplies    \n",
       "...                                                 ...                   ...   \n",
       "8922  Sinina Chanderi Embroidered Salwar Suit Dupatt...             Clothing    \n",
       "8923  Aarushi Fashion Chanderi Embroidered Salwar Su...             Clothing    \n",
       "8924  Ambika Lahenga Embroidered Lehenga, Choli and ...             Clothing    \n",
       "8925  Sinina Chanderi Embroidered Salwar Suit Dupatt...             Clothing    \n",
       "8926  Aarushi Fashion Silk Striped Salwar Suit Dupat...             Clothing    \n",
       "\n",
       "          product_subcategory       product_category_filter  \\\n",
       "0           Women's Clothing    Lingerie, Sleep & Swimwear    \n",
       "1      Living Room Furniture            Sofa Beds & Futons    \n",
       "2           Women's Footwear                    Ballerinas    \n",
       "3           Women's Clothing    Lingerie, Sleep & Swimwear    \n",
       "4                   Grooming              Skin & Coat Care    \n",
       "...                       ...                           ...   \n",
       "8922        Women's Clothing                   Ethnic Wear    \n",
       "8923        Women's Clothing                   Ethnic Wear    \n",
       "8924        Women's Clothing                   Ethnic Wear    \n",
       "8925        Women's Clothing                   Ethnic Wear    \n",
       "8926        Women's Clothing                   Ethnic Wear    \n",
       "\n",
       "                             product_category_subfilter product_unique ID  \\\n",
       "0                                               Shorts   SRTEH2FF9KEDEFGF   \n",
       "1      FabHomeDecor Fabric Double Sofa Bed (Finish C...  SBEEH3QGU7MFYJFY   \n",
       "2                                            AW Bellies  SHOEH4GRSUBJGZXE   \n",
       "3                                               Shorts   SRTEH2F6HUZMQ6SJ   \n",
       "4                                              Shampoo   PSOEH3ZYDMSYARJ5   \n",
       "...                                                 ...               ...   \n",
       "8922                                            Fabric   FABEGGHHDFMY8BZU   \n",
       "8923                                            Fabric   FABEG8GFDUWRSNU3   \n",
       "8924                                    Lehenga Cholis   LEHEGGEHYN4G2RPW   \n",
       "8925                                            Fabric   FABEGGHHGSVCHGFV   \n",
       "8926                                            Fabric   FABEG8GYDAABECZH   \n",
       "\n",
       "      retail_price  discounted_price  product_rating            Brand  \n",
       "0              999               379             2.0           Alisha  \n",
       "1            32157             22646             2.0     FabHomeDecor  \n",
       "2              999               499             1.0               AW  \n",
       "3              699               267             5.0           Alisha  \n",
       "4              220               210             5.0           Sicons  \n",
       "...            ...               ...             ...              ...  \n",
       "8922          2980              1490             3.0           Sinina  \n",
       "8923          2600              1300             1.0  Aarushi Fashion  \n",
       "8924         39992             24995             1.0   Ambika Lahenga  \n",
       "8925          2000              1000             3.0           Sinina  \n",
       "8926          2800              1350             4.0  Aarushi Fashion  \n",
       "\n",
       "[8927 rows x 15 columns]"
      ]
     },
     "execution_count": 12,
     "metadata": {},
     "output_type": "execute_result"
    }
   ],
   "source": [
    "# DataFrame.drop(self, labels, axis, index, columns, level, inplace, errors))\n",
    "ECom_Data.drop(labels=['product_specifications','description'], axis = 1)"
   ]
  },
  {
   "cell_type": "markdown",
   "id": "32306d49",
   "metadata": {},
   "source": [
    "##### We use drop function and pass the list of the columns to be removed with axis =1. since we did not use inplace attribute of the drop function it is by default False i.e drop action is temporary."
   ]
  },
  {
   "cell_type": "markdown",
   "id": "f5cc53a1",
   "metadata": {},
   "source": [
    "### Ans 2 b)"
   ]
  },
  {
   "cell_type": "code",
   "execution_count": 13,
   "id": "657208cf",
   "metadata": {
    "scrolled": false
   },
   "outputs": [
    {
     "data": {
      "text/html": [
       "<div>\n",
       "<style scoped>\n",
       "    .dataframe tbody tr th:only-of-type {\n",
       "        vertical-align: middle;\n",
       "    }\n",
       "\n",
       "    .dataframe tbody tr th {\n",
       "        vertical-align: top;\n",
       "    }\n",
       "\n",
       "    .dataframe thead th {\n",
       "        text-align: right;\n",
       "    }\n",
       "</style>\n",
       "<table border=\"1\" class=\"dataframe\">\n",
       "  <thead>\n",
       "    <tr style=\"text-align: right;\">\n",
       "      <th></th>\n",
       "      <th>Customer_uniq_id</th>\n",
       "      <th>Region</th>\n",
       "      <th>Order_Date</th>\n",
       "      <th>Expected_Delivery_Date</th>\n",
       "      <th>Delivered_Date</th>\n",
       "      <th>product_name</th>\n",
       "      <th>product_main_category</th>\n",
       "      <th>product_subcategory</th>\n",
       "      <th>product_category_filter</th>\n",
       "      <th>product_category_subfilter</th>\n",
       "      <th>product_unique ID</th>\n",
       "      <th>retail_price</th>\n",
       "      <th>discounted_price</th>\n",
       "      <th>product_rating</th>\n",
       "      <th>Brand</th>\n",
       "    </tr>\n",
       "  </thead>\n",
       "  <tbody>\n",
       "    <tr>\n",
       "      <th>0</th>\n",
       "      <td>c2d766ca982eca8304150849735ffef9</td>\n",
       "      <td>North</td>\n",
       "      <td>31-12-2021</td>\n",
       "      <td>03-01-2022</td>\n",
       "      <td>02-01-2022</td>\n",
       "      <td>Alisha Solid Women's Cycling Shorts</td>\n",
       "      <td>Clothing</td>\n",
       "      <td>Women's Clothing</td>\n",
       "      <td>Lingerie, Sleep &amp; Swimwear</td>\n",
       "      <td>Shorts</td>\n",
       "      <td>SRTEH2FF9KEDEFGF</td>\n",
       "      <td>999</td>\n",
       "      <td>379</td>\n",
       "      <td>2.0</td>\n",
       "      <td>Alisha</td>\n",
       "    </tr>\n",
       "    <tr>\n",
       "      <th>1</th>\n",
       "      <td>7f7036a6d550aaa89d34c77bd39a5e48</td>\n",
       "      <td>East</td>\n",
       "      <td>31-12-2021</td>\n",
       "      <td>03-01-2022</td>\n",
       "      <td>02-01-2022</td>\n",
       "      <td>FabHomeDecor Fabric Double Sofa Bed</td>\n",
       "      <td>Furniture</td>\n",
       "      <td>Living Room Furniture</td>\n",
       "      <td>Sofa Beds &amp; Futons</td>\n",
       "      <td>FabHomeDecor Fabric Double Sofa Bed (Finish C...</td>\n",
       "      <td>SBEEH3QGU7MFYJFY</td>\n",
       "      <td>32157</td>\n",
       "      <td>22646</td>\n",
       "      <td>2.0</td>\n",
       "      <td>FabHomeDecor</td>\n",
       "    </tr>\n",
       "    <tr>\n",
       "      <th>2</th>\n",
       "      <td>f449ec65dcbc041b6ae5e6a32717d01b</td>\n",
       "      <td>East</td>\n",
       "      <td>31-12-2021</td>\n",
       "      <td>03-01-2022</td>\n",
       "      <td>02-01-2022</td>\n",
       "      <td>AW Bellies</td>\n",
       "      <td>Footwear</td>\n",
       "      <td>Women's Footwear</td>\n",
       "      <td>Ballerinas</td>\n",
       "      <td>AW Bellies</td>\n",
       "      <td>SHOEH4GRSUBJGZXE</td>\n",
       "      <td>999</td>\n",
       "      <td>499</td>\n",
       "      <td>1.0</td>\n",
       "      <td>AW</td>\n",
       "    </tr>\n",
       "    <tr>\n",
       "      <th>3</th>\n",
       "      <td>0973b37acd0c664e3de26e97e5571454</td>\n",
       "      <td>West</td>\n",
       "      <td>31-12-2021</td>\n",
       "      <td>03-01-2022</td>\n",
       "      <td>02-01-2022</td>\n",
       "      <td>Alisha Solid Women's Cycling Shorts</td>\n",
       "      <td>Clothing</td>\n",
       "      <td>Women's Clothing</td>\n",
       "      <td>Lingerie, Sleep &amp; Swimwear</td>\n",
       "      <td>Shorts</td>\n",
       "      <td>SRTEH2F6HUZMQ6SJ</td>\n",
       "      <td>699</td>\n",
       "      <td>267</td>\n",
       "      <td>5.0</td>\n",
       "      <td>Alisha</td>\n",
       "    </tr>\n",
       "    <tr>\n",
       "      <th>4</th>\n",
       "      <td>bc940ea42ee6bef5ac7cea3fb5cfbee7</td>\n",
       "      <td>West</td>\n",
       "      <td>31-12-2021</td>\n",
       "      <td>03-01-2022</td>\n",
       "      <td>02-01-2022</td>\n",
       "      <td>Sicons All Purpose Arnica Dog Shampoo</td>\n",
       "      <td>Pet Supplies</td>\n",
       "      <td>Grooming</td>\n",
       "      <td>Skin &amp; Coat Care</td>\n",
       "      <td>Shampoo</td>\n",
       "      <td>PSOEH3ZYDMSYARJ5</td>\n",
       "      <td>220</td>\n",
       "      <td>210</td>\n",
       "      <td>5.0</td>\n",
       "      <td>Sicons</td>\n",
       "    </tr>\n",
       "    <tr>\n",
       "      <th>...</th>\n",
       "      <td>...</td>\n",
       "      <td>...</td>\n",
       "      <td>...</td>\n",
       "      <td>...</td>\n",
       "      <td>...</td>\n",
       "      <td>...</td>\n",
       "      <td>...</td>\n",
       "      <td>...</td>\n",
       "      <td>...</td>\n",
       "      <td>...</td>\n",
       "      <td>...</td>\n",
       "      <td>...</td>\n",
       "      <td>...</td>\n",
       "      <td>...</td>\n",
       "      <td>...</td>\n",
       "    </tr>\n",
       "    <tr>\n",
       "      <th>8922</th>\n",
       "      <td>90d30478255e23621e8929ed15c2f6e4</td>\n",
       "      <td>South</td>\n",
       "      <td>01-12-2020</td>\n",
       "      <td>04-12-2020</td>\n",
       "      <td>04-12-2020</td>\n",
       "      <td>Sinina Chanderi Embroidered Salwar Suit Dupatt...</td>\n",
       "      <td>Clothing</td>\n",
       "      <td>Women's Clothing</td>\n",
       "      <td>Ethnic Wear</td>\n",
       "      <td>Fabric</td>\n",
       "      <td>FABEGGHHDFMY8BZU</td>\n",
       "      <td>2980</td>\n",
       "      <td>1490</td>\n",
       "      <td>3.0</td>\n",
       "      <td>Sinina</td>\n",
       "    </tr>\n",
       "    <tr>\n",
       "      <th>8923</th>\n",
       "      <td>20a73e3f41490a73ceeba5f17658db8f</td>\n",
       "      <td>West</td>\n",
       "      <td>01-12-2020</td>\n",
       "      <td>04-12-2020</td>\n",
       "      <td>04-12-2020</td>\n",
       "      <td>Aarushi Fashion Chanderi Embroidered Salwar Su...</td>\n",
       "      <td>Clothing</td>\n",
       "      <td>Women's Clothing</td>\n",
       "      <td>Ethnic Wear</td>\n",
       "      <td>Fabric</td>\n",
       "      <td>FABEG8GFDUWRSNU3</td>\n",
       "      <td>2600</td>\n",
       "      <td>1300</td>\n",
       "      <td>1.0</td>\n",
       "      <td>Aarushi Fashion</td>\n",
       "    </tr>\n",
       "    <tr>\n",
       "      <th>8924</th>\n",
       "      <td>5c1554cd45f9d538c2c6947dbdd59c75</td>\n",
       "      <td>East</td>\n",
       "      <td>01-12-2020</td>\n",
       "      <td>04-12-2020</td>\n",
       "      <td>04-12-2020</td>\n",
       "      <td>Ambika Lahenga Embroidered Lehenga, Choli and ...</td>\n",
       "      <td>Clothing</td>\n",
       "      <td>Women's Clothing</td>\n",
       "      <td>Ethnic Wear</td>\n",
       "      <td>Lehenga Cholis</td>\n",
       "      <td>LEHEGGEHYN4G2RPW</td>\n",
       "      <td>39992</td>\n",
       "      <td>24995</td>\n",
       "      <td>1.0</td>\n",
       "      <td>Ambika Lahenga</td>\n",
       "    </tr>\n",
       "    <tr>\n",
       "      <th>8925</th>\n",
       "      <td>6b737a4deca1ed0e56c179e66036e994</td>\n",
       "      <td>West</td>\n",
       "      <td>01-12-2020</td>\n",
       "      <td>04-12-2020</td>\n",
       "      <td>04-12-2020</td>\n",
       "      <td>Sinina Chanderi Embroidered Salwar Suit Dupatt...</td>\n",
       "      <td>Clothing</td>\n",
       "      <td>Women's Clothing</td>\n",
       "      <td>Ethnic Wear</td>\n",
       "      <td>Fabric</td>\n",
       "      <td>FABEGGHHGSVCHGFV</td>\n",
       "      <td>2000</td>\n",
       "      <td>1000</td>\n",
       "      <td>3.0</td>\n",
       "      <td>Sinina</td>\n",
       "    </tr>\n",
       "    <tr>\n",
       "      <th>8926</th>\n",
       "      <td>a5235ac28d3d5487f54025f9d6b57433</td>\n",
       "      <td>North</td>\n",
       "      <td>01-12-2020</td>\n",
       "      <td>04-12-2020</td>\n",
       "      <td>04-12-2020</td>\n",
       "      <td>Aarushi Fashion Silk Striped Salwar Suit Dupat...</td>\n",
       "      <td>Clothing</td>\n",
       "      <td>Women's Clothing</td>\n",
       "      <td>Ethnic Wear</td>\n",
       "      <td>Fabric</td>\n",
       "      <td>FABEG8GYDAABECZH</td>\n",
       "      <td>2800</td>\n",
       "      <td>1350</td>\n",
       "      <td>4.0</td>\n",
       "      <td>Aarushi Fashion</td>\n",
       "    </tr>\n",
       "  </tbody>\n",
       "</table>\n",
       "<p>8927 rows × 15 columns</p>\n",
       "</div>"
      ],
      "text/plain": [
       "                      Customer_uniq_id Region  Order_Date  \\\n",
       "0     c2d766ca982eca8304150849735ffef9  North  31-12-2021   \n",
       "1     7f7036a6d550aaa89d34c77bd39a5e48  East   31-12-2021   \n",
       "2     f449ec65dcbc041b6ae5e6a32717d01b  East   31-12-2021   \n",
       "3     0973b37acd0c664e3de26e97e5571454   West  31-12-2021   \n",
       "4     bc940ea42ee6bef5ac7cea3fb5cfbee7   West  31-12-2021   \n",
       "...                                ...    ...         ...   \n",
       "8922  90d30478255e23621e8929ed15c2f6e4  South  01-12-2020   \n",
       "8923  20a73e3f41490a73ceeba5f17658db8f   West  01-12-2020   \n",
       "8924  5c1554cd45f9d538c2c6947dbdd59c75  East   01-12-2020   \n",
       "8925  6b737a4deca1ed0e56c179e66036e994   West  01-12-2020   \n",
       "8926  a5235ac28d3d5487f54025f9d6b57433  North  01-12-2020   \n",
       "\n",
       "     Expected_Delivery_Date Delivered_Date  \\\n",
       "0                03-01-2022     02-01-2022   \n",
       "1                03-01-2022     02-01-2022   \n",
       "2                03-01-2022     02-01-2022   \n",
       "3                03-01-2022     02-01-2022   \n",
       "4                03-01-2022     02-01-2022   \n",
       "...                     ...            ...   \n",
       "8922             04-12-2020     04-12-2020   \n",
       "8923             04-12-2020     04-12-2020   \n",
       "8924             04-12-2020     04-12-2020   \n",
       "8925             04-12-2020     04-12-2020   \n",
       "8926             04-12-2020     04-12-2020   \n",
       "\n",
       "                                           product_name product_main_category  \\\n",
       "0                   Alisha Solid Women's Cycling Shorts             Clothing    \n",
       "1                   FabHomeDecor Fabric Double Sofa Bed            Furniture    \n",
       "2                                            AW Bellies             Footwear    \n",
       "3                   Alisha Solid Women's Cycling Shorts             Clothing    \n",
       "4                 Sicons All Purpose Arnica Dog Shampoo         Pet Supplies    \n",
       "...                                                 ...                   ...   \n",
       "8922  Sinina Chanderi Embroidered Salwar Suit Dupatt...             Clothing    \n",
       "8923  Aarushi Fashion Chanderi Embroidered Salwar Su...             Clothing    \n",
       "8924  Ambika Lahenga Embroidered Lehenga, Choli and ...             Clothing    \n",
       "8925  Sinina Chanderi Embroidered Salwar Suit Dupatt...             Clothing    \n",
       "8926  Aarushi Fashion Silk Striped Salwar Suit Dupat...             Clothing    \n",
       "\n",
       "          product_subcategory       product_category_filter  \\\n",
       "0           Women's Clothing    Lingerie, Sleep & Swimwear    \n",
       "1      Living Room Furniture            Sofa Beds & Futons    \n",
       "2           Women's Footwear                    Ballerinas    \n",
       "3           Women's Clothing    Lingerie, Sleep & Swimwear    \n",
       "4                   Grooming              Skin & Coat Care    \n",
       "...                       ...                           ...   \n",
       "8922        Women's Clothing                   Ethnic Wear    \n",
       "8923        Women's Clothing                   Ethnic Wear    \n",
       "8924        Women's Clothing                   Ethnic Wear    \n",
       "8925        Women's Clothing                   Ethnic Wear    \n",
       "8926        Women's Clothing                   Ethnic Wear    \n",
       "\n",
       "                             product_category_subfilter product_unique ID  \\\n",
       "0                                               Shorts   SRTEH2FF9KEDEFGF   \n",
       "1      FabHomeDecor Fabric Double Sofa Bed (Finish C...  SBEEH3QGU7MFYJFY   \n",
       "2                                            AW Bellies  SHOEH4GRSUBJGZXE   \n",
       "3                                               Shorts   SRTEH2F6HUZMQ6SJ   \n",
       "4                                              Shampoo   PSOEH3ZYDMSYARJ5   \n",
       "...                                                 ...               ...   \n",
       "8922                                            Fabric   FABEGGHHDFMY8BZU   \n",
       "8923                                            Fabric   FABEG8GFDUWRSNU3   \n",
       "8924                                    Lehenga Cholis   LEHEGGEHYN4G2RPW   \n",
       "8925                                            Fabric   FABEGGHHGSVCHGFV   \n",
       "8926                                            Fabric   FABEG8GYDAABECZH   \n",
       "\n",
       "      retail_price  discounted_price  product_rating            Brand  \n",
       "0              999               379             2.0           Alisha  \n",
       "1            32157             22646             2.0     FabHomeDecor  \n",
       "2              999               499             1.0               AW  \n",
       "3              699               267             5.0           Alisha  \n",
       "4              220               210             5.0           Sicons  \n",
       "...            ...               ...             ...              ...  \n",
       "8922          2980              1490             3.0           Sinina  \n",
       "8923          2600              1300             1.0  Aarushi Fashion  \n",
       "8924         39992             24995             1.0   Ambika Lahenga  \n",
       "8925          2000              1000             3.0           Sinina  \n",
       "8926          2800              1350             4.0  Aarushi Fashion  \n",
       "\n",
       "[8927 rows x 15 columns]"
      ]
     },
     "execution_count": 13,
     "metadata": {},
     "output_type": "execute_result"
    }
   ],
   "source": [
    "# To delete the columns permanantely \n",
    "ECom_Data.drop(labels=['product_specifications','description'], axis = 1, inplace = True)\n",
    "ECom_Data"
   ]
  },
  {
   "cell_type": "markdown",
   "id": "8c459b6e",
   "metadata": {},
   "source": [
    "##### We use drop function and pass the list of the columns to be removed with axis =1. since we used inplace attribute as True i.e drop action is Permanent."
   ]
  },
  {
   "cell_type": "markdown",
   "id": "348ad146",
   "metadata": {},
   "source": [
    "<font color='blue'>\n",
    "    <font size = 5>\n",
    "        The next steps in this project involves summarization of data at various levels and visualization. Apparently, such simple steps are very useful to get an overall sense of the data.\n",
    "    </font>"
   ]
  },
  {
   "cell_type": "markdown",
   "id": "d3ef522e",
   "metadata": {},
   "source": [
    "## Q 3. Here we summarize the data at Brand level.\n",
    "## a) How many unique Brand are there? (2 marks)\n",
    "## b) Note that each Brand contains multiple products. Show the average product_rating within each Brand (2 marks)\n"
   ]
  },
  {
   "cell_type": "code",
   "execution_count": 14,
   "id": "0b6fd35f",
   "metadata": {
    "scrolled": true
   },
   "outputs": [
    {
     "name": "stdout",
     "output_type": "stream",
     "text": [
      "<class 'pandas.core.frame.DataFrame'>\n",
      "RangeIndex: 8927 entries, 0 to 8926\n",
      "Data columns (total 15 columns):\n",
      " #   Column                      Non-Null Count  Dtype  \n",
      "---  ------                      --------------  -----  \n",
      " 0   Customer_uniq_id            8927 non-null   object \n",
      " 1   Region                      8927 non-null   object \n",
      " 2   Order_Date                  8927 non-null   object \n",
      " 3   Expected_Delivery_Date      8927 non-null   object \n",
      " 4   Delivered_Date              8927 non-null   object \n",
      " 5   product_name                8927 non-null   object \n",
      " 6   product_main_category       8927 non-null   object \n",
      " 7   product_subcategory         8927 non-null   object \n",
      " 8   product_category_filter     8927 non-null   object \n",
      " 9   product_category_subfilter  8927 non-null   object \n",
      " 10  product_unique ID           8927 non-null   object \n",
      " 11  retail_price                8927 non-null   int64  \n",
      " 12  discounted_price            8927 non-null   int64  \n",
      " 13  product_rating              8927 non-null   float64\n",
      " 14  Brand                       8927 non-null   object \n",
      "dtypes: float64(1), int64(2), object(12)\n",
      "memory usage: 1.0+ MB\n"
     ]
    }
   ],
   "source": [
    "# summarize data\n",
    "ECom_Data.info('Brand')"
   ]
  },
  {
   "cell_type": "code",
   "execution_count": 15,
   "id": "be9e496a",
   "metadata": {},
   "outputs": [
    {
     "data": {
      "text/html": [
       "<div>\n",
       "<style scoped>\n",
       "    .dataframe tbody tr th:only-of-type {\n",
       "        vertical-align: middle;\n",
       "    }\n",
       "\n",
       "    .dataframe tbody tr th {\n",
       "        vertical-align: top;\n",
       "    }\n",
       "\n",
       "    .dataframe thead th {\n",
       "        text-align: right;\n",
       "    }\n",
       "</style>\n",
       "<table border=\"1\" class=\"dataframe\">\n",
       "  <thead>\n",
       "    <tr style=\"text-align: right;\">\n",
       "      <th></th>\n",
       "      <th>retail_price</th>\n",
       "      <th>discounted_price</th>\n",
       "      <th>product_rating</th>\n",
       "    </tr>\n",
       "  </thead>\n",
       "  <tbody>\n",
       "    <tr>\n",
       "      <th>count</th>\n",
       "      <td>8927.000000</td>\n",
       "      <td>8927.000000</td>\n",
       "      <td>8927.000000</td>\n",
       "    </tr>\n",
       "    <tr>\n",
       "      <th>mean</th>\n",
       "      <td>1982.017587</td>\n",
       "      <td>1102.417946</td>\n",
       "      <td>3.066327</td>\n",
       "    </tr>\n",
       "    <tr>\n",
       "      <th>std</th>\n",
       "      <td>3398.280389</td>\n",
       "      <td>2473.479725</td>\n",
       "      <td>1.413840</td>\n",
       "    </tr>\n",
       "    <tr>\n",
       "      <th>min</th>\n",
       "      <td>115.000000</td>\n",
       "      <td>109.000000</td>\n",
       "      <td>1.000000</td>\n",
       "    </tr>\n",
       "    <tr>\n",
       "      <th>25%</th>\n",
       "      <td>730.000000</td>\n",
       "      <td>350.000000</td>\n",
       "      <td>2.000000</td>\n",
       "    </tr>\n",
       "    <tr>\n",
       "      <th>50%</th>\n",
       "      <td>1195.000000</td>\n",
       "      <td>599.000000</td>\n",
       "      <td>3.000000</td>\n",
       "    </tr>\n",
       "    <tr>\n",
       "      <th>75%</th>\n",
       "      <td>2199.000000</td>\n",
       "      <td>1199.000000</td>\n",
       "      <td>4.000000</td>\n",
       "    </tr>\n",
       "    <tr>\n",
       "      <th>max</th>\n",
       "      <td>116292.000000</td>\n",
       "      <td>116292.000000</td>\n",
       "      <td>5.000000</td>\n",
       "    </tr>\n",
       "  </tbody>\n",
       "</table>\n",
       "</div>"
      ],
      "text/plain": [
       "        retail_price  discounted_price  product_rating\n",
       "count    8927.000000       8927.000000     8927.000000\n",
       "mean     1982.017587       1102.417946        3.066327\n",
       "std      3398.280389       2473.479725        1.413840\n",
       "min       115.000000        109.000000        1.000000\n",
       "25%       730.000000        350.000000        2.000000\n",
       "50%      1195.000000        599.000000        3.000000\n",
       "75%      2199.000000       1199.000000        4.000000\n",
       "max    116292.000000     116292.000000        5.000000"
      ]
     },
     "execution_count": 15,
     "metadata": {},
     "output_type": "execute_result"
    }
   ],
   "source": [
    "ECom_Data.describe()"
   ]
  },
  {
   "cell_type": "code",
   "execution_count": 16,
   "id": "22c54bab",
   "metadata": {},
   "outputs": [
    {
     "data": {
      "text/plain": [
       "Customer_uniq_id              8927\n",
       "Region                           4\n",
       "Order_Date                     129\n",
       "Expected_Delivery_Date         139\n",
       "Delivered_Date                 148\n",
       "product_name                  5971\n",
       "product_main_category           26\n",
       "product_subcategory            136\n",
       "product_category_filter        500\n",
       "product_category_subfilter    1848\n",
       "product_unique ID             8925\n",
       "retail_price                   987\n",
       "discounted_price              1191\n",
       "product_rating                  34\n",
       "Brand                         2580\n",
       "dtype: int64"
      ]
     },
     "execution_count": 16,
     "metadata": {},
     "output_type": "execute_result"
    }
   ],
   "source": [
    "ECom_Data.nunique()"
   ]
  },
  {
   "cell_type": "code",
   "execution_count": 17,
   "id": "d377ce80",
   "metadata": {
    "scrolled": true
   },
   "outputs": [
    {
     "data": {
      "text/plain": [
       "array(['Alisha', 'FabHomeDecor', 'AW', ..., 'Sinina', 'Aarushi Fashion',\n",
       "       'Ambika Lahenga'], dtype=object)"
      ]
     },
     "execution_count": 17,
     "metadata": {},
     "output_type": "execute_result"
    }
   ],
   "source": [
    "ECom_Data['Brand'].unique()"
   ]
  },
  {
   "cell_type": "markdown",
   "id": "0d0a3c80",
   "metadata": {},
   "source": [
    "### Ans 3 a)"
   ]
  },
  {
   "cell_type": "code",
   "execution_count": 18,
   "id": "3c56e860",
   "metadata": {},
   "outputs": [
    {
     "data": {
      "text/plain": [
       "2580"
      ]
     },
     "execution_count": 18,
     "metadata": {},
     "output_type": "execute_result"
    }
   ],
   "source": [
    "# Number of unique brands \n",
    "ECom_Data['Brand'].nunique()"
   ]
  },
  {
   "cell_type": "markdown",
   "id": "29d7042b",
   "metadata": {},
   "source": [
    "##### We have 2580 unique brands in the dataframe"
   ]
  },
  {
   "cell_type": "markdown",
   "id": "61019fe7",
   "metadata": {},
   "source": [
    "### Ans 3 b)"
   ]
  },
  {
   "cell_type": "code",
   "execution_count": 19,
   "id": "70d1a86b",
   "metadata": {
    "scrolled": false
   },
   "outputs": [
    {
     "name": "stdout",
     "output_type": "stream",
     "text": [
      "Average product rating within each brand Brand\n",
      "1OAK            1.500000\n",
      "3A AUTOCARE     3.268293\n",
      "3D Mat          3.000000\n",
      "3kFactory       2.000000\n",
      "4D              3.600000\n",
      "                  ...   \n",
      "youniqueshop    2.000000\n",
      "zDelhi.com      5.000000\n",
      "zaidis          4.000000\n",
      "zasmina         4.500000\n",
      " Tarkan         5.000000\n",
      "Name: product_rating, Length: 2580, dtype: float64\n"
     ]
    }
   ],
   "source": [
    "# Average product rating within each brand\n",
    "avg_prod_rate = ECom_Data.groupby(['Brand'])['product_rating'].mean()\n",
    "print('Average product rating within each brand', avg_prod_rate)"
   ]
  },
  {
   "cell_type": "markdown",
   "id": "c35d6d03",
   "metadata": {},
   "source": [
    "#### As we need average product rating for each brand, we need to group the product_rating column by\n",
    "#### brand and then we use mean() to the get the average within each brand"
   ]
  },
  {
   "cell_type": "markdown",
   "id": "a9c95d07",
   "metadata": {},
   "source": [
    "## Q 4. Next we study the main categories of the products.\n",
    "\n",
    "## a) Create an appropriate plot to show the count of items ordered for each product_main_category. (6 marks).\n",
    "\n",
    "### Hint: Create a bar chart titled \"Product Category type\" where product_main_category are on x-axis and counts are on y-axis.\n",
    "\n",
    "### Note: Both axis labels, i.e. the names of the product_main_category and counts must be clearly legible. \n",
    "\n",
    "## b) From the plot identify for which two product_main_category(s)  maximum and minimum orders were placed. (2 marks)\n",
    "\n",
    "## c) Write code to print out the top 5 product_main_category(s)  in descending order? (3 marks"
   ]
  },
  {
   "cell_type": "markdown",
   "id": "aaf077f6",
   "metadata": {},
   "source": [
    "### Ans 4 a)"
   ]
  },
  {
   "cell_type": "code",
   "execution_count": 20,
   "id": "fd5c178d",
   "metadata": {
    "scrolled": false
   },
   "outputs": [
    {
     "data": {
      "text/plain": [
       "Clothing                       2952\n",
       "Mobiles & Accessories          1084\n",
       "Automotive                     1001\n",
       "Home Decor & Festive Needs      727\n",
       "Computers                       558\n",
       "                               ... \n",
       "Pet Supplies                     22\n",
       "Home Entertainment               17\n",
       "Household Supplies                4\n",
       "Food & Nutrition                  2\n",
       "Wearable Smart Devices            1\n",
       "Name: product_main_category, Length: 26, dtype: int64"
      ]
     },
     "execution_count": 20,
     "metadata": {},
     "output_type": "execute_result"
    }
   ],
   "source": [
    "# Count of items ordered by Value_counts() function\n",
    "ECom_Data['product_main_category'].value_counts()"
   ]
  },
  {
   "cell_type": "markdown",
   "id": "0e555dbc",
   "metadata": {},
   "source": [
    "##### We have used the value_count() to get the distinct product_main_categories and the count of the items ordered for each product_main_category."
   ]
  },
  {
   "cell_type": "code",
   "execution_count": 21,
   "id": "b3ab6d29",
   "metadata": {
    "scrolled": false
   },
   "outputs": [
    {
     "data": {
      "image/png": "[encoded data removed]",
      "text/plain": [
       "<Figure size 1152x360 with 1 Axes>"
      ]
     },
     "metadata": {},
     "output_type": "display_data"
    }
   ],
   "source": [
    "sns.set(rc={\"figure.figsize\":(16, 5)})\n",
    "sns.countplot(x='product_main_category', data = ECom_Data)\n",
    "plt.title('Product Category type')\n",
    "plt.xticks(rotation='vertical', size=8)\n",
    "plt.show()"
   ]
  },
  {
   "cell_type": "markdown",
   "id": "a8a0ebc4",
   "metadata": {},
   "source": [
    "### Ans 4 b)"
   ]
  },
  {
   "cell_type": "markdown",
   "id": "fd83e37f",
   "metadata": {
    "scrolled": true
   },
   "source": [
    "#### From the plot above, Maximum Orders were placed for two product_main_category(s) = Clothing & Mobiles & Accessories \n",
    "#### Minimum Orders were placed for two product_main_category(s) = Wearable Smart Devices & Food & Nutrition\n"
   ]
  },
  {
   "cell_type": "markdown",
   "id": "5d60c3ee",
   "metadata": {},
   "source": [
    "### Ans 4 c)"
   ]
  },
  {
   "cell_type": "code",
   "execution_count": 22,
   "id": "220c3131",
   "metadata": {
    "scrolled": true
   },
   "outputs": [
    {
     "data": {
      "text/plain": [
       "Clothing                       2952\n",
       "Mobiles & Accessories          1084\n",
       "Automotive                     1001\n",
       "Home Decor & Festive Needs      727\n",
       "Computers                       558\n",
       "Name: product_main_category, dtype: int64"
      ]
     },
     "execution_count": 22,
     "metadata": {},
     "output_type": "execute_result"
    }
   ],
   "source": [
    "ECom_Data['product_main_category'].value_counts().sort_values(ascending=False).head(5)"
   ]
  },
  {
   "cell_type": "markdown",
   "id": "0af9c549",
   "metadata": {},
   "source": [
    "#### Here, we get the 'product_main_category' and orders placed for each of them. We use the sort_values() to get the top 5 product_main_category(s) by making the ascending=False and head(5) to get the top five."
   ]
  },
  {
   "cell_type": "markdown",
   "id": "10f23b82",
   "metadata": {},
   "source": [
    "<font color='blue'>\n",
    "    <font size = 5>\n",
    "    In E-commerce, both the retailers (here brands) and the company have to make profit to sustain in the business. \n",
    "    The E-Commerce company has the following rule for computing their own revenue: </font> \n",
    "    \n",
    "####     The company charges  \n",
    "####  (i) 25% on the orders having final price (discounted price) greater than 600\n",
    "\n",
    "#### (ii) 15% on the orders having final price (discounted price) greater than 350 but less than or equal to 600\n",
    "\n",
    "#### (iii) 10% on the orders having final price (discounted price) greater than 100 but less than or equal to 350\n",
    "\n",
    "#### (iv) Otherwise, 5% on the final price (discounted price)    </font> "
   ]
  },
  {
   "cell_type": "markdown",
   "id": "d0d4aedc",
   "metadata": {},
   "source": [
    "## Q 5. Find the net revenue generated by the E-Commerce company over all orders placed. (6 marks)"
   ]
  },
  {
   "cell_type": "markdown",
   "id": "c0a3b086",
   "metadata": {},
   "source": [
    "### Ans 5"
   ]
  },
  {
   "cell_type": "code",
   "execution_count": 23,
   "id": "d5cc60e8",
   "metadata": {},
   "outputs": [
    {
     "data": {
      "text/plain": [
       "17693471"
      ]
     },
     "execution_count": 23,
     "metadata": {},
     "output_type": "execute_result"
    }
   ],
   "source": [
    "ECom_Data['retail_price'].sum()"
   ]
  },
  {
   "cell_type": "code",
   "execution_count": 24,
   "id": "9e333777",
   "metadata": {},
   "outputs": [
    {
     "data": {
      "text/plain": [
       "9841285"
      ]
     },
     "execution_count": 24,
     "metadata": {},
     "output_type": "execute_result"
    }
   ],
   "source": [
    "ECom_Data['discounted_price'].sum()"
   ]
  },
  {
   "cell_type": "code",
   "execution_count": 25,
   "id": "c25e3fe4",
   "metadata": {},
   "outputs": [],
   "source": [
    "# 25% on the orders having final price (discounted price) greater than 600\n",
    "net_revenue_gt600 = sum(ECom_Data[ECom_Data['discounted_price']>600]['discounted_price']*0.25)\n",
    "\n",
    "#  15% on the orders having final price (discounted price) greater than 350 but less than or equal to 600\n",
    "net_revenue_gt300 = sum(ECom_Data[(ECom_Data.discounted_price > 350) & (ECom_Data.discounted_price <=600)]['discounted_price']*0.15)\n",
    "\n",
    "#  10% on the orders having final price (discounted price) greater than 100 but less than or equal to 350\n",
    "net_revenue_gt100 = sum(ECom_Data[(ECom_Data.discounted_price > 100) & (ECom_Data.discounted_price <=350)]['discounted_price']*0.10)\n",
    "\n",
    "# Otherwise, 5% on the final price (discounted price)\n",
    "net_revenue_lt100 = sum(ECom_Data[(ECom_Data.discounted_price < 100)]['discounted_price']*0.05)"
   ]
  },
  {
   "cell_type": "code",
   "execution_count": 26,
   "id": "7c096418",
   "metadata": {
    "scrolled": true
   },
   "outputs": [
    {
     "name": "stdout",
     "output_type": "stream",
     "text": [
      "Net revenue generated by the E-Commerce company over all orders placed:  2242221.750000008\n"
     ]
    }
   ],
   "source": [
    "net_revenue = net_revenue_gt600 + net_revenue_gt300 + net_revenue_gt100 + net_revenue_lt100\n",
    "print('Net revenue generated by the E-Commerce company over all orders placed: ', net_revenue)"
   ]
  },
  {
   "cell_type": "markdown",
   "id": "f6cace5f",
   "metadata": {},
   "source": [
    "#### Here, we start with filtering the data records as per their discounted_price in above mentioned 4 groups and multiply the percent charges for each record as the per the requirements given and sum it. Finally add the net revenues of each of these groups to get the Final net revenue"
   ]
  },
  {
   "cell_type": "markdown",
   "id": "6275ccf7",
   "metadata": {},
   "source": [
    "<font color='blue'>\n",
    "    <font size = 5>\n",
    "    Now you need to find the revenue for each retailer (Brand)\n",
    "    </font>"
   ]
  },
  {
   "cell_type": "markdown",
   "id": "e0147b09",
   "metadata": {},
   "source": [
    "## Q6.Calculate the Net BrandRevenue for each Brand and list the top 14 Brand having maximum revenue in descending order (6 marks)\n",
    "#### Hint: Net BrandRevenue is BrandRevenue which is generated after all the deductions. Also, BrandRevenue is different from the E-Commerce company's net revenue."
   ]
  },
  {
   "cell_type": "markdown",
   "id": "13f511a2",
   "metadata": {},
   "source": [
    "### Ans 6"
   ]
  },
  {
   "cell_type": "code",
   "execution_count": 27,
   "id": "514ea587",
   "metadata": {
    "scrolled": false
   },
   "outputs": [
    {
     "data": {
      "text/html": [
       "<div>\n",
       "<style scoped>\n",
       "    .dataframe tbody tr th:only-of-type {\n",
       "        vertical-align: middle;\n",
       "    }\n",
       "\n",
       "    .dataframe tbody tr th {\n",
       "        vertical-align: top;\n",
       "    }\n",
       "\n",
       "    .dataframe thead th {\n",
       "        text-align: right;\n",
       "    }\n",
       "</style>\n",
       "<table border=\"1\" class=\"dataframe\">\n",
       "  <thead>\n",
       "    <tr style=\"text-align: right;\">\n",
       "      <th></th>\n",
       "      <th>Brand</th>\n",
       "      <th>discounted_price</th>\n",
       "    </tr>\n",
       "  </thead>\n",
       "  <tbody>\n",
       "    <tr>\n",
       "      <th>0</th>\n",
       "      <td>Alisha</td>\n",
       "      <td>379</td>\n",
       "    </tr>\n",
       "    <tr>\n",
       "      <th>1</th>\n",
       "      <td>FabHomeDecor</td>\n",
       "      <td>22646</td>\n",
       "    </tr>\n",
       "    <tr>\n",
       "      <th>2</th>\n",
       "      <td>AW</td>\n",
       "      <td>499</td>\n",
       "    </tr>\n",
       "    <tr>\n",
       "      <th>3</th>\n",
       "      <td>Alisha</td>\n",
       "      <td>267</td>\n",
       "    </tr>\n",
       "    <tr>\n",
       "      <th>4</th>\n",
       "      <td>Sicons</td>\n",
       "      <td>210</td>\n",
       "    </tr>\n",
       "  </tbody>\n",
       "</table>\n",
       "</div>"
      ],
      "text/plain": [
       "          Brand  discounted_price\n",
       "0        Alisha               379\n",
       "1  FabHomeDecor             22646\n",
       "2            AW               499\n",
       "3        Alisha               267\n",
       "4        Sicons               210"
      ]
     },
     "execution_count": 27,
     "metadata": {},
     "output_type": "execute_result"
    }
   ],
   "source": [
    "brand_df = ECom_Data[['Brand','discounted_price']]\n",
    "brand_df.head()"
   ]
  },
  {
   "cell_type": "markdown",
   "id": "d23570be",
   "metadata": {},
   "source": [
    "##### Since we  need only two columns to work on this question. we create dataframe 'brand_df'"
   ]
  },
  {
   "cell_type": "code",
   "execution_count": 28,
   "id": "6210dad1",
   "metadata": {},
   "outputs": [
    {
     "data": {
      "text/plain": [
       "(8927, 2)"
      ]
     },
     "execution_count": 28,
     "metadata": {},
     "output_type": "execute_result"
    }
   ],
   "source": [
    "brand_df.shape"
   ]
  },
  {
   "cell_type": "code",
   "execution_count": 29,
   "id": "de564158",
   "metadata": {},
   "outputs": [],
   "source": [
    "def compute_net_revenue(brand_df):\n",
    "    if brand_df['discounted_price'] > 600:\n",
    "        value = (brand_df['discounted_price'] * 0.25)\n",
    "    elif (brand_df['discounted_price'] > 300 ) & (brand_df['discounted_price'] <= 600):\n",
    "        value = (brand_df['discounted_price'] * 0.15)\n",
    "    elif (brand_df['discounted_price'] > 100 ) & (brand_df['discounted_price'] <= 300):\n",
    "        value = (brand_df['discounted_price'] * 0.10)\n",
    "    else :\n",
    "        value = (brand_df['discounted_price'] * 0.05)\n",
    "    return value"
   ]
  },
  {
   "cell_type": "markdown",
   "id": "c179ba99",
   "metadata": {},
   "source": [
    "##### Above function is used to compute the ecommerce company revenue for each order as seen below"
   ]
  },
  {
   "cell_type": "code",
   "execution_count": 30,
   "id": "26e7eb09",
   "metadata": {
    "scrolled": true
   },
   "outputs": [
    {
     "data": {
      "text/plain": [
       "0         56.85\n",
       "1       5661.50\n",
       "2         74.85\n",
       "3         26.70\n",
       "4         21.00\n",
       "         ...   \n",
       "8922     372.50\n",
       "8923     325.00\n",
       "8924    6248.75\n",
       "8925     250.00\n",
       "8926     337.50\n",
       "Length: 8927, dtype: float64"
      ]
     },
     "execution_count": 30,
     "metadata": {},
     "output_type": "execute_result"
    }
   ],
   "source": [
    "# Net Brand Revenue for each brand is calculated as net_revenue1\n",
    "net_revenue1 = brand_df.apply(compute_net_revenue, axis =1)\n",
    "net_revenue1"
   ]
  },
  {
   "cell_type": "code",
   "execution_count": 31,
   "id": "9362b3f1",
   "metadata": {
    "scrolled": false
   },
   "outputs": [
    {
     "name": "stderr",
     "output_type": "stream",
     "text": [
      "C:\\Users\\Sachin\\AppData\\Local\\Temp\\ipykernel_4680\\2325019175.py:1: SettingWithCopyWarning: \n",
      "A value is trying to be set on a copy of a slice from a DataFrame.\n",
      "Try using .loc[row_indexer,col_indexer] = value instead\n",
      "\n",
      "See the caveats in the documentation: https://pandas.pydata.org/pandas-docs/stable/user_guide/indexing.html#returning-a-view-versus-a-copy\n",
      "  brand_df['net_revenue1']= net_revenue1\n"
     ]
    },
    {
     "data": {
      "text/html": [
       "<div>\n",
       "<style scoped>\n",
       "    .dataframe tbody tr th:only-of-type {\n",
       "        vertical-align: middle;\n",
       "    }\n",
       "\n",
       "    .dataframe tbody tr th {\n",
       "        vertical-align: top;\n",
       "    }\n",
       "\n",
       "    .dataframe thead th {\n",
       "        text-align: right;\n",
       "    }\n",
       "</style>\n",
       "<table border=\"1\" class=\"dataframe\">\n",
       "  <thead>\n",
       "    <tr style=\"text-align: right;\">\n",
       "      <th></th>\n",
       "      <th>Brand</th>\n",
       "      <th>discounted_price</th>\n",
       "      <th>net_revenue1</th>\n",
       "    </tr>\n",
       "  </thead>\n",
       "  <tbody>\n",
       "    <tr>\n",
       "      <th>0</th>\n",
       "      <td>Alisha</td>\n",
       "      <td>379</td>\n",
       "      <td>56.85</td>\n",
       "    </tr>\n",
       "    <tr>\n",
       "      <th>1</th>\n",
       "      <td>FabHomeDecor</td>\n",
       "      <td>22646</td>\n",
       "      <td>5661.50</td>\n",
       "    </tr>\n",
       "    <tr>\n",
       "      <th>2</th>\n",
       "      <td>AW</td>\n",
       "      <td>499</td>\n",
       "      <td>74.85</td>\n",
       "    </tr>\n",
       "    <tr>\n",
       "      <th>3</th>\n",
       "      <td>Alisha</td>\n",
       "      <td>267</td>\n",
       "      <td>26.70</td>\n",
       "    </tr>\n",
       "    <tr>\n",
       "      <th>4</th>\n",
       "      <td>Sicons</td>\n",
       "      <td>210</td>\n",
       "      <td>21.00</td>\n",
       "    </tr>\n",
       "  </tbody>\n",
       "</table>\n",
       "</div>"
      ],
      "text/plain": [
       "          Brand  discounted_price  net_revenue1\n",
       "0        Alisha               379         56.85\n",
       "1  FabHomeDecor             22646       5661.50\n",
       "2            AW               499         74.85\n",
       "3        Alisha               267         26.70\n",
       "4        Sicons               210         21.00"
      ]
     },
     "execution_count": 31,
     "metadata": {},
     "output_type": "execute_result"
    }
   ],
   "source": [
    "brand_df['net_revenue1']= net_revenue1\n",
    "brand_df.head()"
   ]
  },
  {
   "cell_type": "markdown",
   "id": "311d6abb",
   "metadata": {},
   "source": [
    "##### Computing and adding the net_revenue1 column for each record"
   ]
  },
  {
   "cell_type": "code",
   "execution_count": 32,
   "id": "1b2e7530",
   "metadata": {
    "scrolled": true
   },
   "outputs": [
    {
     "data": {
      "text/plain": [
       "0         322.15\n",
       "1       16984.50\n",
       "2         424.15\n",
       "3         240.30\n",
       "4         189.00\n",
       "          ...   \n",
       "8922     1117.50\n",
       "8923      975.00\n",
       "8924    18746.25\n",
       "8925      750.00\n",
       "8926     1012.50\n",
       "Length: 8927, dtype: float64"
      ]
     },
     "execution_count": 32,
     "metadata": {},
     "output_type": "execute_result"
    }
   ],
   "source": [
    "Net_Brand_Revenue1 = brand_df['discounted_price'] - brand_df['net_revenue1']\n",
    "Net_Brand_Revenue1"
   ]
  },
  {
   "cell_type": "markdown",
   "id": "ea65890b",
   "metadata": {},
   "source": [
    "##### Calculating the brand revenue for each record by subtracting ecommerce company revenue from the discounted_price.\n",
    "##### Adding Brand revenue column as below in the Dataframe for each record"
   ]
  },
  {
   "cell_type": "code",
   "execution_count": 33,
   "id": "465f0e3e",
   "metadata": {
    "scrolled": true
   },
   "outputs": [
    {
     "name": "stderr",
     "output_type": "stream",
     "text": [
      "C:\\Users\\Sachin\\AppData\\Local\\Temp\\ipykernel_4680\\3903262558.py:1: SettingWithCopyWarning: \n",
      "A value is trying to be set on a copy of a slice from a DataFrame.\n",
      "Try using .loc[row_indexer,col_indexer] = value instead\n",
      "\n",
      "See the caveats in the documentation: https://pandas.pydata.org/pandas-docs/stable/user_guide/indexing.html#returning-a-view-versus-a-copy\n",
      "  brand_df['Net_Brand_Revenue1'] = Net_Brand_Revenue1\n"
     ]
    },
    {
     "data": {
      "text/html": [
       "<div>\n",
       "<style scoped>\n",
       "    .dataframe tbody tr th:only-of-type {\n",
       "        vertical-align: middle;\n",
       "    }\n",
       "\n",
       "    .dataframe tbody tr th {\n",
       "        vertical-align: top;\n",
       "    }\n",
       "\n",
       "    .dataframe thead th {\n",
       "        text-align: right;\n",
       "    }\n",
       "</style>\n",
       "<table border=\"1\" class=\"dataframe\">\n",
       "  <thead>\n",
       "    <tr style=\"text-align: right;\">\n",
       "      <th></th>\n",
       "      <th>Brand</th>\n",
       "      <th>discounted_price</th>\n",
       "      <th>net_revenue1</th>\n",
       "      <th>Net_Brand_Revenue1</th>\n",
       "    </tr>\n",
       "  </thead>\n",
       "  <tbody>\n",
       "    <tr>\n",
       "      <th>0</th>\n",
       "      <td>Alisha</td>\n",
       "      <td>379</td>\n",
       "      <td>56.85</td>\n",
       "      <td>322.15</td>\n",
       "    </tr>\n",
       "    <tr>\n",
       "      <th>1</th>\n",
       "      <td>FabHomeDecor</td>\n",
       "      <td>22646</td>\n",
       "      <td>5661.50</td>\n",
       "      <td>16984.50</td>\n",
       "    </tr>\n",
       "    <tr>\n",
       "      <th>2</th>\n",
       "      <td>AW</td>\n",
       "      <td>499</td>\n",
       "      <td>74.85</td>\n",
       "      <td>424.15</td>\n",
       "    </tr>\n",
       "    <tr>\n",
       "      <th>3</th>\n",
       "      <td>Alisha</td>\n",
       "      <td>267</td>\n",
       "      <td>26.70</td>\n",
       "      <td>240.30</td>\n",
       "    </tr>\n",
       "    <tr>\n",
       "      <th>4</th>\n",
       "      <td>Sicons</td>\n",
       "      <td>210</td>\n",
       "      <td>21.00</td>\n",
       "      <td>189.00</td>\n",
       "    </tr>\n",
       "  </tbody>\n",
       "</table>\n",
       "</div>"
      ],
      "text/plain": [
       "          Brand  discounted_price  net_revenue1  Net_Brand_Revenue1\n",
       "0        Alisha               379         56.85              322.15\n",
       "1  FabHomeDecor             22646       5661.50            16984.50\n",
       "2            AW               499         74.85              424.15\n",
       "3        Alisha               267         26.70              240.30\n",
       "4        Sicons               210         21.00              189.00"
      ]
     },
     "execution_count": 33,
     "metadata": {},
     "output_type": "execute_result"
    }
   ],
   "source": [
    "brand_df['Net_Brand_Revenue1'] = Net_Brand_Revenue1 \n",
    "brand_df.head()"
   ]
  },
  {
   "cell_type": "code",
   "execution_count": 34,
   "id": "57e352f7",
   "metadata": {
    "scrolled": true
   },
   "outputs": [
    {
     "data": {
      "text/plain": [
       "Brand\n",
       "1OAK             1015.40\n",
       "3A AUTOCARE     55647.90\n",
       "3D Mat           5249.25\n",
       "3kFactory         156.60\n",
       "4D               5961.00\n",
       "                  ...   \n",
       "youniqueshop      480.00\n",
       "zDelhi.com       2999.25\n",
       "zaidis            116.10\n",
       "zasmina           557.65\n",
       " Tarkan           296.65\n",
       "Name: Net_Brand_Revenue1, Length: 2580, dtype: float64"
      ]
     },
     "execution_count": 34,
     "metadata": {},
     "output_type": "execute_result"
    }
   ],
   "source": [
    "# Net Brand Revenue for each brand is calculated as net_brand_revenue_final\n",
    "net_brand_revenue_final =brand_df.groupby('Brand')['Net_Brand_Revenue1'].sum()\n",
    "net_brand_revenue_final"
   ]
  },
  {
   "cell_type": "markdown",
   "id": "974edac2",
   "metadata": {},
   "source": [
    "##### Now, we are grouping the records by brand as  per the requirement and getting the sum of each brand's revenue."
   ]
  },
  {
   "cell_type": "code",
   "execution_count": 35,
   "id": "4ae9eed1",
   "metadata": {
    "scrolled": true
   },
   "outputs": [
    {
     "data": {
      "text/plain": [
       "Brand\n",
       "Allure Auto     498464.25\n",
       "GAGA            237390.00\n",
       "Slim            211806.15\n",
       "DailyObjects    181980.00\n",
       "Diviniti        143115.00\n",
       "Regular         125620.55\n",
       "Enthopia        123146.25\n",
       "TheLostPuppy    116595.35\n",
       "Asus             99241.50\n",
       "Springwel        88978.50\n",
       "Audeze           87219.00\n",
       "Lal Haveli       74239.95\n",
       "Speedwav         68330.95\n",
       "FabHomeDecor     67938.00\n",
       "Name: Net_Brand_Revenue1, dtype: float64"
      ]
     },
     "execution_count": 35,
     "metadata": {},
     "output_type": "execute_result"
    }
   ],
   "source": [
    "# Top 14 Brands having maximum revenue\n",
    "net_brand_revenue_final.sort_values(ascending= False).head(14)"
   ]
  },
  {
   "cell_type": "markdown",
   "id": "48d6d9d3",
   "metadata": {},
   "source": [
    "##### Above cell, We are sorting the net  brand revenue column in the descending order and filtering the records to get the top 14 brands "
   ]
  },
  {
   "cell_type": "code",
   "execution_count": 36,
   "id": "c653fb38",
   "metadata": {},
   "outputs": [],
   "source": [
    "#3. How net Revenue is calculated for E-Commerce Company?\n",
    "#Net Revenue = Commission charged by the ecommerce company basis the conditions given in the \n",
    "#problem statement.\n",
    "#4. How net Brand Revenue is calculated ?\n",
    "#Brand Revenue is the discounted price minus the Revenue for the company (generated using the \n",
    "#conditions given in the question)\n",
    "#Net Brand Revenue is discounted_price - net revenue\n",
    "#5. What do you mean by deductions in Q6?\n",
    "#Deduction means there might be other charges based on certain conditions that also needs to be \n",
    "#adjusted, if any. (There is no column as deductions in the dataset.)\n",
    "#6. What do mean by average product_rating within each brand ?\n",
    "#Basically, we need to calculate the average rating for each brand and not the product within it"
   ]
  },
  {
   "cell_type": "code",
   "execution_count": 37,
   "id": "8f2564f1",
   "metadata": {},
   "outputs": [],
   "source": [
    "# Brand Revenue is the discounted price minus the Revenue for the company \n",
    "# (generated using the conditions given in the question)Net Brand Revenue is discounted_price -net revenue\n",
    "brand_revenue = ECom_Data.groupby('Brand').discounted_price.sum()"
   ]
  },
  {
   "cell_type": "code",
   "execution_count": 38,
   "id": "74fe0529",
   "metadata": {
    "scrolled": false
   },
   "outputs": [
    {
     "data": {
      "text/plain": [
       "Brand\n",
       "1OAK             1274\n",
       "3A AUTOCARE     74134\n",
       "3D Mat           6999\n",
       "3kFactory         174\n",
       "4D               7948\n",
       "                ...  \n",
       "youniqueshop      640\n",
       "zDelhi.com       3999\n",
       "zaidis            129\n",
       "zasmina           639\n",
       " Tarkan           349\n",
       "Name: discounted_price, Length: 2580, dtype: int64"
      ]
     },
     "execution_count": 38,
     "metadata": {},
     "output_type": "execute_result"
    }
   ],
   "source": [
    "#each_Brand_revenue = ECom_Data.groupby('Net_Brand_Revenue').Brand.sum()\n",
    "#each_Brand_revenue\n",
    "\n",
    "each_brand_revenue = ECom_Data.groupby('Brand').discounted_price.sum()\n",
    "each_brand_revenue"
   ]
  },
  {
   "cell_type": "markdown",
   "id": "0bf111db",
   "metadata": {},
   "source": [
    "<font color='blue'>\n",
    "    <font size = 5>\n",
    "Let us now investigate multiple features for each product to determine any pattern.\n",
    "</font>"
   ]
  },
  {
   "cell_type": "markdown",
   "id": "b3e31ddf",
   "metadata": {},
   "source": [
    "## Q 7. Compare prices for each product.\n",
    "\n",
    "## a)\tDraw boxplots of retail_price & discounted_price. (3 marks)\n",
    "\n",
    "## b)\t Are there any outliers? (Yes/No) (1mark)\n",
    "\n",
    "## c)\tCreate a scatterplot of retail_price (x-axis) and discounted_price (y-axis) (3 marks)\n"
   ]
  },
  {
   "cell_type": "markdown",
   "id": "9019039b",
   "metadata": {},
   "source": [
    "### Ans 7 a)"
   ]
  },
  {
   "cell_type": "code",
   "execution_count": 39,
   "id": "32ea146d",
   "metadata": {},
   "outputs": [
    {
     "data": {
      "text/html": [
       "<div>\n",
       "<style scoped>\n",
       "    .dataframe tbody tr th:only-of-type {\n",
       "        vertical-align: middle;\n",
       "    }\n",
       "\n",
       "    .dataframe tbody tr th {\n",
       "        vertical-align: top;\n",
       "    }\n",
       "\n",
       "    .dataframe thead th {\n",
       "        text-align: right;\n",
       "    }\n",
       "</style>\n",
       "<table border=\"1\" class=\"dataframe\">\n",
       "  <thead>\n",
       "    <tr style=\"text-align: right;\">\n",
       "      <th></th>\n",
       "      <th>retail_price</th>\n",
       "      <th>discounted_price</th>\n",
       "      <th>product_rating</th>\n",
       "    </tr>\n",
       "    <tr>\n",
       "      <th>Brand</th>\n",
       "      <th></th>\n",
       "      <th></th>\n",
       "      <th></th>\n",
       "    </tr>\n",
       "  </thead>\n",
       "  <tbody>\n",
       "    <tr>\n",
       "      <th>1OAK</th>\n",
       "      <td>1698</td>\n",
       "      <td>1274</td>\n",
       "      <td>3.0</td>\n",
       "    </tr>\n",
       "    <tr>\n",
       "      <th>3A AUTOCARE</th>\n",
       "      <td>107059</td>\n",
       "      <td>74134</td>\n",
       "      <td>134.0</td>\n",
       "    </tr>\n",
       "    <tr>\n",
       "      <th>3D Mat</th>\n",
       "      <td>7250</td>\n",
       "      <td>6999</td>\n",
       "      <td>3.0</td>\n",
       "    </tr>\n",
       "    <tr>\n",
       "      <th>3kFactory</th>\n",
       "      <td>399</td>\n",
       "      <td>174</td>\n",
       "      <td>2.0</td>\n",
       "    </tr>\n",
       "    <tr>\n",
       "      <th>4D</th>\n",
       "      <td>17500</td>\n",
       "      <td>7948</td>\n",
       "      <td>18.0</td>\n",
       "    </tr>\n",
       "    <tr>\n",
       "      <th>...</th>\n",
       "      <td>...</td>\n",
       "      <td>...</td>\n",
       "      <td>...</td>\n",
       "    </tr>\n",
       "    <tr>\n",
       "      <th>youniqueshop</th>\n",
       "      <td>810</td>\n",
       "      <td>640</td>\n",
       "      <td>2.0</td>\n",
       "    </tr>\n",
       "    <tr>\n",
       "      <th>zDelhi.com</th>\n",
       "      <td>4499</td>\n",
       "      <td>3999</td>\n",
       "      <td>5.0</td>\n",
       "    </tr>\n",
       "    <tr>\n",
       "      <th>zaidis</th>\n",
       "      <td>150</td>\n",
       "      <td>129</td>\n",
       "      <td>4.0</td>\n",
       "    </tr>\n",
       "    <tr>\n",
       "      <th>zasmina</th>\n",
       "      <td>1400</td>\n",
       "      <td>639</td>\n",
       "      <td>9.0</td>\n",
       "    </tr>\n",
       "    <tr>\n",
       "      <th>Tarkan</th>\n",
       "      <td>1999</td>\n",
       "      <td>349</td>\n",
       "      <td>5.0</td>\n",
       "    </tr>\n",
       "  </tbody>\n",
       "</table>\n",
       "<p>2580 rows × 3 columns</p>\n",
       "</div>"
      ],
      "text/plain": [
       "              retail_price  discounted_price  product_rating\n",
       "Brand                                                       \n",
       "1OAK                  1698              1274             3.0\n",
       "3A AUTOCARE         107059             74134           134.0\n",
       "3D Mat                7250              6999             3.0\n",
       "3kFactory              399               174             2.0\n",
       "4D                   17500              7948            18.0\n",
       "...                    ...               ...             ...\n",
       "youniqueshop           810               640             2.0\n",
       "zDelhi.com            4499              3999             5.0\n",
       "zaidis                 150               129             4.0\n",
       "zasmina               1400               639             9.0\n",
       " Tarkan               1999               349             5.0\n",
       "\n",
       "[2580 rows x 3 columns]"
      ]
     },
     "execution_count": 39,
     "metadata": {},
     "output_type": "execute_result"
    }
   ],
   "source": [
    "# Grouping data by brand\n",
    "ECom_Data.groupby('Brand').sum()"
   ]
  },
  {
   "cell_type": "code",
   "execution_count": 40,
   "id": "96716b4d",
   "metadata": {
    "scrolled": true
   },
   "outputs": [
    {
     "data": {
      "text/plain": [
       "<pandas.core.groupby.generic.DataFrameGroupBy object at 0x0000019D81054F70>"
      ]
     },
     "execution_count": 40,
     "metadata": {},
     "output_type": "execute_result"
    }
   ],
   "source": [
    "ECom_Data.groupby(['retail_price','discounted_price'])"
   ]
  },
  {
   "cell_type": "code",
   "execution_count": 41,
   "id": "a4b1fb81",
   "metadata": {
    "scrolled": true
   },
   "outputs": [
    {
     "data": {
      "image/png": "[encoded data removed]",
      "text/plain": [
       "<Figure size 1152x360 with 1 Axes>"
      ]
     },
     "metadata": {},
     "output_type": "display_data"
    }
   ],
   "source": [
    "# To Draw a boxplots of retail_price & discounted_price.\n",
    "sns.boxplot(data = ECom_Data, x ='retail_price',y='discounted_price')\n",
    "sns.set(rc={\"figure.figsize\":(12, 5)})\n",
    "plt.show()"
   ]
  },
  {
   "cell_type": "markdown",
   "id": "38251d88",
   "metadata": {},
   "source": [
    "### Ans 7 b)"
   ]
  },
  {
   "cell_type": "markdown",
   "id": "129cd688",
   "metadata": {},
   "source": [
    "##### yes there are outliers"
   ]
  },
  {
   "cell_type": "markdown",
   "id": "c4a0f730",
   "metadata": {},
   "source": [
    "### Ans 7 c)"
   ]
  },
  {
   "cell_type": "code",
   "execution_count": 42,
   "id": "0715401b",
   "metadata": {},
   "outputs": [
    {
     "data": {
      "image/png": "[encoded data removed]",
      "text/plain": [
       "<Figure size 864x360 with 1 Axes>"
      ]
     },
     "metadata": {},
     "output_type": "display_data"
    }
   ],
   "source": [
    "# To create a scatterplot to plot\n",
    "sns.scatterplot(x ='retail_price',y='discounted_price', data = ECom_Data)\n",
    "plt.show()"
   ]
  },
  {
   "cell_type": "markdown",
   "id": "4bb31911",
   "metadata": {},
   "source": [
    "<font color='blue'>\n",
    "    <font size = 5>\n",
    "    The next steps will enable to study brand-level information.\n",
    "    </font>"
   ]
  },
  {
   "cell_type": "markdown",
   "id": "885546c8",
   "metadata": {},
   "source": [
    "## Q 8. Create a new dataframe to include the Brand specific information as stated:\n",
    "## i.\ttotal number of orders placed per Brand\n",
    "## ii.\ttotal retail_price per Brand\n",
    "## iii.\ttotal discounted_price per Brand, and \n",
    "## iv.\ttotal net BrandRevenue generated per Brand. \n",
    "\n",
    "## Also, draw a pairplot using these four features. (6 marks)\n"
   ]
  },
  {
   "cell_type": "markdown",
   "id": "8648b1a4",
   "metadata": {},
   "source": [
    "### Ans 8"
   ]
  },
  {
   "cell_type": "code",
   "execution_count": 43,
   "id": "a5050a2d",
   "metadata": {
    "scrolled": true
   },
   "outputs": [
    {
     "data": {
      "text/html": [
       "<div>\n",
       "<style scoped>\n",
       "    .dataframe tbody tr th:only-of-type {\n",
       "        vertical-align: middle;\n",
       "    }\n",
       "\n",
       "    .dataframe tbody tr th {\n",
       "        vertical-align: top;\n",
       "    }\n",
       "\n",
       "    .dataframe thead th {\n",
       "        text-align: right;\n",
       "    }\n",
       "</style>\n",
       "<table border=\"1\" class=\"dataframe\">\n",
       "  <thead>\n",
       "    <tr style=\"text-align: right;\">\n",
       "      <th></th>\n",
       "      <th>Customer_uniq_id</th>\n",
       "      <th>Region</th>\n",
       "      <th>Order_Date</th>\n",
       "      <th>Expected_Delivery_Date</th>\n",
       "      <th>Delivered_Date</th>\n",
       "      <th>product_name</th>\n",
       "      <th>product_main_category</th>\n",
       "      <th>product_subcategory</th>\n",
       "      <th>product_category_filter</th>\n",
       "      <th>product_category_subfilter</th>\n",
       "      <th>product_unique ID</th>\n",
       "      <th>retail_price</th>\n",
       "      <th>discounted_price</th>\n",
       "      <th>product_rating</th>\n",
       "      <th>Brand</th>\n",
       "    </tr>\n",
       "  </thead>\n",
       "  <tbody>\n",
       "    <tr>\n",
       "      <th>0</th>\n",
       "      <td>c2d766ca982eca8304150849735ffef9</td>\n",
       "      <td>North</td>\n",
       "      <td>31-12-2021</td>\n",
       "      <td>03-01-2022</td>\n",
       "      <td>02-01-2022</td>\n",
       "      <td>Alisha Solid Women's Cycling Shorts</td>\n",
       "      <td>Clothing</td>\n",
       "      <td>Women's Clothing</td>\n",
       "      <td>Lingerie, Sleep &amp; Swimwear</td>\n",
       "      <td>Shorts</td>\n",
       "      <td>SRTEH2FF9KEDEFGF</td>\n",
       "      <td>999</td>\n",
       "      <td>379</td>\n",
       "      <td>2.0</td>\n",
       "      <td>Alisha</td>\n",
       "    </tr>\n",
       "    <tr>\n",
       "      <th>1</th>\n",
       "      <td>7f7036a6d550aaa89d34c77bd39a5e48</td>\n",
       "      <td>East</td>\n",
       "      <td>31-12-2021</td>\n",
       "      <td>03-01-2022</td>\n",
       "      <td>02-01-2022</td>\n",
       "      <td>FabHomeDecor Fabric Double Sofa Bed</td>\n",
       "      <td>Furniture</td>\n",
       "      <td>Living Room Furniture</td>\n",
       "      <td>Sofa Beds &amp; Futons</td>\n",
       "      <td>FabHomeDecor Fabric Double Sofa Bed (Finish C...</td>\n",
       "      <td>SBEEH3QGU7MFYJFY</td>\n",
       "      <td>32157</td>\n",
       "      <td>22646</td>\n",
       "      <td>2.0</td>\n",
       "      <td>FabHomeDecor</td>\n",
       "    </tr>\n",
       "    <tr>\n",
       "      <th>2</th>\n",
       "      <td>f449ec65dcbc041b6ae5e6a32717d01b</td>\n",
       "      <td>East</td>\n",
       "      <td>31-12-2021</td>\n",
       "      <td>03-01-2022</td>\n",
       "      <td>02-01-2022</td>\n",
       "      <td>AW Bellies</td>\n",
       "      <td>Footwear</td>\n",
       "      <td>Women's Footwear</td>\n",
       "      <td>Ballerinas</td>\n",
       "      <td>AW Bellies</td>\n",
       "      <td>SHOEH4GRSUBJGZXE</td>\n",
       "      <td>999</td>\n",
       "      <td>499</td>\n",
       "      <td>1.0</td>\n",
       "      <td>AW</td>\n",
       "    </tr>\n",
       "    <tr>\n",
       "      <th>3</th>\n",
       "      <td>0973b37acd0c664e3de26e97e5571454</td>\n",
       "      <td>West</td>\n",
       "      <td>31-12-2021</td>\n",
       "      <td>03-01-2022</td>\n",
       "      <td>02-01-2022</td>\n",
       "      <td>Alisha Solid Women's Cycling Shorts</td>\n",
       "      <td>Clothing</td>\n",
       "      <td>Women's Clothing</td>\n",
       "      <td>Lingerie, Sleep &amp; Swimwear</td>\n",
       "      <td>Shorts</td>\n",
       "      <td>SRTEH2F6HUZMQ6SJ</td>\n",
       "      <td>699</td>\n",
       "      <td>267</td>\n",
       "      <td>5.0</td>\n",
       "      <td>Alisha</td>\n",
       "    </tr>\n",
       "    <tr>\n",
       "      <th>4</th>\n",
       "      <td>bc940ea42ee6bef5ac7cea3fb5cfbee7</td>\n",
       "      <td>West</td>\n",
       "      <td>31-12-2021</td>\n",
       "      <td>03-01-2022</td>\n",
       "      <td>02-01-2022</td>\n",
       "      <td>Sicons All Purpose Arnica Dog Shampoo</td>\n",
       "      <td>Pet Supplies</td>\n",
       "      <td>Grooming</td>\n",
       "      <td>Skin &amp; Coat Care</td>\n",
       "      <td>Shampoo</td>\n",
       "      <td>PSOEH3ZYDMSYARJ5</td>\n",
       "      <td>220</td>\n",
       "      <td>210</td>\n",
       "      <td>5.0</td>\n",
       "      <td>Sicons</td>\n",
       "    </tr>\n",
       "  </tbody>\n",
       "</table>\n",
       "</div>"
      ],
      "text/plain": [
       "                   Customer_uniq_id Region  Order_Date Expected_Delivery_Date  \\\n",
       "0  c2d766ca982eca8304150849735ffef9  North  31-12-2021             03-01-2022   \n",
       "1  7f7036a6d550aaa89d34c77bd39a5e48  East   31-12-2021             03-01-2022   \n",
       "2  f449ec65dcbc041b6ae5e6a32717d01b  East   31-12-2021             03-01-2022   \n",
       "3  0973b37acd0c664e3de26e97e5571454   West  31-12-2021             03-01-2022   \n",
       "4  bc940ea42ee6bef5ac7cea3fb5cfbee7   West  31-12-2021             03-01-2022   \n",
       "\n",
       "  Delivered_Date                           product_name product_main_category  \\\n",
       "0     02-01-2022    Alisha Solid Women's Cycling Shorts             Clothing    \n",
       "1     02-01-2022    FabHomeDecor Fabric Double Sofa Bed            Furniture    \n",
       "2     02-01-2022                             AW Bellies             Footwear    \n",
       "3     02-01-2022    Alisha Solid Women's Cycling Shorts             Clothing    \n",
       "4     02-01-2022  Sicons All Purpose Arnica Dog Shampoo         Pet Supplies    \n",
       "\n",
       "       product_subcategory       product_category_filter  \\\n",
       "0        Women's Clothing    Lingerie, Sleep & Swimwear    \n",
       "1   Living Room Furniture            Sofa Beds & Futons    \n",
       "2        Women's Footwear                    Ballerinas    \n",
       "3        Women's Clothing    Lingerie, Sleep & Swimwear    \n",
       "4                Grooming              Skin & Coat Care    \n",
       "\n",
       "                          product_category_subfilter product_unique ID  \\\n",
       "0                                            Shorts   SRTEH2FF9KEDEFGF   \n",
       "1   FabHomeDecor Fabric Double Sofa Bed (Finish C...  SBEEH3QGU7MFYJFY   \n",
       "2                                         AW Bellies  SHOEH4GRSUBJGZXE   \n",
       "3                                            Shorts   SRTEH2F6HUZMQ6SJ   \n",
       "4                                           Shampoo   PSOEH3ZYDMSYARJ5   \n",
       "\n",
       "   retail_price  discounted_price  product_rating         Brand  \n",
       "0           999               379             2.0        Alisha  \n",
       "1         32157             22646             2.0  FabHomeDecor  \n",
       "2           999               499             1.0            AW  \n",
       "3           699               267             5.0        Alisha  \n",
       "4           220               210             5.0        Sicons  "
      ]
     },
     "execution_count": 43,
     "metadata": {},
     "output_type": "execute_result"
    }
   ],
   "source": [
    "ECom_Data.head()"
   ]
  },
  {
   "cell_type": "code",
   "execution_count": 44,
   "id": "a6234521",
   "metadata": {
    "scrolled": false
   },
   "outputs": [
    {
     "data": {
      "text/plain": [
       "Allure Auto       469\n",
       "Regular           299\n",
       "Slim              267\n",
       "TheLostPuppy      229\n",
       "Black             147\n",
       "                 ... \n",
       "SINGHAM             1\n",
       "Jack & Jones        1\n",
       "Quenell             1\n",
       "Shop Swipe          1\n",
       "Ambika Lahenga      1\n",
       "Name: Brand, Length: 2580, dtype: int64"
      ]
     },
     "execution_count": 44,
     "metadata": {},
     "output_type": "execute_result"
    }
   ],
   "source": [
    "# To calculate total number of orders placed per Brand\n",
    "ECom_Data.Brand.value_counts()"
   ]
  },
  {
   "cell_type": "code",
   "execution_count": 45,
   "id": "dcd9c88a",
   "metadata": {},
   "outputs": [
    {
     "data": {
      "text/plain": [
       "Allure Auto     469\n",
       "Regular         299\n",
       "Slim            267\n",
       "TheLostPuppy    229\n",
       "Black           147\n",
       "               ... \n",
       "KHI               1\n",
       "KDS SURGICAL      1\n",
       "KASCN             1\n",
       "KAROZ             1\n",
       " Tarkan           1\n",
       "Name: Brand, Length: 2580, dtype: int64"
      ]
     },
     "execution_count": 45,
     "metadata": {},
     "output_type": "execute_result"
    }
   ],
   "source": [
    "Orders_placed = ECom_Data.groupby([\"Brand\",\"Order_Date\",\"Customer_uniq_id\"])[\"Brand\"].sum()\n",
    "Orders_placed.value_counts()"
   ]
  },
  {
   "cell_type": "markdown",
   "id": "c34a8eb4",
   "metadata": {},
   "source": [
    "##### Above cells show the total number of orders placed per Brand"
   ]
  },
  {
   "cell_type": "code",
   "execution_count": 46,
   "id": "dcc14e8c",
   "metadata": {
    "scrolled": false
   },
   "outputs": [
    {
     "data": {
      "text/plain": [
       "Brand\n",
       "1OAK              1698\n",
       "3A AUTOCARE     107059\n",
       "3D Mat            7250\n",
       "3kFactory          399\n",
       "4D               17500\n",
       "                 ...  \n",
       "youniqueshop       810\n",
       "zDelhi.com        4499\n",
       "zaidis             150\n",
       "zasmina           1400\n",
       " Tarkan           1999\n",
       "Name: retail_price, Length: 2580, dtype: int64"
      ]
     },
     "execution_count": 46,
     "metadata": {},
     "output_type": "execute_result"
    }
   ],
   "source": [
    "# To calculate total retail_price per Brand\n",
    "total_retail_price_per_brand=ECom_Data.groupby('Brand')['retail_price'].sum()\n",
    "total_retail_price_per_brand"
   ]
  },
  {
   "cell_type": "markdown",
   "id": "f47ecd91",
   "metadata": {},
   "source": [
    "##### Above cells show the total retail_price per Brand"
   ]
  },
  {
   "cell_type": "code",
   "execution_count": 47,
   "id": "1242cb63",
   "metadata": {
    "scrolled": true
   },
   "outputs": [
    {
     "data": {
      "text/plain": [
       "Brand\n",
       "1OAK             1274\n",
       "3A AUTOCARE     74134\n",
       "3D Mat           6999\n",
       "3kFactory         174\n",
       "4D               7948\n",
       "                ...  \n",
       "youniqueshop      640\n",
       "zDelhi.com       3999\n",
       "zaidis            129\n",
       "zasmina           639\n",
       " Tarkan           349\n",
       "Name: discounted_price, Length: 2580, dtype: int64"
      ]
     },
     "execution_count": 47,
     "metadata": {},
     "output_type": "execute_result"
    }
   ],
   "source": [
    "# To calculate total_discounted_price_per_brand\n",
    "total_discounted_price_per_brand=ECom_Data.groupby('Brand')['discounted_price'].sum()\n",
    "total_discounted_price_per_brand"
   ]
  },
  {
   "cell_type": "markdown",
   "id": "936d53e2",
   "metadata": {},
   "source": [
    "#### Above cells shows total_discounted_price_per_brand"
   ]
  },
  {
   "cell_type": "code",
   "execution_count": 48,
   "id": "d9a6f0ed",
   "metadata": {
    "scrolled": false
   },
   "outputs": [
    {
     "data": {
      "text/plain": [
       "Brand\n",
       "1OAK             1274\n",
       "3A AUTOCARE     74134\n",
       "3D Mat           6999\n",
       "3kFactory         174\n",
       "4D               7948\n",
       "                ...  \n",
       "youniqueshop      640\n",
       "zDelhi.com       3999\n",
       "zaidis            129\n",
       "zasmina           639\n",
       " Tarkan           349\n",
       "Name: discounted_price, Length: 2580, dtype: int64"
      ]
     },
     "execution_count": 48,
     "metadata": {},
     "output_type": "execute_result"
    }
   ],
   "source": [
    "# To calculate total net Brand Revenue generated per Brand.\n",
    "net_brand_revenue = ECom_Data.groupby('Brand').discounted_price.sum()\n",
    "net_brand_revenue"
   ]
  },
  {
   "cell_type": "code",
   "execution_count": 49,
   "id": "da24e35f",
   "metadata": {
    "scrolled": true
   },
   "outputs": [
    {
     "data": {
      "text/html": [
       "<div>\n",
       "<style scoped>\n",
       "    .dataframe tbody tr th:only-of-type {\n",
       "        vertical-align: middle;\n",
       "    }\n",
       "\n",
       "    .dataframe tbody tr th {\n",
       "        vertical-align: top;\n",
       "    }\n",
       "\n",
       "    .dataframe thead th {\n",
       "        text-align: right;\n",
       "    }\n",
       "</style>\n",
       "<table border=\"1\" class=\"dataframe\">\n",
       "  <thead>\n",
       "    <tr style=\"text-align: right;\">\n",
       "      <th></th>\n",
       "      <th>Orders_placed</th>\n",
       "      <th>total_retail_price_per_brand</th>\n",
       "      <th>total_discounted_price_per_brand</th>\n",
       "      <th>net_brand_revenue_final</th>\n",
       "    </tr>\n",
       "  </thead>\n",
       "  <tbody>\n",
       "    <tr>\n",
       "      <th>1OAK</th>\n",
       "      <td>2</td>\n",
       "      <td>1698</td>\n",
       "      <td>1274</td>\n",
       "      <td>1015.40</td>\n",
       "    </tr>\n",
       "    <tr>\n",
       "      <th>3A AUTOCARE</th>\n",
       "      <td>41</td>\n",
       "      <td>107059</td>\n",
       "      <td>74134</td>\n",
       "      <td>55647.90</td>\n",
       "    </tr>\n",
       "    <tr>\n",
       "      <th>3D Mat</th>\n",
       "      <td>1</td>\n",
       "      <td>7250</td>\n",
       "      <td>6999</td>\n",
       "      <td>5249.25</td>\n",
       "    </tr>\n",
       "    <tr>\n",
       "      <th>3kFactory</th>\n",
       "      <td>1</td>\n",
       "      <td>399</td>\n",
       "      <td>174</td>\n",
       "      <td>156.60</td>\n",
       "    </tr>\n",
       "    <tr>\n",
       "      <th>4D</th>\n",
       "      <td>5</td>\n",
       "      <td>17500</td>\n",
       "      <td>7948</td>\n",
       "      <td>5961.00</td>\n",
       "    </tr>\n",
       "    <tr>\n",
       "      <th>...</th>\n",
       "      <td>...</td>\n",
       "      <td>...</td>\n",
       "      <td>...</td>\n",
       "      <td>...</td>\n",
       "    </tr>\n",
       "    <tr>\n",
       "      <th>youniqueshop</th>\n",
       "      <td>1</td>\n",
       "      <td>810</td>\n",
       "      <td>640</td>\n",
       "      <td>480.00</td>\n",
       "    </tr>\n",
       "    <tr>\n",
       "      <th>zDelhi.com</th>\n",
       "      <td>1</td>\n",
       "      <td>4499</td>\n",
       "      <td>3999</td>\n",
       "      <td>2999.25</td>\n",
       "    </tr>\n",
       "    <tr>\n",
       "      <th>zaidis</th>\n",
       "      <td>1</td>\n",
       "      <td>150</td>\n",
       "      <td>129</td>\n",
       "      <td>116.10</td>\n",
       "    </tr>\n",
       "    <tr>\n",
       "      <th>zasmina</th>\n",
       "      <td>2</td>\n",
       "      <td>1400</td>\n",
       "      <td>639</td>\n",
       "      <td>557.65</td>\n",
       "    </tr>\n",
       "    <tr>\n",
       "      <th>Tarkan</th>\n",
       "      <td>1</td>\n",
       "      <td>1999</td>\n",
       "      <td>349</td>\n",
       "      <td>296.65</td>\n",
       "    </tr>\n",
       "  </tbody>\n",
       "</table>\n",
       "<p>2580 rows × 4 columns</p>\n",
       "</div>"
      ],
      "text/plain": [
       "              Orders_placed  total_retail_price_per_brand  \\\n",
       "1OAK                      2                          1698   \n",
       "3A AUTOCARE              41                        107059   \n",
       "3D Mat                    1                          7250   \n",
       "3kFactory                 1                           399   \n",
       "4D                        5                         17500   \n",
       "...                     ...                           ...   \n",
       "youniqueshop              1                           810   \n",
       "zDelhi.com                1                          4499   \n",
       "zaidis                    1                           150   \n",
       "zasmina                   2                          1400   \n",
       " Tarkan                   1                          1999   \n",
       "\n",
       "              total_discounted_price_per_brand  net_brand_revenue_final  \n",
       "1OAK                                      1274                  1015.40  \n",
       "3A AUTOCARE                              74134                 55647.90  \n",
       "3D Mat                                    6999                  5249.25  \n",
       "3kFactory                                  174                   156.60  \n",
       "4D                                        7948                  5961.00  \n",
       "...                                        ...                      ...  \n",
       "youniqueshop                               640                   480.00  \n",
       "zDelhi.com                                3999                  2999.25  \n",
       "zaidis                                     129                   116.10  \n",
       "zasmina                                    639                   557.65  \n",
       " Tarkan                                    349                   296.65  \n",
       "\n",
       "[2580 rows x 4 columns]"
      ]
     },
     "execution_count": 49,
     "metadata": {},
     "output_type": "execute_result"
    }
   ],
   "source": [
    "# To create a new dataframe to include the Brand specific information as stated\n",
    "brand_spec_info = pd.DataFrame({\"Orders_placed\": Orders_placed.value_counts(),\n",
    "                  \"total_retail_price_per_brand\":total_retail_price_per_brand,\n",
    "                  \"total_discounted_price_per_brand\": total_discounted_price_per_brand,\n",
    "                  \"net_brand_revenue_final\": net_brand_revenue_final})\n",
    "brand_spec_info   "
   ]
  },
  {
   "cell_type": "markdown",
   "id": "6bc8985c",
   "metadata": {},
   "source": [
    "##### Creating Dataframe from the dictionary of all results calculated in the above steps of this question"
   ]
  },
  {
   "cell_type": "code",
   "execution_count": 50,
   "id": "9aeb9888",
   "metadata": {},
   "outputs": [
    {
     "data": {
      "text/plain": [
       "<seaborn.axisgrid.PairGrid at 0x19d81059520>"
      ]
     },
     "execution_count": 50,
     "metadata": {},
     "output_type": "execute_result"
    },
    {
     "data": {
      "image/png": "[encoded data removed]",
      "text/plain": [
       "<Figure size 720x720 with 20 Axes>"
      ]
     },
     "metadata": {},
     "output_type": "display_data"
    }
   ],
   "source": [
    "# Pairplot to show features of brand specific information\n",
    "sns.pairplot(brand_spec_info)"
   ]
  },
  {
   "cell_type": "code",
   "execution_count": 51,
   "id": "4259371d",
   "metadata": {},
   "outputs": [],
   "source": [
    "#Net Brand Revenue is discounted_price - net revenueBrand Revenue = discounted price - the Revenue for the company\n",
    "#Net Brand Revenue = discounted_price - net revenue\n",
    "Net_Brand_Revenue = ECom_Data['discounted_price'].sum() - [net_revenue_gt600 + net_revenue_gt300 + net_revenue_gt100 + net_revenue_lt100]"
   ]
  },
  {
   "cell_type": "code",
   "execution_count": 52,
   "id": "591913b8",
   "metadata": {},
   "outputs": [
    {
     "data": {
      "text/plain": [
       "array([7599063.24999999])"
      ]
     },
     "execution_count": 52,
     "metadata": {},
     "output_type": "execute_result"
    }
   ],
   "source": [
    "Net_Brand_Revenue"
   ]
  },
  {
   "cell_type": "markdown",
   "id": "7386b170",
   "metadata": {},
   "source": [
    "<font color='blue'>\n",
    "    <font size = 5>\n",
    "    The E-Commerce company operate in multiple regions. It is important to understand its performance in each region.\n",
    "    </font>"
   ]
  },
  {
   "cell_type": "markdown",
   "id": "ecb89672",
   "metadata": {},
   "source": [
    "## Q 9.Compare performance regionwise\n",
    "\n",
    "## a)\tDraw a lineplot for the monthly net Revenue of E-Commerce Company for each region separately.  (4 marks) \n",
    "\n",
    "## b)\tIdentify the best and the worst performing months for each region. (2 marks)\n",
    "\n",
    "#### Note: Only those days with actual orders(Order_Date) placed are present in the dataset. Assuming there were no orders on other days"
   ]
  },
  {
   "cell_type": "markdown",
   "id": "df9b0e28",
   "metadata": {},
   "source": [
    "### Ans 9 a)"
   ]
  },
  {
   "cell_type": "code",
   "execution_count": 53,
   "id": "505615e0",
   "metadata": {
    "scrolled": true
   },
   "outputs": [
    {
     "data": {
      "text/plain": [
       "Index(['Customer_uniq_id', 'Region', 'Order_Date', 'Expected_Delivery_Date',\n",
       "       'Delivered_Date', 'product_name', 'product_main_category',\n",
       "       'product_subcategory', 'product_category_filter',\n",
       "       'product_category_subfilter', 'product_unique ID', 'retail_price',\n",
       "       'discounted_price', 'product_rating', 'Brand'],\n",
       "      dtype='object')"
      ]
     },
     "execution_count": 53,
     "metadata": {},
     "output_type": "execute_result"
    }
   ],
   "source": [
    "ECom_Data.columns"
   ]
  },
  {
   "cell_type": "code",
   "execution_count": 54,
   "id": "9e08b7a6",
   "metadata": {},
   "outputs": [
    {
     "data": {
      "text/html": [
       "<div>\n",
       "<style scoped>\n",
       "    .dataframe tbody tr th:only-of-type {\n",
       "        vertical-align: middle;\n",
       "    }\n",
       "\n",
       "    .dataframe tbody tr th {\n",
       "        vertical-align: top;\n",
       "    }\n",
       "\n",
       "    .dataframe thead th {\n",
       "        text-align: right;\n",
       "    }\n",
       "</style>\n",
       "<table border=\"1\" class=\"dataframe\">\n",
       "  <thead>\n",
       "    <tr style=\"text-align: right;\">\n",
       "      <th></th>\n",
       "      <th>Brand</th>\n",
       "      <th>discounted_price</th>\n",
       "      <th>net_revenue1</th>\n",
       "      <th>Net_Brand_Revenue1</th>\n",
       "    </tr>\n",
       "  </thead>\n",
       "  <tbody>\n",
       "    <tr>\n",
       "      <th>0</th>\n",
       "      <td>Alisha</td>\n",
       "      <td>379</td>\n",
       "      <td>56.85</td>\n",
       "      <td>322.15</td>\n",
       "    </tr>\n",
       "    <tr>\n",
       "      <th>1</th>\n",
       "      <td>FabHomeDecor</td>\n",
       "      <td>22646</td>\n",
       "      <td>5661.50</td>\n",
       "      <td>16984.50</td>\n",
       "    </tr>\n",
       "    <tr>\n",
       "      <th>2</th>\n",
       "      <td>AW</td>\n",
       "      <td>499</td>\n",
       "      <td>74.85</td>\n",
       "      <td>424.15</td>\n",
       "    </tr>\n",
       "    <tr>\n",
       "      <th>3</th>\n",
       "      <td>Alisha</td>\n",
       "      <td>267</td>\n",
       "      <td>26.70</td>\n",
       "      <td>240.30</td>\n",
       "    </tr>\n",
       "    <tr>\n",
       "      <th>4</th>\n",
       "      <td>Sicons</td>\n",
       "      <td>210</td>\n",
       "      <td>21.00</td>\n",
       "      <td>189.00</td>\n",
       "    </tr>\n",
       "  </tbody>\n",
       "</table>\n",
       "</div>"
      ],
      "text/plain": [
       "          Brand  discounted_price  net_revenue1  Net_Brand_Revenue1\n",
       "0        Alisha               379         56.85              322.15\n",
       "1  FabHomeDecor             22646       5661.50            16984.50\n",
       "2            AW               499         74.85              424.15\n",
       "3        Alisha               267         26.70              240.30\n",
       "4        Sicons               210         21.00              189.00"
      ]
     },
     "execution_count": 54,
     "metadata": {},
     "output_type": "execute_result"
    }
   ],
   "source": [
    "brand_df1 = brand_df\n",
    "brand_df1.head()"
   ]
  },
  {
   "cell_type": "code",
   "execution_count": 55,
   "id": "a5b391f6",
   "metadata": {},
   "outputs": [
    {
     "name": "stderr",
     "output_type": "stream",
     "text": [
      "S:\\Anaconda\\lib\\site-packages\\pandas\\core\\tools\\datetimes.py:1063: UserWarning: Parsing '31-12-2021' in DD/MM/YYYY format. Provide format or specify infer_datetime_format=True for consistent parsing.\n",
      "  cache_array = _maybe_cache(arg, format, cache, convert_listlike)\n",
      "S:\\Anaconda\\lib\\site-packages\\pandas\\core\\tools\\datetimes.py:1063: UserWarning: Parsing '25-12-2021' in DD/MM/YYYY format. Provide format or specify infer_datetime_format=True for consistent parsing.\n",
      "  cache_array = _maybe_cache(arg, format, cache, convert_listlike)\n",
      "S:\\Anaconda\\lib\\site-packages\\pandas\\core\\tools\\datetimes.py:1063: UserWarning: Parsing '24-10-2021' in DD/MM/YYYY format. Provide format or specify infer_datetime_format=True for consistent parsing.\n",
      "  cache_array = _maybe_cache(arg, format, cache, convert_listlike)\n",
      "S:\\Anaconda\\lib\\site-packages\\pandas\\core\\tools\\datetimes.py:1063: UserWarning: Parsing '26-08-2021' in DD/MM/YYYY format. Provide format or specify infer_datetime_format=True for consistent parsing.\n",
      "  cache_array = _maybe_cache(arg, format, cache, convert_listlike)\n",
      "S:\\Anaconda\\lib\\site-packages\\pandas\\core\\tools\\datetimes.py:1063: UserWarning: Parsing '30-07-2021' in DD/MM/YYYY format. Provide format or specify infer_datetime_format=True for consistent parsing.\n",
      "  cache_array = _maybe_cache(arg, format, cache, convert_listlike)\n",
      "S:\\Anaconda\\lib\\site-packages\\pandas\\core\\tools\\datetimes.py:1063: UserWarning: Parsing '20-06-2021' in DD/MM/YYYY format. Provide format or specify infer_datetime_format=True for consistent parsing.\n",
      "  cache_array = _maybe_cache(arg, format, cache, convert_listlike)\n",
      "S:\\Anaconda\\lib\\site-packages\\pandas\\core\\tools\\datetimes.py:1063: UserWarning: Parsing '17-05-2021' in DD/MM/YYYY format. Provide format or specify infer_datetime_format=True for consistent parsing.\n",
      "  cache_array = _maybe_cache(arg, format, cache, convert_listlike)\n",
      "S:\\Anaconda\\lib\\site-packages\\pandas\\core\\tools\\datetimes.py:1063: UserWarning: Parsing '24-04-2021' in DD/MM/YYYY format. Provide format or specify infer_datetime_format=True for consistent parsing.\n",
      "  cache_array = _maybe_cache(arg, format, cache, convert_listlike)\n",
      "S:\\Anaconda\\lib\\site-packages\\pandas\\core\\tools\\datetimes.py:1063: UserWarning: Parsing '28-06-2021' in DD/MM/YYYY format. Provide format or specify infer_datetime_format=True for consistent parsing.\n",
      "  cache_array = _maybe_cache(arg, format, cache, convert_listlike)\n",
      "S:\\Anaconda\\lib\\site-packages\\pandas\\core\\tools\\datetimes.py:1063: UserWarning: Parsing '15-06-2021' in DD/MM/YYYY format. Provide format or specify infer_datetime_format=True for consistent parsing.\n",
      "  cache_array = _maybe_cache(arg, format, cache, convert_listlike)\n",
      "S:\\Anaconda\\lib\\site-packages\\pandas\\core\\tools\\datetimes.py:1063: UserWarning: Parsing '20-03-2021' in DD/MM/YYYY format. Provide format or specify infer_datetime_format=True for consistent parsing.\n",
      "  cache_array = _maybe_cache(arg, format, cache, convert_listlike)\n",
      "S:\\Anaconda\\lib\\site-packages\\pandas\\core\\tools\\datetimes.py:1063: UserWarning: Parsing '29-04-2021' in DD/MM/YYYY format. Provide format or specify infer_datetime_format=True for consistent parsing.\n",
      "  cache_array = _maybe_cache(arg, format, cache, convert_listlike)\n",
      "S:\\Anaconda\\lib\\site-packages\\pandas\\core\\tools\\datetimes.py:1063: UserWarning: Parsing '30-05-2021' in DD/MM/YYYY format. Provide format or specify infer_datetime_format=True for consistent parsing.\n",
      "  cache_array = _maybe_cache(arg, format, cache, convert_listlike)\n",
      "S:\\Anaconda\\lib\\site-packages\\pandas\\core\\tools\\datetimes.py:1063: UserWarning: Parsing '14-04-2021' in DD/MM/YYYY format. Provide format or specify infer_datetime_format=True for consistent parsing.\n",
      "  cache_array = _maybe_cache(arg, format, cache, convert_listlike)\n",
      "S:\\Anaconda\\lib\\site-packages\\pandas\\core\\tools\\datetimes.py:1063: UserWarning: Parsing '25-05-2021' in DD/MM/YYYY format. Provide format or specify infer_datetime_format=True for consistent parsing.\n",
      "  cache_array = _maybe_cache(arg, format, cache, convert_listlike)\n",
      "S:\\Anaconda\\lib\\site-packages\\pandas\\core\\tools\\datetimes.py:1063: UserWarning: Parsing '17-06-2021' in DD/MM/YYYY format. Provide format or specify infer_datetime_format=True for consistent parsing.\n",
      "  cache_array = _maybe_cache(arg, format, cache, convert_listlike)\n",
      "S:\\Anaconda\\lib\\site-packages\\pandas\\core\\tools\\datetimes.py:1063: UserWarning: Parsing '23-06-2021' in DD/MM/YYYY format. Provide format or specify infer_datetime_format=True for consistent parsing.\n",
      "  cache_array = _maybe_cache(arg, format, cache, convert_listlike)\n",
      "S:\\Anaconda\\lib\\site-packages\\pandas\\core\\tools\\datetimes.py:1063: UserWarning: Parsing '16-06-2021' in DD/MM/YYYY format. Provide format or specify infer_datetime_format=True for consistent parsing.\n",
      "  cache_array = _maybe_cache(arg, format, cache, convert_listlike)\n",
      "S:\\Anaconda\\lib\\site-packages\\pandas\\core\\tools\\datetimes.py:1063: UserWarning: Parsing '20-05-2021' in DD/MM/YYYY format. Provide format or specify infer_datetime_format=True for consistent parsing.\n",
      "  cache_array = _maybe_cache(arg, format, cache, convert_listlike)\n",
      "S:\\Anaconda\\lib\\site-packages\\pandas\\core\\tools\\datetimes.py:1063: UserWarning: Parsing '18-06-2021' in DD/MM/YYYY format. Provide format or specify infer_datetime_format=True for consistent parsing.\n",
      "  cache_array = _maybe_cache(arg, format, cache, convert_listlike)\n",
      "S:\\Anaconda\\lib\\site-packages\\pandas\\core\\tools\\datetimes.py:1063: UserWarning: Parsing '19-04-2021' in DD/MM/YYYY format. Provide format or specify infer_datetime_format=True for consistent parsing.\n",
      "  cache_array = _maybe_cache(arg, format, cache, convert_listlike)\n",
      "S:\\Anaconda\\lib\\site-packages\\pandas\\core\\tools\\datetimes.py:1063: UserWarning: Parsing '21-04-2021' in DD/MM/YYYY format. Provide format or specify infer_datetime_format=True for consistent parsing.\n",
      "  cache_array = _maybe_cache(arg, format, cache, convert_listlike)\n",
      "S:\\Anaconda\\lib\\site-packages\\pandas\\core\\tools\\datetimes.py:1063: UserWarning: Parsing '17-03-2021' in DD/MM/YYYY format. Provide format or specify infer_datetime_format=True for consistent parsing.\n",
      "  cache_array = _maybe_cache(arg, format, cache, convert_listlike)\n",
      "S:\\Anaconda\\lib\\site-packages\\pandas\\core\\tools\\datetimes.py:1063: UserWarning: Parsing '22-05-2021' in DD/MM/YYYY format. Provide format or specify infer_datetime_format=True for consistent parsing.\n",
      "  cache_array = _maybe_cache(arg, format, cache, convert_listlike)\n",
      "S:\\Anaconda\\lib\\site-packages\\pandas\\core\\tools\\datetimes.py:1063: UserWarning: Parsing '25-03-2021' in DD/MM/YYYY format. Provide format or specify infer_datetime_format=True for consistent parsing.\n",
      "  cache_array = _maybe_cache(arg, format, cache, convert_listlike)\n",
      "S:\\Anaconda\\lib\\site-packages\\pandas\\core\\tools\\datetimes.py:1063: UserWarning: Parsing '19-06-2021' in DD/MM/YYYY format. Provide format or specify infer_datetime_format=True for consistent parsing.\n",
      "  cache_array = _maybe_cache(arg, format, cache, convert_listlike)\n",
      "S:\\Anaconda\\lib\\site-packages\\pandas\\core\\tools\\datetimes.py:1063: UserWarning: Parsing '26-05-2021' in DD/MM/YYYY format. Provide format or specify infer_datetime_format=True for consistent parsing.\n",
      "  cache_array = _maybe_cache(arg, format, cache, convert_listlike)\n",
      "S:\\Anaconda\\lib\\site-packages\\pandas\\core\\tools\\datetimes.py:1063: UserWarning: Parsing '30-04-2021' in DD/MM/YYYY format. Provide format or specify infer_datetime_format=True for consistent parsing.\n",
      "  cache_array = _maybe_cache(arg, format, cache, convert_listlike)\n",
      "S:\\Anaconda\\lib\\site-packages\\pandas\\core\\tools\\datetimes.py:1063: UserWarning: Parsing '31-12-2020' in DD/MM/YYYY format. Provide format or specify infer_datetime_format=True for consistent parsing.\n",
      "  cache_array = _maybe_cache(arg, format, cache, convert_listlike)\n",
      "S:\\Anaconda\\lib\\site-packages\\pandas\\core\\tools\\datetimes.py:1063: UserWarning: Parsing '16-05-2021' in DD/MM/YYYY format. Provide format or specify infer_datetime_format=True for consistent parsing.\n",
      "  cache_array = _maybe_cache(arg, format, cache, convert_listlike)\n",
      "S:\\Anaconda\\lib\\site-packages\\pandas\\core\\tools\\datetimes.py:1063: UserWarning: Parsing '26-06-2021' in DD/MM/YYYY format. Provide format or specify infer_datetime_format=True for consistent parsing.\n",
      "  cache_array = _maybe_cache(arg, format, cache, convert_listlike)\n",
      "S:\\Anaconda\\lib\\site-packages\\pandas\\core\\tools\\datetimes.py:1063: UserWarning: Parsing '13-06-2021' in DD/MM/YYYY format. Provide format or specify infer_datetime_format=True for consistent parsing.\n",
      "  cache_array = _maybe_cache(arg, format, cache, convert_listlike)\n",
      "S:\\Anaconda\\lib\\site-packages\\pandas\\core\\tools\\datetimes.py:1063: UserWarning: Parsing '27-03-2021' in DD/MM/YYYY format. Provide format or specify infer_datetime_format=True for consistent parsing.\n",
      "  cache_array = _maybe_cache(arg, format, cache, convert_listlike)\n",
      "S:\\Anaconda\\lib\\site-packages\\pandas\\core\\tools\\datetimes.py:1063: UserWarning: Parsing '21-06-2021' in DD/MM/YYYY format. Provide format or specify infer_datetime_format=True for consistent parsing.\n",
      "  cache_array = _maybe_cache(arg, format, cache, convert_listlike)\n",
      "S:\\Anaconda\\lib\\site-packages\\pandas\\core\\tools\\datetimes.py:1063: UserWarning: Parsing '25-02-2021' in DD/MM/YYYY format. Provide format or specify infer_datetime_format=True for consistent parsing.\n",
      "  cache_array = _maybe_cache(arg, format, cache, convert_listlike)\n",
      "S:\\Anaconda\\lib\\site-packages\\pandas\\core\\tools\\datetimes.py:1063: UserWarning: Parsing '20-04-2021' in DD/MM/YYYY format. Provide format or specify infer_datetime_format=True for consistent parsing.\n",
      "  cache_array = _maybe_cache(arg, format, cache, convert_listlike)\n",
      "S:\\Anaconda\\lib\\site-packages\\pandas\\core\\tools\\datetimes.py:1063: UserWarning: Parsing '16-04-2021' in DD/MM/YYYY format. Provide format or specify infer_datetime_format=True for consistent parsing.\n",
      "  cache_array = _maybe_cache(arg, format, cache, convert_listlike)\n",
      "S:\\Anaconda\\lib\\site-packages\\pandas\\core\\tools\\datetimes.py:1063: UserWarning: Parsing '13-04-2021' in DD/MM/YYYY format. Provide format or specify infer_datetime_format=True for consistent parsing.\n",
      "  cache_array = _maybe_cache(arg, format, cache, convert_listlike)\n",
      "S:\\Anaconda\\lib\\site-packages\\pandas\\core\\tools\\datetimes.py:1063: UserWarning: Parsing '23-04-2021' in DD/MM/YYYY format. Provide format or specify infer_datetime_format=True for consistent parsing.\n",
      "  cache_array = _maybe_cache(arg, format, cache, convert_listlike)\n",
      "S:\\Anaconda\\lib\\site-packages\\pandas\\core\\tools\\datetimes.py:1063: UserWarning: Parsing '19-03-2021' in DD/MM/YYYY format. Provide format or specify infer_datetime_format=True for consistent parsing.\n",
      "  cache_array = _maybe_cache(arg, format, cache, convert_listlike)\n",
      "S:\\Anaconda\\lib\\site-packages\\pandas\\core\\tools\\datetimes.py:1063: UserWarning: Parsing '24-06-2021' in DD/MM/YYYY format. Provide format or specify infer_datetime_format=True for consistent parsing.\n",
      "  cache_array = _maybe_cache(arg, format, cache, convert_listlike)\n",
      "S:\\Anaconda\\lib\\site-packages\\pandas\\core\\tools\\datetimes.py:1063: UserWarning: Parsing '21-03-2021' in DD/MM/YYYY format. Provide format or specify infer_datetime_format=True for consistent parsing.\n",
      "  cache_array = _maybe_cache(arg, format, cache, convert_listlike)\n",
      "S:\\Anaconda\\lib\\site-packages\\pandas\\core\\tools\\datetimes.py:1063: UserWarning: Parsing '23-03-2021' in DD/MM/YYYY format. Provide format or specify infer_datetime_format=True for consistent parsing.\n",
      "  cache_array = _maybe_cache(arg, format, cache, convert_listlike)\n",
      "S:\\Anaconda\\lib\\site-packages\\pandas\\core\\tools\\datetimes.py:1063: UserWarning: Parsing '14-06-2021' in DD/MM/YYYY format. Provide format or specify infer_datetime_format=True for consistent parsing.\n",
      "  cache_array = _maybe_cache(arg, format, cache, convert_listlike)\n",
      "S:\\Anaconda\\lib\\site-packages\\pandas\\core\\tools\\datetimes.py:1063: UserWarning: Parsing '28-02-2021' in DD/MM/YYYY format. Provide format or specify infer_datetime_format=True for consistent parsing.\n",
      "  cache_array = _maybe_cache(arg, format, cache, convert_listlike)\n",
      "S:\\Anaconda\\lib\\site-packages\\pandas\\core\\tools\\datetimes.py:1063: UserWarning: Parsing '29-12-2020' in DD/MM/YYYY format. Provide format or specify infer_datetime_format=True for consistent parsing.\n",
      "  cache_array = _maybe_cache(arg, format, cache, convert_listlike)\n",
      "S:\\Anaconda\\lib\\site-packages\\pandas\\core\\tools\\datetimes.py:1063: UserWarning: Parsing '30-12-2020' in DD/MM/YYYY format. Provide format or specify infer_datetime_format=True for consistent parsing.\n",
      "  cache_array = _maybe_cache(arg, format, cache, convert_listlike)\n",
      "S:\\Anaconda\\lib\\site-packages\\pandas\\core\\tools\\datetimes.py:1063: UserWarning: Parsing '25-06-2021' in DD/MM/YYYY format. Provide format or specify infer_datetime_format=True for consistent parsing.\n",
      "  cache_array = _maybe_cache(arg, format, cache, convert_listlike)\n",
      "S:\\Anaconda\\lib\\site-packages\\pandas\\core\\tools\\datetimes.py:1063: UserWarning: Parsing '28-03-2021' in DD/MM/YYYY format. Provide format or specify infer_datetime_format=True for consistent parsing.\n",
      "  cache_array = _maybe_cache(arg, format, cache, convert_listlike)\n",
      "S:\\Anaconda\\lib\\site-packages\\pandas\\core\\tools\\datetimes.py:1063: UserWarning: Parsing '18-03-2021' in DD/MM/YYYY format. Provide format or specify infer_datetime_format=True for consistent parsing.\n",
      "  cache_array = _maybe_cache(arg, format, cache, convert_listlike)\n",
      "S:\\Anaconda\\lib\\site-packages\\pandas\\core\\tools\\datetimes.py:1063: UserWarning: Parsing '28-04-2021' in DD/MM/YYYY format. Provide format or specify infer_datetime_format=True for consistent parsing.\n",
      "  cache_array = _maybe_cache(arg, format, cache, convert_listlike)\n",
      "S:\\Anaconda\\lib\\site-packages\\pandas\\core\\tools\\datetimes.py:1063: UserWarning: Parsing '18-04-2021' in DD/MM/YYYY format. Provide format or specify infer_datetime_format=True for consistent parsing.\n",
      "  cache_array = _maybe_cache(arg, format, cache, convert_listlike)\n",
      "S:\\Anaconda\\lib\\site-packages\\pandas\\core\\tools\\datetimes.py:1063: UserWarning: Parsing '25-04-2021' in DD/MM/YYYY format. Provide format or specify infer_datetime_format=True for consistent parsing.\n",
      "  cache_array = _maybe_cache(arg, format, cache, convert_listlike)\n",
      "S:\\Anaconda\\lib\\site-packages\\pandas\\core\\tools\\datetimes.py:1063: UserWarning: Parsing '13-03-2021' in DD/MM/YYYY format. Provide format or specify infer_datetime_format=True for consistent parsing.\n",
      "  cache_array = _maybe_cache(arg, format, cache, convert_listlike)\n",
      "S:\\Anaconda\\lib\\site-packages\\pandas\\core\\tools\\datetimes.py:1063: UserWarning: Parsing '27-05-2021' in DD/MM/YYYY format. Provide format or specify infer_datetime_format=True for consistent parsing.\n",
      "  cache_array = _maybe_cache(arg, format, cache, convert_listlike)\n",
      "S:\\Anaconda\\lib\\site-packages\\pandas\\core\\tools\\datetimes.py:1063: UserWarning: Parsing '21-05-2021' in DD/MM/YYYY format. Provide format or specify infer_datetime_format=True for consistent parsing.\n",
      "  cache_array = _maybe_cache(arg, format, cache, convert_listlike)\n",
      "S:\\Anaconda\\lib\\site-packages\\pandas\\core\\tools\\datetimes.py:1063: UserWarning: Parsing '24-03-2021' in DD/MM/YYYY format. Provide format or specify infer_datetime_format=True for consistent parsing.\n",
      "  cache_array = _maybe_cache(arg, format, cache, convert_listlike)\n",
      "S:\\Anaconda\\lib\\site-packages\\pandas\\core\\tools\\datetimes.py:1063: UserWarning: Parsing '22-03-2021' in DD/MM/YYYY format. Provide format or specify infer_datetime_format=True for consistent parsing.\n",
      "  cache_array = _maybe_cache(arg, format, cache, convert_listlike)\n",
      "S:\\Anaconda\\lib\\site-packages\\pandas\\core\\tools\\datetimes.py:1063: UserWarning: Parsing '24-05-2021' in DD/MM/YYYY format. Provide format or specify infer_datetime_format=True for consistent parsing.\n",
      "  cache_array = _maybe_cache(arg, format, cache, convert_listlike)\n",
      "S:\\Anaconda\\lib\\site-packages\\pandas\\core\\tools\\datetimes.py:1063: UserWarning: Parsing '15-05-2021' in DD/MM/YYYY format. Provide format or specify infer_datetime_format=True for consistent parsing.\n",
      "  cache_array = _maybe_cache(arg, format, cache, convert_listlike)\n",
      "S:\\Anaconda\\lib\\site-packages\\pandas\\core\\tools\\datetimes.py:1063: UserWarning: Parsing '13-05-2021' in DD/MM/YYYY format. Provide format or specify infer_datetime_format=True for consistent parsing.\n",
      "  cache_array = _maybe_cache(arg, format, cache, convert_listlike)\n",
      "S:\\Anaconda\\lib\\site-packages\\pandas\\core\\tools\\datetimes.py:1063: UserWarning: Parsing '16-03-2021' in DD/MM/YYYY format. Provide format or specify infer_datetime_format=True for consistent parsing.\n",
      "  cache_array = _maybe_cache(arg, format, cache, convert_listlike)\n",
      "S:\\Anaconda\\lib\\site-packages\\pandas\\core\\tools\\datetimes.py:1063: UserWarning: Parsing '23-05-2021' in DD/MM/YYYY format. Provide format or specify infer_datetime_format=True for consistent parsing.\n",
      "  cache_array = _maybe_cache(arg, format, cache, convert_listlike)\n",
      "S:\\Anaconda\\lib\\site-packages\\pandas\\core\\tools\\datetimes.py:1063: UserWarning: Parsing '28-05-2021' in DD/MM/YYYY format. Provide format or specify infer_datetime_format=True for consistent parsing.\n",
      "  cache_array = _maybe_cache(arg, format, cache, convert_listlike)\n",
      "S:\\Anaconda\\lib\\site-packages\\pandas\\core\\tools\\datetimes.py:1063: UserWarning: Parsing '15-04-2021' in DD/MM/YYYY format. Provide format or specify infer_datetime_format=True for consistent parsing.\n",
      "  cache_array = _maybe_cache(arg, format, cache, convert_listlike)\n",
      "S:\\Anaconda\\lib\\site-packages\\pandas\\core\\tools\\datetimes.py:1063: UserWarning: Parsing '22-06-2021' in DD/MM/YYYY format. Provide format or specify infer_datetime_format=True for consistent parsing.\n",
      "  cache_array = _maybe_cache(arg, format, cache, convert_listlike)\n",
      "S:\\Anaconda\\lib\\site-packages\\pandas\\core\\tools\\datetimes.py:1063: UserWarning: Parsing '13-12-2020' in DD/MM/YYYY format. Provide format or specify infer_datetime_format=True for consistent parsing.\n",
      "  cache_array = _maybe_cache(arg, format, cache, convert_listlike)\n",
      "S:\\Anaconda\\lib\\site-packages\\pandas\\core\\tools\\datetimes.py:1063: UserWarning: Parsing '24-02-2021' in DD/MM/YYYY format. Provide format or specify infer_datetime_format=True for consistent parsing.\n",
      "  cache_array = _maybe_cache(arg, format, cache, convert_listlike)\n",
      "S:\\Anaconda\\lib\\site-packages\\pandas\\core\\tools\\datetimes.py:1063: UserWarning: Parsing '14-03-2021' in DD/MM/YYYY format. Provide format or specify infer_datetime_format=True for consistent parsing.\n",
      "  cache_array = _maybe_cache(arg, format, cache, convert_listlike)\n",
      "S:\\Anaconda\\lib\\site-packages\\pandas\\core\\tools\\datetimes.py:1063: UserWarning: Parsing '15-12-2020' in DD/MM/YYYY format. Provide format or specify infer_datetime_format=True for consistent parsing.\n",
      "  cache_array = _maybe_cache(arg, format, cache, convert_listlike)\n",
      "S:\\Anaconda\\lib\\site-packages\\pandas\\core\\tools\\datetimes.py:1063: UserWarning: Parsing '14-05-2021' in DD/MM/YYYY format. Provide format or specify infer_datetime_format=True for consistent parsing.\n",
      "  cache_array = _maybe_cache(arg, format, cache, convert_listlike)\n",
      "S:\\Anaconda\\lib\\site-packages\\pandas\\core\\tools\\datetimes.py:1063: UserWarning: Parsing '20-12-2020' in DD/MM/YYYY format. Provide format or specify infer_datetime_format=True for consistent parsing.\n",
      "  cache_array = _maybe_cache(arg, format, cache, convert_listlike)\n",
      "S:\\Anaconda\\lib\\site-packages\\pandas\\core\\tools\\datetimes.py:1063: UserWarning: Parsing '29-05-2021' in DD/MM/YYYY format. Provide format or specify infer_datetime_format=True for consistent parsing.\n",
      "  cache_array = _maybe_cache(arg, format, cache, convert_listlike)\n",
      "S:\\Anaconda\\lib\\site-packages\\pandas\\core\\tools\\datetimes.py:1063: UserWarning: Parsing '26-03-2021' in DD/MM/YYYY format. Provide format or specify infer_datetime_format=True for consistent parsing.\n",
      "  cache_array = _maybe_cache(arg, format, cache, convert_listlike)\n",
      "S:\\Anaconda\\lib\\site-packages\\pandas\\core\\tools\\datetimes.py:1063: UserWarning: Parsing '19-05-2021' in DD/MM/YYYY format. Provide format or specify infer_datetime_format=True for consistent parsing.\n",
      "  cache_array = _maybe_cache(arg, format, cache, convert_listlike)\n",
      "S:\\Anaconda\\lib\\site-packages\\pandas\\core\\tools\\datetimes.py:1063: UserWarning: Parsing '14-12-2020' in DD/MM/YYYY format. Provide format or specify infer_datetime_format=True for consistent parsing.\n",
      "  cache_array = _maybe_cache(arg, format, cache, convert_listlike)\n"
     ]
    }
   ],
   "source": [
    "# To convert order date to month wise to find the monthly revenue region wise\n",
    "ECom_Data['Order_Date'] = ECom_Data['Order_Date'].astype('datetime64[ns]')"
   ]
  },
  {
   "cell_type": "code",
   "execution_count": 56,
   "id": "7c81f2b8",
   "metadata": {},
   "outputs": [
    {
     "data": {
      "text/plain": [
       "0       12\n",
       "1       12\n",
       "2       12\n",
       "3       12\n",
       "4       12\n",
       "        ..\n",
       "8922     1\n",
       "8923     1\n",
       "8924     1\n",
       "8925     1\n",
       "8926     1\n",
       "Name: Order_Date, Length: 8927, dtype: int64"
      ]
     },
     "execution_count": 56,
     "metadata": {},
     "output_type": "execute_result"
    }
   ],
   "source": [
    "ECom_Data['Order_Date'].dt.month"
   ]
  },
  {
   "cell_type": "code",
   "execution_count": 57,
   "id": "cc8ba823",
   "metadata": {
    "scrolled": true
   },
   "outputs": [
    {
     "name": "stderr",
     "output_type": "stream",
     "text": [
      "C:\\Users\\Sachin\\AppData\\Local\\Temp\\ipykernel_4680\\3842734172.py:1: SettingWithCopyWarning: \n",
      "A value is trying to be set on a copy of a slice from a DataFrame.\n",
      "Try using .loc[row_indexer,col_indexer] = value instead\n",
      "\n",
      "See the caveats in the documentation: https://pandas.pydata.org/pandas-docs/stable/user_guide/indexing.html#returning-a-view-versus-a-copy\n",
      "  brand_df1['Order_Month'] = ECom_Data[\"Order_Date\"].dt.month\n"
     ]
    },
    {
     "data": {
      "text/html": [
       "<div>\n",
       "<style scoped>\n",
       "    .dataframe tbody tr th:only-of-type {\n",
       "        vertical-align: middle;\n",
       "    }\n",
       "\n",
       "    .dataframe tbody tr th {\n",
       "        vertical-align: top;\n",
       "    }\n",
       "\n",
       "    .dataframe thead th {\n",
       "        text-align: right;\n",
       "    }\n",
       "</style>\n",
       "<table border=\"1\" class=\"dataframe\">\n",
       "  <thead>\n",
       "    <tr style=\"text-align: right;\">\n",
       "      <th></th>\n",
       "      <th>Brand</th>\n",
       "      <th>discounted_price</th>\n",
       "      <th>net_revenue1</th>\n",
       "      <th>Net_Brand_Revenue1</th>\n",
       "      <th>Order_Month</th>\n",
       "    </tr>\n",
       "  </thead>\n",
       "  <tbody>\n",
       "    <tr>\n",
       "      <th>0</th>\n",
       "      <td>Alisha</td>\n",
       "      <td>379</td>\n",
       "      <td>56.85</td>\n",
       "      <td>322.15</td>\n",
       "      <td>12</td>\n",
       "    </tr>\n",
       "    <tr>\n",
       "      <th>1</th>\n",
       "      <td>FabHomeDecor</td>\n",
       "      <td>22646</td>\n",
       "      <td>5661.50</td>\n",
       "      <td>16984.50</td>\n",
       "      <td>12</td>\n",
       "    </tr>\n",
       "    <tr>\n",
       "      <th>2</th>\n",
       "      <td>AW</td>\n",
       "      <td>499</td>\n",
       "      <td>74.85</td>\n",
       "      <td>424.15</td>\n",
       "      <td>12</td>\n",
       "    </tr>\n",
       "    <tr>\n",
       "      <th>3</th>\n",
       "      <td>Alisha</td>\n",
       "      <td>267</td>\n",
       "      <td>26.70</td>\n",
       "      <td>240.30</td>\n",
       "      <td>12</td>\n",
       "    </tr>\n",
       "    <tr>\n",
       "      <th>4</th>\n",
       "      <td>Sicons</td>\n",
       "      <td>210</td>\n",
       "      <td>21.00</td>\n",
       "      <td>189.00</td>\n",
       "      <td>12</td>\n",
       "    </tr>\n",
       "    <tr>\n",
       "      <th>...</th>\n",
       "      <td>...</td>\n",
       "      <td>...</td>\n",
       "      <td>...</td>\n",
       "      <td>...</td>\n",
       "      <td>...</td>\n",
       "    </tr>\n",
       "    <tr>\n",
       "      <th>8922</th>\n",
       "      <td>Sinina</td>\n",
       "      <td>1490</td>\n",
       "      <td>372.50</td>\n",
       "      <td>1117.50</td>\n",
       "      <td>1</td>\n",
       "    </tr>\n",
       "    <tr>\n",
       "      <th>8923</th>\n",
       "      <td>Aarushi Fashion</td>\n",
       "      <td>1300</td>\n",
       "      <td>325.00</td>\n",
       "      <td>975.00</td>\n",
       "      <td>1</td>\n",
       "    </tr>\n",
       "    <tr>\n",
       "      <th>8924</th>\n",
       "      <td>Ambika Lahenga</td>\n",
       "      <td>24995</td>\n",
       "      <td>6248.75</td>\n",
       "      <td>18746.25</td>\n",
       "      <td>1</td>\n",
       "    </tr>\n",
       "    <tr>\n",
       "      <th>8925</th>\n",
       "      <td>Sinina</td>\n",
       "      <td>1000</td>\n",
       "      <td>250.00</td>\n",
       "      <td>750.00</td>\n",
       "      <td>1</td>\n",
       "    </tr>\n",
       "    <tr>\n",
       "      <th>8926</th>\n",
       "      <td>Aarushi Fashion</td>\n",
       "      <td>1350</td>\n",
       "      <td>337.50</td>\n",
       "      <td>1012.50</td>\n",
       "      <td>1</td>\n",
       "    </tr>\n",
       "  </tbody>\n",
       "</table>\n",
       "<p>8927 rows × 5 columns</p>\n",
       "</div>"
      ],
      "text/plain": [
       "                Brand  discounted_price  net_revenue1  Net_Brand_Revenue1  \\\n",
       "0              Alisha               379         56.85              322.15   \n",
       "1        FabHomeDecor             22646       5661.50            16984.50   \n",
       "2                  AW               499         74.85              424.15   \n",
       "3              Alisha               267         26.70              240.30   \n",
       "4              Sicons               210         21.00              189.00   \n",
       "...               ...               ...           ...                 ...   \n",
       "8922           Sinina              1490        372.50             1117.50   \n",
       "8923  Aarushi Fashion              1300        325.00              975.00   \n",
       "8924   Ambika Lahenga             24995       6248.75            18746.25   \n",
       "8925           Sinina              1000        250.00              750.00   \n",
       "8926  Aarushi Fashion              1350        337.50             1012.50   \n",
       "\n",
       "      Order_Month  \n",
       "0              12  \n",
       "1              12  \n",
       "2              12  \n",
       "3              12  \n",
       "4              12  \n",
       "...           ...  \n",
       "8922            1  \n",
       "8923            1  \n",
       "8924            1  \n",
       "8925            1  \n",
       "8926            1  \n",
       "\n",
       "[8927 rows x 5 columns]"
      ]
     },
     "execution_count": 57,
     "metadata": {},
     "output_type": "execute_result"
    }
   ],
   "source": [
    "brand_df1['Order_Month'] = ECom_Data[\"Order_Date\"].dt.month\n",
    "brand_df1"
   ]
  },
  {
   "cell_type": "code",
   "execution_count": 58,
   "id": "a323fb34",
   "metadata": {},
   "outputs": [
    {
     "name": "stderr",
     "output_type": "stream",
     "text": [
      "C:\\Users\\Sachin\\AppData\\Local\\Temp\\ipykernel_4680\\1219841241.py:2: SettingWithCopyWarning: \n",
      "A value is trying to be set on a copy of a slice from a DataFrame.\n",
      "Try using .loc[row_indexer,col_indexer] = value instead\n",
      "\n",
      "See the caveats in the documentation: https://pandas.pydata.org/pandas-docs/stable/user_guide/indexing.html#returning-a-view-versus-a-copy\n",
      "  brand_df1['Region'] = ECom_Data[\"Region\"]\n"
     ]
    },
    {
     "data": {
      "text/html": [
       "<div>\n",
       "<style scoped>\n",
       "    .dataframe tbody tr th:only-of-type {\n",
       "        vertical-align: middle;\n",
       "    }\n",
       "\n",
       "    .dataframe tbody tr th {\n",
       "        vertical-align: top;\n",
       "    }\n",
       "\n",
       "    .dataframe thead th {\n",
       "        text-align: right;\n",
       "    }\n",
       "</style>\n",
       "<table border=\"1\" class=\"dataframe\">\n",
       "  <thead>\n",
       "    <tr style=\"text-align: right;\">\n",
       "      <th></th>\n",
       "      <th>Brand</th>\n",
       "      <th>discounted_price</th>\n",
       "      <th>net_revenue1</th>\n",
       "      <th>Net_Brand_Revenue1</th>\n",
       "      <th>Order_Month</th>\n",
       "      <th>Region</th>\n",
       "    </tr>\n",
       "  </thead>\n",
       "  <tbody>\n",
       "    <tr>\n",
       "      <th>0</th>\n",
       "      <td>Alisha</td>\n",
       "      <td>379</td>\n",
       "      <td>56.85</td>\n",
       "      <td>322.15</td>\n",
       "      <td>12</td>\n",
       "      <td>North</td>\n",
       "    </tr>\n",
       "    <tr>\n",
       "      <th>1</th>\n",
       "      <td>FabHomeDecor</td>\n",
       "      <td>22646</td>\n",
       "      <td>5661.50</td>\n",
       "      <td>16984.50</td>\n",
       "      <td>12</td>\n",
       "      <td>East</td>\n",
       "    </tr>\n",
       "    <tr>\n",
       "      <th>2</th>\n",
       "      <td>AW</td>\n",
       "      <td>499</td>\n",
       "      <td>74.85</td>\n",
       "      <td>424.15</td>\n",
       "      <td>12</td>\n",
       "      <td>East</td>\n",
       "    </tr>\n",
       "    <tr>\n",
       "      <th>3</th>\n",
       "      <td>Alisha</td>\n",
       "      <td>267</td>\n",
       "      <td>26.70</td>\n",
       "      <td>240.30</td>\n",
       "      <td>12</td>\n",
       "      <td>West</td>\n",
       "    </tr>\n",
       "    <tr>\n",
       "      <th>4</th>\n",
       "      <td>Sicons</td>\n",
       "      <td>210</td>\n",
       "      <td>21.00</td>\n",
       "      <td>189.00</td>\n",
       "      <td>12</td>\n",
       "      <td>West</td>\n",
       "    </tr>\n",
       "    <tr>\n",
       "      <th>...</th>\n",
       "      <td>...</td>\n",
       "      <td>...</td>\n",
       "      <td>...</td>\n",
       "      <td>...</td>\n",
       "      <td>...</td>\n",
       "      <td>...</td>\n",
       "    </tr>\n",
       "    <tr>\n",
       "      <th>8922</th>\n",
       "      <td>Sinina</td>\n",
       "      <td>1490</td>\n",
       "      <td>372.50</td>\n",
       "      <td>1117.50</td>\n",
       "      <td>1</td>\n",
       "      <td>South</td>\n",
       "    </tr>\n",
       "    <tr>\n",
       "      <th>8923</th>\n",
       "      <td>Aarushi Fashion</td>\n",
       "      <td>1300</td>\n",
       "      <td>325.00</td>\n",
       "      <td>975.00</td>\n",
       "      <td>1</td>\n",
       "      <td>West</td>\n",
       "    </tr>\n",
       "    <tr>\n",
       "      <th>8924</th>\n",
       "      <td>Ambika Lahenga</td>\n",
       "      <td>24995</td>\n",
       "      <td>6248.75</td>\n",
       "      <td>18746.25</td>\n",
       "      <td>1</td>\n",
       "      <td>East</td>\n",
       "    </tr>\n",
       "    <tr>\n",
       "      <th>8925</th>\n",
       "      <td>Sinina</td>\n",
       "      <td>1000</td>\n",
       "      <td>250.00</td>\n",
       "      <td>750.00</td>\n",
       "      <td>1</td>\n",
       "      <td>West</td>\n",
       "    </tr>\n",
       "    <tr>\n",
       "      <th>8926</th>\n",
       "      <td>Aarushi Fashion</td>\n",
       "      <td>1350</td>\n",
       "      <td>337.50</td>\n",
       "      <td>1012.50</td>\n",
       "      <td>1</td>\n",
       "      <td>North</td>\n",
       "    </tr>\n",
       "  </tbody>\n",
       "</table>\n",
       "<p>8927 rows × 6 columns</p>\n",
       "</div>"
      ],
      "text/plain": [
       "                Brand  discounted_price  net_revenue1  Net_Brand_Revenue1  \\\n",
       "0              Alisha               379         56.85              322.15   \n",
       "1        FabHomeDecor             22646       5661.50            16984.50   \n",
       "2                  AW               499         74.85              424.15   \n",
       "3              Alisha               267         26.70              240.30   \n",
       "4              Sicons               210         21.00              189.00   \n",
       "...               ...               ...           ...                 ...   \n",
       "8922           Sinina              1490        372.50             1117.50   \n",
       "8923  Aarushi Fashion              1300        325.00              975.00   \n",
       "8924   Ambika Lahenga             24995       6248.75            18746.25   \n",
       "8925           Sinina              1000        250.00              750.00   \n",
       "8926  Aarushi Fashion              1350        337.50             1012.50   \n",
       "\n",
       "      Order_Month Region  \n",
       "0              12  North  \n",
       "1              12  East   \n",
       "2              12  East   \n",
       "3              12   West  \n",
       "4              12   West  \n",
       "...           ...    ...  \n",
       "8922            1  South  \n",
       "8923            1   West  \n",
       "8924            1  East   \n",
       "8925            1   West  \n",
       "8926            1  North  \n",
       "\n",
       "[8927 rows x 6 columns]"
      ]
     },
     "execution_count": 58,
     "metadata": {},
     "output_type": "execute_result"
    }
   ],
   "source": [
    "# add a column region to the brand_df dataframe\n",
    "brand_df1['Region'] = ECom_Data[\"Region\"]\n",
    "brand_df1"
   ]
  },
  {
   "cell_type": "code",
   "execution_count": 59,
   "id": "1d0cf299",
   "metadata": {
    "scrolled": false
   },
   "outputs": [
    {
     "name": "stderr",
     "output_type": "stream",
     "text": [
      "C:\\Users\\Sachin\\AppData\\Local\\Temp\\ipykernel_4680\\2809254655.py:2: FutureWarning: Indexing with multiple keys (implicitly converted to a tuple of keys) will be deprecated, use a list instead.\n",
      "  brandvalue=brand_df1.groupby([\"Region\"])['net_revenue1',\"Region\"].aggregate('sum')\n"
     ]
    },
    {
     "data": {
      "text/html": [
       "<div>\n",
       "<style scoped>\n",
       "    .dataframe tbody tr th:only-of-type {\n",
       "        vertical-align: middle;\n",
       "    }\n",
       "\n",
       "    .dataframe tbody tr th {\n",
       "        vertical-align: top;\n",
       "    }\n",
       "\n",
       "    .dataframe thead th {\n",
       "        text-align: right;\n",
       "    }\n",
       "</style>\n",
       "<table border=\"1\" class=\"dataframe\">\n",
       "  <thead>\n",
       "    <tr style=\"text-align: right;\">\n",
       "      <th></th>\n",
       "      <th>net_revenue1</th>\n",
       "    </tr>\n",
       "    <tr>\n",
       "      <th>Region</th>\n",
       "      <th></th>\n",
       "    </tr>\n",
       "  </thead>\n",
       "  <tbody>\n",
       "    <tr>\n",
       "      <th>East</th>\n",
       "      <td>873500.8</td>\n",
       "    </tr>\n",
       "    <tr>\n",
       "      <th>North</th>\n",
       "      <td>420216.6</td>\n",
       "    </tr>\n",
       "    <tr>\n",
       "      <th>South</th>\n",
       "      <td>257190.6</td>\n",
       "    </tr>\n",
       "    <tr>\n",
       "      <th>West</th>\n",
       "      <td>699974.4</td>\n",
       "    </tr>\n",
       "  </tbody>\n",
       "</table>\n",
       "</div>"
      ],
      "text/plain": [
       "        net_revenue1\n",
       "Region              \n",
       "East        873500.8\n",
       "North       420216.6\n",
       "South       257190.6\n",
       "West        699974.4"
      ]
     },
     "execution_count": 59,
     "metadata": {},
     "output_type": "execute_result"
    }
   ],
   "source": [
    "# To calculate the monthly revenue region wise by sum\n",
    "brandvalue=brand_df1.groupby([\"Region\"])['net_revenue1',\"Region\"].aggregate('sum')\n",
    "brandvalue"
   ]
  },
  {
   "cell_type": "code",
   "execution_count": 60,
   "id": "a5c3472e",
   "metadata": {},
   "outputs": [
    {
     "data": {
      "text/plain": [
       "pandas.core.frame.DataFrame"
      ]
     },
     "execution_count": 60,
     "metadata": {},
     "output_type": "execute_result"
    }
   ],
   "source": [
    "type(brand_df1)"
   ]
  },
  {
   "cell_type": "code",
   "execution_count": 61,
   "id": "af89af0a",
   "metadata": {
    "scrolled": true
   },
   "outputs": [
    {
     "data": {
      "image/png": "[encoded data removed]",
      "text/plain": [
       "<Figure size 864x360 with 1 Axes>"
      ]
     },
     "metadata": {},
     "output_type": "display_data"
    }
   ],
   "source": [
    "# To draw a lineplot\n",
    "sns.lineplot(x= \"Region\", y=\"net_revenue1\", data=brandvalue)\n",
    "plt.show()    "
   ]
  },
  {
   "cell_type": "markdown",
   "id": "8b21ab98",
   "metadata": {},
   "source": [
    "### Ans 9 b)"
   ]
  },
  {
   "cell_type": "code",
   "execution_count": 62,
   "id": "5848f2d4",
   "metadata": {},
   "outputs": [
    {
     "name": "stderr",
     "output_type": "stream",
     "text": [
      "C:\\Users\\Sachin\\AppData\\Local\\Temp\\ipykernel_4680\\4143434665.py:2: FutureWarning: Indexing with multiple keys (implicitly converted to a tuple of keys) will be deprecated, use a list instead.\n",
      "  brandvalue=brand_df1.groupby([\"Order_Month\"])['net_revenue1',\"Region\"].aggregate('sum')\n"
     ]
    },
    {
     "data": {
      "text/html": [
       "<div>\n",
       "<style scoped>\n",
       "    .dataframe tbody tr th:only-of-type {\n",
       "        vertical-align: middle;\n",
       "    }\n",
       "\n",
       "    .dataframe tbody tr th {\n",
       "        vertical-align: top;\n",
       "    }\n",
       "\n",
       "    .dataframe thead th {\n",
       "        text-align: right;\n",
       "    }\n",
       "</style>\n",
       "<table border=\"1\" class=\"dataframe\">\n",
       "  <thead>\n",
       "    <tr style=\"text-align: right;\">\n",
       "      <th></th>\n",
       "      <th>net_revenue1</th>\n",
       "    </tr>\n",
       "    <tr>\n",
       "      <th>Order_Month</th>\n",
       "      <th></th>\n",
       "    </tr>\n",
       "  </thead>\n",
       "  <tbody>\n",
       "    <tr>\n",
       "      <th>1</th>\n",
       "      <td>825041.20</td>\n",
       "    </tr>\n",
       "    <tr>\n",
       "      <th>2</th>\n",
       "      <td>64921.05</td>\n",
       "    </tr>\n",
       "    <tr>\n",
       "      <th>3</th>\n",
       "      <td>243170.90</td>\n",
       "    </tr>\n",
       "    <tr>\n",
       "      <th>4</th>\n",
       "      <td>219440.55</td>\n",
       "    </tr>\n",
       "    <tr>\n",
       "      <th>5</th>\n",
       "      <td>38731.75</td>\n",
       "    </tr>\n",
       "    <tr>\n",
       "      <th>6</th>\n",
       "      <td>136699.05</td>\n",
       "    </tr>\n",
       "    <tr>\n",
       "      <th>7</th>\n",
       "      <td>227084.90</td>\n",
       "    </tr>\n",
       "    <tr>\n",
       "      <th>8</th>\n",
       "      <td>2492.20</td>\n",
       "    </tr>\n",
       "    <tr>\n",
       "      <th>9</th>\n",
       "      <td>14597.20</td>\n",
       "    </tr>\n",
       "    <tr>\n",
       "      <th>10</th>\n",
       "      <td>21762.50</td>\n",
       "    </tr>\n",
       "    <tr>\n",
       "      <th>11</th>\n",
       "      <td>58386.25</td>\n",
       "    </tr>\n",
       "    <tr>\n",
       "      <th>12</th>\n",
       "      <td>398554.85</td>\n",
       "    </tr>\n",
       "  </tbody>\n",
       "</table>\n",
       "</div>"
      ],
      "text/plain": [
       "             net_revenue1\n",
       "Order_Month              \n",
       "1               825041.20\n",
       "2                64921.05\n",
       "3               243170.90\n",
       "4               219440.55\n",
       "5                38731.75\n",
       "6               136699.05\n",
       "7               227084.90\n",
       "8                 2492.20\n",
       "9                14597.20\n",
       "10               21762.50\n",
       "11               58386.25\n",
       "12              398554.85"
      ]
     },
     "execution_count": 62,
     "metadata": {},
     "output_type": "execute_result"
    }
   ],
   "source": [
    "# Monthly revenue generated\n",
    "brandvalue=brand_df1.groupby([\"Order_Month\"])['net_revenue1',\"Region\"].aggregate('sum')\n",
    "brandvalue"
   ]
  },
  {
   "cell_type": "code",
   "execution_count": 63,
   "id": "ef468fc8",
   "metadata": {
    "scrolled": true
   },
   "outputs": [
    {
     "data": {
      "text/html": [
       "<div>\n",
       "<style scoped>\n",
       "    .dataframe tbody tr th:only-of-type {\n",
       "        vertical-align: middle;\n",
       "    }\n",
       "\n",
       "    .dataframe tbody tr th {\n",
       "        vertical-align: top;\n",
       "    }\n",
       "\n",
       "    .dataframe thead th {\n",
       "        text-align: right;\n",
       "    }\n",
       "</style>\n",
       "<table border=\"1\" class=\"dataframe\">\n",
       "  <thead>\n",
       "    <tr style=\"text-align: right;\">\n",
       "      <th></th>\n",
       "      <th>Order_Month</th>\n",
       "      <th>net_revenue1</th>\n",
       "    </tr>\n",
       "  </thead>\n",
       "  <tbody>\n",
       "    <tr>\n",
       "      <th>0</th>\n",
       "      <td>1</td>\n",
       "      <td>825041.20</td>\n",
       "    </tr>\n",
       "    <tr>\n",
       "      <th>1</th>\n",
       "      <td>2</td>\n",
       "      <td>64921.05</td>\n",
       "    </tr>\n",
       "    <tr>\n",
       "      <th>2</th>\n",
       "      <td>3</td>\n",
       "      <td>243170.90</td>\n",
       "    </tr>\n",
       "    <tr>\n",
       "      <th>3</th>\n",
       "      <td>4</td>\n",
       "      <td>219440.55</td>\n",
       "    </tr>\n",
       "    <tr>\n",
       "      <th>4</th>\n",
       "      <td>5</td>\n",
       "      <td>38731.75</td>\n",
       "    </tr>\n",
       "    <tr>\n",
       "      <th>5</th>\n",
       "      <td>6</td>\n",
       "      <td>136699.05</td>\n",
       "    </tr>\n",
       "    <tr>\n",
       "      <th>6</th>\n",
       "      <td>7</td>\n",
       "      <td>227084.90</td>\n",
       "    </tr>\n",
       "    <tr>\n",
       "      <th>7</th>\n",
       "      <td>8</td>\n",
       "      <td>2492.20</td>\n",
       "    </tr>\n",
       "    <tr>\n",
       "      <th>8</th>\n",
       "      <td>9</td>\n",
       "      <td>14597.20</td>\n",
       "    </tr>\n",
       "    <tr>\n",
       "      <th>9</th>\n",
       "      <td>10</td>\n",
       "      <td>21762.50</td>\n",
       "    </tr>\n",
       "    <tr>\n",
       "      <th>10</th>\n",
       "      <td>11</td>\n",
       "      <td>58386.25</td>\n",
       "    </tr>\n",
       "    <tr>\n",
       "      <th>11</th>\n",
       "      <td>12</td>\n",
       "      <td>398554.85</td>\n",
       "    </tr>\n",
       "  </tbody>\n",
       "</table>\n",
       "</div>"
      ],
      "text/plain": [
       "    Order_Month  net_revenue1\n",
       "0             1     825041.20\n",
       "1             2      64921.05\n",
       "2             3     243170.90\n",
       "3             4     219440.55\n",
       "4             5      38731.75\n",
       "5             6     136699.05\n",
       "6             7     227084.90\n",
       "7             8       2492.20\n",
       "8             9      14597.20\n",
       "9            10      21762.50\n",
       "10           11      58386.25\n",
       "11           12     398554.85"
      ]
     },
     "execution_count": 63,
     "metadata": {},
     "output_type": "execute_result"
    }
   ],
   "source": [
    "brandvalue.reset_index()\n",
    "# brandvalue['Order_Month'] = pd.to_numeric(brandvalue['Order_Month'])\n",
    "# brandvalue"
   ]
  },
  {
   "cell_type": "code",
   "execution_count": 64,
   "id": "f5e30872",
   "metadata": {},
   "outputs": [
    {
     "data": {
      "text/plain": [
       "pandas.core.frame.DataFrame"
      ]
     },
     "execution_count": 64,
     "metadata": {},
     "output_type": "execute_result"
    }
   ],
   "source": [
    "type(brandvalue)"
   ]
  },
  {
   "cell_type": "code",
   "execution_count": 65,
   "id": "aec05cbf",
   "metadata": {
    "scrolled": false
   },
   "outputs": [
    {
     "data": {
      "image/png": "[encoded data removed]",
      "text/plain": [
       "<Figure size 864x360 with 1 Axes>"
      ]
     },
     "metadata": {},
     "output_type": "display_data"
    }
   ],
   "source": [
    "# lineplot for the monthly revenue\n",
    "sns.lineplot(x= \"Order_Month\", y=\"net_revenue1\", data = brandvalue)\n",
    "plt.show()"
   ]
  },
  {
   "cell_type": "markdown",
   "id": "056a18ff",
   "metadata": {},
   "source": [
    "#### Best performing months : January and December\n",
    "#### Worst performing months : August and May "
   ]
  },
  {
   "cell_type": "markdown",
   "id": "e2896c08",
   "metadata": {},
   "source": [
    "<font color='blue'>\n",
    "    <font size = 5>\n",
    "    Congratulations! You have learnt how to approach a complex data and extract information out of it. \n",
    "    </font>"
   ]
  }
 ],
 "metadata": {
  "kernelspec": {
   "display_name": "Python 3 (ipykernel)",
   "language": "python",
   "name": "python3"
  },
  "language_info": {
   "codemirror_mode": {
    "name": "ipython",
    "version": 3
   },
   "file_extension": ".py",
   "mimetype": "text/x-python",
   "name": "python",
   "nbconvert_exporter": "python",
   "pygments_lexer": "ipython3",
   "version": "3.9.12"
  }
 },
 "nbformat": 4,
 "nbformat_minor": 5
}
